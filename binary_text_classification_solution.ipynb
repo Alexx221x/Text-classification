{
  "metadata": {
    "kernelspec": {
      "language": "python",
      "display_name": "Python 3",
      "name": "python3"
    },
    "language_info": {
      "name": "python",
      "version": "3.7.12",
      "mimetype": "text/x-python",
      "codemirror_mode": {
        "name": "ipython",
        "version": 3
      },
      "pygments_lexer": "ipython3",
      "nbconvert_exporter": "python",
      "file_extension": ".py"
    },
    "colab": {
      "name": "binary_text_classification_solution.ipynb",
      "provenance": [],
      "collapsed_sections": [
        "e6lrmEDgQKxj",
        "MrwpFVFroglu",
        "PLgnN8tBsr0l",
        "hp1U7IGW1ol3",
        "thNjTBaK1two",
        "2F_12Kk01yLo",
        "ViMsmGowUcMu",
        "APoPUVFr3jeZ",
        "W2YrXreqK7Xs",
        "KNKywAdA-TAq",
        "3CifUXGx6b7m",
        "GQNI1iMBj2Yb",
        "JtY48WQulRWQ",
        "jjO04_TzoTTx",
        "KD5E5Ujr8yjv",
        "sk7TEycUv0_k",
        "HkYtRcNgBf4w",
        "RUMeMP0qJXQ5",
        "BzVq5LtHpE9C",
        "61NEdVDNJXQ6",
        "tUtRcl2AJXQ7",
        "tS_YvegGJXQ7",
        "558Tw1dXJXQ8",
        "RRgY1MwEJXQ9",
        "pN6Q52SipYxB"
      ]
    },
    "gpuClass": "standard",
    "accelerator": "GPU",
    "widgets": {
      "application/vnd.jupyter.widget-state+json": {
        "95e1fcb0104041b79372d0ad81a4d1ce": {
          "model_module": "@jupyter-widgets/controls",
          "model_name": "HBoxModel",
          "model_module_version": "1.5.0",
          "state": {
            "_dom_classes": [],
            "_model_module": "@jupyter-widgets/controls",
            "_model_module_version": "1.5.0",
            "_model_name": "HBoxModel",
            "_view_count": null,
            "_view_module": "@jupyter-widgets/controls",
            "_view_module_version": "1.5.0",
            "_view_name": "HBoxView",
            "box_style": "",
            "children": [
              "IPY_MODEL_3bc5e3d4a4e0491aa26859e9599a9f1a",
              "IPY_MODEL_ddc67f2b1d8f4326a606bffe5eb06ab9",
              "IPY_MODEL_77ed42178bee45e3b3f2df258ce1333f"
            ],
            "layout": "IPY_MODEL_191309e15e964e1a9f44084adfe97d40"
          }
        },
        "3bc5e3d4a4e0491aa26859e9599a9f1a": {
          "model_module": "@jupyter-widgets/controls",
          "model_name": "HTMLModel",
          "model_module_version": "1.5.0",
          "state": {
            "_dom_classes": [],
            "_model_module": "@jupyter-widgets/controls",
            "_model_module_version": "1.5.0",
            "_model_name": "HTMLModel",
            "_view_count": null,
            "_view_module": "@jupyter-widgets/controls",
            "_view_module_version": "1.5.0",
            "_view_name": "HTMLView",
            "description": "",
            "description_tooltip": null,
            "layout": "IPY_MODEL_dfacf01b19314d3789b487eb158497f1",
            "placeholder": "​",
            "style": "IPY_MODEL_29e63879822d43229266eaf0ed083f94",
            "value": "Downloading config.json: 100%"
          }
        },
        "ddc67f2b1d8f4326a606bffe5eb06ab9": {
          "model_module": "@jupyter-widgets/controls",
          "model_name": "FloatProgressModel",
          "model_module_version": "1.5.0",
          "state": {
            "_dom_classes": [],
            "_model_module": "@jupyter-widgets/controls",
            "_model_module_version": "1.5.0",
            "_model_name": "FloatProgressModel",
            "_view_count": null,
            "_view_module": "@jupyter-widgets/controls",
            "_view_module_version": "1.5.0",
            "_view_name": "ProgressView",
            "bar_style": "success",
            "description": "",
            "description_tooltip": null,
            "layout": "IPY_MODEL_0cf972abb6e141c5b566c4b367c346af",
            "max": 811,
            "min": 0,
            "orientation": "horizontal",
            "style": "IPY_MODEL_2744ec92354244c98673b62c9e9af910",
            "value": 811
          }
        },
        "77ed42178bee45e3b3f2df258ce1333f": {
          "model_module": "@jupyter-widgets/controls",
          "model_name": "HTMLModel",
          "model_module_version": "1.5.0",
          "state": {
            "_dom_classes": [],
            "_model_module": "@jupyter-widgets/controls",
            "_model_module_version": "1.5.0",
            "_model_name": "HTMLModel",
            "_view_count": null,
            "_view_module": "@jupyter-widgets/controls",
            "_view_module_version": "1.5.0",
            "_view_name": "HTMLView",
            "description": "",
            "description_tooltip": null,
            "layout": "IPY_MODEL_1ed28a47860142708374084132e2c674",
            "placeholder": "​",
            "style": "IPY_MODEL_8549dc0613544d4ea9021dc090f56262",
            "value": " 811/811 [00:00&lt;00:00, 21.4kB/s]"
          }
        },
        "191309e15e964e1a9f44084adfe97d40": {
          "model_module": "@jupyter-widgets/base",
          "model_name": "LayoutModel",
          "model_module_version": "1.2.0",
          "state": {
            "_model_module": "@jupyter-widgets/base",
            "_model_module_version": "1.2.0",
            "_model_name": "LayoutModel",
            "_view_count": null,
            "_view_module": "@jupyter-widgets/base",
            "_view_module_version": "1.2.0",
            "_view_name": "LayoutView",
            "align_content": null,
            "align_items": null,
            "align_self": null,
            "border": null,
            "bottom": null,
            "display": null,
            "flex": null,
            "flex_flow": null,
            "grid_area": null,
            "grid_auto_columns": null,
            "grid_auto_flow": null,
            "grid_auto_rows": null,
            "grid_column": null,
            "grid_gap": null,
            "grid_row": null,
            "grid_template_areas": null,
            "grid_template_columns": null,
            "grid_template_rows": null,
            "height": null,
            "justify_content": null,
            "justify_items": null,
            "left": null,
            "margin": null,
            "max_height": null,
            "max_width": null,
            "min_height": null,
            "min_width": null,
            "object_fit": null,
            "object_position": null,
            "order": null,
            "overflow": null,
            "overflow_x": null,
            "overflow_y": null,
            "padding": null,
            "right": null,
            "top": null,
            "visibility": null,
            "width": null
          }
        },
        "dfacf01b19314d3789b487eb158497f1": {
          "model_module": "@jupyter-widgets/base",
          "model_name": "LayoutModel",
          "model_module_version": "1.2.0",
          "state": {
            "_model_module": "@jupyter-widgets/base",
            "_model_module_version": "1.2.0",
            "_model_name": "LayoutModel",
            "_view_count": null,
            "_view_module": "@jupyter-widgets/base",
            "_view_module_version": "1.2.0",
            "_view_name": "LayoutView",
            "align_content": null,
            "align_items": null,
            "align_self": null,
            "border": null,
            "bottom": null,
            "display": null,
            "flex": null,
            "flex_flow": null,
            "grid_area": null,
            "grid_auto_columns": null,
            "grid_auto_flow": null,
            "grid_auto_rows": null,
            "grid_column": null,
            "grid_gap": null,
            "grid_row": null,
            "grid_template_areas": null,
            "grid_template_columns": null,
            "grid_template_rows": null,
            "height": null,
            "justify_content": null,
            "justify_items": null,
            "left": null,
            "margin": null,
            "max_height": null,
            "max_width": null,
            "min_height": null,
            "min_width": null,
            "object_fit": null,
            "object_position": null,
            "order": null,
            "overflow": null,
            "overflow_x": null,
            "overflow_y": null,
            "padding": null,
            "right": null,
            "top": null,
            "visibility": null,
            "width": null
          }
        },
        "29e63879822d43229266eaf0ed083f94": {
          "model_module": "@jupyter-widgets/controls",
          "model_name": "DescriptionStyleModel",
          "model_module_version": "1.5.0",
          "state": {
            "_model_module": "@jupyter-widgets/controls",
            "_model_module_version": "1.5.0",
            "_model_name": "DescriptionStyleModel",
            "_view_count": null,
            "_view_module": "@jupyter-widgets/base",
            "_view_module_version": "1.2.0",
            "_view_name": "StyleView",
            "description_width": ""
          }
        },
        "0cf972abb6e141c5b566c4b367c346af": {
          "model_module": "@jupyter-widgets/base",
          "model_name": "LayoutModel",
          "model_module_version": "1.2.0",
          "state": {
            "_model_module": "@jupyter-widgets/base",
            "_model_module_version": "1.2.0",
            "_model_name": "LayoutModel",
            "_view_count": null,
            "_view_module": "@jupyter-widgets/base",
            "_view_module_version": "1.2.0",
            "_view_name": "LayoutView",
            "align_content": null,
            "align_items": null,
            "align_self": null,
            "border": null,
            "bottom": null,
            "display": null,
            "flex": null,
            "flex_flow": null,
            "grid_area": null,
            "grid_auto_columns": null,
            "grid_auto_flow": null,
            "grid_auto_rows": null,
            "grid_column": null,
            "grid_gap": null,
            "grid_row": null,
            "grid_template_areas": null,
            "grid_template_columns": null,
            "grid_template_rows": null,
            "height": null,
            "justify_content": null,
            "justify_items": null,
            "left": null,
            "margin": null,
            "max_height": null,
            "max_width": null,
            "min_height": null,
            "min_width": null,
            "object_fit": null,
            "object_position": null,
            "order": null,
            "overflow": null,
            "overflow_x": null,
            "overflow_y": null,
            "padding": null,
            "right": null,
            "top": null,
            "visibility": null,
            "width": null
          }
        },
        "2744ec92354244c98673b62c9e9af910": {
          "model_module": "@jupyter-widgets/controls",
          "model_name": "ProgressStyleModel",
          "model_module_version": "1.5.0",
          "state": {
            "_model_module": "@jupyter-widgets/controls",
            "_model_module_version": "1.5.0",
            "_model_name": "ProgressStyleModel",
            "_view_count": null,
            "_view_module": "@jupyter-widgets/base",
            "_view_module_version": "1.2.0",
            "_view_name": "StyleView",
            "bar_color": null,
            "description_width": ""
          }
        },
        "1ed28a47860142708374084132e2c674": {
          "model_module": "@jupyter-widgets/base",
          "model_name": "LayoutModel",
          "model_module_version": "1.2.0",
          "state": {
            "_model_module": "@jupyter-widgets/base",
            "_model_module_version": "1.2.0",
            "_model_name": "LayoutModel",
            "_view_count": null,
            "_view_module": "@jupyter-widgets/base",
            "_view_module_version": "1.2.0",
            "_view_name": "LayoutView",
            "align_content": null,
            "align_items": null,
            "align_self": null,
            "border": null,
            "bottom": null,
            "display": null,
            "flex": null,
            "flex_flow": null,
            "grid_area": null,
            "grid_auto_columns": null,
            "grid_auto_flow": null,
            "grid_auto_rows": null,
            "grid_column": null,
            "grid_gap": null,
            "grid_row": null,
            "grid_template_areas": null,
            "grid_template_columns": null,
            "grid_template_rows": null,
            "height": null,
            "justify_content": null,
            "justify_items": null,
            "left": null,
            "margin": null,
            "max_height": null,
            "max_width": null,
            "min_height": null,
            "min_width": null,
            "object_fit": null,
            "object_position": null,
            "order": null,
            "overflow": null,
            "overflow_x": null,
            "overflow_y": null,
            "padding": null,
            "right": null,
            "top": null,
            "visibility": null,
            "width": null
          }
        },
        "8549dc0613544d4ea9021dc090f56262": {
          "model_module": "@jupyter-widgets/controls",
          "model_name": "DescriptionStyleModel",
          "model_module_version": "1.5.0",
          "state": {
            "_model_module": "@jupyter-widgets/controls",
            "_model_module_version": "1.5.0",
            "_model_name": "DescriptionStyleModel",
            "_view_count": null,
            "_view_module": "@jupyter-widgets/base",
            "_view_module_version": "1.2.0",
            "_view_name": "StyleView",
            "description_width": ""
          }
        },
        "c7d0eac1689040b8b98215a93b341617": {
          "model_module": "@jupyter-widgets/controls",
          "model_name": "HBoxModel",
          "model_module_version": "1.5.0",
          "state": {
            "_dom_classes": [],
            "_model_module": "@jupyter-widgets/controls",
            "_model_module_version": "1.5.0",
            "_model_name": "HBoxModel",
            "_view_count": null,
            "_view_module": "@jupyter-widgets/controls",
            "_view_module_version": "1.5.0",
            "_view_name": "HBoxView",
            "box_style": "",
            "children": [
              "IPY_MODEL_46818ce4a9a1445fbce4b1f260c2ca52",
              "IPY_MODEL_154fe0153d33471d9159dc382550e7a9",
              "IPY_MODEL_e043dd313c62426ba1ced7247809b48a"
            ],
            "layout": "IPY_MODEL_1cf4aec26b24485ca04cebdf4c05b51e"
          }
        },
        "46818ce4a9a1445fbce4b1f260c2ca52": {
          "model_module": "@jupyter-widgets/controls",
          "model_name": "HTMLModel",
          "model_module_version": "1.5.0",
          "state": {
            "_dom_classes": [],
            "_model_module": "@jupyter-widgets/controls",
            "_model_module_version": "1.5.0",
            "_model_name": "HTMLModel",
            "_view_count": null,
            "_view_module": "@jupyter-widgets/controls",
            "_view_module_version": "1.5.0",
            "_view_name": "HTMLView",
            "description": "",
            "description_tooltip": null,
            "layout": "IPY_MODEL_83c5574da48144efbc43f70a48d7b212",
            "placeholder": "​",
            "style": "IPY_MODEL_dbbc2357b85d410b8c2e76eaf7075b24",
            "value": "Downloading pytorch_model.bin: 100%"
          }
        },
        "154fe0153d33471d9159dc382550e7a9": {
          "model_module": "@jupyter-widgets/controls",
          "model_name": "FloatProgressModel",
          "model_module_version": "1.5.0",
          "state": {
            "_dom_classes": [],
            "_model_module": "@jupyter-widgets/controls",
            "_model_module_version": "1.5.0",
            "_model_name": "FloatProgressModel",
            "_view_count": null,
            "_view_module": "@jupyter-widgets/controls",
            "_view_module_version": "1.5.0",
            "_view_name": "ProgressView",
            "bar_style": "success",
            "description": "",
            "description_tooltip": null,
            "layout": "IPY_MODEL_d788dc1b4b9c465cbd5fd90ce84691ae",
            "max": 438033929,
            "min": 0,
            "orientation": "horizontal",
            "style": "IPY_MODEL_efd6a66d884e4f6fbe7b43c27154cb6d",
            "value": 438033929
          }
        },
        "e043dd313c62426ba1ced7247809b48a": {
          "model_module": "@jupyter-widgets/controls",
          "model_name": "HTMLModel",
          "model_module_version": "1.5.0",
          "state": {
            "_dom_classes": [],
            "_model_module": "@jupyter-widgets/controls",
            "_model_module_version": "1.5.0",
            "_model_name": "HTMLModel",
            "_view_count": null,
            "_view_module": "@jupyter-widgets/controls",
            "_view_module_version": "1.5.0",
            "_view_name": "HTMLView",
            "description": "",
            "description_tooltip": null,
            "layout": "IPY_MODEL_8d2f8a0ee4b34c20a62f55f569b6ec60",
            "placeholder": "​",
            "style": "IPY_MODEL_fe3297d62d7448ffab90d7d4075f2fa8",
            "value": " 418M/418M [00:07&lt;00:00, 64.3MB/s]"
          }
        },
        "1cf4aec26b24485ca04cebdf4c05b51e": {
          "model_module": "@jupyter-widgets/base",
          "model_name": "LayoutModel",
          "model_module_version": "1.2.0",
          "state": {
            "_model_module": "@jupyter-widgets/base",
            "_model_module_version": "1.2.0",
            "_model_name": "LayoutModel",
            "_view_count": null,
            "_view_module": "@jupyter-widgets/base",
            "_view_module_version": "1.2.0",
            "_view_name": "LayoutView",
            "align_content": null,
            "align_items": null,
            "align_self": null,
            "border": null,
            "bottom": null,
            "display": null,
            "flex": null,
            "flex_flow": null,
            "grid_area": null,
            "grid_auto_columns": null,
            "grid_auto_flow": null,
            "grid_auto_rows": null,
            "grid_column": null,
            "grid_gap": null,
            "grid_row": null,
            "grid_template_areas": null,
            "grid_template_columns": null,
            "grid_template_rows": null,
            "height": null,
            "justify_content": null,
            "justify_items": null,
            "left": null,
            "margin": null,
            "max_height": null,
            "max_width": null,
            "min_height": null,
            "min_width": null,
            "object_fit": null,
            "object_position": null,
            "order": null,
            "overflow": null,
            "overflow_x": null,
            "overflow_y": null,
            "padding": null,
            "right": null,
            "top": null,
            "visibility": null,
            "width": null
          }
        },
        "83c5574da48144efbc43f70a48d7b212": {
          "model_module": "@jupyter-widgets/base",
          "model_name": "LayoutModel",
          "model_module_version": "1.2.0",
          "state": {
            "_model_module": "@jupyter-widgets/base",
            "_model_module_version": "1.2.0",
            "_model_name": "LayoutModel",
            "_view_count": null,
            "_view_module": "@jupyter-widgets/base",
            "_view_module_version": "1.2.0",
            "_view_name": "LayoutView",
            "align_content": null,
            "align_items": null,
            "align_self": null,
            "border": null,
            "bottom": null,
            "display": null,
            "flex": null,
            "flex_flow": null,
            "grid_area": null,
            "grid_auto_columns": null,
            "grid_auto_flow": null,
            "grid_auto_rows": null,
            "grid_column": null,
            "grid_gap": null,
            "grid_row": null,
            "grid_template_areas": null,
            "grid_template_columns": null,
            "grid_template_rows": null,
            "height": null,
            "justify_content": null,
            "justify_items": null,
            "left": null,
            "margin": null,
            "max_height": null,
            "max_width": null,
            "min_height": null,
            "min_width": null,
            "object_fit": null,
            "object_position": null,
            "order": null,
            "overflow": null,
            "overflow_x": null,
            "overflow_y": null,
            "padding": null,
            "right": null,
            "top": null,
            "visibility": null,
            "width": null
          }
        },
        "dbbc2357b85d410b8c2e76eaf7075b24": {
          "model_module": "@jupyter-widgets/controls",
          "model_name": "DescriptionStyleModel",
          "model_module_version": "1.5.0",
          "state": {
            "_model_module": "@jupyter-widgets/controls",
            "_model_module_version": "1.5.0",
            "_model_name": "DescriptionStyleModel",
            "_view_count": null,
            "_view_module": "@jupyter-widgets/base",
            "_view_module_version": "1.2.0",
            "_view_name": "StyleView",
            "description_width": ""
          }
        },
        "d788dc1b4b9c465cbd5fd90ce84691ae": {
          "model_module": "@jupyter-widgets/base",
          "model_name": "LayoutModel",
          "model_module_version": "1.2.0",
          "state": {
            "_model_module": "@jupyter-widgets/base",
            "_model_module_version": "1.2.0",
            "_model_name": "LayoutModel",
            "_view_count": null,
            "_view_module": "@jupyter-widgets/base",
            "_view_module_version": "1.2.0",
            "_view_name": "LayoutView",
            "align_content": null,
            "align_items": null,
            "align_self": null,
            "border": null,
            "bottom": null,
            "display": null,
            "flex": null,
            "flex_flow": null,
            "grid_area": null,
            "grid_auto_columns": null,
            "grid_auto_flow": null,
            "grid_auto_rows": null,
            "grid_column": null,
            "grid_gap": null,
            "grid_row": null,
            "grid_template_areas": null,
            "grid_template_columns": null,
            "grid_template_rows": null,
            "height": null,
            "justify_content": null,
            "justify_items": null,
            "left": null,
            "margin": null,
            "max_height": null,
            "max_width": null,
            "min_height": null,
            "min_width": null,
            "object_fit": null,
            "object_position": null,
            "order": null,
            "overflow": null,
            "overflow_x": null,
            "overflow_y": null,
            "padding": null,
            "right": null,
            "top": null,
            "visibility": null,
            "width": null
          }
        },
        "efd6a66d884e4f6fbe7b43c27154cb6d": {
          "model_module": "@jupyter-widgets/controls",
          "model_name": "ProgressStyleModel",
          "model_module_version": "1.5.0",
          "state": {
            "_model_module": "@jupyter-widgets/controls",
            "_model_module_version": "1.5.0",
            "_model_name": "ProgressStyleModel",
            "_view_count": null,
            "_view_module": "@jupyter-widgets/base",
            "_view_module_version": "1.2.0",
            "_view_name": "StyleView",
            "bar_color": null,
            "description_width": ""
          }
        },
        "8d2f8a0ee4b34c20a62f55f569b6ec60": {
          "model_module": "@jupyter-widgets/base",
          "model_name": "LayoutModel",
          "model_module_version": "1.2.0",
          "state": {
            "_model_module": "@jupyter-widgets/base",
            "_model_module_version": "1.2.0",
            "_model_name": "LayoutModel",
            "_view_count": null,
            "_view_module": "@jupyter-widgets/base",
            "_view_module_version": "1.2.0",
            "_view_name": "LayoutView",
            "align_content": null,
            "align_items": null,
            "align_self": null,
            "border": null,
            "bottom": null,
            "display": null,
            "flex": null,
            "flex_flow": null,
            "grid_area": null,
            "grid_auto_columns": null,
            "grid_auto_flow": null,
            "grid_auto_rows": null,
            "grid_column": null,
            "grid_gap": null,
            "grid_row": null,
            "grid_template_areas": null,
            "grid_template_columns": null,
            "grid_template_rows": null,
            "height": null,
            "justify_content": null,
            "justify_items": null,
            "left": null,
            "margin": null,
            "max_height": null,
            "max_width": null,
            "min_height": null,
            "min_width": null,
            "object_fit": null,
            "object_position": null,
            "order": null,
            "overflow": null,
            "overflow_x": null,
            "overflow_y": null,
            "padding": null,
            "right": null,
            "top": null,
            "visibility": null,
            "width": null
          }
        },
        "fe3297d62d7448ffab90d7d4075f2fa8": {
          "model_module": "@jupyter-widgets/controls",
          "model_name": "DescriptionStyleModel",
          "model_module_version": "1.5.0",
          "state": {
            "_model_module": "@jupyter-widgets/controls",
            "_model_module_version": "1.5.0",
            "_model_name": "DescriptionStyleModel",
            "_view_count": null,
            "_view_module": "@jupyter-widgets/base",
            "_view_module_version": "1.2.0",
            "_view_name": "StyleView",
            "description_width": ""
          }
        },
        "3416acbbc4d9403382aab8a05b49f2a7": {
          "model_module": "@jupyter-widgets/controls",
          "model_name": "HBoxModel",
          "model_module_version": "1.5.0",
          "state": {
            "_dom_classes": [],
            "_model_module": "@jupyter-widgets/controls",
            "_model_module_version": "1.5.0",
            "_model_name": "HBoxModel",
            "_view_count": null,
            "_view_module": "@jupyter-widgets/controls",
            "_view_module_version": "1.5.0",
            "_view_name": "HBoxView",
            "box_style": "",
            "children": [
              "IPY_MODEL_e9a5aa1062614ee6887cef9c41658156",
              "IPY_MODEL_58f8b9a78103438fbc7e8157903eaf9b",
              "IPY_MODEL_8c8e425b8b9e4ebe8d192a545327287e"
            ],
            "layout": "IPY_MODEL_df6a2dd1751844378d9a0f004ffbe9f6"
          }
        },
        "e9a5aa1062614ee6887cef9c41658156": {
          "model_module": "@jupyter-widgets/controls",
          "model_name": "HTMLModel",
          "model_module_version": "1.5.0",
          "state": {
            "_dom_classes": [],
            "_model_module": "@jupyter-widgets/controls",
            "_model_module_version": "1.5.0",
            "_model_name": "HTMLModel",
            "_view_count": null,
            "_view_module": "@jupyter-widgets/controls",
            "_view_module_version": "1.5.0",
            "_view_name": "HTMLView",
            "description": "",
            "description_tooltip": null,
            "layout": "IPY_MODEL_8ca16d5b0540494a95ca1286a077ea74",
            "placeholder": "​",
            "style": "IPY_MODEL_8dd330af220f46f1b45a1a929caebda4",
            "value": "Downloading tokenizer_config.json: 100%"
          }
        },
        "58f8b9a78103438fbc7e8157903eaf9b": {
          "model_module": "@jupyter-widgets/controls",
          "model_name": "FloatProgressModel",
          "model_module_version": "1.5.0",
          "state": {
            "_dom_classes": [],
            "_model_module": "@jupyter-widgets/controls",
            "_model_module_version": "1.5.0",
            "_model_name": "FloatProgressModel",
            "_view_count": null,
            "_view_module": "@jupyter-widgets/controls",
            "_view_module_version": "1.5.0",
            "_view_name": "ProgressView",
            "bar_style": "success",
            "description": "",
            "description_tooltip": null,
            "layout": "IPY_MODEL_491c64087b1841ee96c135aad3eb3b1b",
            "max": 174,
            "min": 0,
            "orientation": "horizontal",
            "style": "IPY_MODEL_da634d7831a744749070db9a4ad165f8",
            "value": 174
          }
        },
        "8c8e425b8b9e4ebe8d192a545327287e": {
          "model_module": "@jupyter-widgets/controls",
          "model_name": "HTMLModel",
          "model_module_version": "1.5.0",
          "state": {
            "_dom_classes": [],
            "_model_module": "@jupyter-widgets/controls",
            "_model_module_version": "1.5.0",
            "_model_name": "HTMLModel",
            "_view_count": null,
            "_view_module": "@jupyter-widgets/controls",
            "_view_module_version": "1.5.0",
            "_view_name": "HTMLView",
            "description": "",
            "description_tooltip": null,
            "layout": "IPY_MODEL_c0374292b02842efb4f4d020c6755b7a",
            "placeholder": "​",
            "style": "IPY_MODEL_3873671fa48840e38b48fd5be2a85192",
            "value": " 174/174 [00:00&lt;00:00, 5.33kB/s]"
          }
        },
        "df6a2dd1751844378d9a0f004ffbe9f6": {
          "model_module": "@jupyter-widgets/base",
          "model_name": "LayoutModel",
          "model_module_version": "1.2.0",
          "state": {
            "_model_module": "@jupyter-widgets/base",
            "_model_module_version": "1.2.0",
            "_model_name": "LayoutModel",
            "_view_count": null,
            "_view_module": "@jupyter-widgets/base",
            "_view_module_version": "1.2.0",
            "_view_name": "LayoutView",
            "align_content": null,
            "align_items": null,
            "align_self": null,
            "border": null,
            "bottom": null,
            "display": null,
            "flex": null,
            "flex_flow": null,
            "grid_area": null,
            "grid_auto_columns": null,
            "grid_auto_flow": null,
            "grid_auto_rows": null,
            "grid_column": null,
            "grid_gap": null,
            "grid_row": null,
            "grid_template_areas": null,
            "grid_template_columns": null,
            "grid_template_rows": null,
            "height": null,
            "justify_content": null,
            "justify_items": null,
            "left": null,
            "margin": null,
            "max_height": null,
            "max_width": null,
            "min_height": null,
            "min_width": null,
            "object_fit": null,
            "object_position": null,
            "order": null,
            "overflow": null,
            "overflow_x": null,
            "overflow_y": null,
            "padding": null,
            "right": null,
            "top": null,
            "visibility": null,
            "width": null
          }
        },
        "8ca16d5b0540494a95ca1286a077ea74": {
          "model_module": "@jupyter-widgets/base",
          "model_name": "LayoutModel",
          "model_module_version": "1.2.0",
          "state": {
            "_model_module": "@jupyter-widgets/base",
            "_model_module_version": "1.2.0",
            "_model_name": "LayoutModel",
            "_view_count": null,
            "_view_module": "@jupyter-widgets/base",
            "_view_module_version": "1.2.0",
            "_view_name": "LayoutView",
            "align_content": null,
            "align_items": null,
            "align_self": null,
            "border": null,
            "bottom": null,
            "display": null,
            "flex": null,
            "flex_flow": null,
            "grid_area": null,
            "grid_auto_columns": null,
            "grid_auto_flow": null,
            "grid_auto_rows": null,
            "grid_column": null,
            "grid_gap": null,
            "grid_row": null,
            "grid_template_areas": null,
            "grid_template_columns": null,
            "grid_template_rows": null,
            "height": null,
            "justify_content": null,
            "justify_items": null,
            "left": null,
            "margin": null,
            "max_height": null,
            "max_width": null,
            "min_height": null,
            "min_width": null,
            "object_fit": null,
            "object_position": null,
            "order": null,
            "overflow": null,
            "overflow_x": null,
            "overflow_y": null,
            "padding": null,
            "right": null,
            "top": null,
            "visibility": null,
            "width": null
          }
        },
        "8dd330af220f46f1b45a1a929caebda4": {
          "model_module": "@jupyter-widgets/controls",
          "model_name": "DescriptionStyleModel",
          "model_module_version": "1.5.0",
          "state": {
            "_model_module": "@jupyter-widgets/controls",
            "_model_module_version": "1.5.0",
            "_model_name": "DescriptionStyleModel",
            "_view_count": null,
            "_view_module": "@jupyter-widgets/base",
            "_view_module_version": "1.2.0",
            "_view_name": "StyleView",
            "description_width": ""
          }
        },
        "491c64087b1841ee96c135aad3eb3b1b": {
          "model_module": "@jupyter-widgets/base",
          "model_name": "LayoutModel",
          "model_module_version": "1.2.0",
          "state": {
            "_model_module": "@jupyter-widgets/base",
            "_model_module_version": "1.2.0",
            "_model_name": "LayoutModel",
            "_view_count": null,
            "_view_module": "@jupyter-widgets/base",
            "_view_module_version": "1.2.0",
            "_view_name": "LayoutView",
            "align_content": null,
            "align_items": null,
            "align_self": null,
            "border": null,
            "bottom": null,
            "display": null,
            "flex": null,
            "flex_flow": null,
            "grid_area": null,
            "grid_auto_columns": null,
            "grid_auto_flow": null,
            "grid_auto_rows": null,
            "grid_column": null,
            "grid_gap": null,
            "grid_row": null,
            "grid_template_areas": null,
            "grid_template_columns": null,
            "grid_template_rows": null,
            "height": null,
            "justify_content": null,
            "justify_items": null,
            "left": null,
            "margin": null,
            "max_height": null,
            "max_width": null,
            "min_height": null,
            "min_width": null,
            "object_fit": null,
            "object_position": null,
            "order": null,
            "overflow": null,
            "overflow_x": null,
            "overflow_y": null,
            "padding": null,
            "right": null,
            "top": null,
            "visibility": null,
            "width": null
          }
        },
        "da634d7831a744749070db9a4ad165f8": {
          "model_module": "@jupyter-widgets/controls",
          "model_name": "ProgressStyleModel",
          "model_module_version": "1.5.0",
          "state": {
            "_model_module": "@jupyter-widgets/controls",
            "_model_module_version": "1.5.0",
            "_model_name": "ProgressStyleModel",
            "_view_count": null,
            "_view_module": "@jupyter-widgets/base",
            "_view_module_version": "1.2.0",
            "_view_name": "StyleView",
            "bar_color": null,
            "description_width": ""
          }
        },
        "c0374292b02842efb4f4d020c6755b7a": {
          "model_module": "@jupyter-widgets/base",
          "model_name": "LayoutModel",
          "model_module_version": "1.2.0",
          "state": {
            "_model_module": "@jupyter-widgets/base",
            "_model_module_version": "1.2.0",
            "_model_name": "LayoutModel",
            "_view_count": null,
            "_view_module": "@jupyter-widgets/base",
            "_view_module_version": "1.2.0",
            "_view_name": "LayoutView",
            "align_content": null,
            "align_items": null,
            "align_self": null,
            "border": null,
            "bottom": null,
            "display": null,
            "flex": null,
            "flex_flow": null,
            "grid_area": null,
            "grid_auto_columns": null,
            "grid_auto_flow": null,
            "grid_auto_rows": null,
            "grid_column": null,
            "grid_gap": null,
            "grid_row": null,
            "grid_template_areas": null,
            "grid_template_columns": null,
            "grid_template_rows": null,
            "height": null,
            "justify_content": null,
            "justify_items": null,
            "left": null,
            "margin": null,
            "max_height": null,
            "max_width": null,
            "min_height": null,
            "min_width": null,
            "object_fit": null,
            "object_position": null,
            "order": null,
            "overflow": null,
            "overflow_x": null,
            "overflow_y": null,
            "padding": null,
            "right": null,
            "top": null,
            "visibility": null,
            "width": null
          }
        },
        "3873671fa48840e38b48fd5be2a85192": {
          "model_module": "@jupyter-widgets/controls",
          "model_name": "DescriptionStyleModel",
          "model_module_version": "1.5.0",
          "state": {
            "_model_module": "@jupyter-widgets/controls",
            "_model_module_version": "1.5.0",
            "_model_name": "DescriptionStyleModel",
            "_view_count": null,
            "_view_module": "@jupyter-widgets/base",
            "_view_module_version": "1.2.0",
            "_view_name": "StyleView",
            "description_width": ""
          }
        },
        "d5eced5a566b4558bbbd861a2a967371": {
          "model_module": "@jupyter-widgets/controls",
          "model_name": "HBoxModel",
          "model_module_version": "1.5.0",
          "state": {
            "_dom_classes": [],
            "_model_module": "@jupyter-widgets/controls",
            "_model_module_version": "1.5.0",
            "_model_name": "HBoxModel",
            "_view_count": null,
            "_view_module": "@jupyter-widgets/controls",
            "_view_module_version": "1.5.0",
            "_view_name": "HBoxView",
            "box_style": "",
            "children": [
              "IPY_MODEL_1c81b5e6d518432abd8840ebc2473ece",
              "IPY_MODEL_367505ebfd3d46aba3e5fc0a921f95bd",
              "IPY_MODEL_09280018710841e2b2342045f4659500"
            ],
            "layout": "IPY_MODEL_aef92113c7c04a3a8c150a66c91b8a72"
          }
        },
        "1c81b5e6d518432abd8840ebc2473ece": {
          "model_module": "@jupyter-widgets/controls",
          "model_name": "HTMLModel",
          "model_module_version": "1.5.0",
          "state": {
            "_dom_classes": [],
            "_model_module": "@jupyter-widgets/controls",
            "_model_module_version": "1.5.0",
            "_model_name": "HTMLModel",
            "_view_count": null,
            "_view_module": "@jupyter-widgets/controls",
            "_view_module_version": "1.5.0",
            "_view_name": "HTMLView",
            "description": "",
            "description_tooltip": null,
            "layout": "IPY_MODEL_3545cf85d1354aafa0e3f8dd03833884",
            "placeholder": "​",
            "style": "IPY_MODEL_87e2dafbc5334d0dab7a4eda748c3093",
            "value": "Downloading vocab.txt: 100%"
          }
        },
        "367505ebfd3d46aba3e5fc0a921f95bd": {
          "model_module": "@jupyter-widgets/controls",
          "model_name": "FloatProgressModel",
          "model_module_version": "1.5.0",
          "state": {
            "_dom_classes": [],
            "_model_module": "@jupyter-widgets/controls",
            "_model_module_version": "1.5.0",
            "_model_name": "FloatProgressModel",
            "_view_count": null,
            "_view_module": "@jupyter-widgets/controls",
            "_view_module_version": "1.5.0",
            "_view_name": "ProgressView",
            "bar_style": "success",
            "description": "",
            "description_tooltip": null,
            "layout": "IPY_MODEL_55615c7f7eed45ac987bfad2d96018f3",
            "max": 231508,
            "min": 0,
            "orientation": "horizontal",
            "style": "IPY_MODEL_5cd1adb4bf79492a9ca7d9624c34464e",
            "value": 231508
          }
        },
        "09280018710841e2b2342045f4659500": {
          "model_module": "@jupyter-widgets/controls",
          "model_name": "HTMLModel",
          "model_module_version": "1.5.0",
          "state": {
            "_dom_classes": [],
            "_model_module": "@jupyter-widgets/controls",
            "_model_module_version": "1.5.0",
            "_model_name": "HTMLModel",
            "_view_count": null,
            "_view_module": "@jupyter-widgets/controls",
            "_view_module_version": "1.5.0",
            "_view_name": "HTMLView",
            "description": "",
            "description_tooltip": null,
            "layout": "IPY_MODEL_10090dbff3a44c8a941e78c1dcc8bfb3",
            "placeholder": "​",
            "style": "IPY_MODEL_7acedb5d3edf40aba13e302729c7d53e",
            "value": " 226k/226k [00:00&lt;00:00, 1.43MB/s]"
          }
        },
        "aef92113c7c04a3a8c150a66c91b8a72": {
          "model_module": "@jupyter-widgets/base",
          "model_name": "LayoutModel",
          "model_module_version": "1.2.0",
          "state": {
            "_model_module": "@jupyter-widgets/base",
            "_model_module_version": "1.2.0",
            "_model_name": "LayoutModel",
            "_view_count": null,
            "_view_module": "@jupyter-widgets/base",
            "_view_module_version": "1.2.0",
            "_view_name": "LayoutView",
            "align_content": null,
            "align_items": null,
            "align_self": null,
            "border": null,
            "bottom": null,
            "display": null,
            "flex": null,
            "flex_flow": null,
            "grid_area": null,
            "grid_auto_columns": null,
            "grid_auto_flow": null,
            "grid_auto_rows": null,
            "grid_column": null,
            "grid_gap": null,
            "grid_row": null,
            "grid_template_areas": null,
            "grid_template_columns": null,
            "grid_template_rows": null,
            "height": null,
            "justify_content": null,
            "justify_items": null,
            "left": null,
            "margin": null,
            "max_height": null,
            "max_width": null,
            "min_height": null,
            "min_width": null,
            "object_fit": null,
            "object_position": null,
            "order": null,
            "overflow": null,
            "overflow_x": null,
            "overflow_y": null,
            "padding": null,
            "right": null,
            "top": null,
            "visibility": null,
            "width": null
          }
        },
        "3545cf85d1354aafa0e3f8dd03833884": {
          "model_module": "@jupyter-widgets/base",
          "model_name": "LayoutModel",
          "model_module_version": "1.2.0",
          "state": {
            "_model_module": "@jupyter-widgets/base",
            "_model_module_version": "1.2.0",
            "_model_name": "LayoutModel",
            "_view_count": null,
            "_view_module": "@jupyter-widgets/base",
            "_view_module_version": "1.2.0",
            "_view_name": "LayoutView",
            "align_content": null,
            "align_items": null,
            "align_self": null,
            "border": null,
            "bottom": null,
            "display": null,
            "flex": null,
            "flex_flow": null,
            "grid_area": null,
            "grid_auto_columns": null,
            "grid_auto_flow": null,
            "grid_auto_rows": null,
            "grid_column": null,
            "grid_gap": null,
            "grid_row": null,
            "grid_template_areas": null,
            "grid_template_columns": null,
            "grid_template_rows": null,
            "height": null,
            "justify_content": null,
            "justify_items": null,
            "left": null,
            "margin": null,
            "max_height": null,
            "max_width": null,
            "min_height": null,
            "min_width": null,
            "object_fit": null,
            "object_position": null,
            "order": null,
            "overflow": null,
            "overflow_x": null,
            "overflow_y": null,
            "padding": null,
            "right": null,
            "top": null,
            "visibility": null,
            "width": null
          }
        },
        "87e2dafbc5334d0dab7a4eda748c3093": {
          "model_module": "@jupyter-widgets/controls",
          "model_name": "DescriptionStyleModel",
          "model_module_version": "1.5.0",
          "state": {
            "_model_module": "@jupyter-widgets/controls",
            "_model_module_version": "1.5.0",
            "_model_name": "DescriptionStyleModel",
            "_view_count": null,
            "_view_module": "@jupyter-widgets/base",
            "_view_module_version": "1.2.0",
            "_view_name": "StyleView",
            "description_width": ""
          }
        },
        "55615c7f7eed45ac987bfad2d96018f3": {
          "model_module": "@jupyter-widgets/base",
          "model_name": "LayoutModel",
          "model_module_version": "1.2.0",
          "state": {
            "_model_module": "@jupyter-widgets/base",
            "_model_module_version": "1.2.0",
            "_model_name": "LayoutModel",
            "_view_count": null,
            "_view_module": "@jupyter-widgets/base",
            "_view_module_version": "1.2.0",
            "_view_name": "LayoutView",
            "align_content": null,
            "align_items": null,
            "align_self": null,
            "border": null,
            "bottom": null,
            "display": null,
            "flex": null,
            "flex_flow": null,
            "grid_area": null,
            "grid_auto_columns": null,
            "grid_auto_flow": null,
            "grid_auto_rows": null,
            "grid_column": null,
            "grid_gap": null,
            "grid_row": null,
            "grid_template_areas": null,
            "grid_template_columns": null,
            "grid_template_rows": null,
            "height": null,
            "justify_content": null,
            "justify_items": null,
            "left": null,
            "margin": null,
            "max_height": null,
            "max_width": null,
            "min_height": null,
            "min_width": null,
            "object_fit": null,
            "object_position": null,
            "order": null,
            "overflow": null,
            "overflow_x": null,
            "overflow_y": null,
            "padding": null,
            "right": null,
            "top": null,
            "visibility": null,
            "width": null
          }
        },
        "5cd1adb4bf79492a9ca7d9624c34464e": {
          "model_module": "@jupyter-widgets/controls",
          "model_name": "ProgressStyleModel",
          "model_module_version": "1.5.0",
          "state": {
            "_model_module": "@jupyter-widgets/controls",
            "_model_module_version": "1.5.0",
            "_model_name": "ProgressStyleModel",
            "_view_count": null,
            "_view_module": "@jupyter-widgets/base",
            "_view_module_version": "1.2.0",
            "_view_name": "StyleView",
            "bar_color": null,
            "description_width": ""
          }
        },
        "10090dbff3a44c8a941e78c1dcc8bfb3": {
          "model_module": "@jupyter-widgets/base",
          "model_name": "LayoutModel",
          "model_module_version": "1.2.0",
          "state": {
            "_model_module": "@jupyter-widgets/base",
            "_model_module_version": "1.2.0",
            "_model_name": "LayoutModel",
            "_view_count": null,
            "_view_module": "@jupyter-widgets/base",
            "_view_module_version": "1.2.0",
            "_view_name": "LayoutView",
            "align_content": null,
            "align_items": null,
            "align_self": null,
            "border": null,
            "bottom": null,
            "display": null,
            "flex": null,
            "flex_flow": null,
            "grid_area": null,
            "grid_auto_columns": null,
            "grid_auto_flow": null,
            "grid_auto_rows": null,
            "grid_column": null,
            "grid_gap": null,
            "grid_row": null,
            "grid_template_areas": null,
            "grid_template_columns": null,
            "grid_template_rows": null,
            "height": null,
            "justify_content": null,
            "justify_items": null,
            "left": null,
            "margin": null,
            "max_height": null,
            "max_width": null,
            "min_height": null,
            "min_width": null,
            "object_fit": null,
            "object_position": null,
            "order": null,
            "overflow": null,
            "overflow_x": null,
            "overflow_y": null,
            "padding": null,
            "right": null,
            "top": null,
            "visibility": null,
            "width": null
          }
        },
        "7acedb5d3edf40aba13e302729c7d53e": {
          "model_module": "@jupyter-widgets/controls",
          "model_name": "DescriptionStyleModel",
          "model_module_version": "1.5.0",
          "state": {
            "_model_module": "@jupyter-widgets/controls",
            "_model_module_version": "1.5.0",
            "_model_name": "DescriptionStyleModel",
            "_view_count": null,
            "_view_module": "@jupyter-widgets/base",
            "_view_module_version": "1.2.0",
            "_view_name": "StyleView",
            "description_width": ""
          }
        },
        "959b12e11a1f444ab5ad3d20eb00db6b": {
          "model_module": "@jupyter-widgets/controls",
          "model_name": "HBoxModel",
          "model_module_version": "1.5.0",
          "state": {
            "_dom_classes": [],
            "_model_module": "@jupyter-widgets/controls",
            "_model_module_version": "1.5.0",
            "_model_name": "HBoxModel",
            "_view_count": null,
            "_view_module": "@jupyter-widgets/controls",
            "_view_module_version": "1.5.0",
            "_view_name": "HBoxView",
            "box_style": "",
            "children": [
              "IPY_MODEL_85284181656a4b118d2e49333ffffdc6",
              "IPY_MODEL_a56c0cbdf9d340738897856e7ff0bb50",
              "IPY_MODEL_9b8bf83f034142ffa17ca58708cac202"
            ],
            "layout": "IPY_MODEL_d6216c27571e4a019ea592b84f6aec2b"
          }
        },
        "85284181656a4b118d2e49333ffffdc6": {
          "model_module": "@jupyter-widgets/controls",
          "model_name": "HTMLModel",
          "model_module_version": "1.5.0",
          "state": {
            "_dom_classes": [],
            "_model_module": "@jupyter-widgets/controls",
            "_model_module_version": "1.5.0",
            "_model_name": "HTMLModel",
            "_view_count": null,
            "_view_module": "@jupyter-widgets/controls",
            "_view_module_version": "1.5.0",
            "_view_name": "HTMLView",
            "description": "",
            "description_tooltip": null,
            "layout": "IPY_MODEL_96fd90274faf423d8bf3e34edd34bef9",
            "placeholder": "​",
            "style": "IPY_MODEL_83c9572e628f44739a6f0e7e308e6887",
            "value": "Downloading special_tokens_map.json: 100%"
          }
        },
        "a56c0cbdf9d340738897856e7ff0bb50": {
          "model_module": "@jupyter-widgets/controls",
          "model_name": "FloatProgressModel",
          "model_module_version": "1.5.0",
          "state": {
            "_dom_classes": [],
            "_model_module": "@jupyter-widgets/controls",
            "_model_module_version": "1.5.0",
            "_model_name": "FloatProgressModel",
            "_view_count": null,
            "_view_module": "@jupyter-widgets/controls",
            "_view_module_version": "1.5.0",
            "_view_name": "ProgressView",
            "bar_style": "success",
            "description": "",
            "description_tooltip": null,
            "layout": "IPY_MODEL_bf36c384d5bd445ca7fd67ba1d2ce39d",
            "max": 112,
            "min": 0,
            "orientation": "horizontal",
            "style": "IPY_MODEL_57c1004c767642e0ba9079cb353305ec",
            "value": 112
          }
        },
        "9b8bf83f034142ffa17ca58708cac202": {
          "model_module": "@jupyter-widgets/controls",
          "model_name": "HTMLModel",
          "model_module_version": "1.5.0",
          "state": {
            "_dom_classes": [],
            "_model_module": "@jupyter-widgets/controls",
            "_model_module_version": "1.5.0",
            "_model_name": "HTMLModel",
            "_view_count": null,
            "_view_module": "@jupyter-widgets/controls",
            "_view_module_version": "1.5.0",
            "_view_name": "HTMLView",
            "description": "",
            "description_tooltip": null,
            "layout": "IPY_MODEL_6e85cebc51ff49caab3fd7d8b2020ddc",
            "placeholder": "​",
            "style": "IPY_MODEL_c5ef5979eb01455d87820a1b4a6b0e66",
            "value": " 112/112 [00:00&lt;00:00, 2.94kB/s]"
          }
        },
        "d6216c27571e4a019ea592b84f6aec2b": {
          "model_module": "@jupyter-widgets/base",
          "model_name": "LayoutModel",
          "model_module_version": "1.2.0",
          "state": {
            "_model_module": "@jupyter-widgets/base",
            "_model_module_version": "1.2.0",
            "_model_name": "LayoutModel",
            "_view_count": null,
            "_view_module": "@jupyter-widgets/base",
            "_view_module_version": "1.2.0",
            "_view_name": "LayoutView",
            "align_content": null,
            "align_items": null,
            "align_self": null,
            "border": null,
            "bottom": null,
            "display": null,
            "flex": null,
            "flex_flow": null,
            "grid_area": null,
            "grid_auto_columns": null,
            "grid_auto_flow": null,
            "grid_auto_rows": null,
            "grid_column": null,
            "grid_gap": null,
            "grid_row": null,
            "grid_template_areas": null,
            "grid_template_columns": null,
            "grid_template_rows": null,
            "height": null,
            "justify_content": null,
            "justify_items": null,
            "left": null,
            "margin": null,
            "max_height": null,
            "max_width": null,
            "min_height": null,
            "min_width": null,
            "object_fit": null,
            "object_position": null,
            "order": null,
            "overflow": null,
            "overflow_x": null,
            "overflow_y": null,
            "padding": null,
            "right": null,
            "top": null,
            "visibility": null,
            "width": null
          }
        },
        "96fd90274faf423d8bf3e34edd34bef9": {
          "model_module": "@jupyter-widgets/base",
          "model_name": "LayoutModel",
          "model_module_version": "1.2.0",
          "state": {
            "_model_module": "@jupyter-widgets/base",
            "_model_module_version": "1.2.0",
            "_model_name": "LayoutModel",
            "_view_count": null,
            "_view_module": "@jupyter-widgets/base",
            "_view_module_version": "1.2.0",
            "_view_name": "LayoutView",
            "align_content": null,
            "align_items": null,
            "align_self": null,
            "border": null,
            "bottom": null,
            "display": null,
            "flex": null,
            "flex_flow": null,
            "grid_area": null,
            "grid_auto_columns": null,
            "grid_auto_flow": null,
            "grid_auto_rows": null,
            "grid_column": null,
            "grid_gap": null,
            "grid_row": null,
            "grid_template_areas": null,
            "grid_template_columns": null,
            "grid_template_rows": null,
            "height": null,
            "justify_content": null,
            "justify_items": null,
            "left": null,
            "margin": null,
            "max_height": null,
            "max_width": null,
            "min_height": null,
            "min_width": null,
            "object_fit": null,
            "object_position": null,
            "order": null,
            "overflow": null,
            "overflow_x": null,
            "overflow_y": null,
            "padding": null,
            "right": null,
            "top": null,
            "visibility": null,
            "width": null
          }
        },
        "83c9572e628f44739a6f0e7e308e6887": {
          "model_module": "@jupyter-widgets/controls",
          "model_name": "DescriptionStyleModel",
          "model_module_version": "1.5.0",
          "state": {
            "_model_module": "@jupyter-widgets/controls",
            "_model_module_version": "1.5.0",
            "_model_name": "DescriptionStyleModel",
            "_view_count": null,
            "_view_module": "@jupyter-widgets/base",
            "_view_module_version": "1.2.0",
            "_view_name": "StyleView",
            "description_width": ""
          }
        },
        "bf36c384d5bd445ca7fd67ba1d2ce39d": {
          "model_module": "@jupyter-widgets/base",
          "model_name": "LayoutModel",
          "model_module_version": "1.2.0",
          "state": {
            "_model_module": "@jupyter-widgets/base",
            "_model_module_version": "1.2.0",
            "_model_name": "LayoutModel",
            "_view_count": null,
            "_view_module": "@jupyter-widgets/base",
            "_view_module_version": "1.2.0",
            "_view_name": "LayoutView",
            "align_content": null,
            "align_items": null,
            "align_self": null,
            "border": null,
            "bottom": null,
            "display": null,
            "flex": null,
            "flex_flow": null,
            "grid_area": null,
            "grid_auto_columns": null,
            "grid_auto_flow": null,
            "grid_auto_rows": null,
            "grid_column": null,
            "grid_gap": null,
            "grid_row": null,
            "grid_template_areas": null,
            "grid_template_columns": null,
            "grid_template_rows": null,
            "height": null,
            "justify_content": null,
            "justify_items": null,
            "left": null,
            "margin": null,
            "max_height": null,
            "max_width": null,
            "min_height": null,
            "min_width": null,
            "object_fit": null,
            "object_position": null,
            "order": null,
            "overflow": null,
            "overflow_x": null,
            "overflow_y": null,
            "padding": null,
            "right": null,
            "top": null,
            "visibility": null,
            "width": null
          }
        },
        "57c1004c767642e0ba9079cb353305ec": {
          "model_module": "@jupyter-widgets/controls",
          "model_name": "ProgressStyleModel",
          "model_module_version": "1.5.0",
          "state": {
            "_model_module": "@jupyter-widgets/controls",
            "_model_module_version": "1.5.0",
            "_model_name": "ProgressStyleModel",
            "_view_count": null,
            "_view_module": "@jupyter-widgets/base",
            "_view_module_version": "1.2.0",
            "_view_name": "StyleView",
            "bar_color": null,
            "description_width": ""
          }
        },
        "6e85cebc51ff49caab3fd7d8b2020ddc": {
          "model_module": "@jupyter-widgets/base",
          "model_name": "LayoutModel",
          "model_module_version": "1.2.0",
          "state": {
            "_model_module": "@jupyter-widgets/base",
            "_model_module_version": "1.2.0",
            "_model_name": "LayoutModel",
            "_view_count": null,
            "_view_module": "@jupyter-widgets/base",
            "_view_module_version": "1.2.0",
            "_view_name": "LayoutView",
            "align_content": null,
            "align_items": null,
            "align_self": null,
            "border": null,
            "bottom": null,
            "display": null,
            "flex": null,
            "flex_flow": null,
            "grid_area": null,
            "grid_auto_columns": null,
            "grid_auto_flow": null,
            "grid_auto_rows": null,
            "grid_column": null,
            "grid_gap": null,
            "grid_row": null,
            "grid_template_areas": null,
            "grid_template_columns": null,
            "grid_template_rows": null,
            "height": null,
            "justify_content": null,
            "justify_items": null,
            "left": null,
            "margin": null,
            "max_height": null,
            "max_width": null,
            "min_height": null,
            "min_width": null,
            "object_fit": null,
            "object_position": null,
            "order": null,
            "overflow": null,
            "overflow_x": null,
            "overflow_y": null,
            "padding": null,
            "right": null,
            "top": null,
            "visibility": null,
            "width": null
          }
        },
        "c5ef5979eb01455d87820a1b4a6b0e66": {
          "model_module": "@jupyter-widgets/controls",
          "model_name": "DescriptionStyleModel",
          "model_module_version": "1.5.0",
          "state": {
            "_model_module": "@jupyter-widgets/controls",
            "_model_module_version": "1.5.0",
            "_model_name": "DescriptionStyleModel",
            "_view_count": null,
            "_view_module": "@jupyter-widgets/base",
            "_view_module_version": "1.2.0",
            "_view_name": "StyleView",
            "description_width": ""
          }
        }
      }
    }
  },
  "nbformat_minor": 0,
  "nbformat": 4,
  "cells": [
    {
      "cell_type": "markdown",
      "source": [
        "---\n",
        "\n",
        "\n",
        "**Датасет соревнования:** https://www.kaggle.com/c/jigsaw-toxic-comment-classification-challenge\n",
        "\n",
        "\n",
        "**Описание:**\n",
        "\n",
        "Toxic Comments\n",
        "\n",
        "Discussing things you care about can be difficult. The threat of abuse and harassment online means that many people stop expressing themselves and give up on seeking different opinions. Platforms struggle to effectively facilitate conversations, leading many communities to limit or completely shut down user comments.\n",
        "\n",
        "The Conversation AI team, a research initiative founded by Jigsaw and Google (both a part of Alphabet) are working on tools to help improve online conversation. One area of focus is the study of negative online behaviors, like toxic comments (i.e. comments that are rude, disrespectful or otherwise likely to make someone leave a discussion). So far they’ve built a range of publicly available models served through the Perspective API, including toxicity. But the current models still make errors, and they don’t allow users to select which types of toxicity they’re interested in finding (e.g. some platforms may be fine with profanity, but not with other types of toxic content).\n",
        "\n",
        "In this competition, you’re challenged to build a multi-headed model that’s capable of detecting different types of of toxicity like threats, obscenity, insults, and identity-based hate better than Perspective’s current models. You’ll be using a dataset of comments from Wikipedia’s talk page edits. Improvements to the current model will hopefully help online discussion become more productive and respectful.\n",
        "\n",
        "Disclaimer: the dataset for this competition contains text that may be considered profane, vulgar, or offensive.\n",
        "<br><br>\n",
        "**Цель:** Решить задачу бинарной классификации английских комментариев на токсичность (признак `toxic`)\n",
        "<br><br>\n",
        "**Задача:** Пробить минимальный порог по метрике\n",
        "<br><br>\n",
        "**Метрика:** F1-мера\n",
        "<br><br>\n",
        "**Порог по метрике:** Результаты дамми-модели\n",
        "<br><br><br>\n",
        "**UPD:** Сетка гиперпараметров урезана или отсутствует (не гарантируется, что выбранные гиперпараметры - лучшие). Всё сделано для того, чтобы всё запускалось быстро. Оставляю работу с гиперпараметрами заинтересованному читателю.\n",
        "\n",
        "**UPD 2:** Некоторые предупреждения обработаны не были (напр.: связанные с параллелизмом huggingface и scikit-learn). Способ обработки зависит от целей читателя.\n",
        "\n",
        "---"
      ],
      "metadata": {
        "id": "mlNtlEFes3_M"
      }
    },
    {
      "cell_type": "markdown",
      "source": [
        "# <font color=\"RED\">Caution!!!\n",
        "</font>\n",
        "\n",
        "<br>\n",
        "<b>Датасет содержит нецензурную токсичную брань (подробнее в описании датасета на `kaggle`). Автор тетрадки не несет ответственности за содержание датасета и осуждает использование любых оскорблений в любой адрес.\n",
        "<br><br>\n",
        "Please be careful. The dataset contains offensive toxic language (for more information, see the description of the dataset on `kaggle`). The author of this notebook is not responsible for the content of the dataset and condemns the use of any insults to any people."
      ],
      "metadata": {
        "id": "e6lrmEDgQKxj"
      }
    },
    {
      "cell_type": "markdown",
      "source": [
        "# Содержание:\n",
        "\n",
        "1. [Работа с библиотеками](#c1)\n",
        "2.  [Работа с датасетом](#c2)\n",
        "  * [Загрузка датасета](#c3)\n",
        "  * [Вводный анализ](#c4)\n",
        "      * [Анализ датасета](#c5)\n",
        "      * [Распределение в таргете](#c6)\n",
        "      * [Анализ текстов](#c7)\n",
        "  * [Предобработка данных](#c8)\n",
        "      * [Выборки](#c9)\n",
        "      * [Очистка](#c10)\n",
        "      * [Спеллер](#c11)\n",
        "      * [Лемматизация](#c12)\n",
        "      * [Облако слов](#c13)\n",
        "      * [LDA (Latent Dirichlet Allocation)](#c14)\n",
        "  * [Получение признаков](#c15)\n",
        "      * [TF-IDF](#c16)\n",
        "      * [BERT](#c17)\n",
        "  * [Борьба с дисбалансом в таргете](#c18)\n",
        "  * [Вывод:](#c19)\n",
        "3.  [Обучение моделей](#c20)\n",
        "  * [На признаках TF-IDF](#c21)\n",
        "      * [Обучение](#c21)\n",
        "      * [Результат](#c23)\n",
        "  * [На эмбеддингах BERT](#c24)\n",
        "      * [Обучение](#c24)\n",
        "      * [Результат](#c25)\n",
        "  * [Тестирование](#c26)\n",
        "  * [Вывод:](#c27)\n",
        "4. [Немного про CatBoost и текстовые признаки](#c28)\n",
        "5. [Финальный вывод:](#c29)\n",
        "\n",
        "[**Bonus:** Tensorflow/Keras (Bidirectional LSTM)](#c30)"
      ],
      "metadata": {
        "id": "JHHhNbQslVSm"
      }
    },
    {
      "cell_type": "markdown",
      "source": [
        "<a name=\"c1\"></a>\n",
        "# Работа с библиотеками"
      ],
      "metadata": {
        "id": "mI-3whhXoY5F"
      }
    },
    {
      "cell_type": "code",
      "source": [
        "!nvidia-smi"
      ],
      "metadata": {
        "id": "MV88VZ_CNW1Q",
        "outputId": "d8ab8ec8-79a9-476d-c7e3-bbdf9b375097",
        "execution": {
          "iopub.status.busy": "2022-08-04T15:41:23.609932Z",
          "iopub.execute_input": "2022-08-04T15:41:23.610872Z",
          "iopub.status.idle": "2022-08-04T15:41:24.794734Z",
          "shell.execute_reply.started": "2022-08-04T15:41:23.610763Z",
          "shell.execute_reply": "2022-08-04T15:41:24.793384Z"
        },
        "trusted": true,
        "colab": {
          "base_uri": "https://localhost:8080/"
        }
      },
      "execution_count": null,
      "outputs": [
        {
          "output_type": "stream",
          "name": "stdout",
          "text": [
            "Fri Aug  5 13:27:35 2022       \n",
            "+-----------------------------------------------------------------------------+\n",
            "| NVIDIA-SMI 460.32.03    Driver Version: 460.32.03    CUDA Version: 11.2     |\n",
            "|-------------------------------+----------------------+----------------------+\n",
            "| GPU  Name        Persistence-M| Bus-Id        Disp.A | Volatile Uncorr. ECC |\n",
            "| Fan  Temp  Perf  Pwr:Usage/Cap|         Memory-Usage | GPU-Util  Compute M. |\n",
            "|                               |                      |               MIG M. |\n",
            "|===============================+======================+======================|\n",
            "|   0  Tesla T4            Off  | 00000000:00:04.0 Off |                    0 |\n",
            "| N/A   41C    P8     9W /  70W |      0MiB / 15109MiB |      0%      Default |\n",
            "|                               |                      |                  N/A |\n",
            "+-------------------------------+----------------------+----------------------+\n",
            "                                                                               \n",
            "+-----------------------------------------------------------------------------+\n",
            "| Processes:                                                                  |\n",
            "|  GPU   GI   CI        PID   Type   Process name                  GPU Memory |\n",
            "|        ID   ID                                                   Usage      |\n",
            "|=============================================================================|\n",
            "|  No running processes found                                                 |\n",
            "+-----------------------------------------------------------------------------+\n"
          ]
        }
      ]
    },
    {
      "cell_type": "code",
      "source": [
        "# last actual version (20.07.2022)\n",
        "\n",
        "!pip install wordcloud\n",
        "!pip install catboost\n",
        "!pip install -U imbalanced-learn\n",
        "!pip install lightgbm\n",
        "!pip install optuna\n",
        "!pip install gensim\n",
        "!pip install transformers\n",
        "!pip install pyLDAvis\n",
        "!pip install TextBlob"
      ],
      "metadata": {
        "id": "1i3lJHXI1Fue",
        "outputId": "46111a5c-6f5a-410f-dea3-e24c4014e515",
        "execution": {
          "iopub.status.busy": "2022-08-05T10:23:31.991216Z",
          "iopub.execute_input": "2022-08-05T10:23:31.991678Z",
          "iopub.status.idle": "2022-08-05T10:24:28.746310Z",
          "shell.execute_reply.started": "2022-08-05T10:23:31.991638Z",
          "shell.execute_reply": "2022-08-05T10:24:28.744951Z"
        },
        "trusted": true,
        "colab": {
          "base_uri": "https://localhost:8080/"
        }
      },
      "execution_count": null,
      "outputs": [
        {
          "output_type": "stream",
          "name": "stdout",
          "text": [
            "Looking in indexes: https://pypi.org/simple, https://us-python.pkg.dev/colab-wheels/public/simple/\n",
            "Requirement already satisfied: wordcloud in /usr/local/lib/python3.7/dist-packages (1.8.2.2)\n",
            "Requirement already satisfied: numpy>=1.6.1 in /usr/local/lib/python3.7/dist-packages (from wordcloud) (1.21.6)\n",
            "Requirement already satisfied: pillow in /usr/local/lib/python3.7/dist-packages (from wordcloud) (7.1.2)\n",
            "Requirement already satisfied: matplotlib in /usr/local/lib/python3.7/dist-packages (from wordcloud) (3.2.2)\n",
            "Requirement already satisfied: python-dateutil>=2.1 in /usr/local/lib/python3.7/dist-packages (from matplotlib->wordcloud) (2.8.2)\n",
            "Requirement already satisfied: kiwisolver>=1.0.1 in /usr/local/lib/python3.7/dist-packages (from matplotlib->wordcloud) (1.4.4)\n",
            "Requirement already satisfied: pyparsing!=2.0.4,!=2.1.2,!=2.1.6,>=2.0.1 in /usr/local/lib/python3.7/dist-packages (from matplotlib->wordcloud) (3.0.9)\n",
            "Requirement already satisfied: cycler>=0.10 in /usr/local/lib/python3.7/dist-packages (from matplotlib->wordcloud) (0.11.0)\n",
            "Requirement already satisfied: typing-extensions in /usr/local/lib/python3.7/dist-packages (from kiwisolver>=1.0.1->matplotlib->wordcloud) (4.1.1)\n",
            "Requirement already satisfied: six>=1.5 in /usr/local/lib/python3.7/dist-packages (from python-dateutil>=2.1->matplotlib->wordcloud) (1.15.0)\n",
            "Looking in indexes: https://pypi.org/simple, https://us-python.pkg.dev/colab-wheels/public/simple/\n",
            "Collecting catboost\n",
            "  Downloading catboost-1.0.6-cp37-none-manylinux1_x86_64.whl (76.6 MB)\n",
            "\u001b[K     |████████████████████████████████| 76.6 MB 1.3 MB/s \n",
            "\u001b[?25hRequirement already satisfied: matplotlib in /usr/local/lib/python3.7/dist-packages (from catboost) (3.2.2)\n",
            "Requirement already satisfied: scipy in /usr/local/lib/python3.7/dist-packages (from catboost) (1.7.3)\n",
            "Requirement already satisfied: plotly in /usr/local/lib/python3.7/dist-packages (from catboost) (5.5.0)\n",
            "Requirement already satisfied: six in /usr/local/lib/python3.7/dist-packages (from catboost) (1.15.0)\n",
            "Requirement already satisfied: pandas>=0.24.0 in /usr/local/lib/python3.7/dist-packages (from catboost) (1.3.5)\n",
            "Requirement already satisfied: numpy>=1.16.0 in /usr/local/lib/python3.7/dist-packages (from catboost) (1.21.6)\n",
            "Requirement already satisfied: graphviz in /usr/local/lib/python3.7/dist-packages (from catboost) (0.10.1)\n",
            "Requirement already satisfied: pytz>=2017.3 in /usr/local/lib/python3.7/dist-packages (from pandas>=0.24.0->catboost) (2022.1)\n",
            "Requirement already satisfied: python-dateutil>=2.7.3 in /usr/local/lib/python3.7/dist-packages (from pandas>=0.24.0->catboost) (2.8.2)\n",
            "Requirement already satisfied: pyparsing!=2.0.4,!=2.1.2,!=2.1.6,>=2.0.1 in /usr/local/lib/python3.7/dist-packages (from matplotlib->catboost) (3.0.9)\n",
            "Requirement already satisfied: cycler>=0.10 in /usr/local/lib/python3.7/dist-packages (from matplotlib->catboost) (0.11.0)\n",
            "Requirement already satisfied: kiwisolver>=1.0.1 in /usr/local/lib/python3.7/dist-packages (from matplotlib->catboost) (1.4.4)\n",
            "Requirement already satisfied: typing-extensions in /usr/local/lib/python3.7/dist-packages (from kiwisolver>=1.0.1->matplotlib->catboost) (4.1.1)\n",
            "Requirement already satisfied: tenacity>=6.2.0 in /usr/local/lib/python3.7/dist-packages (from plotly->catboost) (8.0.1)\n",
            "Installing collected packages: catboost\n",
            "Successfully installed catboost-1.0.6\n",
            "Looking in indexes: https://pypi.org/simple, https://us-python.pkg.dev/colab-wheels/public/simple/\n",
            "Requirement already satisfied: imbalanced-learn in /usr/local/lib/python3.7/dist-packages (0.8.1)\n",
            "Collecting imbalanced-learn\n",
            "  Downloading imbalanced_learn-0.9.1-py3-none-any.whl (199 kB)\n",
            "\u001b[K     |████████████████████████████████| 199 kB 34.4 MB/s \n",
            "\u001b[?25hRequirement already satisfied: scipy>=1.3.2 in /usr/local/lib/python3.7/dist-packages (from imbalanced-learn) (1.7.3)\n",
            "Requirement already satisfied: joblib>=1.0.0 in /usr/local/lib/python3.7/dist-packages (from imbalanced-learn) (1.1.0)\n",
            "  Downloading imbalanced_learn-0.9.0-py3-none-any.whl (199 kB)\n",
            "\u001b[K     |████████████████████████████████| 199 kB 73.5 MB/s \n",
            "\u001b[?25hRequirement already satisfied: numpy>=1.14.6 in /usr/local/lib/python3.7/dist-packages (from imbalanced-learn) (1.21.6)\n",
            "Requirement already satisfied: scikit-learn>=1.0.1 in /usr/local/lib/python3.7/dist-packages (from imbalanced-learn) (1.0.2)\n",
            "Requirement already satisfied: threadpoolctl>=2.0.0 in /usr/local/lib/python3.7/dist-packages (from imbalanced-learn) (3.1.0)\n",
            "Installing collected packages: imbalanced-learn\n",
            "  Attempting uninstall: imbalanced-learn\n",
            "    Found existing installation: imbalanced-learn 0.8.1\n",
            "    Uninstalling imbalanced-learn-0.8.1:\n",
            "      Successfully uninstalled imbalanced-learn-0.8.1\n",
            "Successfully installed imbalanced-learn-0.9.0\n",
            "Looking in indexes: https://pypi.org/simple, https://us-python.pkg.dev/colab-wheels/public/simple/\n",
            "Requirement already satisfied: lightgbm in /usr/local/lib/python3.7/dist-packages (2.2.3)\n",
            "Requirement already satisfied: numpy in /usr/local/lib/python3.7/dist-packages (from lightgbm) (1.21.6)\n",
            "Requirement already satisfied: scikit-learn in /usr/local/lib/python3.7/dist-packages (from lightgbm) (1.0.2)\n",
            "Requirement already satisfied: scipy in /usr/local/lib/python3.7/dist-packages (from lightgbm) (1.7.3)\n",
            "Requirement already satisfied: threadpoolctl>=2.0.0 in /usr/local/lib/python3.7/dist-packages (from scikit-learn->lightgbm) (3.1.0)\n",
            "Requirement already satisfied: joblib>=0.11 in /usr/local/lib/python3.7/dist-packages (from scikit-learn->lightgbm) (1.1.0)\n",
            "Looking in indexes: https://pypi.org/simple, https://us-python.pkg.dev/colab-wheels/public/simple/\n",
            "Collecting optuna\n",
            "  Downloading optuna-2.10.1-py3-none-any.whl (308 kB)\n",
            "\u001b[K     |████████████████████████████████| 308 kB 31.2 MB/s \n",
            "\u001b[?25hCollecting cmaes>=0.8.2\n",
            "  Downloading cmaes-0.8.2-py3-none-any.whl (15 kB)\n",
            "Requirement already satisfied: PyYAML in /usr/local/lib/python3.7/dist-packages (from optuna) (3.13)\n",
            "Requirement already satisfied: tqdm in /usr/local/lib/python3.7/dist-packages (from optuna) (4.64.0)\n",
            "Collecting alembic\n",
            "  Downloading alembic-1.8.1-py3-none-any.whl (209 kB)\n",
            "\u001b[K     |████████████████████████████████| 209 kB 61.5 MB/s \n",
            "\u001b[?25hRequirement already satisfied: sqlalchemy>=1.1.0 in /usr/local/lib/python3.7/dist-packages (from optuna) (1.4.39)\n",
            "Collecting cliff\n",
            "  Downloading cliff-3.10.1-py3-none-any.whl (81 kB)\n",
            "\u001b[K     |████████████████████████████████| 81 kB 11.0 MB/s \n",
            "\u001b[?25hRequirement already satisfied: scipy!=1.4.0 in /usr/local/lib/python3.7/dist-packages (from optuna) (1.7.3)\n",
            "Requirement already satisfied: numpy in /usr/local/lib/python3.7/dist-packages (from optuna) (1.21.6)\n",
            "Requirement already satisfied: packaging>=20.0 in /usr/local/lib/python3.7/dist-packages (from optuna) (21.3)\n",
            "Collecting colorlog\n",
            "  Downloading colorlog-6.6.0-py2.py3-none-any.whl (11 kB)\n",
            "Requirement already satisfied: pyparsing!=3.0.5,>=2.0.2 in /usr/local/lib/python3.7/dist-packages (from packaging>=20.0->optuna) (3.0.9)\n",
            "Requirement already satisfied: greenlet!=0.4.17 in /usr/local/lib/python3.7/dist-packages (from sqlalchemy>=1.1.0->optuna) (1.1.2)\n",
            "Requirement already satisfied: importlib-metadata in /usr/local/lib/python3.7/dist-packages (from sqlalchemy>=1.1.0->optuna) (4.12.0)\n",
            "Collecting Mako\n",
            "  Downloading Mako-1.2.1-py3-none-any.whl (78 kB)\n",
            "\u001b[K     |████████████████████████████████| 78 kB 8.9 MB/s \n",
            "\u001b[?25hRequirement already satisfied: importlib-resources in /usr/local/lib/python3.7/dist-packages (from alembic->optuna) (5.9.0)\n",
            "Collecting pbr!=2.1.0,>=2.0.0\n",
            "  Downloading pbr-5.9.0-py2.py3-none-any.whl (112 kB)\n",
            "\u001b[K     |████████████████████████████████| 112 kB 65.2 MB/s \n",
            "\u001b[?25hCollecting autopage>=0.4.0\n",
            "  Downloading autopage-0.5.1-py3-none-any.whl (29 kB)\n",
            "Collecting cmd2>=1.0.0\n",
            "  Downloading cmd2-2.4.2-py3-none-any.whl (147 kB)\n",
            "\u001b[K     |████████████████████████████████| 147 kB 74.8 MB/s \n",
            "\u001b[?25hRequirement already satisfied: PrettyTable>=0.7.2 in /usr/local/lib/python3.7/dist-packages (from cliff->optuna) (3.3.0)\n",
            "Collecting stevedore>=2.0.1\n",
            "  Downloading stevedore-3.5.0-py3-none-any.whl (49 kB)\n",
            "\u001b[K     |████████████████████████████████| 49 kB 7.3 MB/s \n",
            "\u001b[?25hCollecting pyperclip>=1.6\n",
            "  Downloading pyperclip-1.8.2.tar.gz (20 kB)\n",
            "Requirement already satisfied: typing-extensions in /usr/local/lib/python3.7/dist-packages (from cmd2>=1.0.0->cliff->optuna) (4.1.1)\n",
            "Requirement already satisfied: wcwidth>=0.1.7 in /usr/local/lib/python3.7/dist-packages (from cmd2>=1.0.0->cliff->optuna) (0.2.5)\n",
            "Requirement already satisfied: attrs>=16.3.0 in /usr/local/lib/python3.7/dist-packages (from cmd2>=1.0.0->cliff->optuna) (22.1.0)\n",
            "Requirement already satisfied: zipp>=0.5 in /usr/local/lib/python3.7/dist-packages (from importlib-metadata->sqlalchemy>=1.1.0->optuna) (3.8.1)\n",
            "Requirement already satisfied: MarkupSafe>=0.9.2 in /usr/local/lib/python3.7/dist-packages (from Mako->alembic->optuna) (2.0.1)\n",
            "Building wheels for collected packages: pyperclip\n",
            "  Building wheel for pyperclip (setup.py) ... \u001b[?25l\u001b[?25hdone\n",
            "  Created wheel for pyperclip: filename=pyperclip-1.8.2-py3-none-any.whl size=11137 sha256=0cf71618e4adc2ca50858032095d1c1c8c5edf02de70e63347cbd15c90cba037\n",
            "  Stored in directory: /root/.cache/pip/wheels/9f/18/84/8f69f8b08169c7bae2dde6bd7daf0c19fca8c8e500ee620a28\n",
            "Successfully built pyperclip\n",
            "Installing collected packages: pyperclip, pbr, stevedore, Mako, cmd2, autopage, colorlog, cmaes, cliff, alembic, optuna\n",
            "Successfully installed Mako-1.2.1 alembic-1.8.1 autopage-0.5.1 cliff-3.10.1 cmaes-0.8.2 cmd2-2.4.2 colorlog-6.6.0 optuna-2.10.1 pbr-5.9.0 pyperclip-1.8.2 stevedore-3.5.0\n",
            "Looking in indexes: https://pypi.org/simple, https://us-python.pkg.dev/colab-wheels/public/simple/\n",
            "Requirement already satisfied: gensim in /usr/local/lib/python3.7/dist-packages (3.6.0)\n",
            "Requirement already satisfied: numpy>=1.11.3 in /usr/local/lib/python3.7/dist-packages (from gensim) (1.21.6)\n",
            "Requirement already satisfied: six>=1.5.0 in /usr/local/lib/python3.7/dist-packages (from gensim) (1.15.0)\n",
            "Requirement already satisfied: smart-open>=1.2.1 in /usr/local/lib/python3.7/dist-packages (from gensim) (5.2.1)\n",
            "Requirement already satisfied: scipy>=0.18.1 in /usr/local/lib/python3.7/dist-packages (from gensim) (1.7.3)\n",
            "Looking in indexes: https://pypi.org/simple, https://us-python.pkg.dev/colab-wheels/public/simple/\n",
            "Collecting transformers\n",
            "  Downloading transformers-4.21.1-py3-none-any.whl (4.7 MB)\n",
            "\u001b[K     |████████████████████████████████| 4.7 MB 19.0 MB/s \n",
            "\u001b[?25hRequirement already satisfied: numpy>=1.17 in /usr/local/lib/python3.7/dist-packages (from transformers) (1.21.6)\n",
            "Requirement already satisfied: packaging>=20.0 in /usr/local/lib/python3.7/dist-packages (from transformers) (21.3)\n",
            "Requirement already satisfied: filelock in /usr/local/lib/python3.7/dist-packages (from transformers) (3.7.1)\n",
            "Requirement already satisfied: tqdm>=4.27 in /usr/local/lib/python3.7/dist-packages (from transformers) (4.64.0)\n",
            "Requirement already satisfied: importlib-metadata in /usr/local/lib/python3.7/dist-packages (from transformers) (4.12.0)\n",
            "Requirement already satisfied: requests in /usr/local/lib/python3.7/dist-packages (from transformers) (2.23.0)\n",
            "Collecting pyyaml>=5.1\n",
            "  Downloading PyYAML-6.0-cp37-cp37m-manylinux_2_5_x86_64.manylinux1_x86_64.manylinux_2_12_x86_64.manylinux2010_x86_64.whl (596 kB)\n",
            "\u001b[K     |████████████████████████████████| 596 kB 55.6 MB/s \n",
            "\u001b[?25hCollecting tokenizers!=0.11.3,<0.13,>=0.11.1\n",
            "  Downloading tokenizers-0.12.1-cp37-cp37m-manylinux_2_12_x86_64.manylinux2010_x86_64.whl (6.6 MB)\n",
            "\u001b[K     |████████████████████████████████| 6.6 MB 39.8 MB/s \n",
            "\u001b[?25hRequirement already satisfied: regex!=2019.12.17 in /usr/local/lib/python3.7/dist-packages (from transformers) (2022.6.2)\n",
            "Collecting huggingface-hub<1.0,>=0.1.0\n",
            "  Downloading huggingface_hub-0.8.1-py3-none-any.whl (101 kB)\n",
            "\u001b[K     |████████████████████████████████| 101 kB 12.2 MB/s \n",
            "\u001b[?25hRequirement already satisfied: typing-extensions>=3.7.4.3 in /usr/local/lib/python3.7/dist-packages (from huggingface-hub<1.0,>=0.1.0->transformers) (4.1.1)\n",
            "Requirement already satisfied: pyparsing!=3.0.5,>=2.0.2 in /usr/local/lib/python3.7/dist-packages (from packaging>=20.0->transformers) (3.0.9)\n",
            "Requirement already satisfied: zipp>=0.5 in /usr/local/lib/python3.7/dist-packages (from importlib-metadata->transformers) (3.8.1)\n",
            "Requirement already satisfied: urllib3!=1.25.0,!=1.25.1,<1.26,>=1.21.1 in /usr/local/lib/python3.7/dist-packages (from requests->transformers) (1.24.3)\n",
            "Requirement already satisfied: idna<3,>=2.5 in /usr/local/lib/python3.7/dist-packages (from requests->transformers) (2.10)\n",
            "Requirement already satisfied: certifi>=2017.4.17 in /usr/local/lib/python3.7/dist-packages (from requests->transformers) (2022.6.15)\n",
            "Requirement already satisfied: chardet<4,>=3.0.2 in /usr/local/lib/python3.7/dist-packages (from requests->transformers) (3.0.4)\n",
            "Installing collected packages: pyyaml, tokenizers, huggingface-hub, transformers\n",
            "  Attempting uninstall: pyyaml\n",
            "    Found existing installation: PyYAML 3.13\n",
            "    Uninstalling PyYAML-3.13:\n",
            "      Successfully uninstalled PyYAML-3.13\n",
            "Successfully installed huggingface-hub-0.8.1 pyyaml-6.0 tokenizers-0.12.1 transformers-4.21.1\n",
            "Looking in indexes: https://pypi.org/simple, https://us-python.pkg.dev/colab-wheels/public/simple/\n",
            "Collecting pyLDAvis\n",
            "  Downloading pyLDAvis-3.3.1.tar.gz (1.7 MB)\n",
            "\u001b[K     |████████████████████████████████| 1.7 MB 27.1 MB/s \n",
            "\u001b[?25h  Installing build dependencies ... \u001b[?25l\u001b[?25hdone\n",
            "  Getting requirements to build wheel ... \u001b[?25l\u001b[?25hdone\n",
            "  Installing backend dependencies ... \u001b[?25l\u001b[?25hdone\n",
            "    Preparing wheel metadata ... \u001b[?25l\u001b[?25hdone\n",
            "Requirement already satisfied: sklearn in /usr/local/lib/python3.7/dist-packages (from pyLDAvis) (0.0)\n",
            "Requirement already satisfied: scikit-learn in /usr/local/lib/python3.7/dist-packages (from pyLDAvis) (1.0.2)\n",
            "Requirement already satisfied: gensim in /usr/local/lib/python3.7/dist-packages (from pyLDAvis) (3.6.0)\n",
            "Requirement already satisfied: pandas>=1.2.0 in /usr/local/lib/python3.7/dist-packages (from pyLDAvis) (1.3.5)\n",
            "Requirement already satisfied: numexpr in /usr/local/lib/python3.7/dist-packages (from pyLDAvis) (2.8.3)\n",
            "Requirement already satisfied: joblib in /usr/local/lib/python3.7/dist-packages (from pyLDAvis) (1.1.0)\n",
            "Collecting funcy\n",
            "  Downloading funcy-1.17-py2.py3-none-any.whl (33 kB)\n",
            "Requirement already satisfied: setuptools in /usr/local/lib/python3.7/dist-packages (from pyLDAvis) (57.4.0)\n",
            "Requirement already satisfied: future in /usr/local/lib/python3.7/dist-packages (from pyLDAvis) (0.16.0)\n",
            "Requirement already satisfied: scipy in /usr/local/lib/python3.7/dist-packages (from pyLDAvis) (1.7.3)\n",
            "Requirement already satisfied: jinja2 in /usr/local/lib/python3.7/dist-packages (from pyLDAvis) (2.11.3)\n",
            "Requirement already satisfied: numpy>=1.20.0 in /usr/local/lib/python3.7/dist-packages (from pyLDAvis) (1.21.6)\n",
            "Requirement already satisfied: python-dateutil>=2.7.3 in /usr/local/lib/python3.7/dist-packages (from pandas>=1.2.0->pyLDAvis) (2.8.2)\n",
            "Requirement already satisfied: pytz>=2017.3 in /usr/local/lib/python3.7/dist-packages (from pandas>=1.2.0->pyLDAvis) (2022.1)\n",
            "Requirement already satisfied: six>=1.5 in /usr/local/lib/python3.7/dist-packages (from python-dateutil>=2.7.3->pandas>=1.2.0->pyLDAvis) (1.15.0)\n",
            "Requirement already satisfied: smart-open>=1.2.1 in /usr/local/lib/python3.7/dist-packages (from gensim->pyLDAvis) (5.2.1)\n",
            "Requirement already satisfied: MarkupSafe>=0.23 in /usr/local/lib/python3.7/dist-packages (from jinja2->pyLDAvis) (2.0.1)\n",
            "Requirement already satisfied: packaging in /usr/local/lib/python3.7/dist-packages (from numexpr->pyLDAvis) (21.3)\n",
            "Requirement already satisfied: pyparsing!=3.0.5,>=2.0.2 in /usr/local/lib/python3.7/dist-packages (from packaging->numexpr->pyLDAvis) (3.0.9)\n",
            "Requirement already satisfied: threadpoolctl>=2.0.0 in /usr/local/lib/python3.7/dist-packages (from scikit-learn->pyLDAvis) (3.1.0)\n",
            "Building wheels for collected packages: pyLDAvis\n",
            "  Building wheel for pyLDAvis (PEP 517) ... \u001b[?25l\u001b[?25hdone\n",
            "  Created wheel for pyLDAvis: filename=pyLDAvis-3.3.1-py2.py3-none-any.whl size=136898 sha256=02a2a62ba1a11239c1202cbae8363bb228786a4391e91e7f3874bdc2c0ed027c\n",
            "  Stored in directory: /root/.cache/pip/wheels/c9/21/f6/17bcf2667e8a68532ba2fbf6d5c72fdf4c7f7d9abfa4852d2f\n",
            "Successfully built pyLDAvis\n",
            "Installing collected packages: funcy, pyLDAvis\n",
            "Successfully installed funcy-1.17 pyLDAvis-3.3.1\n",
            "Looking in indexes: https://pypi.org/simple, https://us-python.pkg.dev/colab-wheels/public/simple/\n",
            "Requirement already satisfied: TextBlob in /usr/local/lib/python3.7/dist-packages (0.15.3)\n",
            "Requirement already satisfied: nltk>=3.1 in /usr/local/lib/python3.7/dist-packages (from TextBlob) (3.7)\n",
            "Requirement already satisfied: joblib in /usr/local/lib/python3.7/dist-packages (from nltk>=3.1->TextBlob) (1.1.0)\n",
            "Requirement already satisfied: regex>=2021.8.3 in /usr/local/lib/python3.7/dist-packages (from nltk>=3.1->TextBlob) (2022.6.2)\n",
            "Requirement already satisfied: tqdm in /usr/local/lib/python3.7/dist-packages (from nltk>=3.1->TextBlob) (4.64.0)\n",
            "Requirement already satisfied: click in /usr/local/lib/python3.7/dist-packages (from nltk>=3.1->TextBlob) (7.1.2)\n"
          ]
        }
      ]
    },
    {
      "cell_type": "code",
      "source": [
        "# Работа с данными\n",
        "import pandas as pd\n",
        "import numpy as np\n",
        "\n",
        "# Облако слов\n",
        "from wordcloud import WordCloud\n",
        "\n",
        "# Для LDA\n",
        "import gensim\n",
        "from gensim.utils import simple_preprocess\n",
        "import gensim.corpora as corpora\n",
        "import pickle \n",
        "import pyLDAvis\n",
        "import pyLDAvis.gensim_models\n",
        "\n",
        "# Для создания выборок\n",
        "from sklearn.model_selection import train_test_split\n",
        "\n",
        "# Перемешать записи\n",
        "from sklearn.utils import shuffle\n",
        "\n",
        "# Pipeline для TfidfVectorizer + модели\n",
        "from sklearn.pipeline import Pipeline\n",
        "\n",
        "# Pipeline из imblearn\n",
        "from imblearn.pipeline import make_pipeline\n",
        "\n",
        "# Получение признаков TF-IDF\n",
        "from sklearn.feature_extraction.text import TfidfVectorizer\n",
        "\n",
        "# Метрики\n",
        "from sklearn.metrics import f1_score\n",
        "import sklearn.metrics as metrics\n",
        "\n",
        "# Модели\n",
        "from sklearn.linear_model import LogisticRegression, SGDClassifier\n",
        "from sklearn.svm import SVC\n",
        "from sklearn.dummy import DummyClassifier\n",
        "import lightgbm as lgb\n",
        "\n",
        "# Кросс-валидация\n",
        "from sklearn.model_selection import cross_validate\n",
        "\n",
        "# Копия модели\n",
        "from sklearn.base import clone\n",
        "\n",
        "# Подбор гиперпараметров для моделей\n",
        "from sklearn.model_selection import GridSearchCV\n",
        "import optuna \n",
        "\n",
        "# Борьба с дисбалансом в таргете через upsampling (Adaptive Synthetic/RandomOverSampler)\n",
        "from imblearn.over_sampling import ADASYN, RandomOverSampler\n",
        "\n",
        "# Лемматизация и стоп-слова для TfidfVectorizer\n",
        "import nltk\n",
        "from nltk.corpus import stopwords\n",
        "from nltk.stem import WordNetLemmatizer\n",
        "\n",
        "# Спеллер\n",
        "from textblob import TextBlob\n",
        "\n",
        "# Работа с BERT'ом\n",
        "import torch\n",
        "import transformers\n",
        "from transformers import AutoTokenizer, AutoModelForMaskedLM\n",
        "\n",
        "# Модель\n",
        "from catboost import CatBoostClassifier\n",
        "\n",
        "# Удобное отслеживание прогресса\n",
        "from tqdm import tqdm, notebook\n",
        "\n",
        "# Из базовой библиотеки python:\n",
        "import sys\n",
        "import os\n",
        "import time\n",
        "import re\n",
        "\n",
        "# Собираем мусор\n",
        "import gc\n",
        "\n",
        "# Визуальная часть работы\n",
        "import matplotlib.pyplot as plt\n",
        "\n",
        "# Красивые bar'ы\n",
        "from tqdm import tqdm\n",
        "\n",
        "%matplotlib inline"
      ],
      "metadata": {
        "id": "FB4SAVgXoYFH",
        "outputId": "baba3fb3-b33c-4e0e-abab-7ff1d841ae1c",
        "execution": {
          "iopub.status.busy": "2022-08-05T12:12:50.669968Z",
          "iopub.execute_input": "2022-08-05T12:12:50.670399Z",
          "iopub.status.idle": "2022-08-05T12:12:50.989894Z",
          "shell.execute_reply.started": "2022-08-05T12:12:50.670364Z",
          "shell.execute_reply": "2022-08-05T12:12:50.988828Z"
        },
        "trusted": true,
        "colab": {
          "base_uri": "https://localhost:8080/"
        }
      },
      "execution_count": null,
      "outputs": [
        {
          "output_type": "stream",
          "name": "stderr",
          "text": [
            "/usr/local/lib/python3.7/dist-packages/past/types/oldstr.py:5: DeprecationWarning: Using or importing the ABCs from 'collections' instead of from 'collections.abc' is deprecated since Python 3.3,and in 3.9 it will stop working\n",
            "  from collections import Iterable\n"
          ]
        }
      ]
    },
    {
      "cell_type": "code",
      "source": [
        "# Скачивание необходимых пакетов nltk\n",
        "\n",
        "nltk.download('punkt')\n",
        "nltk.download('stopwords')\n",
        "nltk.download('wordnet')\n",
        "nltk.download('omw-1.4')"
      ],
      "metadata": {
        "colab": {
          "base_uri": "https://localhost:8080/"
        },
        "id": "-RXMKnVz2_v9",
        "outputId": "8c32bfb9-f5b9-4d47-cab0-2eb79126b751"
      },
      "execution_count": null,
      "outputs": [
        {
          "output_type": "stream",
          "name": "stderr",
          "text": [
            "[nltk_data] Downloading package punkt to /root/nltk_data...\n",
            "[nltk_data]   Unzipping tokenizers/punkt.zip.\n",
            "[nltk_data] Downloading package stopwords to /root/nltk_data...\n",
            "[nltk_data]   Unzipping corpora/stopwords.zip.\n",
            "[nltk_data] Downloading package wordnet to /root/nltk_data...\n",
            "[nltk_data] Downloading package omw-1.4 to /root/nltk_data...\n"
          ]
        },
        {
          "output_type": "execute_result",
          "data": {
            "text/plain": [
              "True"
            ]
          },
          "metadata": {},
          "execution_count": 3
        }
      ]
    },
    {
      "cell_type": "markdown",
      "source": [
        "Константы:"
      ],
      "metadata": {
        "id": "1NK3v8cnSs9H"
      }
    },
    {
      "cell_type": "code",
      "source": [
        "RANDOM_STATE = 12345\n",
        "STOPWORDS = stopwords.words('english')\n",
        "BERT_TOKEN = 'unitary/toxic-bert'\n",
        "BERT_MODEL = 'unitary/toxic-bert'\n",
        "BATCH_SIZE = 64\n",
        "CV = 5\n",
        "METRIC = 'f1'\n",
        "VERBOSE = 100\n",
        "N_CPU = -1\n",
        "device = torch.device(\"cuda:0\") if torch.cuda.is_available() else torch.device(\"cpu\")"
      ],
      "metadata": {
        "id": "tmDmogo9SvRW",
        "execution": {
          "iopub.status.busy": "2022-08-05T10:38:41.215018Z",
          "iopub.execute_input": "2022-08-05T10:38:41.216308Z",
          "iopub.status.idle": "2022-08-05T10:38:41.223101Z",
          "shell.execute_reply.started": "2022-08-05T10:38:41.216264Z",
          "shell.execute_reply": "2022-08-05T10:38:41.222122Z"
        },
        "trusted": true
      },
      "execution_count": null,
      "outputs": []
    },
    {
      "cell_type": "markdown",
      "source": [
        "<a name=\"c2\"></a>\n",
        "# Работа с датасетом"
      ],
      "metadata": {
        "id": "9gruJUgulMpK"
      }
    },
    {
      "cell_type": "markdown",
      "source": [
        "<a name=\"c3\"></a>\n",
        "## Загрузка датасета"
      ],
      "metadata": {
        "id": "MrwpFVFroglu"
      }
    },
    {
      "cell_type": "markdown",
      "source": [
        "Будем считать, что ZIP-файл для работы был уже скачан **участником соревнования**."
      ],
      "metadata": {
        "id": "cIfE5YwAqZcS"
      }
    },
    {
      "cell_type": "markdown",
      "source": [
        "Разархивируем файл:"
      ],
      "metadata": {
        "id": "PhVw5OImq_M-"
      }
    },
    {
      "cell_type": "code",
      "source": [
        "!mkdir datasets\n",
        "!unzip jigsaw-toxic-comment-classification-challenge.zip -d datasets\n",
        "!dir datasets"
      ],
      "metadata": {
        "id": "tXTzMFtOoee9",
        "outputId": "678eb596-73bb-4e9b-82ad-56235dba1ca4",
        "execution": {
          "iopub.status.busy": "2022-08-05T10:24:47.341330Z",
          "iopub.execute_input": "2022-08-05T10:24:47.342453Z",
          "iopub.status.idle": "2022-08-05T10:24:47.348101Z",
          "shell.execute_reply.started": "2022-08-05T10:24:47.342401Z",
          "shell.execute_reply": "2022-08-05T10:24:47.346231Z"
        },
        "trusted": true,
        "colab": {
          "base_uri": "https://localhost:8080/"
        }
      },
      "execution_count": null,
      "outputs": [
        {
          "output_type": "stream",
          "name": "stdout",
          "text": [
            "Archive:  jigsaw-toxic-comment-classification-challenge.zip\n",
            "  inflating: datasets/sample_submission.csv.zip  \n",
            "  inflating: datasets/test.csv.zip   \n",
            "  inflating: datasets/test_labels.csv.zip  \n",
            "  inflating: datasets/train.csv.zip  \n",
            "sample_submission.csv.zip  test.csv.zip  test_labels.csv.zip  train.csv.zip\n"
          ]
        }
      ]
    },
    {
      "cell_type": "markdown",
      "source": [
        "Разархивируем train.csv.zip:\n",
        "\n"
      ],
      "metadata": {
        "id": "1OYMDCJIsn_f"
      }
    },
    {
      "cell_type": "code",
      "source": [
        "!unzip datasets/train.csv.zip -d datasets"
      ],
      "metadata": {
        "id": "rrLNwQMctgJl",
        "outputId": "1df5c0d4-15ab-4bc7-a566-e4660c7c0bd9",
        "colab": {
          "base_uri": "https://localhost:8080/"
        }
      },
      "execution_count": null,
      "outputs": [
        {
          "output_type": "stream",
          "name": "stdout",
          "text": [
            "Archive:  datasets/train.csv.zip\n",
            "  inflating: datasets/train.csv      \n"
          ]
        }
      ]
    },
    {
      "cell_type": "markdown",
      "source": [
        "<a name=\"c4\"></a>\n",
        "## Вводный анализ"
      ],
      "metadata": {
        "id": "PLgnN8tBsr0l"
      }
    },
    {
      "cell_type": "markdown",
      "source": [
        "Посмотрим на train.csv, с которым и будем работать:"
      ],
      "metadata": {
        "id": "6TCrUsMis0nO"
      }
    },
    {
      "cell_type": "code",
      "source": [
        "path1 = \"../input/traint/train.csv\"\n",
        "path2 = \"/content/datasets/train.csv\"\n",
        "\n",
        "if os.path.exists(path1):\n",
        "    data = pd.read_csv(path1)\n",
        "elif os.path.exists(path2):\n",
        "    data = pd.read_csv(path2)\n",
        "else:\n",
        "    print(\"We have a problem\")"
      ],
      "metadata": {
        "id": "Yc8Lt1XUsrEr",
        "execution": {
          "iopub.status.busy": "2022-08-05T10:24:50.320996Z",
          "iopub.execute_input": "2022-08-05T10:24:50.321788Z",
          "iopub.status.idle": "2022-08-05T10:24:52.076798Z",
          "shell.execute_reply.started": "2022-08-05T10:24:50.321751Z",
          "shell.execute_reply": "2022-08-05T10:24:52.075642Z"
        },
        "trusted": true
      },
      "execution_count": null,
      "outputs": []
    },
    {
      "cell_type": "markdown",
      "source": [
        "Оставим в качестве признаков только `toxic` (таргет) и `comment_text`"
      ],
      "metadata": {
        "id": "knwF8Ut_vLjU"
      }
    },
    {
      "cell_type": "code",
      "source": [
        "data = data[['comment_text', 'toxic']]\n",
        "data.head()"
      ],
      "metadata": {
        "id": "0TV8g8Nzt9m8",
        "outputId": "1c7f7be2-65a0-41c2-d842-4d203051bbf9",
        "execution": {
          "iopub.status.busy": "2022-08-05T10:24:53.186293Z",
          "iopub.execute_input": "2022-08-05T10:24:53.186788Z",
          "iopub.status.idle": "2022-08-05T10:24:53.235141Z",
          "shell.execute_reply.started": "2022-08-05T10:24:53.186743Z",
          "shell.execute_reply": "2022-08-05T10:24:53.233910Z"
        },
        "trusted": true,
        "colab": {
          "base_uri": "https://localhost:8080/",
          "height": 206
        }
      },
      "execution_count": null,
      "outputs": [
        {
          "output_type": "execute_result",
          "data": {
            "text/plain": [
              "                                        comment_text  toxic\n",
              "0  Explanation\\nWhy the edits made under my usern...      0\n",
              "1  D'aww! He matches this background colour I'm s...      0\n",
              "2  Hey man, I'm really not trying to edit war. It...      0\n",
              "3  \"\\nMore\\nI can't make any real suggestions on ...      0\n",
              "4  You, sir, are my hero. Any chance you remember...      0"
            ],
            "text/html": [
              "\n",
              "  <div id=\"df-c35cf4eb-f15c-4d1e-9a78-f0d7ae7fbdab\">\n",
              "    <div class=\"colab-df-container\">\n",
              "      <div>\n",
              "<style scoped>\n",
              "    .dataframe tbody tr th:only-of-type {\n",
              "        vertical-align: middle;\n",
              "    }\n",
              "\n",
              "    .dataframe tbody tr th {\n",
              "        vertical-align: top;\n",
              "    }\n",
              "\n",
              "    .dataframe thead th {\n",
              "        text-align: right;\n",
              "    }\n",
              "</style>\n",
              "<table border=\"1\" class=\"dataframe\">\n",
              "  <thead>\n",
              "    <tr style=\"text-align: right;\">\n",
              "      <th></th>\n",
              "      <th>comment_text</th>\n",
              "      <th>toxic</th>\n",
              "    </tr>\n",
              "  </thead>\n",
              "  <tbody>\n",
              "    <tr>\n",
              "      <th>0</th>\n",
              "      <td>Explanation\\nWhy the edits made under my usern...</td>\n",
              "      <td>0</td>\n",
              "    </tr>\n",
              "    <tr>\n",
              "      <th>1</th>\n",
              "      <td>D'aww! He matches this background colour I'm s...</td>\n",
              "      <td>0</td>\n",
              "    </tr>\n",
              "    <tr>\n",
              "      <th>2</th>\n",
              "      <td>Hey man, I'm really not trying to edit war. It...</td>\n",
              "      <td>0</td>\n",
              "    </tr>\n",
              "    <tr>\n",
              "      <th>3</th>\n",
              "      <td>\"\\nMore\\nI can't make any real suggestions on ...</td>\n",
              "      <td>0</td>\n",
              "    </tr>\n",
              "    <tr>\n",
              "      <th>4</th>\n",
              "      <td>You, sir, are my hero. Any chance you remember...</td>\n",
              "      <td>0</td>\n",
              "    </tr>\n",
              "  </tbody>\n",
              "</table>\n",
              "</div>\n",
              "      <button class=\"colab-df-convert\" onclick=\"convertToInteractive('df-c35cf4eb-f15c-4d1e-9a78-f0d7ae7fbdab')\"\n",
              "              title=\"Convert this dataframe to an interactive table.\"\n",
              "              style=\"display:none;\">\n",
              "        \n",
              "  <svg xmlns=\"http://www.w3.org/2000/svg\" height=\"24px\"viewBox=\"0 0 24 24\"\n",
              "       width=\"24px\">\n",
              "    <path d=\"M0 0h24v24H0V0z\" fill=\"none\"/>\n",
              "    <path d=\"M18.56 5.44l.94 2.06.94-2.06 2.06-.94-2.06-.94-.94-2.06-.94 2.06-2.06.94zm-11 1L8.5 8.5l.94-2.06 2.06-.94-2.06-.94L8.5 2.5l-.94 2.06-2.06.94zm10 10l.94 2.06.94-2.06 2.06-.94-2.06-.94-.94-2.06-.94 2.06-2.06.94z\"/><path d=\"M17.41 7.96l-1.37-1.37c-.4-.4-.92-.59-1.43-.59-.52 0-1.04.2-1.43.59L10.3 9.45l-7.72 7.72c-.78.78-.78 2.05 0 2.83L4 21.41c.39.39.9.59 1.41.59.51 0 1.02-.2 1.41-.59l7.78-7.78 2.81-2.81c.8-.78.8-2.07 0-2.86zM5.41 20L4 18.59l7.72-7.72 1.47 1.35L5.41 20z\"/>\n",
              "  </svg>\n",
              "      </button>\n",
              "      \n",
              "  <style>\n",
              "    .colab-df-container {\n",
              "      display:flex;\n",
              "      flex-wrap:wrap;\n",
              "      gap: 12px;\n",
              "    }\n",
              "\n",
              "    .colab-df-convert {\n",
              "      background-color: #E8F0FE;\n",
              "      border: none;\n",
              "      border-radius: 50%;\n",
              "      cursor: pointer;\n",
              "      display: none;\n",
              "      fill: #1967D2;\n",
              "      height: 32px;\n",
              "      padding: 0 0 0 0;\n",
              "      width: 32px;\n",
              "    }\n",
              "\n",
              "    .colab-df-convert:hover {\n",
              "      background-color: #E2EBFA;\n",
              "      box-shadow: 0px 1px 2px rgba(60, 64, 67, 0.3), 0px 1px 3px 1px rgba(60, 64, 67, 0.15);\n",
              "      fill: #174EA6;\n",
              "    }\n",
              "\n",
              "    [theme=dark] .colab-df-convert {\n",
              "      background-color: #3B4455;\n",
              "      fill: #D2E3FC;\n",
              "    }\n",
              "\n",
              "    [theme=dark] .colab-df-convert:hover {\n",
              "      background-color: #434B5C;\n",
              "      box-shadow: 0px 1px 3px 1px rgba(0, 0, 0, 0.15);\n",
              "      filter: drop-shadow(0px 1px 2px rgba(0, 0, 0, 0.3));\n",
              "      fill: #FFFFFF;\n",
              "    }\n",
              "  </style>\n",
              "\n",
              "      <script>\n",
              "        const buttonEl =\n",
              "          document.querySelector('#df-c35cf4eb-f15c-4d1e-9a78-f0d7ae7fbdab button.colab-df-convert');\n",
              "        buttonEl.style.display =\n",
              "          google.colab.kernel.accessAllowed ? 'block' : 'none';\n",
              "\n",
              "        async function convertToInteractive(key) {\n",
              "          const element = document.querySelector('#df-c35cf4eb-f15c-4d1e-9a78-f0d7ae7fbdab');\n",
              "          const dataTable =\n",
              "            await google.colab.kernel.invokeFunction('convertToInteractive',\n",
              "                                                     [key], {});\n",
              "          if (!dataTable) return;\n",
              "\n",
              "          const docLinkHtml = 'Like what you see? Visit the ' +\n",
              "            '<a target=\"_blank\" href=https://colab.research.google.com/notebooks/data_table.ipynb>data table notebook</a>'\n",
              "            + ' to learn more about interactive tables.';\n",
              "          element.innerHTML = '';\n",
              "          dataTable['output_type'] = 'display_data';\n",
              "          await google.colab.output.renderOutput(dataTable, element);\n",
              "          const docLink = document.createElement('div');\n",
              "          docLink.innerHTML = docLinkHtml;\n",
              "          element.appendChild(docLink);\n",
              "        }\n",
              "      </script>\n",
              "    </div>\n",
              "  </div>\n",
              "  "
            ]
          },
          "metadata": {},
          "execution_count": 9
        }
      ]
    },
    {
      "cell_type": "markdown",
      "source": [
        "<a name=\"c5\"></a>\n",
        "### Анализ датасета"
      ],
      "metadata": {
        "id": "hp1U7IGW1ol3"
      }
    },
    {
      "cell_type": "markdown",
      "source": [
        "У нас есть два признака: `comment_text` и `toxic`.\n",
        "<br><br>\n",
        "`comment_text` - комментарии, которые нужно классифицировать\n",
        "\n",
        "`toxic` - целевой признак в бинарном формате"
      ],
      "metadata": {
        "id": "B656PkIEh6_R"
      }
    },
    {
      "cell_type": "code",
      "source": [
        "data.sample(5)"
      ],
      "metadata": {
        "id": "Z3REDpfsrwix",
        "outputId": "18b29fd9-aee1-4eed-9c80-b42be52d7d87",
        "execution": {
          "iopub.status.busy": "2022-08-05T10:24:59.706019Z",
          "iopub.execute_input": "2022-08-05T10:24:59.707272Z",
          "iopub.status.idle": "2022-08-05T10:24:59.727745Z",
          "shell.execute_reply.started": "2022-08-05T10:24:59.707232Z",
          "shell.execute_reply": "2022-08-05T10:24:59.726478Z"
        },
        "trusted": true,
        "colab": {
          "base_uri": "https://localhost:8080/",
          "height": 206
        }
      },
      "execution_count": null,
      "outputs": [
        {
          "output_type": "execute_result",
          "data": {
            "text/plain": [
              "                                             comment_text  toxic\n",
              "84191          I've notified you again on your talk page.      0\n",
              "55962   \"\\n\\n Population of Pakistan \\nIts 172,800,000...      0\n",
              "133925  Censorship\\nI do not know of any Wiki rule or ...      0\n",
              "102277  Once again, you are taking this way too person...      0\n",
              "55652                              Thanks for the advice.      0"
            ],
            "text/html": [
              "\n",
              "  <div id=\"df-db617e24-c81c-4228-ab41-d890e96554a3\">\n",
              "    <div class=\"colab-df-container\">\n",
              "      <div>\n",
              "<style scoped>\n",
              "    .dataframe tbody tr th:only-of-type {\n",
              "        vertical-align: middle;\n",
              "    }\n",
              "\n",
              "    .dataframe tbody tr th {\n",
              "        vertical-align: top;\n",
              "    }\n",
              "\n",
              "    .dataframe thead th {\n",
              "        text-align: right;\n",
              "    }\n",
              "</style>\n",
              "<table border=\"1\" class=\"dataframe\">\n",
              "  <thead>\n",
              "    <tr style=\"text-align: right;\">\n",
              "      <th></th>\n",
              "      <th>comment_text</th>\n",
              "      <th>toxic</th>\n",
              "    </tr>\n",
              "  </thead>\n",
              "  <tbody>\n",
              "    <tr>\n",
              "      <th>84191</th>\n",
              "      <td>I've notified you again on your talk page.</td>\n",
              "      <td>0</td>\n",
              "    </tr>\n",
              "    <tr>\n",
              "      <th>55962</th>\n",
              "      <td>\"\\n\\n Population of Pakistan \\nIts 172,800,000...</td>\n",
              "      <td>0</td>\n",
              "    </tr>\n",
              "    <tr>\n",
              "      <th>133925</th>\n",
              "      <td>Censorship\\nI do not know of any Wiki rule or ...</td>\n",
              "      <td>0</td>\n",
              "    </tr>\n",
              "    <tr>\n",
              "      <th>102277</th>\n",
              "      <td>Once again, you are taking this way too person...</td>\n",
              "      <td>0</td>\n",
              "    </tr>\n",
              "    <tr>\n",
              "      <th>55652</th>\n",
              "      <td>Thanks for the advice.</td>\n",
              "      <td>0</td>\n",
              "    </tr>\n",
              "  </tbody>\n",
              "</table>\n",
              "</div>\n",
              "      <button class=\"colab-df-convert\" onclick=\"convertToInteractive('df-db617e24-c81c-4228-ab41-d890e96554a3')\"\n",
              "              title=\"Convert this dataframe to an interactive table.\"\n",
              "              style=\"display:none;\">\n",
              "        \n",
              "  <svg xmlns=\"http://www.w3.org/2000/svg\" height=\"24px\"viewBox=\"0 0 24 24\"\n",
              "       width=\"24px\">\n",
              "    <path d=\"M0 0h24v24H0V0z\" fill=\"none\"/>\n",
              "    <path d=\"M18.56 5.44l.94 2.06.94-2.06 2.06-.94-2.06-.94-.94-2.06-.94 2.06-2.06.94zm-11 1L8.5 8.5l.94-2.06 2.06-.94-2.06-.94L8.5 2.5l-.94 2.06-2.06.94zm10 10l.94 2.06.94-2.06 2.06-.94-2.06-.94-.94-2.06-.94 2.06-2.06.94z\"/><path d=\"M17.41 7.96l-1.37-1.37c-.4-.4-.92-.59-1.43-.59-.52 0-1.04.2-1.43.59L10.3 9.45l-7.72 7.72c-.78.78-.78 2.05 0 2.83L4 21.41c.39.39.9.59 1.41.59.51 0 1.02-.2 1.41-.59l7.78-7.78 2.81-2.81c.8-.78.8-2.07 0-2.86zM5.41 20L4 18.59l7.72-7.72 1.47 1.35L5.41 20z\"/>\n",
              "  </svg>\n",
              "      </button>\n",
              "      \n",
              "  <style>\n",
              "    .colab-df-container {\n",
              "      display:flex;\n",
              "      flex-wrap:wrap;\n",
              "      gap: 12px;\n",
              "    }\n",
              "\n",
              "    .colab-df-convert {\n",
              "      background-color: #E8F0FE;\n",
              "      border: none;\n",
              "      border-radius: 50%;\n",
              "      cursor: pointer;\n",
              "      display: none;\n",
              "      fill: #1967D2;\n",
              "      height: 32px;\n",
              "      padding: 0 0 0 0;\n",
              "      width: 32px;\n",
              "    }\n",
              "\n",
              "    .colab-df-convert:hover {\n",
              "      background-color: #E2EBFA;\n",
              "      box-shadow: 0px 1px 2px rgba(60, 64, 67, 0.3), 0px 1px 3px 1px rgba(60, 64, 67, 0.15);\n",
              "      fill: #174EA6;\n",
              "    }\n",
              "\n",
              "    [theme=dark] .colab-df-convert {\n",
              "      background-color: #3B4455;\n",
              "      fill: #D2E3FC;\n",
              "    }\n",
              "\n",
              "    [theme=dark] .colab-df-convert:hover {\n",
              "      background-color: #434B5C;\n",
              "      box-shadow: 0px 1px 3px 1px rgba(0, 0, 0, 0.15);\n",
              "      filter: drop-shadow(0px 1px 2px rgba(0, 0, 0, 0.3));\n",
              "      fill: #FFFFFF;\n",
              "    }\n",
              "  </style>\n",
              "\n",
              "      <script>\n",
              "        const buttonEl =\n",
              "          document.querySelector('#df-db617e24-c81c-4228-ab41-d890e96554a3 button.colab-df-convert');\n",
              "        buttonEl.style.display =\n",
              "          google.colab.kernel.accessAllowed ? 'block' : 'none';\n",
              "\n",
              "        async function convertToInteractive(key) {\n",
              "          const element = document.querySelector('#df-db617e24-c81c-4228-ab41-d890e96554a3');\n",
              "          const dataTable =\n",
              "            await google.colab.kernel.invokeFunction('convertToInteractive',\n",
              "                                                     [key], {});\n",
              "          if (!dataTable) return;\n",
              "\n",
              "          const docLinkHtml = 'Like what you see? Visit the ' +\n",
              "            '<a target=\"_blank\" href=https://colab.research.google.com/notebooks/data_table.ipynb>data table notebook</a>'\n",
              "            + ' to learn more about interactive tables.';\n",
              "          element.innerHTML = '';\n",
              "          dataTable['output_type'] = 'display_data';\n",
              "          await google.colab.output.renderOutput(dataTable, element);\n",
              "          const docLink = document.createElement('div');\n",
              "          docLink.innerHTML = docLinkHtml;\n",
              "          element.appendChild(docLink);\n",
              "        }\n",
              "      </script>\n",
              "    </div>\n",
              "  </div>\n",
              "  "
            ]
          },
          "metadata": {},
          "execution_count": 9
        }
      ]
    },
    {
      "cell_type": "code",
      "source": [
        "data.info()"
      ],
      "metadata": {
        "id": "j9-8JatStsVa",
        "outputId": "ab196083-3aac-49c7-fa19-05ceab3f2c08",
        "execution": {
          "iopub.status.busy": "2022-08-05T10:25:00.375173Z",
          "iopub.execute_input": "2022-08-05T10:25:00.375976Z",
          "iopub.status.idle": "2022-08-05T10:25:00.417615Z",
          "shell.execute_reply.started": "2022-08-05T10:25:00.375935Z",
          "shell.execute_reply": "2022-08-05T10:25:00.416548Z"
        },
        "trusted": true,
        "colab": {
          "base_uri": "https://localhost:8080/"
        }
      },
      "execution_count": null,
      "outputs": [
        {
          "output_type": "stream",
          "name": "stdout",
          "text": [
            "<class 'pandas.core.frame.DataFrame'>\n",
            "RangeIndex: 159571 entries, 0 to 159570\n",
            "Data columns (total 2 columns):\n",
            " #   Column        Non-Null Count   Dtype \n",
            "---  ------        --------------   ----- \n",
            " 0   comment_text  159571 non-null  object\n",
            " 1   toxic         159571 non-null  int64 \n",
            "dtypes: int64(1), object(1)\n",
            "memory usage: 2.4+ MB\n"
          ]
        }
      ]
    },
    {
      "cell_type": "markdown",
      "source": [
        "Пропусков нет"
      ],
      "metadata": {
        "id": "HjAcSBRFt-VJ"
      }
    },
    {
      "cell_type": "code",
      "source": [
        "display(data.duplicated().sum())\n",
        "display(data['comment_text'].duplicated().sum())"
      ],
      "metadata": {
        "id": "w9ajWAqqtuD5",
        "outputId": "38318b1d-fe5a-428e-dc06-0a7e12bbc274",
        "execution": {
          "iopub.status.busy": "2022-08-05T10:25:03.435776Z",
          "iopub.execute_input": "2022-08-05T10:25:03.436181Z",
          "iopub.status.idle": "2022-08-05T10:25:03.734285Z",
          "shell.execute_reply.started": "2022-08-05T10:25:03.436146Z",
          "shell.execute_reply": "2022-08-05T10:25:03.733090Z"
        },
        "trusted": true,
        "colab": {
          "base_uri": "https://localhost:8080/",
          "height": 52
        }
      },
      "execution_count": null,
      "outputs": [
        {
          "output_type": "display_data",
          "data": {
            "text/plain": [
              "0"
            ]
          },
          "metadata": {}
        },
        {
          "output_type": "display_data",
          "data": {
            "text/plain": [
              "0"
            ]
          },
          "metadata": {}
        }
      ]
    },
    {
      "cell_type": "markdown",
      "source": [
        "Явных дубликатов тоже"
      ],
      "metadata": {
        "id": "pPmFuo01uIfw"
      }
    },
    {
      "cell_type": "markdown",
      "source": [
        "<a name=\"c6\"></a>\n",
        "### Распределение в таргете"
      ],
      "metadata": {
        "id": "thNjTBaK1two"
      }
    },
    {
      "cell_type": "markdown",
      "source": [
        "Посмотрим на `toxic`:"
      ],
      "metadata": {
        "id": "9qJ_9QEAwDZS"
      }
    },
    {
      "cell_type": "code",
      "source": [
        "data['toxic'].value_counts().plot(kind='pie', figsize=(10, 10), autopct='%1.0f%%')"
      ],
      "metadata": {
        "id": "PNjoG-VJwL5T",
        "outputId": "6c209580-dea0-49dd-ef9f-e9b874e7d62d",
        "execution": {
          "iopub.status.busy": "2022-08-05T10:25:08.331004Z",
          "iopub.execute_input": "2022-08-05T10:25:08.331769Z",
          "iopub.status.idle": "2022-08-05T10:25:08.544337Z",
          "shell.execute_reply.started": "2022-08-05T10:25:08.331720Z",
          "shell.execute_reply": "2022-08-05T10:25:08.543255Z"
        },
        "trusted": true,
        "colab": {
          "base_uri": "https://localhost:8080/",
          "height": 592
        }
      },
      "execution_count": null,
      "outputs": [
        {
          "output_type": "execute_result",
          "data": {
            "text/plain": [
              "<matplotlib.axes._subplots.AxesSubplot at 0x7efbb5055890>"
            ]
          },
          "metadata": {},
          "execution_count": 12
        },
        {
          "output_type": "display_data",
          "data": {
            "text/plain": [
              "<Figure size 720x720 with 1 Axes>"
            ],
            "image/png": "[encoded data removed]"
          },
          "metadata": {}
        }
      ]
    },
    {
      "cell_type": "markdown",
      "source": [
        "`1 - toxic`<br><br> Явный дисбаланс в таргете. Учтем для дальнейшей работы"
      ],
      "metadata": {
        "id": "LBy6Q1ZOyST1"
      }
    },
    {
      "cell_type": "markdown",
      "source": [
        "<a name=\"c7\"></a>\n",
        "### Анализ текстов"
      ],
      "metadata": {
        "id": "2F_12Kk01yLo"
      }
    },
    {
      "cell_type": "markdown",
      "source": [
        "Посмотрим на уникальные символы в `comment_text`:"
      ],
      "metadata": {
        "id": "h8-YfOJ0ybD3"
      }
    },
    {
      "cell_type": "code",
      "source": [
        "unique_characters = []\n",
        "\n",
        "\n",
        "def get_unique(text):\n",
        "    global unique_characters\n",
        "    unique_characters += list(text)\n",
        "\n",
        "\n",
        "data['comment_text'].apply(get_unique)\n",
        "unique_characters = set(unique_characters)\n",
        "\n",
        "unique_characters = sorted(list(unique_characters))\n",
        "\n",
        "# Взяли каждый 40-ый уникальный символ (10 символов)\n",
        "print(\"Неинформативные символы:\", *unique_characters[::40][:10])\n",
        "print(\"Количество уникальных символов:\", len(unique_characters))"
      ],
      "metadata": {
        "id": "iyIfOz3TxvcR",
        "outputId": "7e3339c6-8349-4874-b7c4-ebead1db3bde",
        "execution": {
          "iopub.status.busy": "2022-08-04T17:50:21.602100Z",
          "iopub.execute_input": "2022-08-04T17:50:21.603191Z",
          "iopub.status.idle": "2022-08-04T17:50:24.285181Z",
          "shell.execute_reply.started": "2022-08-04T17:50:21.603141Z",
          "shell.execute_reply": "2022-08-04T17:50:24.284005Z"
        },
        "trusted": true,
        "colab": {
          "base_uri": "https://localhost:8080/"
        }
      },
      "execution_count": null,
      "outputs": [
        {
          "output_type": "stream",
          "name": "stdout",
          "text": [
            "Неинформативные символы: \n",
            " G o ¯ × ÿ ħ Ŕ ż ɐ\n",
            "Количество уникальных символов: 2335\n"
          ]
        }
      ]
    },
    {
      "cell_type": "markdown",
      "source": [
        "В тексте есть множество неинформативных для нас символов (работаем только с английским языком)\n",
        "\n"
      ],
      "metadata": {
        "id": "3X2D9eZ8zSQr"
      }
    },
    {
      "cell_type": "code",
      "source": [
        "lenghts = data['comment_text'].apply(lambda x: len(x))\n",
        "lenghts.describe()"
      ],
      "metadata": {
        "colab": {
          "base_uri": "https://localhost:8080/"
        },
        "id": "IoNJdrhQRMtq",
        "outputId": "0cdb04ba-af00-4b26-df39-1002bb8d38e1"
      },
      "execution_count": null,
      "outputs": [
        {
          "output_type": "execute_result",
          "data": {
            "text/plain": [
              "count    159571.000000\n",
              "mean        394.073221\n",
              "std         590.720282\n",
              "min           6.000000\n",
              "25%          96.000000\n",
              "50%         205.000000\n",
              "75%         435.000000\n",
              "max        5000.000000\n",
              "Name: comment_text, dtype: float64"
            ]
          },
          "metadata": {},
          "execution_count": 49
        }
      ]
    },
    {
      "cell_type": "markdown",
      "source": [
        "Самые короткие комментарии:"
      ],
      "metadata": {
        "id": "2vsAOfXzRuGe"
      }
    },
    {
      "cell_type": "code",
      "source": [
        "lenghts.loc[lenghts == 6]"
      ],
      "metadata": {
        "colab": {
          "base_uri": "https://localhost:8080/"
        },
        "id": "m813uxqJRwg2",
        "outputId": "0ee6703e-4d83-4a17-a0c7-b7d8732b3263"
      },
      "execution_count": null,
      "outputs": [
        {
          "output_type": "execute_result",
          "data": {
            "text/plain": [
              "52442     6\n",
              "137062    6\n",
              "Name: comment_text, dtype: int64"
            ]
          },
          "metadata": {},
          "execution_count": 51
        }
      ]
    },
    {
      "cell_type": "code",
      "source": [
        "data['comment_text'][52442]"
      ],
      "metadata": {
        "colab": {
          "base_uri": "https://localhost:8080/",
          "height": 36
        },
        "id": "uc_A0Q_CSGaj",
        "outputId": "e1272b7e-5cde-48c0-bcbd-24e679337b63"
      },
      "execution_count": null,
      "outputs": [
        {
          "output_type": "execute_result",
          "data": {
            "text/plain": [
              "'14:53,'"
            ],
            "application/vnd.google.colaboratory.intrinsic+json": {
              "type": "string"
            }
          },
          "metadata": {},
          "execution_count": 52
        }
      ]
    },
    {
      "cell_type": "code",
      "source": [
        "data['comment_text'][137062]"
      ],
      "metadata": {
        "colab": {
          "base_uri": "https://localhost:8080/",
          "height": 36
        },
        "id": "f28Pi8kSSKLS",
        "outputId": "34906d03-7a57-4a39-dda1-181e528b544e"
      },
      "execution_count": null,
      "outputs": [
        {
          "output_type": "execute_result",
          "data": {
            "text/plain": [
              "'~ J.Lo'"
            ],
            "application/vnd.google.colaboratory.intrinsic+json": {
              "type": "string"
            }
          },
          "metadata": {},
          "execution_count": 53
        }
      ]
    },
    {
      "cell_type": "markdown",
      "source": [
        "Одни из самых длинных:"
      ],
      "metadata": {
        "id": "OPonGxxLTgaP"
      }
    },
    {
      "cell_type": "code",
      "source": [
        "lenghts.loc[lenghts == 5000].shape"
      ],
      "metadata": {
        "colab": {
          "base_uri": "https://localhost:8080/"
        },
        "id": "h-52nb0VT3R-",
        "outputId": "44071144-262e-4472-928a-72afecaae195"
      },
      "execution_count": null,
      "outputs": [
        {
          "output_type": "execute_result",
          "data": {
            "text/plain": [
              "(42,)"
            ]
          },
          "metadata": {},
          "execution_count": 62
        }
      ]
    },
    {
      "cell_type": "markdown",
      "source": [
        "Максимум по длине во время сбора данных - это 5000? <br>С другой стороны, вышло мало записей максимальной длины"
      ],
      "metadata": {
        "id": "HbhIrzBuT-NB"
      }
    },
    {
      "cell_type": "code",
      "source": [
        "lenghts.loc[lenghts == 5000].index[:5]"
      ],
      "metadata": {
        "colab": {
          "base_uri": "https://localhost:8080/"
        },
        "id": "eYVIk3QzTh-8",
        "outputId": "cb16eb93-d8d6-4288-d497-42990f3170bd"
      },
      "execution_count": null,
      "outputs": [
        {
          "output_type": "execute_result",
          "data": {
            "text/plain": [
              "Int64Index([4174, 6201, 8705, 9673, 10769], dtype='int64')"
            ]
          },
          "metadata": {},
          "execution_count": 61
        }
      ]
    },
    {
      "cell_type": "code",
      "source": [
        "data['comment_text'][4174]"
      ],
      "metadata": {
        "colab": {
          "base_uri": "https://localhost:8080/",
          "height": 158
        },
        "id": "MtO8SszfT6UR",
        "outputId": "f4fdfeaa-f31a-4b6d-896b-8baf4c060528"
      },
      "execution_count": null,
      "outputs": [
        {
          "output_type": "execute_result",
          "data": {
            "text/plain": [
              "'ii CAN STILL POST WITH THIS COMPUTER...I SAID BLOCK ME, COME THE FUCK DOWN HERE AND ARREST ME...SAN DIEGO CALIFORNIA, CHULA VISTA, FUCKING GET YOUR INFORMATION RIGHT FAGGOT SHITHEAD!!i CAN STILL POST WITH THIS COMPUTER...I SAID BLOCK ME, COME THE FUCK DOWN HERE AND ARREST ME...SAN DIEGO CALIFORNIA, CHULA VISTA, FUCKING GET YOUR INFORMATION RIGHT FAGGOT SHITHEAD!!i CAN STILL POST WITH THIS COMPUTER...I SAID BLOCK ME, COME THE FUCK DOWN HERE AND ARREST ME...SAN DIEGO CALIFORNIA, CHULA VISTA, FUCKING GET YOUR INFORMATION RIGHT FAGGOT SHITHEAD!!i CAN STILL POST WITH THIS COMPUTER...I SAID BLOCK ME, COME THE FUCK DOWN HERE AND ARREST ME...SAN DIEGO CALIFORNIA, CHULA VISTA, FUCKING GET YOUR INFORMATION RIGHT FAGGOT SHITHEAD!!i CAN STILL POST WITH THIS COMPUTER...I SAID BLOCK ME, COME THE FUCK DOWN HERE AND ARREST ME...SAN DIEGO CALIFORNIA, CHULA VISTA, FUCKING GET YOUR INFORMATION RIGHT FAGGOT SHITHEAD!!i CAN STILL POST WITH THIS COMPUTER...I SAID BLOCK ME, COME THE FUCK DOWN HERE AND ARREST ME...SAN DIEGO CALIFORNIA, CHULA VISTA, FUCKING GET YOUR INFORMATION RIGHT FAGGOT SHITHEAD!!i CAN STILL POST WITH THIS COMPUTER...I SAID BLOCK ME, COME THE FUCK DOWN HERE AND ARREST ME...SAN DIEGO CALIFORNIA, CHULA VISTA, FUCKING GET YOUR INFORMATION RIGHT FAGGOT SHITHEAD!!i CAN STILL POST WITH THIS COMPUTER...I SAID BLOCK ME, COME THE FUCK DOWN HERE AND ARREST ME...SAN DIEGO CALIFORNIA, CHULA VISTA, FUCKING GET YOUR INFORMATION RIGHT FAGGOT SHITHEAD!!i CAN STILL POST WITH THIS COMPUTER...I SAID BLOCK ME, COME THE FUCK DOWN HERE AND ARREST ME...SAN DIEGO CALIFORNIA, CHULA VISTA, FUCKING GET YOUR INFORMATION RIGHT FAGGOT SHITHEAD!!i CAN STILL POST WITH THIS COMPUTER...I SAID BLOCK ME, COME THE FUCK DOWN HERE AND ARREST ME...SAN DIEGO CALIFORNIA, CHULA VISTA, FUCKING GET YOUR INFORMATION RIGHT FAGGOT SHITHEAD!!i CAN STILL POST WITH THIS COMPUTER...I SAID BLOCK ME, COME THE FUCK DOWN HERE AND ARREST ME...SAN DIEGO CALIFORNIA, CHULA VISTA, FUCKING GET YOUR INFORMATION RIGHT FAGGOT SHITHEAD!!i CAN STILL POST WITH THIS COMPUTER...I SAID BLOCK ME, COME THE FUCK DOWN HERE AND ARREST ME...SAN DIEGO CALIFORNIA, CHULA VISTA, FUCKING GET YOUR INFORMATION RIGHT FAGGOT SHITHEAD!!i CAN STILL POST WITH THIS COMPUTER...I SAID BLOCK ME, COME THE FUCK DOWN HERE AND ARREST ME...SAN DIEGO CALIFORNIA, CHULA VISTA, FUCKING GET YOUR INFORMATION RIGHT FAGGOT SHITHEAD!!i CAN STILL POST WITH THIS COMPUTER...I SAID BLOCK ME, COME THE FUCK DOWN HERE AND ARREST ME...SAN DIEGO CALIFORNIA, CHULA VISTA, FUCKING GET YOUR INFORMATION RIGHT FAGGOT SHITHEAD!!i CAN STILL POST WITH THIS COMPUTER...I SAID BLOCK ME, COME THE FUCK DOWN HERE AND ARREST ME...SAN DIEGO CALIFORNIA, CHULA VISTA, FUCKING GET YOUR INFORMATION RIGHT FAGGOT SHITHEAD!!i CAN STILL POST WITH THIS COMPUTER...I SAID BLOCK ME, COME THE FUCK DOWN HERE AND ARREST ME...SAN DIEGO CALIFORNIA, CHULA VISTA, FUCKING GET YOUR INFORMATION RIGHT FAGGOT SHITHEAD!!i CAN STILL POST WITH THIS COMPUTER...I SAID BLOCK ME, COME THE FUCK DOWN HERE AND ARREST ME...SAN DIEGO CALIFORNIA, CHULA VISTA, FUCKING GET YOUR INFORMATION RIGHT FAGGOT SHITHEAD!!i CAN STILL POST WITH THIS COMPUTER...I SAID BLOCK ME, COME THE FUCK DOWN HERE AND ARREST ME...SAN DIEGO CALIFORNIA, CHULA VISTA, FUCKING GET YOUR INFORMATION RIGHT FAGGOT SHITHEAD!!i CAN STILL POST WITH THIS COMPUTER...I SAID BLOCK ME, COME THE FUCK DOWN HERE AND ARREST ME...SAN DIEGO CALIFORNIA, CHULA VISTA, FUCKING GET YOUR INFORMATION RIGHT FAGGOT SHITHEAD!!i CAN STILL POST WITH THIS COMPUTER...I SAID BLOCK ME, COME THE FUCK DOWN HERE AND ARREST ME...SAN DIEGO CALIFORNIA, CHULA VISTA, FUCKING GET YOUR INFORMATION RIGHT FAGGOT SHITHEAD!!i CAN STILL POST WITH THIS COMPUTER...I SAID BLOCK ME, COME THE FUCK DOWN HERE AND ARREST ME...SAN DIEGO CALIFORNIA, CHULA VISTA, FUCKING GET YOUR INFORMATION RIGHT FAGGOT SHITHEAD!!i CAN STILL POST WITH THIS COMPUTER...I SAID BLOCK ME, COME THE FUCK DOWN HERE AND ARREST ME...SAN DIEGO CALIFORNIA, CHULA VISTA, FUCKING GET YOUR INFORMATION RIGHT FAGGOT SHITHEAD!!i CAN STILL POST WITH THIS COMPUTER...I SAID BLOCK ME, COME THE FUCK DOWN HERE AND ARREST ME...SAN DIEGO CALIFORNIA, CHULA VISTA, FUCKING GET YOUR INFORMATION RIGHT FAGGOT SHITHEAD!!i CAN STILL POST WITH THIS COMPUTER...I SAID BLOCK ME, COME THE FUCK DOWN HERE AND ARREST ME...SAN DIEGO CALIFORNIA, CHULA VISTA, FUCKING GET YOUR INFORMATION RIGHT FAGGOT SHITHEAD!!i CAN STILL POST WITH THIS COMPUTER...I SAID BLOCK ME, COME THE FUCK DOWN HERE AND ARREST ME...SAN DIEGO CALIFORNIA, CHULA VISTA, FUCKING GET YOUR INFORMATION RIGHT FAGGOT SHITHEAD!!i CAN STILL POST WITH THIS COMPUTER...I SAID BLOCK ME, COME THE FUCK DOWN HERE AND ARREST ME...SAN DIEGO CALIFORNIA, CHULA VISTA, FUCKING GET YOUR INFORMATION RIGHT FAGGOT SHITHEAD!!i CAN STILL POST WITH THIS COMPUTER...I SAID BLOCK ME, COME THE FUCK DOWN HERE AND ARREST ME...SAN DIEGO CALIFORNIA, CHULA VISTA, FUCKING GET YOUR INFORMATION RIGHT FAGGOT SHITHEAD!!i CAN STILL POST WITH THIS COMPUTER...I SAID BLOCK ME, COME THE FUCK DOWN HERE AND AR'"
            ],
            "application/vnd.google.colaboratory.intrinsic+json": {
              "type": "string"
            }
          },
          "metadata": {},
          "execution_count": 63
        }
      ]
    },
    {
      "cell_type": "code",
      "source": [
        "data['comment_text'][6201]"
      ],
      "metadata": {
        "colab": {
          "base_uri": "https://localhost:8080/",
          "height": 157
        },
        "id": "vbPr93odTuBa",
        "outputId": "3a271a1f-2060-4112-af3e-9ec6857814dd"
      },
      "execution_count": null,
      "outputs": [
        {
          "output_type": "execute_result",
          "data": {
            "text/plain": [
              "'SECURITYFUCK HOMELAND SECURITYFUCK HOMELAND SECURITYFUCK HOMELAND SECURITYFUCK HOMELAND SECURITYFUCK HOMELAND SECURITYFUCK HOMELAND SECURITYFUCK HOMELAND SECURITYFUCK HOMELAND SECURITYFUCK HOMELAND SECURITYFUCK HOMELAND SECURITYFUCK HOMELAND SECURITYFUCK HOMELAND SECURITYFUCK HOMELAND SECURITYFUCK HOMELAND SECURITYFUCK HOMELAND SECURITYFUCK HOMELAND SECURITYFUCK HOMELAND SECURITYFUCK HOMELAND SECURITYFUCK HOMELAND SECURITYFUCK HOMELAND SECURITYFUCK HOMELAND SECURITYFUCK HOMELAND SECURITYFUCK HOMELAND SECURITYFUCK HOMELAND SECURITYFUCK HOMELAND SECURITYFUCK HOMELAND SECURITYFUCK HOMELAND SECURITYFUCK HOMELAND SECURITYFUCK HOMELAND SECURITYFUCK HOMELAND SECURITYFUCK HOMELAND SECURITYFUCK HOMELAND SECURITYFUCK HOMELAND SECURITYFUCK HOMELAND SECURITYFUCK HOMELAND SECURITYFUCK HOMELAND SECURITYFUCK HOMELAND SECURITYFUCK HOMELAND SECURITYFUCK HOMELAND SECURITYFUCK HOMELAND SECURITYFUCK HOMELAND SECURITYFUCK HOMELAND SECURITYFUCK HOMELAND SECURITYFUCK HOMELAND SECURITYFUCK HOMELAND SECURITYFUCK HOMELAND SECURITYFUCK HOMELAND SECURITYFUCK HOMELAND SECURITYFUCK HOMELAND SECURITYFUCK HOMELAND SECURITYFUCK HOMELAND SECURITYFUCK HOMELAND SECURITYFUCK HOMELAND SECURITYFUCK HOMELAND SECURITYFUCK HOMELAND SECURITYFUCK HOMELAND SECURITYFUCK HOMELAND SECURITYFUCK HOMELAND SECURITYFUCK HOMELAND SECURITYFUCK HOMELAND SECURITYFUCK HOMELAND SECURITYFUCK HOMELAND SECURITYFUCK HOMELAND SECURITYFUCK HOMELAND SECURITYFUCK HOMELAND SECURITYFUCK HOMELAND SECURITYFUCK HOMELAND SECURITYFUCK HOMELAND SECURITYFUCK HOMELAND SECURITYFUCK HOMELAND SECURITYFUCK HOMELAND SECURITYFUCK HOMELAND SECURITYFUCK HOMELAND SECURITYFUCK HOMELAND SECURITYFUCK HOMELAND SECURITYFUCK HOMELAND SECURITYFUCK HOMELAND SECURITYFUCK HOMELAND SECURITYFUCK HOMELAND SECURITYFUCK HOMELAND SECURITYFUCK HOMELAND SECURITYFUCK HOMELAND SECURITYFUCK HOMELAND SECURITYFUCK HOMELAND SECURITYFUCK HOMELAND SECURITYFUCK HOMELAND SECURITYFUCK HOMELAND SECURITYFUCK HOMELAND SECURITYFUCK HOMELAND SECURITYFUCK HOMELAND SECURITYFUCK HOMELAND SECURITYFUCK HOMELAND SECURITYFUCK HOMELAND SECURITYFUCK HOMELAND SECURITYFUCK HOMELAND SECURITYFUCK HOMELAND SECURITYFUCK HOMELAND SECURITYFUCK HOMELAND SECURITYFUCK HOMELAND SECURITYFUCK HOMELAND SECURITYFUCK HOMELAND SECURITYFUCK HOMELAND SECURITYFUCK HOMELAND SECURITYFUCK HOMELAND SECURITYFUCK HOMELAND SECURITYFUCK HOMELAND SECURITYFUCK HOMELAND SECURITYFUCK HOMELAND SECURITYFUCK HOMELAND SECURITYFUCK HOMELAND SECURITYFUCK HOMELAND SECURITYFUCK HOMELAND SECURITYFUCK HOMELAND SECURITYFUCK HOMELAND SECURITYFUCK HOMELAND SECURITYFUCK HOMELAND SECURITYFUCK HOMELAND SECURITYFUCK HOMELAND SECURITYFUCK HOMELAND SECURITYFUCK HOMELAND SECURITYFUCK HOMELAND SECURITYFUCK HOMELAND SECURITYFUCK HOMELAND SECURITYFUCK HOMELAND SECURITYFUCK HOMELAND SECURITYFUCK HOMELAND SECURITYFUCK HOMELAND SECURITYFUCK HOMELAND SECURITYFUCK HOMELAND SECURITYFUCK HOMELAND SECURITYFUCK HOMELAND SECURITYFUCK HOMELAND SECURITYFUCK HOMELAND SECURITYFUCK HOMELAND SECURITYFUCK HOMELAND SECURITYFUCK HOMELAND SECURITYFUCK HOMELAND SECURITYFUCK HOMELAND SECURITYFUCK HOMELAND SECURITYFUCK HOMELAND SECURITYFUCK HOMELAND SECURITYFUCK HOMELAND SECURITYFUCK HOMELAND SECURITYFUCK HOMELAND SECURITYFUCK HOMELAND SECURITYFUCK HOMELAND SECURITYFUCK HOMELAND SECURITYFUCK HOMELAND SECURITYFUCK HOMELAND SECURITYFUCK HOMELAND SECURITYFUCK HOMELAND SECURITYFUCK HOMELAND SECURITYFUCK HOMELAND SECURITYFUCK HOMELAND SECURITYFUCK HOMELAND SECURITYFUCK HOMELAND SECURITYFUCK HOMELAND SECURITYFUCK HOMELAND SECURITYFUCK HOMELAND SECURITYFUCK HOMELAND SECURITYFUCK HOMELAND SECURITYFUCK HOMELAND SECURITYFUCK HOMELAND SECURITYFUCK HOMELAND SECURITYFUCK HOMELAND SECURITYFUCK HOMELAND SECURITYFUCK HOMELAND SECURITYFUCK HOMELAND SECURITYFUCK HOMELAND SECURITYFUCK HOMELAND SECURITYFUCK HOMELAND SECURITYFUCK HOMELAND SECURITYFUCK HOMELAND SECURITYFUCK HOMELAND SECURITYFUCK HOMELAND SECURITYFUCK HOMELAND SECURITYFUCK HOMELAND SECURITYFUCK HOMELAND SECURITYFUCK HOMELAND SECURITYFUCK HOMELAND SECURITYFUCK HOMELAND SECURITYFUCK HOMELAND SECURITYFUCK HOMELAND SECURITYFUCK HOMELAND SECURITYFUCK HOMELAND SECURITYFUCK HOMELAND SECURITYFUCK HOMELAND SECURITYFUCK HOMELAND SECURITYFUCK HOMELAND SECURITYFUCK HOMELAND SECURITYFUCK HOMELAND SECURITYFUCK HOMELAND SECURITYFUCK HOMELAND SECURITYFUCK HOMELAND SECURITYFUCK HOMELAND SECURITYFUCK HOMELAND SECURITYFUCK HOMELAND SECURITYFUCK HOMELAND SECURITYFUCK HOMELAND SECURITYFUCK HOMELAND SECURITYFUCK HOMELAND SECURITYFUCK HOMELAND SECURITYFUCK HOMELAND SECURITYFUCK HOMELAND SECURITYFUCK HOMELAND SECURITYFUCK HOMELAND SECURITYFUCK HOMELAND SECURITYFUCK HOMELAND SECURITYFUCK HOMELAND SECURITYFUCK HOMELAND SECURITYFUCK HOMELAND SECURITYFUCK HOMELAND SECURITYFUCK HOMELAND SECURITYFUCK HOMELAND SECURITYFUCK HOMELAND SECURITYFUCK HOMELAND SECURITYFUCK HOMELAND SECURITYFUCK HOMELAND SECURITYFUCK HOMELAND SECURITYFUCK HOMELAND SECURITYFUCK HOMELAND SECURITYFUCK HOMELAND SECURITYFUCK HOMELAND SECURITYFUCK HOMELAND SECURITYFUCK HOMELAND SECURITYFUCK HOMELAND SECURITYFUCK HOMELAND SECURI'"
            ],
            "application/vnd.google.colaboratory.intrinsic+json": {
              "type": "string"
            }
          },
          "metadata": {},
          "execution_count": 64
        }
      ]
    },
    {
      "cell_type": "code",
      "source": [
        "# Статистика по токсичным комментариям (длина)\n",
        "\n",
        "data['comment_text'].loc[data['toxic'] == 1].apply(lambda x: len(x)).describe()"
      ],
      "metadata": {
        "colab": {
          "base_uri": "https://localhost:8080/"
        },
        "id": "V0UaGGAoUYXu",
        "outputId": "ef9dba66-33b7-4fbd-f8a4-b5e640103810"
      },
      "execution_count": null,
      "outputs": [
        {
          "output_type": "execute_result",
          "data": {
            "text/plain": [
              "count    15294.000000\n",
              "mean       295.246044\n",
              "std        617.379025\n",
              "min          8.000000\n",
              "25%         59.000000\n",
              "50%        123.000000\n",
              "75%        271.000000\n",
              "max       5000.000000\n",
              "Name: comment_text, dtype: float64"
            ]
          },
          "metadata": {},
          "execution_count": 65
        }
      ]
    },
    {
      "cell_type": "code",
      "source": [
        "# Статистика по нетоксичным комментариям (длина)\n",
        "\n",
        "data['comment_text'].loc[data['toxic'] == 0].apply(lambda x: len(x)).describe()"
      ],
      "metadata": {
        "colab": {
          "base_uri": "https://localhost:8080/"
        },
        "id": "zDtzA1GFUl6E",
        "outputId": "fd467f24-dbad-4913-c9a1-0ef450316d40"
      },
      "execution_count": null,
      "outputs": [
        {
          "output_type": "execute_result",
          "data": {
            "text/plain": [
              "count    144277.000000\n",
              "mean        404.549339\n",
              "std         586.850889\n",
              "min           6.000000\n",
              "25%         102.000000\n",
              "50%         216.000000\n",
              "75%         453.000000\n",
              "max        5000.000000\n",
              "Name: comment_text, dtype: float64"
            ]
          },
          "metadata": {},
          "execution_count": 66
        }
      ]
    },
    {
      "cell_type": "markdown",
      "source": [
        "Комментарии можно попробовать ограничить по длине (перцентилями), но оставим датасет без фильтрации"
      ],
      "metadata": {
        "id": "HdHvevcgSTK1"
      }
    },
    {
      "cell_type": "markdown",
      "source": [
        "<a name=\"c8\"></a>\n",
        "\n",
        "## Предобработка данных"
      ],
      "metadata": {
        "id": "0lWfsuge3VGc"
      }
    },
    {
      "cell_type": "markdown",
      "source": [
        "<a name=\"c9\"></a>\n",
        "\n",
        "### Выборки"
      ],
      "metadata": {
        "id": "ViMsmGowUcMu"
      }
    },
    {
      "cell_type": "markdown",
      "source": [
        "Для работы с BERT возьмем 4% (для ускорения вычислений) от выборки. <br>Разделим выборки соответствующим образом:"
      ],
      "metadata": {
        "id": "g1qABY74UfNA"
      }
    },
    {
      "cell_type": "code",
      "source": [
        "data_tfidf, data_bert = train_test_split(data, test_size=.04, stratify=data['toxic'], random_state=RANDOM_STATE)"
      ],
      "metadata": {
        "id": "YLjLJsi5UeaJ",
        "execution": {
          "iopub.status.busy": "2022-08-05T10:26:05.939800Z",
          "iopub.execute_input": "2022-08-05T10:26:05.940579Z",
          "iopub.status.idle": "2022-08-05T10:26:06.005996Z",
          "shell.execute_reply.started": "2022-08-05T10:26:05.940541Z",
          "shell.execute_reply": "2022-08-05T10:26:06.004951Z"
        },
        "trusted": true
      },
      "execution_count": null,
      "outputs": []
    },
    {
      "cell_type": "code",
      "source": [
        "print(\"Процент токсичных комментариев в: \")\n",
        "print(\"Выборке для TF-IDF: \", round(data_tfidf['toxic'].mean() * 100, 2), '%', sep='')\n",
        "print(\"Выборка для BERT: \", round(data_bert['toxic'].mean() * 100, 2), '%', sep='')"
      ],
      "metadata": {
        "id": "NtgUT_eOU3fS",
        "outputId": "0af9ac67-be46-462b-c3b1-9ad907e3fcee",
        "execution": {
          "iopub.status.busy": "2022-08-05T10:26:07.770772Z",
          "iopub.execute_input": "2022-08-05T10:26:07.771405Z",
          "iopub.status.idle": "2022-08-05T10:26:07.780236Z",
          "shell.execute_reply.started": "2022-08-05T10:26:07.771367Z",
          "shell.execute_reply": "2022-08-05T10:26:07.779116Z"
        },
        "trusted": true,
        "colab": {
          "base_uri": "https://localhost:8080/"
        }
      },
      "execution_count": null,
      "outputs": [
        {
          "output_type": "stream",
          "name": "stdout",
          "text": [
            "Процент токсичных комментариев в: \n",
            "Выборке для TF-IDF: 9.58%\n",
            "Выборка для BERT: 9.59%\n"
          ]
        }
      ]
    },
    {
      "cell_type": "code",
      "source": [
        "print(\"Размер:\")\n",
        "print(\"Выборка для TF-IDF:\", data_tfidf.shape[0])\n",
        "print(\"Выборка для BERT:\", data_bert.shape[0])"
      ],
      "metadata": {
        "id": "ClGHXohKU6E9",
        "outputId": "2b16aa9b-e233-4ac8-92a7-49dacfd48a02",
        "execution": {
          "iopub.status.busy": "2022-08-05T10:26:11.255400Z",
          "iopub.execute_input": "2022-08-05T10:26:11.256661Z",
          "iopub.status.idle": "2022-08-05T10:26:11.264603Z",
          "shell.execute_reply.started": "2022-08-05T10:26:11.256603Z",
          "shell.execute_reply": "2022-08-05T10:26:11.263207Z"
        },
        "trusted": true,
        "colab": {
          "base_uri": "https://localhost:8080/"
        }
      },
      "execution_count": null,
      "outputs": [
        {
          "output_type": "stream",
          "name": "stdout",
          "text": [
            "Размер:\n",
            "Выборка для TF-IDF: 153188\n",
            "Выборка для BERT: 6383\n"
          ]
        }
      ]
    },
    {
      "cell_type": "markdown",
      "source": [
        "<a name=\"c10\"></a>\n",
        "\n",
        "### Очистка"
      ],
      "metadata": {
        "id": "03rX1XYi3Z7n"
      }
    },
    {
      "cell_type": "markdown",
      "source": [
        "Оставим символы только на английском языке для упрощения работы. <br>Зададим функцию `clear_text`:"
      ],
      "metadata": {
        "id": "SI4rgfm419mx"
      }
    },
    {
      "cell_type": "code",
      "source": [
        "nan_value = float(\"NaN\")\n",
        "\n",
        "\n",
        "def clear_text(text: str) -> str:\n",
        "    '''Очистка текста\n",
        "\n",
        "    Parameters\n",
        "    ----------\n",
        "    text : str\n",
        "        Комментарий из \"comment_text\"\n",
        "    \n",
        "    Returns\n",
        "    -------\n",
        "    str\n",
        "        Очищенный текст / NaN\n",
        "    '''\n",
        "    cl_text = \" \".join(re.sub(r'[^a-zA-Z]', ' ', text.lower()).split())\n",
        "    if len(cl_text) < 10:\n",
        "        return nan_value\n",
        "    return cl_text"
      ],
      "metadata": {
        "id": "fNzy-6GKyf2s",
        "execution": {
          "iopub.status.busy": "2022-08-05T10:26:12.811927Z",
          "iopub.execute_input": "2022-08-05T10:26:12.812646Z",
          "iopub.status.idle": "2022-08-05T10:26:12.818225Z",
          "shell.execute_reply.started": "2022-08-05T10:26:12.812608Z",
          "shell.execute_reply": "2022-08-05T10:26:12.817118Z"
        },
        "trusted": true
      },
      "execution_count": null,
      "outputs": []
    },
    {
      "cell_type": "markdown",
      "source": [
        "Если в итоге получилась пустая строка длиной меньше 10, то вернём `NaN`"
      ],
      "metadata": {
        "id": "D5kUn-1igEaS"
      }
    },
    {
      "cell_type": "code",
      "source": [
        "data_tfidf['clear_text'] = data_tfidf['comment_text'].apply(clear_text)\n",
        "data_bert['clear_text'] = data_bert['comment_text'].apply(clear_text)"
      ],
      "metadata": {
        "id": "gIASvtWK3zCJ",
        "execution": {
          "iopub.status.busy": "2022-08-05T10:26:13.003486Z",
          "iopub.execute_input": "2022-08-05T10:26:13.004663Z",
          "iopub.status.idle": "2022-08-05T10:26:17.750195Z",
          "shell.execute_reply.started": "2022-08-05T10:26:13.004623Z",
          "shell.execute_reply": "2022-08-05T10:26:17.749110Z"
        },
        "trusted": true
      },
      "execution_count": null,
      "outputs": []
    },
    {
      "cell_type": "code",
      "source": [
        "data_tfidf.isna().sum()"
      ],
      "metadata": {
        "id": "0r19yDti6Gnl"
      },
      "execution_count": null,
      "outputs": []
    },
    {
      "cell_type": "code",
      "source": [
        "data_bert.isna().sum()"
      ],
      "metadata": {
        "id": "hWiX9nqB6J_8"
      },
      "execution_count": null,
      "outputs": []
    },
    {
      "cell_type": "markdown",
      "source": [
        "Удалим `NaN`:"
      ],
      "metadata": {
        "id": "ShPXZG_ES4jK"
      }
    },
    {
      "cell_type": "code",
      "source": [
        "data_tfidf.dropna(subset = [\"clear_text\"], inplace=True)\n",
        "data_bert.dropna(subset = [\"clear_text\"], inplace=True)"
      ],
      "metadata": {
        "id": "56Pt0pwpS7hd"
      },
      "execution_count": null,
      "outputs": []
    },
    {
      "cell_type": "markdown",
      "source": [
        "<a name=\"c11\"></a>\n",
        "### Спеллер"
      ],
      "metadata": {
        "id": "zBE5E2HlU6M_"
      }
    },
    {
      "cell_type": "markdown",
      "source": [
        "Исправим опечатки в словах:"
      ],
      "metadata": {
        "id": "E4nfKBhjU8oT"
      }
    },
    {
      "cell_type": "code",
      "source": [
        "def typos_words(text: str) -> str:\n",
        "    '''Исправление очевидных опечаток\n",
        "\n",
        "    Parameters\n",
        "    ----------\n",
        "    text : str\n",
        "        Очищенный комментарий из \"clear_text\"\n",
        "    \n",
        "    Returns\n",
        "    -------\n",
        "    str\n",
        "        Текст без опечаток\n",
        "    '''\n",
        "    text = TextBlob(text)\n",
        "    return str(text.correct())"
      ],
      "metadata": {
        "id": "UFdKQp_8U8Pb"
      },
      "execution_count": null,
      "outputs": []
    },
    {
      "cell_type": "code",
      "source": [
        "typos_words('heklo ebrybody! hoq aee you?')"
      ],
      "metadata": {
        "colab": {
          "base_uri": "https://localhost:8080/",
          "height": 36
        },
        "id": "3Xqs39DE8IfJ",
        "outputId": "f1123e21-b445-4b9e-aca8-7df0a40e4a34"
      },
      "execution_count": null,
      "outputs": [
        {
          "output_type": "execute_result",
          "data": {
            "text/plain": [
              "'hello everybody! how are you?'"
            ],
            "application/vnd.google.colaboratory.intrinsic+json": {
              "type": "string"
            }
          },
          "metadata": {},
          "execution_count": 15
        }
      ]
    },
    {
      "cell_type": "code",
      "source": [
        "%%time\n",
        "\n",
        "tqdm.pandas()\n",
        "\n",
        "data_tfidf['clear_text'] = data_tfidf['clear_text'].progress_apply(typos_words)\n",
        "data_bert['clear_text'] = data_bert['clear_text'].progress_apply(typos_words)"
      ],
      "metadata": {
        "id": "ANPxMYyHVqzV"
      },
      "execution_count": null,
      "outputs": []
    },
    {
      "cell_type": "markdown",
      "source": [
        "<a name=\"c12\"></a>\n",
        "### Лемматизация"
      ],
      "metadata": {
        "id": "ppHW4VJz3fOD"
      }
    },
    {
      "cell_type": "markdown",
      "source": [
        "*Лемматиза́ция — процесс приведения словоформы к лемме — её нормальной (словарной) форме*"
      ],
      "metadata": {
        "id": "B1cISGRiRoAP"
      }
    },
    {
      "cell_type": "markdown",
      "source": [
        "Также перед тем, как получить признаки TF-IDF, лемматизируем слова в `data_tfidf` с помощью функции `lemmatize` и `WordNetLemmatizer` из `nltk`. Ещё есть `SpaCy`, но выберем классику"
      ],
      "metadata": {
        "id": "7mSGsQPZ0W_V"
      }
    },
    {
      "cell_type": "code",
      "source": [
        "lemmatizer = WordNetLemmatizer()\n",
        "\n",
        "def lemmatize(text: str) -> str:\n",
        "    '''Лемматизация слов\n",
        "\n",
        "    Parameters\n",
        "    ----------\n",
        "    text : str\n",
        "        Очищенный комментарий без опечаток из \"clear_text\"\n",
        "    \n",
        "    Returns\n",
        "    -------\n",
        "    str\n",
        "        Текст с лемматизированными словами\n",
        "    '''\n",
        "    # Делим текст на токены\n",
        "    word_list = nltk.word_tokenize(text)\n",
        "    # Лемматизированные слова добавляем в лист\n",
        "    lemmatized_output = [lemmatizer.lemmatize(w) for w in word_list]\n",
        "    # Возвращаем текстом    \n",
        "    return ' '.join(lemmatized_output)"
      ],
      "metadata": {
        "id": "CSK8AUlH0WZ8",
        "execution": {
          "iopub.status.busy": "2022-08-05T10:26:17.752193Z",
          "iopub.execute_input": "2022-08-05T10:26:17.753317Z",
          "iopub.status.idle": "2022-08-05T10:26:17.760095Z",
          "shell.execute_reply.started": "2022-08-05T10:26:17.753276Z",
          "shell.execute_reply": "2022-08-05T10:26:17.758908Z"
        },
        "trusted": true
      },
      "execution_count": null,
      "outputs": []
    },
    {
      "cell_type": "code",
      "source": [
        "%%time\n",
        "\n",
        "data_tfidf['lemm_text'] = data_tfidf['clear_text'].apply(lemmatize)"
      ],
      "metadata": {
        "id": "rIoLPk7Z7deh",
        "outputId": "7554e4f1-f4a7-4c78-c81e-50a086a410bc",
        "execution": {
          "iopub.status.busy": "2022-08-05T10:26:17.762958Z",
          "iopub.execute_input": "2022-08-05T10:26:17.765695Z",
          "iopub.status.idle": "2022-08-05T10:27:49.368678Z",
          "shell.execute_reply.started": "2022-08-05T10:26:17.765664Z",
          "shell.execute_reply": "2022-08-05T10:27:49.367554Z"
        },
        "trusted": true,
        "colab": {
          "base_uri": "https://localhost:8080/"
        }
      },
      "execution_count": null,
      "outputs": [
        {
          "output_type": "stream",
          "name": "stdout",
          "text": [
            "CPU times: user 1min 19s, sys: 454 ms, total: 1min 19s\n",
            "Wall time: 1min 25s\n"
          ]
        }
      ]
    },
    {
      "cell_type": "markdown",
      "source": [
        "Результаты очистки и лемматизации:"
      ],
      "metadata": {
        "id": "P3NYEAPYPRRh"
      }
    },
    {
      "cell_type": "code",
      "source": [
        "data_tfidf[['comment_text', 'lemm_text']].head()"
      ],
      "metadata": {
        "id": "R9BLv2OJOudM",
        "outputId": "d2ea5834-9336-4551-f8ca-d737ba7729d2",
        "execution": {
          "iopub.status.busy": "2022-08-05T10:27:49.371529Z",
          "iopub.execute_input": "2022-08-05T10:27:49.372509Z",
          "iopub.status.idle": "2022-08-05T10:27:49.427112Z",
          "shell.execute_reply.started": "2022-08-05T10:27:49.372458Z",
          "shell.execute_reply": "2022-08-05T10:27:49.426097Z"
        },
        "trusted": true,
        "colab": {
          "base_uri": "https://localhost:8080/",
          "height": 206
        }
      },
      "execution_count": null,
      "outputs": [
        {
          "output_type": "execute_result",
          "data": {
            "text/plain": [
              "                                             comment_text  \\\n",
              "146050  Leave it alone as it is now (and it would real...   \n",
              "26738   Speedy deletion for wombats? \\n\\nWhy do you wa...   \n",
              "67561   \"\\n\\n I have now asked at Wikipedia:Requested_...   \n",
              "7919    Very nice! I suggest putting in a link, to the...   \n",
              "14334   Man u \\nhttp://www.uefa.com/uefachampionsleagu...   \n",
              "\n",
              "                                                lemm_text  \n",
              "146050  leave it alone a it is now and it would really...  \n",
              "26738   speedy deletion for wombat why do you want to ...  \n",
              "67561   i have now asked at wikipedia requested move t...  \n",
              "7919    very nice i suggest putting in a link to the a...  \n",
              "14334   man u http www uefa com uefachampionsleague se...  "
            ],
            "text/html": [
              "\n",
              "  <div id=\"df-59566fba-46ef-479d-881c-5f33ca3a2f1f\">\n",
              "    <div class=\"colab-df-container\">\n",
              "      <div>\n",
              "<style scoped>\n",
              "    .dataframe tbody tr th:only-of-type {\n",
              "        vertical-align: middle;\n",
              "    }\n",
              "\n",
              "    .dataframe tbody tr th {\n",
              "        vertical-align: top;\n",
              "    }\n",
              "\n",
              "    .dataframe thead th {\n",
              "        text-align: right;\n",
              "    }\n",
              "</style>\n",
              "<table border=\"1\" class=\"dataframe\">\n",
              "  <thead>\n",
              "    <tr style=\"text-align: right;\">\n",
              "      <th></th>\n",
              "      <th>comment_text</th>\n",
              "      <th>lemm_text</th>\n",
              "    </tr>\n",
              "  </thead>\n",
              "  <tbody>\n",
              "    <tr>\n",
              "      <th>146050</th>\n",
              "      <td>Leave it alone as it is now (and it would real...</td>\n",
              "      <td>leave it alone a it is now and it would really...</td>\n",
              "    </tr>\n",
              "    <tr>\n",
              "      <th>26738</th>\n",
              "      <td>Speedy deletion for wombats? \\n\\nWhy do you wa...</td>\n",
              "      <td>speedy deletion for wombat why do you want to ...</td>\n",
              "    </tr>\n",
              "    <tr>\n",
              "      <th>67561</th>\n",
              "      <td>\"\\n\\n I have now asked at Wikipedia:Requested_...</td>\n",
              "      <td>i have now asked at wikipedia requested move t...</td>\n",
              "    </tr>\n",
              "    <tr>\n",
              "      <th>7919</th>\n",
              "      <td>Very nice! I suggest putting in a link, to the...</td>\n",
              "      <td>very nice i suggest putting in a link to the a...</td>\n",
              "    </tr>\n",
              "    <tr>\n",
              "      <th>14334</th>\n",
              "      <td>Man u \\nhttp://www.uefa.com/uefachampionsleagu...</td>\n",
              "      <td>man u http www uefa com uefachampionsleague se...</td>\n",
              "    </tr>\n",
              "  </tbody>\n",
              "</table>\n",
              "</div>\n",
              "      <button class=\"colab-df-convert\" onclick=\"convertToInteractive('df-59566fba-46ef-479d-881c-5f33ca3a2f1f')\"\n",
              "              title=\"Convert this dataframe to an interactive table.\"\n",
              "              style=\"display:none;\">\n",
              "        \n",
              "  <svg xmlns=\"http://www.w3.org/2000/svg\" height=\"24px\"viewBox=\"0 0 24 24\"\n",
              "       width=\"24px\">\n",
              "    <path d=\"M0 0h24v24H0V0z\" fill=\"none\"/>\n",
              "    <path d=\"M18.56 5.44l.94 2.06.94-2.06 2.06-.94-2.06-.94-.94-2.06-.94 2.06-2.06.94zm-11 1L8.5 8.5l.94-2.06 2.06-.94-2.06-.94L8.5 2.5l-.94 2.06-2.06.94zm10 10l.94 2.06.94-2.06 2.06-.94-2.06-.94-.94-2.06-.94 2.06-2.06.94z\"/><path d=\"M17.41 7.96l-1.37-1.37c-.4-.4-.92-.59-1.43-.59-.52 0-1.04.2-1.43.59L10.3 9.45l-7.72 7.72c-.78.78-.78 2.05 0 2.83L4 21.41c.39.39.9.59 1.41.59.51 0 1.02-.2 1.41-.59l7.78-7.78 2.81-2.81c.8-.78.8-2.07 0-2.86zM5.41 20L4 18.59l7.72-7.72 1.47 1.35L5.41 20z\"/>\n",
              "  </svg>\n",
              "      </button>\n",
              "      \n",
              "  <style>\n",
              "    .colab-df-container {\n",
              "      display:flex;\n",
              "      flex-wrap:wrap;\n",
              "      gap: 12px;\n",
              "    }\n",
              "\n",
              "    .colab-df-convert {\n",
              "      background-color: #E8F0FE;\n",
              "      border: none;\n",
              "      border-radius: 50%;\n",
              "      cursor: pointer;\n",
              "      display: none;\n",
              "      fill: #1967D2;\n",
              "      height: 32px;\n",
              "      padding: 0 0 0 0;\n",
              "      width: 32px;\n",
              "    }\n",
              "\n",
              "    .colab-df-convert:hover {\n",
              "      background-color: #E2EBFA;\n",
              "      box-shadow: 0px 1px 2px rgba(60, 64, 67, 0.3), 0px 1px 3px 1px rgba(60, 64, 67, 0.15);\n",
              "      fill: #174EA6;\n",
              "    }\n",
              "\n",
              "    [theme=dark] .colab-df-convert {\n",
              "      background-color: #3B4455;\n",
              "      fill: #D2E3FC;\n",
              "    }\n",
              "\n",
              "    [theme=dark] .colab-df-convert:hover {\n",
              "      background-color: #434B5C;\n",
              "      box-shadow: 0px 1px 3px 1px rgba(0, 0, 0, 0.15);\n",
              "      filter: drop-shadow(0px 1px 2px rgba(0, 0, 0, 0.3));\n",
              "      fill: #FFFFFF;\n",
              "    }\n",
              "  </style>\n",
              "\n",
              "      <script>\n",
              "        const buttonEl =\n",
              "          document.querySelector('#df-59566fba-46ef-479d-881c-5f33ca3a2f1f button.colab-df-convert');\n",
              "        buttonEl.style.display =\n",
              "          google.colab.kernel.accessAllowed ? 'block' : 'none';\n",
              "\n",
              "        async function convertToInteractive(key) {\n",
              "          const element = document.querySelector('#df-59566fba-46ef-479d-881c-5f33ca3a2f1f');\n",
              "          const dataTable =\n",
              "            await google.colab.kernel.invokeFunction('convertToInteractive',\n",
              "                                                     [key], {});\n",
              "          if (!dataTable) return;\n",
              "\n",
              "          const docLinkHtml = 'Like what you see? Visit the ' +\n",
              "            '<a target=\"_blank\" href=https://colab.research.google.com/notebooks/data_table.ipynb>data table notebook</a>'\n",
              "            + ' to learn more about interactive tables.';\n",
              "          element.innerHTML = '';\n",
              "          dataTable['output_type'] = 'display_data';\n",
              "          await google.colab.output.renderOutput(dataTable, element);\n",
              "          const docLink = document.createElement('div');\n",
              "          docLink.innerHTML = docLinkHtml;\n",
              "          element.appendChild(docLink);\n",
              "        }\n",
              "      </script>\n",
              "    </div>\n",
              "  </div>\n",
              "  "
            ]
          },
          "metadata": {},
          "execution_count": 21
        }
      ]
    },
    {
      "cell_type": "markdown",
      "source": [
        "BERT может обойтись без лемматизации:"
      ],
      "metadata": {
        "id": "QwxffgCAnFcD"
      }
    },
    {
      "cell_type": "code",
      "source": [
        "data_bert[['comment_text', 'clear_text']].head()"
      ],
      "metadata": {
        "id": "BFcTTYb9PZdK",
        "outputId": "678cf59c-61ca-4f7f-af14-b270c1b34c7c",
        "execution": {
          "iopub.status.busy": "2022-08-05T10:27:49.428794Z",
          "iopub.execute_input": "2022-08-05T10:27:49.429167Z",
          "iopub.status.idle": "2022-08-05T10:27:49.445408Z",
          "shell.execute_reply.started": "2022-08-05T10:27:49.429131Z",
          "shell.execute_reply": "2022-08-05T10:27:49.444301Z"
        },
        "trusted": true,
        "colab": {
          "base_uri": "https://localhost:8080/",
          "height": 206
        }
      },
      "execution_count": null,
      "outputs": [
        {
          "output_type": "execute_result",
          "data": {
            "text/plain": [
              "                                            comment_text  \\\n",
              "39996  \"\\n\\n Kiruv Organisation \\n\\nAs an apparent ne...   \n",
              "73597  fuck this this is bull shit and it does not ev...   \n",
              "87063                          U FAT PENIS< LISTEN HERE!   \n",
              "17394  Of course, I am willing to negotiate this in a...   \n",
              "96091  But who verifies the sources, references does ...   \n",
              "\n",
              "                                              clear_text  \n",
              "39996  kiruv organisation as an apparent newcomer to ...  \n",
              "73597  fuck this this is bull shit and it does not ev...  \n",
              "87063                            u fat penis listen here  \n",
              "17394  of course i am willing to negotiate this in a ...  \n",
              "96091  but who verifies the sources references does n...  "
            ],
            "text/html": [
              "\n",
              "  <div id=\"df-2c08baa2-bb71-44e7-be91-d2e6cad3626d\">\n",
              "    <div class=\"colab-df-container\">\n",
              "      <div>\n",
              "<style scoped>\n",
              "    .dataframe tbody tr th:only-of-type {\n",
              "        vertical-align: middle;\n",
              "    }\n",
              "\n",
              "    .dataframe tbody tr th {\n",
              "        vertical-align: top;\n",
              "    }\n",
              "\n",
              "    .dataframe thead th {\n",
              "        text-align: right;\n",
              "    }\n",
              "</style>\n",
              "<table border=\"1\" class=\"dataframe\">\n",
              "  <thead>\n",
              "    <tr style=\"text-align: right;\">\n",
              "      <th></th>\n",
              "      <th>comment_text</th>\n",
              "      <th>clear_text</th>\n",
              "    </tr>\n",
              "  </thead>\n",
              "  <tbody>\n",
              "    <tr>\n",
              "      <th>39996</th>\n",
              "      <td>\"\\n\\n Kiruv Organisation \\n\\nAs an apparent ne...</td>\n",
              "      <td>kiruv organisation as an apparent newcomer to ...</td>\n",
              "    </tr>\n",
              "    <tr>\n",
              "      <th>73597</th>\n",
              "      <td>fuck this this is bull shit and it does not ev...</td>\n",
              "      <td>fuck this this is bull shit and it does not ev...</td>\n",
              "    </tr>\n",
              "    <tr>\n",
              "      <th>87063</th>\n",
              "      <td>U FAT PENIS&lt; LISTEN HERE!</td>\n",
              "      <td>u fat penis listen here</td>\n",
              "    </tr>\n",
              "    <tr>\n",
              "      <th>17394</th>\n",
              "      <td>Of course, I am willing to negotiate this in a...</td>\n",
              "      <td>of course i am willing to negotiate this in a ...</td>\n",
              "    </tr>\n",
              "    <tr>\n",
              "      <th>96091</th>\n",
              "      <td>But who verifies the sources, references does ...</td>\n",
              "      <td>but who verifies the sources references does n...</td>\n",
              "    </tr>\n",
              "  </tbody>\n",
              "</table>\n",
              "</div>\n",
              "      <button class=\"colab-df-convert\" onclick=\"convertToInteractive('df-2c08baa2-bb71-44e7-be91-d2e6cad3626d')\"\n",
              "              title=\"Convert this dataframe to an interactive table.\"\n",
              "              style=\"display:none;\">\n",
              "        \n",
              "  <svg xmlns=\"http://www.w3.org/2000/svg\" height=\"24px\"viewBox=\"0 0 24 24\"\n",
              "       width=\"24px\">\n",
              "    <path d=\"M0 0h24v24H0V0z\" fill=\"none\"/>\n",
              "    <path d=\"M18.56 5.44l.94 2.06.94-2.06 2.06-.94-2.06-.94-.94-2.06-.94 2.06-2.06.94zm-11 1L8.5 8.5l.94-2.06 2.06-.94-2.06-.94L8.5 2.5l-.94 2.06-2.06.94zm10 10l.94 2.06.94-2.06 2.06-.94-2.06-.94-.94-2.06-.94 2.06-2.06.94z\"/><path d=\"M17.41 7.96l-1.37-1.37c-.4-.4-.92-.59-1.43-.59-.52 0-1.04.2-1.43.59L10.3 9.45l-7.72 7.72c-.78.78-.78 2.05 0 2.83L4 21.41c.39.39.9.59 1.41.59.51 0 1.02-.2 1.41-.59l7.78-7.78 2.81-2.81c.8-.78.8-2.07 0-2.86zM5.41 20L4 18.59l7.72-7.72 1.47 1.35L5.41 20z\"/>\n",
              "  </svg>\n",
              "      </button>\n",
              "      \n",
              "  <style>\n",
              "    .colab-df-container {\n",
              "      display:flex;\n",
              "      flex-wrap:wrap;\n",
              "      gap: 12px;\n",
              "    }\n",
              "\n",
              "    .colab-df-convert {\n",
              "      background-color: #E8F0FE;\n",
              "      border: none;\n",
              "      border-radius: 50%;\n",
              "      cursor: pointer;\n",
              "      display: none;\n",
              "      fill: #1967D2;\n",
              "      height: 32px;\n",
              "      padding: 0 0 0 0;\n",
              "      width: 32px;\n",
              "    }\n",
              "\n",
              "    .colab-df-convert:hover {\n",
              "      background-color: #E2EBFA;\n",
              "      box-shadow: 0px 1px 2px rgba(60, 64, 67, 0.3), 0px 1px 3px 1px rgba(60, 64, 67, 0.15);\n",
              "      fill: #174EA6;\n",
              "    }\n",
              "\n",
              "    [theme=dark] .colab-df-convert {\n",
              "      background-color: #3B4455;\n",
              "      fill: #D2E3FC;\n",
              "    }\n",
              "\n",
              "    [theme=dark] .colab-df-convert:hover {\n",
              "      background-color: #434B5C;\n",
              "      box-shadow: 0px 1px 3px 1px rgba(0, 0, 0, 0.15);\n",
              "      filter: drop-shadow(0px 1px 2px rgba(0, 0, 0, 0.3));\n",
              "      fill: #FFFFFF;\n",
              "    }\n",
              "  </style>\n",
              "\n",
              "      <script>\n",
              "        const buttonEl =\n",
              "          document.querySelector('#df-2c08baa2-bb71-44e7-be91-d2e6cad3626d button.colab-df-convert');\n",
              "        buttonEl.style.display =\n",
              "          google.colab.kernel.accessAllowed ? 'block' : 'none';\n",
              "\n",
              "        async function convertToInteractive(key) {\n",
              "          const element = document.querySelector('#df-2c08baa2-bb71-44e7-be91-d2e6cad3626d');\n",
              "          const dataTable =\n",
              "            await google.colab.kernel.invokeFunction('convertToInteractive',\n",
              "                                                     [key], {});\n",
              "          if (!dataTable) return;\n",
              "\n",
              "          const docLinkHtml = 'Like what you see? Visit the ' +\n",
              "            '<a target=\"_blank\" href=https://colab.research.google.com/notebooks/data_table.ipynb>data table notebook</a>'\n",
              "            + ' to learn more about interactive tables.';\n",
              "          element.innerHTML = '';\n",
              "          dataTable['output_type'] = 'display_data';\n",
              "          await google.colab.output.renderOutput(dataTable, element);\n",
              "          const docLink = document.createElement('div');\n",
              "          docLink.innerHTML = docLinkHtml;\n",
              "          element.appendChild(docLink);\n",
              "        }\n",
              "      </script>\n",
              "    </div>\n",
              "  </div>\n",
              "  "
            ]
          },
          "metadata": {},
          "execution_count": 22
        }
      ]
    },
    {
      "cell_type": "markdown",
      "source": [
        "<a name=\"c13\"></a>\n",
        "### Облако слов"
      ],
      "metadata": {
        "id": "APoPUVFr3jeZ"
      }
    },
    {
      "cell_type": "markdown",
      "source": [
        "Теперь у нас есть очищенный лемматизированный текст. <br>Можем сделать облако слов из токсичных комментариев для выборки в 90% от датасета:"
      ],
      "metadata": {
        "id": "fitXfAUA3r-I"
      }
    },
    {
      "cell_type": "code",
      "source": [
        "%%time\n",
        "\n",
        "wordcloud = WordCloud(width = 2000, \n",
        "                      height = 1500, \n",
        "                      random_state=12345, \n",
        "                      background_color='black', \n",
        "                      margin=20, \n",
        "                      colormap='Pastel1', \n",
        "                      collocations=False, \n",
        "                      stopwords = STOPWORDS)\n",
        "\n",
        "wordcloud_result = wordcloud.generate(' '.join(data_tfidf.loc[data_tfidf['toxic'] == 1]['lemm_text']))"
      ],
      "metadata": {
        "id": "q9fNWcQ31OWZ",
        "outputId": "25bfb42e-86a3-4551-8118-ad788a6cd30b",
        "execution": {
          "iopub.status.busy": "2022-08-05T10:27:49.446878Z",
          "iopub.execute_input": "2022-08-05T10:27:49.447391Z",
          "iopub.status.idle": "2022-08-05T10:27:55.300095Z",
          "shell.execute_reply.started": "2022-08-05T10:27:49.447355Z",
          "shell.execute_reply": "2022-08-05T10:27:55.298937Z"
        },
        "trusted": true,
        "colab": {
          "base_uri": "https://localhost:8080/"
        }
      },
      "execution_count": null,
      "outputs": [
        {
          "output_type": "stream",
          "name": "stdout",
          "text": [
            "CPU times: user 8.64 s, sys: 1.41 s, total: 10.1 s\n",
            "Wall time: 10 s\n"
          ]
        }
      ]
    },
    {
      "cell_type": "code",
      "source": [
        "plt.figure(figsize=(20, 10))\n",
        "plt.imshow(wordcloud) \n",
        "plt.axis(\"off\")"
      ],
      "metadata": {
        "id": "DxMhaQDY4FdE",
        "outputId": "c07c1107-63f9-4f0d-aeb4-42fd4dd3449f",
        "execution": {
          "iopub.status.busy": "2022-08-05T10:27:55.301461Z",
          "iopub.execute_input": "2022-08-05T10:27:55.302126Z",
          "iopub.status.idle": "2022-08-05T10:27:56.639375Z",
          "shell.execute_reply.started": "2022-08-05T10:27:55.302085Z",
          "shell.execute_reply": "2022-08-05T10:27:56.638450Z"
        },
        "trusted": true,
        "colab": {
          "base_uri": "https://localhost:8080/",
          "height": 592
        }
      },
      "execution_count": null,
      "outputs": [
        {
          "output_type": "execute_result",
          "data": {
            "text/plain": [
              "(-0.5, 1999.5, 1499.5, -0.5)"
            ]
          },
          "metadata": {},
          "execution_count": 24
        },
        {
          "output_type": "display_data",
          "data": {
            "text/plain": [
              "<Figure size 1440x720 with 1 Axes>"
            ],
            "image/png": "[encoded data removed]"
          },
          "metadata": {
            "needs_background": "light"
          }
        }
      ]
    },
    {
      "cell_type": "markdown",
      "source": [
        "Хм.. выглядит очевидным.. но `wikipedia` тут зачем? Туда отправляют с глупыми вопросами?"
      ],
      "metadata": {
        "id": "wxMA8D0ruYBl"
      }
    },
    {
      "cell_type": "markdown",
      "source": [
        "<a name=\"c14\"></a>\n",
        "### LDA (Latent Dirichlet Allocation)"
      ],
      "metadata": {
        "id": "W2YrXreqK7Xs"
      }
    },
    {
      "cell_type": "markdown",
      "source": [
        "Латентное размещение Дирихле (LDA) – это тематическая модель, которая подразумевает, что каждый документ является коллекцией тематик, распределение которых соответствует распределению Дирихле"
      ],
      "metadata": {
        "id": "8CuaFEwhLD4y"
      }
    },
    {
      "cell_type": "markdown",
      "source": [
        "Построим для токсичных комментариев в `data_tfidf`:"
      ],
      "metadata": {
        "id": "WjbBDVviLNlk"
      }
    },
    {
      "cell_type": "code",
      "source": [
        "def words_features(sentence):\n",
        "    new_sent = []\n",
        "    for sent in sentence.split():\n",
        "        if sent not in STOPWORDS:\n",
        "            new_sent.append(sent)\n",
        "    new_sent = \" \".join(new_sent)\n",
        "    return gensim.utils.simple_preprocess(new_sent, deacc=True)\n",
        "\n",
        "\n",
        "data_words = data_tfidf['clear_text'].loc[data['toxic'] == 1].apply(words_features).values.tolist() #list(words_features(data))\n",
        "id2word = corpora.Dictionary(data_words)\n",
        "comments = data_words\n",
        "corpus = [id2word.doc2bow(comment) for comment in comments]"
      ],
      "metadata": {
        "id": "X8QYtRb8K_YP"
      },
      "execution_count": null,
      "outputs": []
    },
    {
      "cell_type": "markdown",
      "source": [
        "Тренируем модель:"
      ],
      "metadata": {
        "id": "2hy2ch2pM7Qv"
      }
    },
    {
      "cell_type": "code",
      "source": [
        "num_topics = 10\n",
        "lda_model = gensim.models.LdaMulticore(corpus=corpus,\n",
        "                                       id2word=id2word,\n",
        "                                       num_topics=num_topics)\n",
        "doc_lda = lda_model[corpus]"
      ],
      "metadata": {
        "id": "uCxtz7biM66a"
      },
      "execution_count": null,
      "outputs": []
    },
    {
      "cell_type": "markdown",
      "source": [
        "Анализ:"
      ],
      "metadata": {
        "id": "a8yWl324NKqA"
      }
    },
    {
      "cell_type": "code",
      "source": [
        "pyLDAvis.enable_notebook()\n",
        "\n",
        "LDAvis_prepared = pyLDAvis.gensim_models.prepare(lda_model, corpus, id2word)"
      ],
      "metadata": {
        "id": "qZmNFQl8NJQG"
      },
      "execution_count": null,
      "outputs": []
    },
    {
      "cell_type": "code",
      "source": [
        "LDAvis_prepared"
      ],
      "metadata": {
        "colab": {
          "base_uri": "https://localhost:8080/",
          "height": 882
        },
        "id": "y7nYWUfxNpJs",
        "outputId": "3cc345bc-2b70-4aea-fef0-e8553eed1fae"
      },
      "execution_count": null,
      "outputs": [
        {
          "output_type": "execute_result",
          "data": {
            "text/plain": [
              "PreparedData(topic_coordinates=              x         y  topics  cluster       Freq\n",
              "topic                                                \n",
              "8      0.062768 -0.014114       1        1  23.006041\n",
              "0      0.091628  0.010433       2        1  15.358652\n",
              "1      0.036590 -0.021017       3        1  12.863956\n",
              "7      0.090543 -0.015966       4        1   9.828056\n",
              "9     -0.288051 -0.005543       5        1   7.628949\n",
              "5      0.061925 -0.029166       6        1   7.275613\n",
              "2     -0.033115  0.241408       7        1   6.498346\n",
              "6     -0.068949 -0.166825       8        1   6.410192\n",
              "4      0.002795  0.028946       9        1   5.878183\n",
              "3      0.043867 -0.028156      10        1   5.252011, topic_info=              Term          Freq         Total Category  logprob  loglift\n",
              "139           fuck  10259.000000  10259.000000  Default  30.0000  30.0000\n",
              "1498        nigger   6821.000000   6821.000000  Default  29.0000  29.0000\n",
              "304            gay   3765.000000   3765.000000  Default  28.0000  28.0000\n",
              "9749         super   2809.000000   2809.000000  Default  27.0000  27.0000\n",
              "30052  criminalwar   1699.000000   1699.000000  Default  26.0000  26.0000\n",
              "...            ...           ...           ...      ...      ...      ...\n",
              "119      wikipedia     82.821300   3735.275255  Topic10  -5.5557  -0.8623\n",
              "65             one     64.006443   1352.186799  Topic10  -5.8134  -0.1039\n",
              "177           like     68.351720   3534.726797  Topic10  -5.7477  -0.9992\n",
              "9          article     57.619356   1247.880800  Topic10  -5.9185  -0.1288\n",
              "151           name     54.650282    554.842105  Topic10  -5.9714   0.6288\n",
              "\n",
              "[711 rows x 6 columns], token_table=       Topic      Freq         Term\n",
              "term                               \n",
              "2738      10  0.917839     abnormal\n",
              "4457       2  0.978203       actors\n",
              "170        1  0.040562        admin\n",
              "170        2  0.013367        admin\n",
              "170        3  0.011984        admin\n",
              "...      ...       ...          ...\n",
              "1388      10  0.036483          yet\n",
              "26163      4  0.941432         yooo\n",
              "26163      5  0.048279         yooo\n",
              "28404     10  0.995894  youbollocks\n",
              "29434      8  0.998819   yourselfgo\n",
              "\n",
              "[2519 rows x 3 columns], R=30, lambda_step=0.01, plot_opts={'xlab': 'PC1', 'ylab': 'PC2'}, topic_order=[9, 1, 2, 8, 10, 6, 3, 7, 5, 4])"
            ],
            "text/html": [
              "\n",
              "<link rel=\"stylesheet\" type=\"text/css\" href=\"https://cdn.jsdelivr.net/gh/bmabey/pyLDAvis@3.3.1/pyLDAvis/js/ldavis.v1.0.0.css\">\n",
              "\n",
              "\n",
              "<div id=\"ldavis_el731400899375097125894439871\"></div>\n",
              "<script type=\"text/javascript\">\n",
              "\n",
              "var ldavis_el731400899375097125894439871_data = {\"mdsDat\": {\"x\": [0.06276773044917916, 0.09162803969035835, 0.03658995157693563, 0.09054269061151904, -0.28805058014020446, 0.06192471591810021, -0.03311543595159419, -0.06894928183677296, 0.002795119423095447, 0.04386705025938308], \"y\": [-0.014113646378051082, 0.010433171455780937, -0.021017330647016382, -0.015966397454407043, -0.005543216148290524, -0.029166261988385195, 0.24140837143748095, -0.16682544691690734, 0.028946274793482118, -0.02815551815368676], \"topics\": [1, 2, 3, 4, 5, 6, 7, 8, 9, 10], \"cluster\": [1, 1, 1, 1, 1, 1, 1, 1, 1, 1], \"Freq\": [23.006041060854223, 15.358651500969609, 12.863956394463532, 9.828056285584243, 7.628948599238742, 7.275613237266233, 6.498346288087766, 6.410192402051827, 5.878183236515749, 5.252010994968083]}, \"tinfo\": {\"Term\": [\"fuck\", \"nigger\", \"gay\", \"super\", \"criminalwar\", \"moron\", \"admin\", \"hi\", \"ass\", \"suck\", \"bad\", \"kill\", \"shut\", \"faggot\", \"cunt\", \"yourselfgo\", \"shit\", \"hate\", \"bloody\", \"fool\", \"die\", \"eat\", \"noobs\", \"shithole\", \"bitch\", \"fggt\", \"fucking\", \"communism\", \"heil\", \"dick\", \"njgw\", \"vomit\", \"caltlas\", \"karen\", \"cker\", \"contras\", \"rationale\", \"shitbag\", \"bbb\", \"blank\", \"jw\", \"dust\", \"merciless\", \"warmer\", \"nah\", \"dot\", \"suede\", \"jon\", \"informations\", \"wrath\", \"edge\", \"mocking\", \"fyrom\", \"steal\", \"ken\", \"aloud\", \"rvv\", \"sofa\", \"returned\", \"arthur\", \"dickhead\", \"fag\", \"password\", \"rules\", \"evolution\", \"talk\", \"idiot\", \"vandalism\", \"threats\", \"realized\", \"delanoy\", \"oi\", \"person\", \"nerves\", \"cking\", \"uncivil\", \"page\", \"wikipedia\", \"anything\", \"free\", \"block\", \"wiki\", \"banned\", \"think\", \"get\", \"take\", \"unblock\", \"user\", \"right\", \"editing\", \"ban\", \"article\", \"like\", \"people\", \"please\", \"even\", \"know\", \"need\", \"would\", \"fucking\", \"want\", \"fuck\", \"one\", \"go\", \"life\", \"stop\", \"cody\", \"moron\", \"hi\", \"pronounce\", \"sk\", \"latinus\", \"bum\", \"tommy\", \"dudes\", \"actors\", \"poop\", \"emailed\", \"realy\", \"snotty\", \"equipment\", \"grenades\", \"wright\", \"fock\", \"hitting\", \"sky\", \"blogs\", \"officer\", \"hayes\", \"luna\", \"alf\", \"chat\", \"megadeth\", \"undeniable\", \"armchair\", \"aryan\", \"fart\", \"shout\", \"apes\", \"murder\", \"weak\", \"ohio\", \"sexual\", \"stance\", \"ggot\", \"horrid\", \"going\", \"super\", \"oxymoron\", \"six\", \"news\", \"edit\", \"wiki\", \"million\", \"stop\", \"us\", \"link\", \"war\", \"http\", \"yet\", \"make\", \"homo\", \"com\", \"real\", \"site\", \"making\", \"page\", \"asshole\", \"say\", \"nothing\", \"time\", \"like\", \"article\", \"wikipedia\", \"would\", \"one\", \"please\", \"stupid\", \"get\", \"people\", \"know\", \"see\", \"spics\", \"noobs\", \"lunchables\", \"smells\", \"sponsored\", \"pig\", \"mouths\", \"slit\", \"balance\", \"chronology\", \"advocated\", \"tc\", \"imma\", \"agency\", \"dirtball\", \"romanian\", \"misguided\", \"unknown\", \"shotgun\", \"criticisms\", \"columbus\", \"tyler\", \"results\", \"knight\", \"grandma\", \"hate\", \"pirate\", \"cites\", \"slayer\", \"essay\", \"china\", \"hitler\", \"sannse\", \"minorities\", \"retarded\", \"jews\", \"billj\", \"gg\", \"dog\", \"sign\", \"mum\", \"pussy\", \"semen\", \"mother\", \"sloppy\", \"niggers\", \"donkey\", \"american\", \"lick\", \"warning\", \"freak\", \"big\", \"dumbass\", \"fucking\", \"like\", \"whore\", \"cant\", \"utc\", \"retardedyour\", \"people\", \"ass\", \"want\", \"care\", \"know\", \"wikipedia\", \"even\", \"get\", \"stupid\", \"one\", \"dont\", \"life\", \"fuck\", \"think\", \"page\", \"bastered\", \"fffff\", \"uuuuuu\", \"offfuck\", \"curps\", \"fucksex\", \"mann\", \"meters\", \"fuckingabf\", \"messed\", \"sunni\", \"bicth\", \"binksternet\", \"author\", \"gayfrozen\", \"believers\", \"dorms\", \"camps\", \"yooo\", \"stone\", \"ritual\", \"enjoys\", \"evn\", \"sweep\", \"transparent\", \"fc\", \"px\", \"benben\", \"reel\", \"mask\", \"buttsecks\", \"drummer\", \"existance\", \"climate\", \"itsuck\", \"nipple\", \"hist\", \"atheist\", \"credit\", \"notifying\", \"love\", \"allen\", \"gamaliel\", \"easier\", \"picture\", \"floor\", \"unemployed\", \"deletion\", \"google\", \"old\", \"diff\", \"nomination\", \"maher\", \"meatspin\", \"time\", \"showing\", \"go\", \"get\", \"like\", \"well\", \"bastard\", \"article\", \"making\", \"page\", \"one\", \"even\", \"wikipedia\", \"life\", \"securityfuck\", \"nigger\", \"fggt\", \"slap\", \"homeland\", \"mexicans\", \"dickbig\", \"commercial\", \"yehovah\", \"march\", \"firefox\", \"dikkkkk\", \"mezo\", \"simpson\", \"asylum\", \"waht\", \"tanks\", \"henchman\", \"cleansing\", \"licker\", \"lovin\", \"moscow\", \"edgar\", \"viewed\", \"comin\", \"swastika\", \"gon\", \"lecture\", \"chemical\", \"suck\", \"fan\", \"die\", \"balls\", \"freedom\", \"ass\", \"chink\", \"loser\", \"small\", \"shit\", \"niggas\", \"bitch\", \"jforget\", \"dick\", \"know\", \"nigga\", \"nomination\", \"shannon\", \"piece\", \"removing\", \"stupid\", \"fuck\", \"keep\", \"user\", \"go\", \"edits\", \"eat\", \"cunt\", \"faggot\", \"revers\", \"marcolfuck\", \"heil\", \"demons\", \"perish\", \"ref\", \"hearts\", \"chocobos\", \"chula\", \"wer\", \"degrassi\", \"concerts\", \"journal\", \"chester\", \"nl\", \"diego\", \"cked\", \"california\", \"oscar\", \"ers\", \"vandalizes\", \"inflammatory\", \"murders\", \"libeled\", \"damaged\", \"ersi\", \"ned\", \"rape\", \"arrest\", \"ducks\", \"san\", \"fool\", \"vista\", \"cheese\", \"shithead\", \"bloody\", \"computer\", \"buried\", \"genre\", \"bush\", \"bot\", \"bad\", \"metal\", \"george\", \"bill\", \"showing\", \"post\", \"boobs\", \"still\", \"information\", \"said\", \"care\", \"come\", \"dont\", \"go\", \"fucking\", \"block\", \"god\", \"fuck\", \"back\", \"get\", \"right\", \"admin\", \"like\", \"want\", \"bunksteve\", \"communism\", \"farted\", \"shithole\", \"fack\", \"sexsex\", \"cline\", \"kant\", \"gay\", \"orthodox\", \"hanibal\", \"kolkata\", \"dodo\", \"mrs\", \"pro\", \"inept\", \"socialism\", \"mtv\", \"bagel\", \"whale\", \"spammed\", \"kevin\", \"dosent\", \"simpleton\", \"fellowship\", \"hussein\", \"nuthin\", \"pelican\", \"mudda\", \"kinu\", \"loves\", \"assad\", \"censorship\", \"sex\", \"yammer\", \"censor\", \"eat\", \"faggot\", \"cocksucking\", \"arse\", \"john\", \"super\", \"bastard\", \"cunts\", \"urantia\", \"anal\", \"takes\", \"penis\", \"hoo\", \"sucks\", \"couriano\", \"fucking\", \"wikipedia\", \"admins\", \"dick\", \"like\", \"go\", \"shit\", \"stupid\", \"yourselfgo\", \"aidsaids\", \"verbal\", \"bald\", \"pod\", \"aids\", \"vengeance\", \"strings\", \"mafia\", \"norris\", \"arrange\", \"khalsa\", \"snide\", \"suks\", \"inconvenient\", \"deletionists\", \"yer\", \"ramblings\", \"nzi\", \"lt\", \"ashole\", \"punch\", \"creasy\", \"callin\", \"fucc\", \"dayton\", \"inevitably\", \"bighead\", \"dihck\", \"nihgga\", \"questioned\", \"shut\", \"fuck\", \"fcuk\", \"bullshit\", \"vatican\", \"animals\", \"cocks\", \"prick\", \"chuck\", \"iraq\", \"hooded\", \"mo\", \"fire\", \"saliva\", \"constructed\", \"ck\", \"penis\", \"lmao\", \"administrator\", \"niggas\", \"butt\", \"vagina\", \"wrote\", \"house\", \"gamaliel\", \"dog\", \"mum\", \"go\", \"mouth\", \"know\", \"cant\", \"sloppy\", \"anti\", \"tell\", \"ban\", \"bitch\", \"one\", \"people\", \"fucking\", \"like\", \"would\", \"get\", \"wikipedia\", \"gayfag\", \"friggen\", \"ancestryfuck\", \"goof\", \"hail\", \"bootstoots\", \"loloool\", \"macro\", \"spartucused\", \"shitfuck\", \"sucksfrozen\", \"impressed\", \"bitchmother\", \"rm\", \"faggots\", \"nvidia\", \"tvoz\", \"bail\", \"opengl\", \"msg\", \"moonshine\", \"ger\", \"survey\", \"prost\", \"tute\", \"jim\", \"ullmann\", \"elitism\", \"randi\", \"mongoloid\", \"jschnur\", \"douche\", \"bag\", \"admin\", \"mitt\", \"romney\", \"robert\", \"fucker\", \"wanker\", \"cuntbag\", \"enigmaman\", \"wales\", \"bad\", \"huge\", \"cocksucker\", \"mothjer\", \"nhrhs\", \"jewish\", \"homo\", \"must\", \"fat\", \"cougar\", \"ugly\", \"piece\", \"user\", \"cunt\", \"im\", \"like\", \"old\", \"dick\", \"bitch\", \"fucking\", \"faggot\", \"nipple\", \"get\", \"criminalwar\", \"youbollocks\", \"dickbutt\", \"angeles\", \"spanish\", \"sadr\", \"sahrawi\", \"arabian\", \"splatter\", \"gulf\", \"bred\", \"ancestors\", \"idk\", \"sahara\", \"charming\", \"babe\", \"pls\", \"autistic\", \"perception\", \"palace\", \"png\", \"ut\", \"minister\", \"bullshido\", \"fusion\", \"abnormal\", \"trapped\", \"uber\", \"princess\", \"tickle\", \"ha\", \"kaff\", \"jew\", \"bark\", \"kill\", \"keith\", \"cunt\", \"democratic\", \"hater\", \"arab\", \"cock\", \"ah\", \"fat\", \"shall\", \"bollocks\", \"goodbye\", \"damn\", \"cccccc\", \"kk\", \"kkkkkk\", \"uu\", \"image\", \"stupid\", \"retardedyour\", \"current\", \"wikipedians\", \"bitch\", \"couriano\", \"wanker\", \"big\", \"people\", \"wikipedia\", \"one\", \"like\", \"article\", \"name\"], \"Freq\": [10259.0, 6821.0, 3765.0, 2809.0, 1699.0, 2757.0, 2169.0, 2630.0, 2774.0, 1922.0, 1980.0, 1298.0, 1356.0, 1542.0, 1372.0, 705.0, 1686.0, 1118.0, 943.0, 927.0, 1001.0, 922.0, 864.0, 567.0, 1449.0, 576.0, 2821.0, 492.0, 502.0, 1032.0, 157.92096044370507, 476.7114584522639, 55.510912961158404, 43.051620947445905, 41.27837524045599, 38.89454654641422, 37.887636653807526, 30.631067058235136, 111.33023405665902, 106.48534079151928, 22.6009682446076, 82.74471588067662, 23.005643978080876, 20.73233311554398, 20.392556442083315, 23.483825726178594, 19.593636571348302, 22.059624670116165, 22.347452322223273, 18.056199841877227, 17.72857287775119, 18.308087790618696, 17.60134100141299, 88.98237337527533, 18.822651744984977, 19.23221549663593, 81.56589361028362, 23.79818852921449, 15.397214921448514, 17.230250418821893, 428.9228056880159, 788.2303991280384, 73.13332338319924, 264.6915134766552, 34.100158705194715, 1218.440156221726, 770.165092467159, 568.9587821352828, 206.0886142128088, 143.80222245103755, 144.60563290678743, 79.26473101410677, 316.141336925725, 35.05421681589589, 121.50753859998808, 88.98674923731537, 1102.836808206492, 1783.2443059164416, 314.23180032463426, 216.84927962016167, 569.9867873977616, 743.3889686612363, 304.5298203810297, 534.8524939454328, 845.6166230027958, 330.95012814901037, 195.2465282713178, 484.27980958393846, 445.49483440448677, 263.4042779950456, 355.7003534793695, 476.5881257913203, 925.6585584674015, 594.4799895605058, 385.54174406084184, 408.98141783070633, 634.292183330609, 304.59216412335286, 347.8351648448144, 510.457276129193, 346.5646242875423, 686.6089191334978, 366.39753884064845, 366.719921325925, 329.26088151159297, 319.3645936266152, 151.91413297230926, 2734.519281902318, 2599.134768786989, 55.669444673741374, 378.5447502365436, 33.61106464946767, 117.49203260748718, 369.8810983843679, 19.52542380920292, 21.575260132468983, 354.9708000787033, 13.987236004996937, 12.563486860842865, 14.05156549458556, 14.909254336199913, 14.55281398452635, 11.028921041838096, 14.12590250281531, 12.711169790133733, 9.477509476257756, 16.827914300645133, 14.60352172406956, 9.306698748328877, 9.36425656873495, 10.528323551196666, 51.11496969316292, 8.480328078890551, 12.911636544968706, 8.579362031128339, 8.526908264052533, 108.76407588334338, 15.338891079683759, 11.660882714627638, 50.82524765203641, 132.33449569204205, 16.802023857921604, 162.94005522325716, 16.864979319577266, 49.50618813050377, 23.494606654998822, 380.43795102250704, 1228.5369930755714, 130.39277448771074, 24.528510248137714, 74.35945949970409, 359.73356201158253, 597.2788225877058, 45.99901602276082, 403.88772625516765, 178.08258339663033, 177.30891175870974, 101.79724549907343, 121.94755204750815, 148.95343921759294, 280.9214642452272, 162.0855648487887, 113.13431988573068, 164.0588695485399, 145.40794750403282, 201.5223948753086, 372.85595730030946, 189.08459555566452, 179.89744544337677, 178.89180652570025, 241.62784677045647, 441.0677878870154, 259.496125421993, 422.6580091123886, 228.03928492461995, 251.4330705704808, 203.26392194215862, 241.87109074395815, 233.9312479951325, 212.55701170513422, 196.73544567434334, 176.07359591175347, 65.4030814088609, 850.7009097108091, 43.81050673745183, 118.68392731640328, 28.601558430177995, 278.23217848751665, 20.07234820166852, 20.057281060134976, 19.53509196517772, 16.74644433295152, 16.76401782818568, 16.317999892129695, 45.71992365870314, 17.13178743225518, 24.718353604697892, 16.950190575280466, 13.344323485338721, 23.17815419934313, 12.902218576815322, 28.24553401803885, 17.87233476579596, 11.430371911962414, 19.35428779410832, 12.915469719232458, 19.557520852498566, 1042.8033505932876, 10.946997698035347, 9.828047467028556, 9.526538920710761, 9.738345663743539, 138.78354605148098, 716.0864577586585, 44.92188597802965, 74.58463242678086, 373.44681135935383, 144.8302457771958, 50.84734294356041, 167.06765439557876, 563.0406380881557, 201.05241764806013, 246.10525106111464, 205.1307881582275, 47.79003741009237, 437.0400518590689, 144.84361299693242, 84.62772152845578, 56.9639975822524, 137.82201041167085, 219.59864081935936, 239.81535102311702, 58.247409519614045, 264.5435101066436, 98.9183241227604, 829.9117794794278, 954.2386529484414, 158.2730868327665, 155.66132270741136, 146.3559049709541, 106.07178443360476, 435.8523487262748, 443.0690833948943, 259.332053897158, 169.95949476481178, 345.57239485965124, 415.3829565260336, 224.25353682866006, 282.82351300040983, 258.84887900020715, 235.90225017854135, 179.91004580554048, 190.65230525836537, 258.10434685447564, 177.1441676559278, 172.1349059182898, 206.39112041405457, 165.87638800518297, 164.28660961511878, 164.9393352706605, 235.13179174818922, 85.78593628333158, 86.14187256261637, 31.49402454870677, 82.17624821361767, 22.618913194192118, 17.67628324583567, 17.299077045694037, 15.99247518918786, 183.67788816660052, 101.81147039987269, 14.613161429107391, 15.029648370186246, 14.61800165467872, 77.84317746358016, 14.695740484907128, 14.803374826017269, 288.9020023134107, 15.267332851158988, 78.06489900197437, 12.827002671992398, 13.328170222934142, 12.578756744142584, 9.17932501601692, 9.001648596816384, 10.20934730503727, 122.00727192225852, 31.612827115213047, 19.746685066444133, 24.827937068126776, 63.861824167451445, 401.5587052361947, 179.5913561963871, 163.84965440095732, 43.859458969417155, 128.20034287453618, 355.0381723961379, 20.68558847544976, 197.30159686853693, 47.7959486144465, 179.34870079908507, 60.249139545358744, 34.36962729852618, 130.7376292597591, 136.24731823870093, 186.25486720202457, 120.02449708797572, 78.0240254674246, 97.90666392859279, 97.90666392859279, 191.02565864066298, 96.45734076311142, 218.2646184854854, 227.96159267396823, 265.52215384985533, 143.203109789446, 136.60918227736428, 165.22196336978786, 139.56046897861964, 156.30466223808975, 142.29630263033548, 128.25791215341445, 142.54908656137886, 124.03778622341069, 228.67886941830386, 6796.330276885629, 570.3135654721924, 190.3889809948863, 228.91203956296238, 84.54997412325527, 18.06930398699867, 17.662229044211088, 14.345498227346672, 204.41446446662297, 13.554811730683323, 13.269797315211571, 12.903830403707719, 13.872705143765863, 12.852986116733243, 10.608386523318726, 10.956105541330553, 18.50871536370193, 8.683288106857908, 23.445193553704577, 8.174995597001939, 8.151291269955067, 11.259711141847664, 7.798102231651453, 7.780549979090724, 7.585609289049698, 7.5950072349906534, 11.191160619293811, 7.21550476325658, 1731.324135105081, 133.78117122569395, 803.3896246947719, 265.9264268612918, 107.77820016899274, 1855.5972570967924, 50.435402278328716, 272.9925445461177, 116.65327412557436, 904.5575548842089, 285.4565170223681, 672.2871638002244, 33.72414337223708, 456.6085045685639, 661.645132893114, 62.780608558079834, 80.52497395600167, 76.53971227694831, 217.75411844269948, 112.56623148276086, 281.4008144527613, 778.0961784029531, 124.81262051896954, 189.9546401884088, 219.40310628529616, 111.02885777833858, 120.67372364173573, 132.80594061009558, 134.66308450886294, 44.34637845360341, 26.52932521379179, 486.12979731724045, 22.500422259584546, 15.051171522722964, 16.921637044631076, 12.920845745121236, 55.080529988107386, 174.8945705244454, 10.806296978286598, 10.840312054555524, 10.834373215909897, 11.900091116176915, 26.631093152823265, 55.30525045947147, 181.0908930264772, 8.085636818012283, 179.7004567056888, 7.756511995173599, 44.811921207583154, 7.356256730066274, 7.295157094248983, 7.276990726726431, 6.8037762889631495, 7.057183726521079, 12.171099975733872, 9.157806672583913, 346.6965705125971, 176.48386766951495, 6.562877125381756, 182.57988901768186, 742.1409115758449, 166.73508478776918, 62.49884866180931, 167.4342212859229, 647.776668285624, 206.39683130056696, 31.24487021347342, 26.42779914746152, 73.79739286795069, 47.72952448715046, 960.0884497395311, 52.892677380017574, 70.09575231678286, 138.93691784307055, 135.04760480771444, 191.34430529071724, 55.265583336474066, 227.90545109354127, 202.04431131045988, 234.10784114504898, 178.07277781826255, 208.87374597386534, 177.19447584435432, 317.60168946350217, 359.35922837898727, 214.54987631274255, 114.87968539751245, 453.4872104146724, 143.09367297947193, 210.50171510853306, 149.46468285696167, 180.9015136120833, 154.44337671724222, 143.79126149233795, 316.3338166426699, 487.05748890411246, 85.59650969476037, 556.7708695944983, 39.83116192422959, 30.447678976886557, 157.8871887901639, 14.556566009990089, 3498.6949110373616, 9.492098939994031, 258.41645510628393, 9.920963026563994, 7.8478154378156795, 9.841183581966519, 286.14035295795884, 8.29544430526082, 7.1985583401945386, 6.5322269199399665, 5.995020739703857, 5.847486401717311, 5.746576614871221, 5.650755562545186, 5.4232215034536235, 10.244816556979387, 18.237286921481658, 5.406177656904422, 5.067820982354283, 5.06759723388778, 5.0671053730346935, 5.067182913451533, 258.5151142921756, 263.34714296815827, 249.90347096869306, 173.14599476309644, 8.878487287726012, 254.1267803683598, 666.98083397612, 1067.0777067415015, 90.6017042528871, 163.14770349496283, 162.71671148332177, 1565.56613137074, 362.22088049279216, 71.08446191413988, 32.69809167399452, 193.09611168678907, 135.9871950233834, 281.6280778146295, 25.962503630582816, 205.41011625620612, 138.20396520968666, 506.4861391948678, 586.4513845189279, 98.78404679451677, 194.69222523031522, 336.2316412351016, 227.3437247581196, 191.8590449928198, 141.3640712755065, 705.0346120140352, 44.67652587023908, 18.69131848256898, 32.664647523720824, 12.889324382804345, 241.94147273456375, 11.137358662660773, 9.717909536120983, 8.461161799211421, 21.964956261304923, 10.937019585995067, 14.274320941922095, 6.80739594247607, 6.105807704469614, 5.818085232722142, 7.095894715778073, 7.798003913014015, 6.6372770676003015, 5.41262749727068, 5.374775946767728, 5.374449824006829, 9.168682274930415, 5.056930691464613, 5.05681158245159, 5.056334004779562, 5.061822913418065, 5.055534870826369, 5.2044824040421895, 4.971007808817302, 4.971003622877547, 6.139622486889008, 1100.9900998287844, 7865.761777667371, 19.988599054664444, 424.6469600516675, 5.6416448277366396, 150.49344186559304, 55.9681942549416, 74.1732694091109, 22.632525366923954, 24.65733596784641, 10.535356595201337, 15.002589218305845, 43.13106473548009, 18.173583187773858, 18.173583187773858, 57.852810883755524, 217.13781610096765, 91.42349973984754, 61.47127724653411, 167.35792643172366, 37.387553541649986, 33.93746850820894, 97.37216155782153, 40.48282005555352, 86.6818863766141, 126.31651326504814, 72.11551013475832, 174.9944687543548, 35.59462269290583, 145.51210658232065, 57.76953655935308, 46.377338645498796, 46.23741257353457, 59.31542389888711, 64.34434190097248, 65.09927233035458, 62.131431911227416, 63.366305449138196, 62.615844081254345, 62.55623021050606, 53.036398582503224, 55.490126447423066, 55.95478707044689, 92.62163185054486, 93.76526277624689, 49.781467506371676, 32.920250623134606, 38.91518705059909, 23.999904277730053, 22.96018307838896, 22.96018307838896, 22.96018307838896, 118.22224813364329, 19.84093852226178, 32.35119890245136, 18.957710733596716, 28.356081182649987, 118.15599648806217, 14.288872235569722, 13.34298566614163, 13.257110055340032, 13.362135049373707, 20.907749978164443, 11.852611181418297, 13.508350968342045, 13.22741797281851, 16.747093873319827, 16.747093873319827, 164.29659939570558, 42.897083474535286, 9.580517109946568, 8.447743643058654, 8.321713510635306, 47.027602227286906, 320.99582232180876, 290.6196940721547, 1750.2303226446245, 154.10006579192043, 153.90868083429112, 49.042096685026706, 399.34254162638985, 323.7458071952237, 121.20914433566915, 48.24017595761017, 159.42197237670123, 884.6974741667532, 199.43808914068106, 117.52364111344342, 83.60852705967748, 106.43270471099567, 78.58550104455813, 176.7911148205152, 160.4540597851759, 198.77865467613574, 87.66728622412376, 77.82353453724765, 159.85404298557873, 197.72655665770296, 201.61272431126068, 129.40869276542784, 292.2720433895201, 124.57700145808022, 155.92085263194647, 173.7559787551975, 197.40334957364772, 154.2248082717429, 118.85341984494978, 111.65779657014217, 1699.1367388399983, 311.49988964908516, 46.00348363649818, 43.39071757016418, 92.64005490979072, 24.51430685031567, 24.50636756379348, 20.590439824186724, 18.109602351121644, 13.73791641413364, 12.480968721597037, 11.840609017615927, 12.888763202302675, 12.301066434540942, 12.38248590054805, 11.6907690148227, 10.705473127228547, 16.959810083855725, 12.457422738320416, 22.6489511535621, 12.572599761283643, 7.249170339301199, 10.643512770176162, 7.157097188858683, 6.909460291436074, 6.836583727200411, 7.812739333468591, 7.3278167918646835, 16.262449894405442, 6.3330869217230745, 181.26039143557688, 24.20406607214519, 119.20949209580257, 41.58761156669817, 986.1165549053462, 14.979111494659278, 790.9175599509266, 25.670868587773615, 42.92704627617857, 50.69554959127737, 242.0006674697721, 48.956030214047686, 294.10657157376124, 58.55408636107457, 25.03613472757221, 26.392271121800523, 126.4068207398795, 77.18619253876079, 77.18619253876079, 77.18619253876079, 77.18620251587235, 62.63212595069075, 313.1899923927686, 72.00573699611134, 71.84921606999116, 51.030885299293836, 172.71477588978982, 79.57099657166435, 85.32737090188147, 88.22314771466658, 99.18581830646808, 82.82130006654754, 64.00644313645543, 68.3517196591497, 57.619355721994744, 54.650282059149596], \"Total\": [10259.0, 6821.0, 3765.0, 2809.0, 1699.0, 2757.0, 2169.0, 2630.0, 2774.0, 1922.0, 1980.0, 1298.0, 1356.0, 1542.0, 1372.0, 705.0, 1686.0, 1118.0, 943.0, 927.0, 1001.0, 922.0, 864.0, 567.0, 1449.0, 576.0, 2821.0, 492.0, 502.0, 1032.0, 158.75329171624358, 481.5018738463586, 56.25953806829049, 43.79291466607808, 42.08780856442747, 39.679901421719684, 38.65465768055744, 31.370056210112452, 114.6652104401619, 110.00048448455897, 23.38682794355115, 85.65202016215841, 23.822180672922084, 21.47397741172076, 21.13158547558513, 24.364129905636823, 20.332376996979633, 22.933742253137318, 23.245798763991345, 18.795235905858608, 18.467907367682024, 19.086149932463506, 18.349619421013507, 92.95624849577781, 19.671033707287982, 20.109559685642353, 85.29785403148716, 24.90870063753407, 16.136418496490023, 18.05799698900389, 451.98640435452364, 872.1107959812239, 79.4286602605254, 302.60663095658373, 36.301957513807054, 1603.4415853581086, 1019.3639965497622, 741.1456333512643, 251.68469850445092, 171.00267062823468, 176.90046085133147, 92.10549310320437, 430.9898861919715, 38.321907248998755, 155.3420352737029, 109.85096828985283, 2029.0011494450055, 3735.2752552805277, 521.303132492254, 347.1831814089837, 1146.100486116139, 1650.7181070013817, 541.1928568729702, 1179.3525013411142, 2175.975540537769, 636.8945367233921, 316.35181052596846, 1132.4855979893184, 1007.4121157803817, 486.92780919539604, 788.9987780280117, 1247.8808001168238, 3534.726797061956, 1770.8551827132742, 928.3731592949598, 1053.8060688142943, 2261.462170427983, 690.2184909200519, 997.5924607926763, 2821.1765417259116, 1048.0230856607361, 10259.184472867242, 1352.1867989030447, 1894.9630181541463, 1016.1430105615705, 1115.0752511934986, 152.80330684040337, 2757.8881217487146, 2630.2657908767424, 56.443158256984, 385.8869206239569, 34.39104177389867, 120.54117465046528, 383.88102546874893, 20.299477657352497, 22.490211521278443, 371.888271505862, 14.831008310076708, 13.335487387356316, 14.91738190166421, 15.82833027891665, 15.5001844064565, 11.802050318831878, 15.129975995320295, 13.621457744071323, 10.248827900258684, 18.20151230260601, 15.807090599498155, 10.077980966032241, 10.155282350543008, 11.420579415749403, 55.70681104534493, 9.251997438771504, 14.095363252287193, 9.36740586304934, 9.318148723995954, 122.61381227711767, 16.94146281703086, 12.810266382422196, 59.052353153481285, 161.09565441402788, 18.78728739900809, 215.48886337242834, 19.024330485574186, 63.355787153553095, 27.751613302239857, 663.8143337967001, 2809.5199383118124, 205.7584816484217, 29.798912091353916, 115.67978876988118, 834.2406084282006, 1650.7181070013817, 67.10698009870306, 1115.0752511934986, 397.8161280169999, 400.63236787630467, 202.65183912483693, 269.06183639934454, 356.33503855056034, 918.8611795533968, 424.3623365195575, 253.97094710400353, 456.1232196510002, 379.4980405972245, 668.2977295116591, 2029.0011494450055, 612.1317969517808, 562.9527581188424, 582.2216744747302, 1033.74534148263, 3534.726797061956, 1247.8808001168238, 3735.2752552805277, 997.5924607926763, 1352.1867989030447, 928.3731592949598, 1740.22014784112, 2175.975540537769, 1770.8551827132742, 2261.462170427983, 750.562013287759, 66.15960509145759, 864.1933535323087, 44.567085890236186, 121.05856041697007, 29.370530130555878, 287.78945747747076, 20.82915960970215, 20.815243474386886, 20.39140189183742, 17.503449914943044, 17.545425266103823, 17.08146476075029, 48.03033525115349, 18.045813850213197, 26.07062885438255, 17.89782631801325, 14.106010606318991, 24.535990844443724, 13.659884902712703, 30.071860716827608, 19.052830784271105, 12.187185957424001, 20.649477488995366, 13.796550951507514, 20.898541672584532, 1118.8787633325392, 11.751648055918999, 10.593067997309296, 10.290416378046828, 10.523391973295672, 154.24770301040112, 829.8630193908767, 49.62697225283895, 83.29553604008964, 440.1570460623262, 169.48820572220956, 57.21763677890261, 201.15567595207554, 751.9160657053981, 253.44289742678617, 337.2628349177859, 277.6918423093379, 56.22902055765758, 672.8976610181716, 199.15458926351897, 108.70108457376828, 69.94934490324792, 204.35340224529966, 364.90916989039465, 426.71563653674104, 77.03593180380308, 561.488050521285, 155.51328642462292, 2821.1765417259116, 3534.726797061956, 321.89352947702025, 315.7818370924053, 290.8668799835107, 178.75475562136634, 1770.8551827132742, 2774.4159289407457, 1048.0230856607361, 474.76306963684016, 2261.462170427983, 3735.2752552805277, 1053.8060688142943, 2175.975540537769, 1740.22014784112, 1352.1867989030447, 610.3019701440876, 1016.1430105615705, 10259.184472867242, 1179.3525013411142, 2029.0011494450055, 207.17513112767062, 166.7349460411552, 165.26806673707418, 166.2277311888766, 237.1059378123858, 86.55286737321083, 86.91293117658826, 32.26867895748564, 84.80432866129277, 23.572527023711864, 18.44387472307132, 18.066181428328512, 16.76160087079205, 192.75894741615713, 107.06501618606427, 15.403367437825967, 15.854583273749027, 15.482340623065003, 82.85247084630939, 15.66078915177191, 15.776165276022057, 308.67545106229056, 16.3127188853659, 84.15915786953722, 13.833592243121386, 14.41065235891044, 13.602179039675322, 9.949743490755683, 9.769224468158347, 11.10180604625068, 134.01459586356788, 34.91885149418664, 21.68994358436547, 27.50489633151813, 74.89525928085513, 540.6004321468339, 233.41089490638507, 213.334467715236, 52.09904581112239, 172.57659225208513, 654.4008531769423, 23.28798497147378, 365.2695060084694, 65.42192260186343, 358.16547001536054, 90.91145126820652, 44.255680480238986, 278.19809192626786, 307.6774455503931, 490.64669345735035, 305.754531491726, 162.19611252259077, 243.44239697942305, 243.44239697942305, 1033.74534148263, 252.63726492888085, 1894.9630181541463, 2175.975540537769, 3534.726797061956, 671.4110944559025, 597.997708650626, 1247.8808001168238, 668.2977295116591, 2029.0011494450055, 1352.1867989030447, 1053.8060688142943, 3735.2752552805277, 1016.1430105615705, 229.4575912970335, 6821.580324367131, 576.9714303105284, 193.55700514363676, 235.74099700968776, 87.51435422585917, 18.848079958256395, 18.451465724824818, 15.124994832337162, 216.29043161640328, 14.346275943716273, 14.048326248786418, 13.682353632825931, 14.736676133082847, 13.710811389147812, 11.387271139372064, 11.771575082447026, 19.94803094180894, 9.469082089293384, 25.657109745033328, 8.953991185499596, 8.932371785354444, 12.35724421393162, 8.577848327247645, 8.578733241037769, 8.36454487571368, 8.40717828004743, 12.39879915531641, 7.995590612028497, 1922.4392138990343, 151.9366383686395, 1001.6764450201917, 326.8650323575791, 128.8568115682405, 2774.4159289407457, 61.54238612692929, 429.8139553957386, 168.84780966145516, 1686.9018045654614, 463.9323051348396, 1449.3807532168928, 44.14796720811944, 1032.1744932901252, 2261.462170427983, 112.06640631154528, 162.19611252259077, 151.39282003116634, 648.495791318963, 262.7071967764929, 1740.22014784112, 10259.184472867242, 501.3588191422718, 1132.4855979893184, 1894.9630181541463, 689.5391830695088, 922.0606320268433, 1372.5729068167448, 1542.687088090499, 45.138097592643405, 27.32088972559317, 502.9291267030703, 23.39564272115621, 15.84315586719617, 17.953083305087095, 13.712562514754671, 58.46940511068171, 186.5060365094574, 11.598263607206604, 11.64297483411975, 11.646459049363639, 12.80927672739532, 28.802935213972006, 59.89344336921388, 198.33113281771617, 8.883643493426, 197.94402305956308, 8.548950372954684, 49.63248430455831, 8.147921719109977, 8.088966443080484, 8.0937311632016, 7.5971418357171325, 7.883888538580756, 13.607564814344467, 10.243823398686878, 387.877081338713, 197.81851503722808, 7.378175107340445, 205.32061213871523, 927.6611806931093, 200.22338817889636, 73.8490819666217, 221.61499247270697, 943.8522816316369, 280.4639743405755, 38.089646976258464, 32.20499757513607, 100.37586910833691, 62.55932394326339, 1980.620321360632, 71.05612788550177, 109.90864572097082, 256.4534243887183, 252.63726492888085, 443.73290395571354, 85.57797376272686, 586.6012816024825, 502.8749589463586, 693.5098869146128, 474.76306963684016, 723.9495921320779, 610.3019701440876, 1894.9630181541463, 2821.1765417259116, 1146.100486116139, 344.04470927860524, 10259.184472867242, 635.0593581849955, 2175.975540537769, 1007.4121157803817, 2169.53126438935, 3534.726797061956, 1048.0230856607361, 317.1326746135482, 492.79841206575924, 87.19738494194856, 567.7766258461331, 40.629865582339825, 31.24634067945596, 163.46116604645442, 15.390684421921371, 3765.866807293489, 10.291287758085046, 280.9086859097157, 10.86553307961343, 8.64909909123883, 10.855258540208432, 316.0600533746581, 9.165683503736012, 7.99751461508544, 7.331075900352636, 6.798277748530487, 6.646344717007646, 6.545605403529493, 6.449980831392897, 6.223484223393766, 11.781069702186416, 20.998684179881753, 6.239852528792024, 5.866478650995277, 5.866549297780395, 5.866912243760555, 5.867022884438519, 299.47780701239964, 308.0681863568316, 297.1558444181166, 213.85172514575987, 10.365766188933986, 330.504611270879, 922.0606320268433, 1542.687088090499, 119.39976232919749, 227.00311749162614, 233.75366279916366, 2809.5199383118124, 597.997708650626, 99.86032168943636, 42.6306277658122, 328.0709834877923, 223.60955802291932, 583.3272355703706, 34.21802572957609, 457.45207906751517, 323.9748920354066, 2821.1765417259116, 3735.2752552805277, 253.70828841898373, 1032.1744932901252, 3534.726797061956, 1894.9630181541463, 1686.9018045654614, 1740.22014784112, 705.8337230527436, 45.47533363434672, 19.498759445277376, 34.180606115482696, 13.690048194462026, 258.54950135401407, 12.0598443118475, 10.542663308268086, 9.262101185723848, 24.17979800490213, 12.089111772747668, 15.849179297581967, 7.683998854455286, 6.906243677633271, 6.619073633616258, 8.098642881510314, 8.903130719394104, 7.599414587867268, 6.211604734329509, 6.173826609204028, 6.1740039067400865, 10.540524002283643, 5.855729719462435, 5.855756409790922, 5.855886821472738, 5.862604250209348, 5.856412768857405, 6.031081519829318, 5.771039840946712, 5.7710415513393185, 7.131395305155511, 1356.2144360827142, 10259.184472867242, 24.02530337198127, 564.481378147377, 6.567695440891898, 215.6216989728996, 76.38607494774381, 106.4756482927598, 29.491570832286367, 32.77590846925082, 12.900774186561845, 19.03523404022332, 63.39922524077788, 24.09961401912026, 24.497777835436377, 100.33348094403907, 583.3272355703706, 201.4271714139408, 125.58058373719045, 463.9323051348396, 67.70613988834214, 59.68910204215034, 295.57201904592114, 94.33737101089876, 365.2695060084694, 751.9160657053981, 337.2628349177859, 1894.9630181541463, 103.06473779543758, 2261.462170427983, 315.7818370924053, 199.15458926351897, 215.4644236930751, 557.7583641706926, 788.9987780280117, 1449.3807532168928, 1352.1867989030447, 1770.8551827132742, 2821.1765417259116, 3534.726797061956, 997.5924607926763, 2175.975540537769, 3735.2752552805277, 93.39749937189693, 94.56376549821528, 50.802575845665636, 33.69637786169626, 40.12735092433736, 24.775725005506537, 23.736003101274175, 23.736003101274175, 23.736003101274175, 122.32741392099459, 20.61683269944878, 33.668499879733446, 19.733569201208468, 29.53918361320677, 124.3380550225552, 15.089973768108006, 14.12044151315245, 14.033146331927236, 14.152678255211782, 22.1638915243837, 12.628434271409619, 14.464946383148376, 14.16602753181683, 17.944847393167557, 17.944847393167557, 176.94247743397963, 46.50431839785951, 10.426518200680468, 9.225382364752345, 9.15497435810253, 51.75134630639505, 370.9429206910777, 336.78641893598285, 2169.53126438935, 179.21397655989833, 179.38391874878337, 55.344195932698696, 518.2779665306292, 420.69080810679174, 157.6688072762693, 57.40389912782624, 226.37055134258827, 1980.620321360632, 336.64398880894595, 184.1709284118251, 121.23049498419981, 164.67780302433187, 123.61670129478217, 424.3623365195575, 411.315209946978, 624.6191732324494, 168.73906359311505, 145.83362846869974, 648.495791318963, 1132.4855979893184, 1372.5729068167448, 506.99324993649554, 3534.726797061956, 490.64669345735035, 1032.1744932901252, 1449.3807532168928, 2821.1765417259116, 1542.687088090499, 540.6004321468339, 2175.975540537769, 1699.9196123652966, 312.2822045509031, 46.785789376941096, 44.189129401828495, 95.35346388627956, 25.374073896755856, 25.43108093254625, 21.45475579488451, 18.891676456567474, 14.5249763411505, 13.264952083525358, 12.62502007965057, 13.769494567179292, 13.147195657949153, 13.280487950186433, 12.540778118357201, 11.491311924163377, 18.21535516972593, 13.474347134710955, 24.567266568899857, 13.791658471974106, 8.03158520326147, 11.797785989406638, 7.966530003313481, 7.692573214821422, 7.626610026654407, 8.73225122930541, 8.205348412053423, 18.227874313813665, 7.115159459248394, 215.77952306342792, 27.738500547047085, 142.96914937151126, 48.927730490955504, 1298.796997643723, 17.1261680423028, 1372.5729068167448, 31.791622110032776, 57.43395486365398, 70.11160771881029, 449.5184124946896, 69.7843521352674, 624.6191732324494, 89.48448499743243, 31.52667801590543, 34.83323046918824, 268.7948769862006, 150.12943944052412, 150.12943944052412, 150.12943944052412, 156.9833127638241, 120.02001520005973, 1740.22014784112, 178.75475562136634, 183.8151759593369, 112.01590639693875, 1449.3807532168928, 323.9748920354066, 420.69080810679174, 561.488050521285, 1770.8551827132742, 3735.2752552805277, 1352.1867989030447, 3534.726797061956, 1247.8808001168238, 554.842104789496], \"Category\": [\"Default\", \"Default\", \"Default\", \"Default\", \"Default\", \"Default\", \"Default\", \"Default\", \"Default\", \"Default\", \"Default\", \"Default\", \"Default\", \"Default\", \"Default\", \"Default\", \"Default\", \"Default\", \"Default\", \"Default\", \"Default\", \"Default\", \"Default\", \"Default\", \"Default\", \"Default\", \"Default\", \"Default\", \"Default\", \"Default\", \"Topic1\", \"Topic1\", \"Topic1\", \"Topic1\", \"Topic1\", \"Topic1\", \"Topic1\", \"Topic1\", \"Topic1\", \"Topic1\", \"Topic1\", \"Topic1\", \"Topic1\", \"Topic1\", \"Topic1\", \"Topic1\", \"Topic1\", \"Topic1\", \"Topic1\", \"Topic1\", \"Topic1\", \"Topic1\", \"Topic1\", \"Topic1\", \"Topic1\", \"Topic1\", \"Topic1\", \"Topic1\", \"Topic1\", \"Topic1\", \"Topic1\", \"Topic1\", \"Topic1\", \"Topic1\", \"Topic1\", \"Topic1\", \"Topic1\", \"Topic1\", \"Topic1\", \"Topic1\", \"Topic1\", \"Topic1\", \"Topic1\", \"Topic1\", \"Topic1\", \"Topic1\", \"Topic1\", \"Topic1\", \"Topic1\", \"Topic1\", \"Topic1\", \"Topic1\", \"Topic1\", \"Topic1\", \"Topic1\", \"Topic1\", \"Topic1\", \"Topic1\", \"Topic1\", \"Topic1\", \"Topic1\", \"Topic1\", \"Topic1\", \"Topic1\", \"Topic1\", \"Topic1\", \"Topic1\", \"Topic1\", \"Topic1\", \"Topic1\", \"Topic1\", \"Topic1\", \"Topic1\", \"Topic1\", \"Topic1\", \"Topic1\", \"Topic2\", \"Topic2\", \"Topic2\", \"Topic2\", \"Topic2\", \"Topic2\", \"Topic2\", \"Topic2\", \"Topic2\", \"Topic2\", \"Topic2\", \"Topic2\", \"Topic2\", \"Topic2\", \"Topic2\", \"Topic2\", \"Topic2\", \"Topic2\", \"Topic2\", \"Topic2\", \"Topic2\", \"Topic2\", \"Topic2\", \"Topic2\", \"Topic2\", \"Topic2\", \"Topic2\", \"Topic2\", \"Topic2\", \"Topic2\", \"Topic2\", \"Topic2\", \"Topic2\", \"Topic2\", \"Topic2\", \"Topic2\", \"Topic2\", \"Topic2\", \"Topic2\", \"Topic2\", \"Topic2\", \"Topic2\", \"Topic2\", \"Topic2\", \"Topic2\", \"Topic2\", \"Topic2\", \"Topic2\", \"Topic2\", \"Topic2\", \"Topic2\", \"Topic2\", \"Topic2\", \"Topic2\", \"Topic2\", \"Topic2\", \"Topic2\", \"Topic2\", \"Topic2\", \"Topic2\", \"Topic2\", \"Topic2\", \"Topic2\", \"Topic2\", \"Topic2\", \"Topic2\", \"Topic2\", \"Topic2\", \"Topic2\", \"Topic2\", \"Topic2\", \"Topic2\", \"Topic2\", \"Topic2\", \"Topic2\", \"Topic2\", \"Topic3\", \"Topic3\", \"Topic3\", \"Topic3\", \"Topic3\", \"Topic3\", \"Topic3\", \"Topic3\", \"Topic3\", \"Topic3\", \"Topic3\", \"Topic3\", \"Topic3\", \"Topic3\", \"Topic3\", \"Topic3\", \"Topic3\", \"Topic3\", \"Topic3\", \"Topic3\", \"Topic3\", \"Topic3\", \"Topic3\", \"Topic3\", \"Topic3\", \"Topic3\", \"Topic3\", \"Topic3\", \"Topic3\", \"Topic3\", \"Topic3\", \"Topic3\", \"Topic3\", \"Topic3\", \"Topic3\", \"Topic3\", \"Topic3\", \"Topic3\", \"Topic3\", \"Topic3\", \"Topic3\", \"Topic3\", \"Topic3\", \"Topic3\", \"Topic3\", \"Topic3\", \"Topic3\", \"Topic3\", \"Topic3\", \"Topic3\", \"Topic3\", \"Topic3\", \"Topic3\", \"Topic3\", \"Topic3\", \"Topic3\", \"Topic3\", \"Topic3\", \"Topic3\", \"Topic3\", \"Topic3\", \"Topic3\", \"Topic3\", \"Topic3\", \"Topic3\", \"Topic3\", \"Topic3\", \"Topic3\", \"Topic3\", \"Topic3\", \"Topic3\", \"Topic3\", \"Topic3\", \"Topic3\", \"Topic4\", \"Topic4\", \"Topic4\", \"Topic4\", \"Topic4\", \"Topic4\", \"Topic4\", \"Topic4\", \"Topic4\", \"Topic4\", \"Topic4\", \"Topic4\", \"Topic4\", \"Topic4\", \"Topic4\", \"Topic4\", \"Topic4\", \"Topic4\", \"Topic4\", \"Topic4\", \"Topic4\", \"Topic4\", \"Topic4\", \"Topic4\", \"Topic4\", \"Topic4\", \"Topic4\", \"Topic4\", \"Topic4\", \"Topic4\", \"Topic4\", \"Topic4\", \"Topic4\", \"Topic4\", \"Topic4\", \"Topic4\", \"Topic4\", \"Topic4\", \"Topic4\", \"Topic4\", \"Topic4\", \"Topic4\", \"Topic4\", \"Topic4\", \"Topic4\", \"Topic4\", \"Topic4\", \"Topic4\", \"Topic4\", \"Topic4\", \"Topic4\", \"Topic4\", \"Topic4\", \"Topic4\", \"Topic4\", \"Topic4\", \"Topic4\", \"Topic4\", \"Topic4\", \"Topic4\", \"Topic4\", \"Topic4\", \"Topic4\", \"Topic4\", \"Topic4\", \"Topic4\", \"Topic4\", \"Topic4\", \"Topic5\", \"Topic5\", \"Topic5\", \"Topic5\", \"Topic5\", \"Topic5\", \"Topic5\", \"Topic5\", \"Topic5\", \"Topic5\", \"Topic5\", \"Topic5\", \"Topic5\", \"Topic5\", \"Topic5\", \"Topic5\", \"Topic5\", \"Topic5\", \"Topic5\", \"Topic5\", \"Topic5\", \"Topic5\", \"Topic5\", \"Topic5\", \"Topic5\", \"Topic5\", \"Topic5\", \"Topic5\", \"Topic5\", \"Topic5\", \"Topic5\", \"Topic5\", \"Topic5\", \"Topic5\", \"Topic5\", \"Topic5\", \"Topic5\", \"Topic5\", \"Topic5\", \"Topic5\", \"Topic5\", \"Topic5\", \"Topic5\", \"Topic5\", \"Topic5\", \"Topic5\", \"Topic5\", \"Topic5\", \"Topic5\", \"Topic5\", \"Topic5\", \"Topic5\", \"Topic5\", \"Topic5\", \"Topic5\", \"Topic5\", \"Topic5\", \"Topic5\", \"Topic6\", \"Topic6\", \"Topic6\", \"Topic6\", \"Topic6\", \"Topic6\", \"Topic6\", \"Topic6\", \"Topic6\", \"Topic6\", \"Topic6\", \"Topic6\", \"Topic6\", \"Topic6\", \"Topic6\", \"Topic6\", \"Topic6\", \"Topic6\", \"Topic6\", \"Topic6\", \"Topic6\", \"Topic6\", \"Topic6\", \"Topic6\", \"Topic6\", \"Topic6\", \"Topic6\", \"Topic6\", \"Topic6\", \"Topic6\", \"Topic6\", \"Topic6\", \"Topic6\", \"Topic6\", \"Topic6\", \"Topic6\", \"Topic6\", \"Topic6\", \"Topic6\", \"Topic6\", \"Topic6\", \"Topic6\", \"Topic6\", \"Topic6\", \"Topic6\", \"Topic6\", \"Topic6\", \"Topic6\", \"Topic6\", \"Topic6\", \"Topic6\", \"Topic6\", \"Topic6\", \"Topic6\", \"Topic6\", \"Topic6\", \"Topic6\", \"Topic6\", \"Topic6\", \"Topic6\", \"Topic6\", \"Topic6\", \"Topic6\", \"Topic6\", \"Topic6\", \"Topic7\", \"Topic7\", \"Topic7\", \"Topic7\", \"Topic7\", \"Topic7\", \"Topic7\", \"Topic7\", \"Topic7\", \"Topic7\", \"Topic7\", \"Topic7\", \"Topic7\", \"Topic7\", \"Topic7\", \"Topic7\", \"Topic7\", \"Topic7\", \"Topic7\", \"Topic7\", \"Topic7\", \"Topic7\", \"Topic7\", \"Topic7\", \"Topic7\", \"Topic7\", \"Topic7\", \"Topic7\", \"Topic7\", \"Topic7\", \"Topic7\", \"Topic7\", \"Topic7\", \"Topic7\", \"Topic7\", \"Topic7\", \"Topic7\", \"Topic7\", \"Topic7\", \"Topic7\", \"Topic7\", \"Topic7\", \"Topic7\", \"Topic7\", \"Topic7\", \"Topic7\", \"Topic7\", \"Topic7\", \"Topic7\", \"Topic7\", \"Topic7\", \"Topic7\", \"Topic7\", \"Topic7\", \"Topic7\", \"Topic7\", \"Topic7\", \"Topic7\", \"Topic7\", \"Topic8\", \"Topic8\", \"Topic8\", \"Topic8\", \"Topic8\", \"Topic8\", \"Topic8\", \"Topic8\", \"Topic8\", \"Topic8\", \"Topic8\", \"Topic8\", \"Topic8\", \"Topic8\", \"Topic8\", \"Topic8\", \"Topic8\", \"Topic8\", \"Topic8\", \"Topic8\", \"Topic8\", \"Topic8\", \"Topic8\", \"Topic8\", \"Topic8\", \"Topic8\", \"Topic8\", \"Topic8\", \"Topic8\", \"Topic8\", \"Topic8\", \"Topic8\", \"Topic8\", \"Topic8\", \"Topic8\", \"Topic8\", \"Topic8\", \"Topic8\", \"Topic8\", \"Topic8\", \"Topic8\", \"Topic8\", \"Topic8\", \"Topic8\", \"Topic8\", \"Topic8\", \"Topic8\", \"Topic8\", \"Topic8\", \"Topic8\", \"Topic8\", \"Topic8\", \"Topic8\", \"Topic8\", \"Topic8\", \"Topic8\", \"Topic8\", \"Topic8\", \"Topic8\", \"Topic8\", \"Topic8\", \"Topic8\", \"Topic8\", \"Topic8\", \"Topic8\", \"Topic8\", \"Topic8\", \"Topic8\", \"Topic8\", \"Topic8\", \"Topic8\", \"Topic8\", \"Topic8\", \"Topic8\", \"Topic9\", \"Topic9\", \"Topic9\", \"Topic9\", \"Topic9\", \"Topic9\", \"Topic9\", \"Topic9\", \"Topic9\", \"Topic9\", \"Topic9\", \"Topic9\", \"Topic9\", \"Topic9\", \"Topic9\", \"Topic9\", \"Topic9\", \"Topic9\", \"Topic9\", \"Topic9\", \"Topic9\", \"Topic9\", \"Topic9\", \"Topic9\", \"Topic9\", \"Topic9\", \"Topic9\", \"Topic9\", \"Topic9\", \"Topic9\", \"Topic9\", \"Topic9\", \"Topic9\", \"Topic9\", \"Topic9\", \"Topic9\", \"Topic9\", \"Topic9\", \"Topic9\", \"Topic9\", \"Topic9\", \"Topic9\", \"Topic9\", \"Topic9\", \"Topic9\", \"Topic9\", \"Topic9\", \"Topic9\", \"Topic9\", \"Topic9\", \"Topic9\", \"Topic9\", \"Topic9\", \"Topic9\", \"Topic9\", \"Topic9\", \"Topic9\", \"Topic9\", \"Topic9\", \"Topic9\", \"Topic9\", \"Topic9\", \"Topic9\", \"Topic9\", \"Topic9\", \"Topic10\", \"Topic10\", \"Topic10\", \"Topic10\", \"Topic10\", \"Topic10\", \"Topic10\", \"Topic10\", \"Topic10\", \"Topic10\", \"Topic10\", \"Topic10\", \"Topic10\", \"Topic10\", \"Topic10\", \"Topic10\", \"Topic10\", \"Topic10\", \"Topic10\", \"Topic10\", \"Topic10\", \"Topic10\", \"Topic10\", \"Topic10\", \"Topic10\", \"Topic10\", \"Topic10\", \"Topic10\", \"Topic10\", \"Topic10\", \"Topic10\", \"Topic10\", \"Topic10\", \"Topic10\", \"Topic10\", \"Topic10\", \"Topic10\", \"Topic10\", \"Topic10\", \"Topic10\", \"Topic10\", \"Topic10\", \"Topic10\", \"Topic10\", \"Topic10\", \"Topic10\", \"Topic10\", \"Topic10\", \"Topic10\", \"Topic10\", \"Topic10\", \"Topic10\", \"Topic10\", \"Topic10\", \"Topic10\", \"Topic10\", \"Topic10\", \"Topic10\", \"Topic10\", \"Topic10\", \"Topic10\", \"Topic10\", \"Topic10\", \"Topic10\", \"Topic10\", \"Topic10\"], \"logprob\": [30.0, 29.0, 28.0, 27.0, 26.0, 25.0, 24.0, 23.0, 22.0, 21.0, 20.0, 19.0, 18.0, 17.0, 16.0, 15.0, 14.0, 13.0, 12.0, 11.0, 10.0, 9.0, 8.0, 7.0, 6.0, 5.0, 4.0, 3.0, 2.0, 1.0, -6.3874, -5.2826, -7.4329, -7.6871, -7.7292, -7.7886, -7.8149, -8.0275, -6.737, -6.7815, -8.3315, -7.0337, -8.3138, -8.4178, -8.4343, -8.2932, -8.4743, -8.3557, -8.3428, -8.556, -8.5743, -8.5421, -8.5815, -6.9611, -8.5144, -8.4929, -7.0481, -8.2799, -8.7153, -8.6028, -5.3882, -4.7797, -7.1572, -5.8709, -7.9202, -4.3442, -4.8029, -5.1057, -6.1212, -6.4811, -6.4755, -7.0767, -5.6933, -7.8926, -6.6495, -6.961, -4.4439, -3.9633, -5.6994, -6.0703, -5.1039, -4.8383, -5.7307, -5.1675, -4.7094, -5.6475, -6.1752, -5.2668, -5.3503, -5.8758, -5.5754, -5.2828, -4.619, -5.0618, -5.4948, -5.4358, -4.997, -5.7305, -5.5978, -5.2142, -5.6014, -4.9177, -5.5458, -5.5449, -5.6526, -5.6832, -6.0221, -3.1317, -3.1825, -7.026, -5.1091, -7.5306, -6.279, -5.1322, -8.0737, -7.9739, -5.1734, -8.4073, -8.5146, -8.4027, -8.3434, -8.3676, -8.6449, -8.3974, -8.5029, -8.7965, -8.2224, -8.3642, -8.8147, -8.8085, -8.6913, -7.1113, -8.9077, -8.4873, -8.8961, -8.9022, -6.3562, -8.315, -8.5892, -7.117, -6.1601, -8.2239, -5.952, -8.2202, -7.1433, -7.8886, -5.1041, -3.9318, -6.1749, -7.8456, -6.7365, -5.16, -4.653, -7.2168, -5.0443, -5.8632, -5.8675, -6.4224, -6.2418, -6.0418, -5.4073, -5.9573, -6.3168, -5.9452, -6.0659, -5.7395, -5.1242, -5.8032, -5.853, -5.8586, -5.558, -4.9562, -5.4867, -4.9989, -5.6159, -5.5182, -5.7309, -5.557, -5.5904, -5.6862, -5.7636, -5.8745, -6.6876, -4.1221, -7.0883, -6.0917, -7.5147, -5.2397, -7.8688, -7.8696, -7.896, -8.05, -8.0489, -8.0759, -7.0456, -8.0272, -7.6606, -8.0379, -8.2771, -7.725, -8.3108, -7.5272, -7.9849, -8.4319, -7.9052, -8.3097, -7.8948, -3.9185, -8.4751, -8.5829, -8.6141, -8.5921, -5.9352, -4.2944, -7.0632, -6.5562, -4.9454, -5.8926, -6.9393, -5.7498, -4.5348, -5.5646, -5.3624, -5.5445, -7.0013, -4.7881, -5.8925, -6.4299, -6.8257, -5.9422, -5.4764, -5.3883, -6.8035, -5.2902, -6.2739, -4.1468, -4.0073, -5.8038, -5.8205, -5.8821, -6.204, -4.7909, -4.7744, -5.3101, -5.7326, -5.023, -4.839, -5.4554, -5.2233, -5.3119, -5.4047, -5.6757, -5.6177, -5.3148, -5.6912, -5.7199, -5.2692, -5.4877, -5.4974, -5.4934, -5.1388, -6.1471, -6.143, -7.1492, -6.1901, -7.4802, -7.7268, -7.7483, -7.8269, -5.3858, -5.9759, -7.9171, -7.889, -7.9167, -6.2443, -7.9114, -7.9041, -4.9329, -7.8733, -6.2414, -8.0474, -8.0091, -8.067, -8.382, -8.4016, -8.2757, -5.7949, -7.1454, -7.616, -7.387, -6.4423, -4.6036, -5.4083, -5.5, -6.818, -5.7454, -4.7268, -7.5695, -5.3142, -6.732, -5.4096, -6.5005, -7.0618, -5.7258, -5.6845, -5.3719, -5.8113, -6.242, -6.015, -6.015, -5.3466, -6.0299, -5.2133, -5.1698, -5.0173, -5.6347, -5.6819, -5.4917, -5.6605, -5.5472, -5.6411, -5.7449, -5.6393, -5.7784, -4.9134, -1.5215, -3.9995, -5.0966, -4.9123, -5.9083, -7.4515, -7.4743, -7.6822, -5.0255, -7.7389, -7.7602, -7.7882, -7.7158, -7.7921, -7.984, -7.9518, -7.4274, -8.1843, -7.191, -8.2446, -8.2475, -7.9245, -8.2918, -8.2941, -8.3194, -8.3182, -7.9306, -8.3695, -2.889, -5.4495, -3.6568, -4.7625, -5.6656, -2.8197, -6.425, -4.7362, -5.5865, -3.5382, -4.6916, -3.835, -6.8275, -4.2219, -3.851, -6.206, -5.9571, -6.0079, -4.9623, -5.6221, -4.7059, -3.6888, -5.5189, -5.0989, -4.9548, -5.6359, -5.5526, -5.4568, -5.4429, -6.5062, -7.02, -4.1118, -7.1847, -7.5868, -7.4697, -7.7394, -6.2895, -5.1341, -7.9181, -7.915, -7.9155, -7.8217, -7.0162, -6.2854, -5.0993, -8.2082, -5.107, -8.2497, -6.4958, -8.3027, -8.3111, -8.3135, -8.3808, -8.3442, -7.7992, -8.0837, -4.4498, -5.125, -8.4168, -5.0911, -3.6887, -5.1819, -6.1631, -5.1777, -3.8247, -4.9685, -6.8564, -7.0238, -5.9969, -6.4327, -3.4312, -6.33, -6.0484, -5.3642, -5.3926, -5.0442, -6.2861, -4.8693, -4.9898, -4.8425, -5.1161, -4.9565, -5.121, -4.5375, -4.4139, -4.9297, -5.5544, -4.1813, -5.3348, -4.9488, -5.2912, -5.1003, -5.2584, -5.3299, -4.4285, -3.9969, -5.7356, -3.8631, -6.5006, -6.7693, -5.1234, -7.5072, -2.0251, -7.9348, -4.6307, -7.8906, -8.125, -7.8987, -4.5288, -8.0696, -8.2114, -8.3085, -8.3944, -8.4193, -8.4367, -8.4535, -8.4946, -7.8585, -7.2818, -8.4977, -8.5624, -8.5624, -8.5625, -8.5625, -4.6303, -4.6118, -4.6642, -5.0311, -8.0017, -4.6474, -3.6825, -3.2126, -5.6788, -5.0906, -5.0933, -2.8293, -4.293, -5.9214, -6.698, -4.9221, -5.2727, -4.5447, -6.9286, -4.8603, -5.2566, -3.9578, -3.8112, -5.5923, -4.9139, -4.3675, -4.7588, -4.9285, -5.2339, -3.6134, -6.3722, -7.2436, -6.6853, -7.6152, -4.6829, -7.7613, -7.8977, -8.0361, -7.0822, -7.7795, -7.5132, -8.2536, -8.3624, -8.4107, -8.2121, -8.1178, -8.2789, -8.4829, -8.4899, -8.49, -7.9558, -8.5509, -8.5509, -8.551, -8.5499, -8.5511, -8.5221, -8.568, -8.568, -8.3569, -3.1677, -1.2013, -7.1765, -4.1204, -8.4414, -5.1577, -6.1468, -5.8652, -7.0522, -6.9665, -7.8169, -7.4634, -6.4074, -7.2717, -7.2717, -6.1137, -4.7911, -5.6561, -6.0531, -5.0515, -6.5503, -6.6471, -5.5931, -6.4707, -5.7094, -5.3328, -5.8934, -5.0069, -6.5994, -5.1914, -6.1152, -6.3348, -6.3378, -6.0888, -6.0074, -5.9957, -6.0424, -6.0227, -6.0346, -6.0356, -6.2006, -6.1554, -6.1471, -5.5565, -5.5442, -6.1773, -6.5909, -6.4236, -6.9069, -6.9512, -6.9512, -6.9512, -5.3124, -7.0972, -6.6083, -7.1428, -6.7401, -5.313, -7.4255, -7.494, -7.5004, -7.4926, -7.0449, -7.6124, -7.4817, -7.5027, -7.2668, -7.2668, -4.9833, -6.3262, -7.8253, -7.9511, -7.9661, -6.2342, -4.3136, -4.413, -2.6175, -5.0474, -5.0486, -6.1923, -4.0952, -4.305, -5.2875, -6.2088, -5.0134, -3.2997, -4.7895, -5.3183, -5.6588, -5.4175, -5.7208, -4.91, -5.007, -4.7928, -5.6114, -5.7305, -5.0107, -4.7981, -4.7786, -5.222, -4.4073, -5.2601, -5.0356, -4.9273, -4.7997, -5.0466, -5.3071, -5.3695, -2.5345, -4.2309, -6.1436, -6.2021, -5.4436, -6.7731, -6.7734, -6.9475, -7.0759, -7.3522, -7.4481, -7.5008, -7.416, -7.4627, -7.4561, -7.5135, -7.6016, -7.1415, -7.45, -6.8522, -7.4408, -7.9915, -7.6074, -8.0042, -8.0395, -8.0501, -7.9166, -7.9807, -7.1835, -8.1266, -4.7724, -6.7858, -5.1915, -6.2445, -3.0786, -7.2657, -3.2992, -6.727, -6.2128, -6.0465, -4.4834, -6.0814, -4.2884, -5.9024, -6.752, -6.6993, -5.1328, -5.6261, -5.6261, -5.6261, -5.6261, -5.8351, -4.2255, -5.6956, -5.6978, -6.0399, -4.8207, -5.5957, -5.5259, -5.4925, -5.3754, -5.5557, -5.8134, -5.7477, -5.9185, -5.9714], \"loglift\": [30.0, 29.0, 28.0, 27.0, 26.0, 25.0, 24.0, 23.0, 22.0, 21.0, 20.0, 19.0, 18.0, 17.0, 16.0, 15.0, 14.0, 13.0, 12.0, 11.0, 10.0, 9.0, 8.0, 7.0, 6.0, 5.0, 4.0, 3.0, 2.0, 1.0, 1.4642, 1.4594, 1.456, 1.4523, 1.45, 1.4494, 1.4494, 1.4456, 1.4399, 1.4369, 1.4352, 1.4349, 1.4345, 1.4343, 1.4338, 1.4326, 1.4324, 1.4306, 1.43, 1.4293, 1.4286, 1.4278, 1.4278, 1.4257, 1.4253, 1.4248, 1.4247, 1.4238, 1.4225, 1.4225, 1.417, 1.3683, 1.3868, 1.3355, 1.4068, 1.1948, 1.1891, 1.205, 1.2695, 1.2962, 1.2678, 1.3193, 1.1595, 1.3803, 1.2238, 1.2588, 0.8598, 0.73, 0.9632, 0.9988, 0.7709, 0.6717, 0.8944, 0.6787, 0.5242, 0.8148, 0.9868, 0.6199, 0.6535, 0.855, 0.6727, 0.5069, 0.1295, 0.3779, 0.5906, 0.5229, 0.1982, 0.6514, 0.4158, -0.2402, 0.3628, -1.2348, 0.1637, -0.1729, 0.3425, 0.2191, 1.8677, 1.865, 1.8616, 1.8597, 1.8543, 1.8506, 1.8479, 1.8363, 1.8346, 1.832, 1.8269, 1.8149, 1.8139, 1.8137, 1.8137, 1.8104, 1.8057, 1.8048, 1.8043, 1.7952, 1.795, 1.7943, 1.7939, 1.7924, 1.7921, 1.7875, 1.7864, 1.7858, 1.7856, 1.7848, 1.7536, 1.7741, 1.7795, 1.7235, 1.6768, 1.7618, 1.594, 1.753, 1.6268, 1.707, 1.3168, 1.0463, 1.4173, 1.6789, 1.4316, 1.0323, 0.8569, 1.4958, 0.858, 1.0697, 1.0583, 1.185, 1.0821, 1.0013, 0.6884, 0.911, 1.0648, 0.851, 0.9142, 0.6747, 0.1794, 0.6987, 0.7327, 0.6934, 0.4199, -0.2077, 0.303, -0.3055, 0.3977, 0.1912, 0.3546, -0.0999, -0.3567, -0.2465, -0.5684, 0.4236, 2.0392, 2.035, 2.0336, 2.0309, 2.0242, 2.017, 2.0137, 2.0136, 2.0078, 2.0065, 2.0052, 2.005, 2.0014, 1.9988, 1.9975, 1.9963, 1.9952, 1.9938, 1.9937, 1.9881, 1.9868, 1.9866, 1.986, 1.9847, 1.9844, 1.9803, 1.9798, 1.9758, 1.9736, 1.9732, 1.9451, 1.9033, 1.9511, 1.9403, 1.8864, 1.8935, 1.9327, 1.8651, 1.7615, 1.8192, 1.7356, 1.7479, 1.8881, 1.6192, 1.7323, 1.8004, 1.8454, 1.6569, 1.5429, 1.4745, 1.7712, 1.2982, 1.5983, 0.8272, 0.7413, 1.3408, 1.3434, 1.3639, 1.5288, 0.6488, 0.2163, 0.6542, 1.0235, 0.1722, -0.1456, 0.5034, 0.0103, 0.1452, 0.3047, 0.8292, 0.3774, -1.6318, 0.155, -0.4163, 2.3161, 2.3148, 2.314, 2.3121, 2.3116, 2.311, 2.311, 2.2956, 2.2884, 2.2786, 2.2774, 2.2765, 2.273, 2.2717, 2.2696, 2.2673, 2.2665, 2.2625, 2.2576, 2.2563, 2.2563, 2.2537, 2.2537, 2.2448, 2.2444, 2.2418, 2.2417, 2.2393, 2.2381, 2.2361, 2.2261, 2.2205, 2.2261, 2.2175, 2.1606, 2.0226, 2.0578, 2.056, 2.1478, 2.0227, 1.7084, 2.2014, 1.704, 2.006, 1.6283, 1.9085, 2.0671, 1.5648, 1.5053, 1.3513, 1.3848, 1.5881, 1.4091, 1.4091, 0.6314, 1.3571, 0.1587, 0.0639, -0.2688, 0.7748, 0.8435, 0.298, 0.7537, -0.2436, 0.0684, 0.2138, -0.946, 0.2167, 2.5698, 2.5695, 2.5616, 2.5567, 2.5438, 2.5388, 2.531, 2.5295, 2.5203, 2.5167, 2.5165, 2.5162, 2.5146, 2.5128, 2.5086, 2.5024, 2.5014, 2.4983, 2.4866, 2.4831, 2.4822, 2.4817, 2.4802, 2.4779, 2.4756, 2.4755, 2.4716, 2.4707, 2.4706, 2.4685, 2.446, 2.3526, 2.3669, 2.3946, 2.171, 2.3742, 2.1193, 2.2034, 1.95, 2.0876, 1.805, 2.3039, 1.7576, 1.3442, 1.9938, 1.873, 1.8912, 1.4819, 1.7257, 0.7512, -0.0059, 1.1827, 0.7878, 0.4172, 0.747, 0.5397, 0.2377, 0.1347, 2.6029, 2.5912, 2.5867, 2.5816, 2.5694, 2.5615, 2.5612, 2.5609, 2.5564, 2.5499, 2.5492, 2.5484, 2.547, 2.5422, 2.5409, 2.5297, 2.5265, 2.5239, 2.5234, 2.5185, 2.5184, 2.5174, 2.5143, 2.5103, 2.5099, 2.5091, 2.5086, 2.5084, 2.5065, 2.5035, 2.5033, 2.3975, 2.4376, 2.4538, 2.3403, 2.2442, 2.314, 2.4226, 2.4229, 2.313, 2.3501, 1.8965, 2.3254, 2.1709, 2.0077, 1.9943, 1.7795, 2.1834, 1.6752, 1.7088, 1.5347, 1.64, 1.3777, 1.3839, 0.8345, 0.5601, 0.9451, 1.5238, -0.4983, 1.1304, 0.2849, 0.7126, 0.1363, -0.5099, 0.6343, 2.7311, 2.7219, 2.7151, 2.714, 2.7138, 2.7077, 2.6989, 2.6779, 2.66, 2.6528, 2.6502, 2.6427, 2.6364, 2.6355, 2.6342, 2.6339, 2.6284, 2.6182, 2.6079, 2.6056, 2.6034, 2.6013, 2.596, 2.5939, 2.5926, 2.5902, 2.5873, 2.5872, 2.5871, 2.5871, 2.5865, 2.5768, 2.5604, 2.5225, 2.5787, 2.4708, 2.4098, 2.365, 2.4576, 2.4033, 2.3714, 2.1489, 2.2323, 2.3937, 2.4684, 2.2036, 2.2363, 2.0055, 2.4575, 1.933, 1.8817, 1.0162, 0.8821, 1.7904, 1.0656, 0.381, 0.6131, 0.5597, 0.2232, 2.7461, 2.7296, 2.705, 2.7019, 2.687, 2.6809, 2.6677, 2.6658, 2.6568, 2.6512, 2.6471, 2.6426, 2.6262, 2.6241, 2.6183, 2.6151, 2.6147, 2.6119, 2.6096, 2.6087, 2.6086, 2.6078, 2.6006, 2.6006, 2.6005, 2.6004, 2.6002, 2.5999, 2.5981, 2.5981, 2.5975, 2.5388, 2.4816, 2.5633, 2.4626, 2.5953, 2.3877, 2.4363, 2.3858, 2.4826, 2.4627, 2.5447, 2.5092, 2.3621, 2.4651, 2.4487, 2.1967, 1.7591, 1.9574, 2.0329, 1.7277, 2.1534, 2.1827, 1.6369, 1.9013, 1.3089, 0.9634, 1.2047, 0.3651, 1.6841, 0.0038, 1.0487, 1.29, 1.2083, 0.5062, 0.2408, -0.3557, -0.3329, -0.583, -1.0606, -1.287, -0.1871, -0.9217, -1.4538, 2.8256, 2.8254, 2.8136, 2.8106, 2.8032, 2.8021, 2.8007, 2.8007, 2.8007, 2.7998, 2.7956, 2.794, 2.7938, 2.793, 2.7829, 2.7794, 2.7773, 2.777, 2.7764, 2.7756, 2.7705, 2.7655, 2.7654, 2.7648, 2.7648, 2.7598, 2.7532, 2.7493, 2.7459, 2.7385, 2.7382, 2.6893, 2.6865, 2.6192, 2.6829, 2.6808, 2.713, 2.5732, 2.572, 2.5709, 2.66, 2.4833, 2.028, 2.3104, 2.3847, 2.4624, 2.3974, 2.3809, 1.9583, 1.8926, 1.689, 2.1791, 2.2059, 1.4335, 1.0886, 0.9158, 1.4684, 0.3412, 1.4631, 0.9438, 0.7127, 0.1743, 0.5311, 1.3191, -0.1359, 2.9461, 2.9441, 2.9297, 2.9283, 2.9177, 2.9121, 2.9095, 2.9054, 2.9043, 2.8908, 2.8856, 2.8824, 2.8805, 2.88, 2.8765, 2.8764, 2.8757, 2.8751, 2.8681, 2.8653, 2.854, 2.8441, 2.8436, 2.8394, 2.8392, 2.8372, 2.8353, 2.8335, 2.8325, 2.8301, 2.7722, 2.8103, 2.7648, 2.784, 2.6711, 2.8126, 2.3953, 2.7327, 2.6554, 2.6223, 2.3273, 2.5921, 2.1934, 2.5224, 2.716, 2.6691, 2.1921, 2.2813, 2.2813, 2.2813, 2.2366, 2.2962, 1.2316, 2.0373, 2.0072, 2.1603, 0.8193, 1.5425, 1.3512, 1.0958, 0.0643, -0.8623, -0.1039, -0.9992, -0.1288, 0.6288]}, \"token.table\": {\"Topic\": [10, 2, 1, 2, 3, 4, 5, 6, 7, 8, 9, 10, 1, 2, 3, 4, 5, 6, 7, 8, 9, 10, 1, 2, 3, 4, 5, 6, 7, 8, 9, 10, 3, 3, 1, 6, 9, 10, 1, 2, 3, 5, 6, 8, 9, 8, 2, 4, 10, 1, 1, 2, 3, 4, 5, 6, 7, 8, 9, 10, 1, 2, 3, 4, 5, 6, 7, 8, 9, 10, 10, 9, 10, 1, 2, 3, 4, 5, 6, 8, 1, 2, 3, 4, 5, 6, 7, 8, 9, 10, 1, 2, 3, 4, 5, 6, 7, 8, 9, 10, 2, 3, 4, 6, 8, 9, 10, 10, 2, 8, 1, 2, 3, 6, 7, 1, 2, 3, 4, 5, 6, 7, 8, 9, 10, 1, 1, 2, 3, 4, 5, 6, 7, 8, 9, 10, 2, 8, 1, 2, 3, 4, 5, 6, 7, 8, 9, 10, 1, 2, 3, 4, 7, 9, 1, 2, 3, 4, 5, 6, 7, 8, 9, 10, 5, 1, 2, 4, 5, 8, 10, 1, 2, 4, 5, 6, 7, 10, 10, 1, 2, 3, 4, 5, 6, 7, 8, 9, 10, 1, 2, 3, 4, 5, 6, 7, 8, 9, 10, 1, 2, 3, 4, 5, 6, 7, 8, 9, 7, 9, 3, 8, 1, 2, 3, 4, 5, 6, 7, 9, 10, 1, 2, 3, 4, 5, 6, 7, 8, 9, 10, 1, 2, 3, 4, 5, 6, 7, 8, 9, 10, 3, 8, 10, 1, 2, 3, 4, 5, 6, 7, 8, 9, 10, 4, 1, 6, 8, 4, 4, 4, 1, 2, 3, 4, 5, 6, 7, 8, 9, 10, 8, 1, 2, 3, 6, 2, 3, 9, 10, 4, 1, 2, 3, 4, 5, 6, 7, 8, 9, 10, 9, 1, 2, 8, 1, 2, 3, 4, 5, 6, 7, 8, 9, 10, 2, 1, 2, 3, 4, 5, 6, 8, 9, 10, 7, 8, 9, 10, 3, 4, 6, 9, 9, 1, 2, 4, 6, 7, 8, 9, 10, 10, 1, 2, 3, 4, 5, 6, 7, 8, 9, 10, 2, 9, 7, 4, 6, 1, 2, 3, 4, 5, 6, 7, 8, 9, 10, 1, 2, 3, 5, 6, 8, 9, 10, 1, 4, 6, 1, 4, 6, 8, 1, 4, 1, 2, 3, 5, 6, 7, 8, 9, 10, 1, 2, 3, 4, 5, 6, 7, 8, 9, 10, 4, 10, 1, 2, 3, 4, 6, 7, 9, 1, 2, 3, 4, 6, 7, 9, 10, 10, 1, 2, 5, 7, 1, 2, 5, 6, 7, 9, 5, 4, 6, 1, 2, 3, 4, 6, 8, 10, 1, 4, 5, 10, 1, 5, 6, 9, 3, 1, 2, 6, 8, 1, 4, 6, 3, 1, 2, 3, 4, 5, 6, 8, 9, 6, 1, 1, 2, 3, 5, 6, 8, 9, 5, 1, 4, 7, 8, 1, 7, 1, 2, 3, 4, 5, 6, 7, 8, 9, 10, 2, 4, 6, 7, 8, 9, 1, 2, 3, 4, 8, 9, 10, 2, 3, 5, 6, 7, 9, 2, 3, 1, 2, 3, 4, 5, 6, 7, 9, 10, 1, 2, 3, 4, 5, 6, 7, 8, 9, 10, 5, 5, 3, 4, 7, 9, 1, 2, 3, 4, 5, 6, 7, 8, 9, 10, 6, 3, 8, 1, 4, 5, 9, 2, 5, 7, 10, 8, 1, 2, 3, 4, 7, 10, 2, 3, 1, 2, 3, 4, 5, 6, 7, 8, 9, 10, 1, 6, 8, 9, 1, 2, 3, 5, 6, 7, 9, 1, 4, 1, 2, 3, 4, 5, 6, 7, 9, 10, 6, 1, 2, 3, 4, 5, 6, 7, 8, 9, 10, 8, 6, 1, 3, 4, 5, 7, 1, 2, 3, 4, 5, 6, 7, 8, 9, 10, 8, 2, 3, 4, 6, 8, 10, 6, 1, 2, 3, 4, 5, 6, 7, 8, 9, 10, 5, 10, 1, 3, 5, 7, 8, 9, 1, 2, 3, 4, 5, 6, 7, 8, 9, 10, 1, 3, 4, 6, 7, 9, 1, 2, 4, 6, 8, 5, 1, 3, 7, 1, 2, 3, 4, 5, 6, 7, 8, 9, 10, 2, 3, 5, 7, 8, 9, 10, 1, 2, 3, 4, 5, 6, 7, 8, 9, 10, 4, 7, 1, 1, 2, 3, 4, 5, 6, 7, 8, 9, 10, 1, 3, 4, 5, 6, 2, 1, 2, 3, 4, 5, 6, 7, 9, 10, 1, 10, 1, 2, 3, 4, 10, 1, 2, 3, 4, 5, 6, 7, 8, 9, 10, 5, 1, 1, 2, 3, 4, 5, 6, 7, 8, 9, 10, 1, 2, 3, 4, 5, 6, 7, 8, 9, 10, 1, 2, 3, 4, 5, 6, 7, 8, 9, 10, 9, 2, 1, 2, 6, 9, 2, 3, 4, 5, 6, 2, 3, 5, 6, 3, 6, 3, 1, 2, 3, 4, 5, 6, 7, 8, 9, 10, 4, 1, 2, 4, 3, 4, 7, 1, 2, 3, 4, 5, 6, 7, 9, 10, 1, 2, 3, 4, 5, 6, 7, 8, 9, 1, 2, 5, 6, 7, 9, 1, 2, 3, 4, 5, 6, 7, 8, 9, 2, 3, 4, 5, 6, 7, 8, 9, 7, 1, 2, 3, 4, 5, 6, 7, 8, 9, 10, 4, 4, 8, 2, 7, 4, 1, 5, 8, 1, 2, 3, 4, 5, 6, 7, 8, 9, 5, 1, 4, 5, 2, 1, 2, 3, 4, 5, 6, 7, 8, 9, 10, 1, 2, 3, 5, 6, 7, 10, 1, 2, 3, 4, 5, 6, 7, 8, 9, 10, 1, 2, 3, 4, 5, 7, 8, 9, 9, 8, 1, 2, 3, 4, 5, 6, 7, 8, 9, 10, 1, 2, 3, 4, 5, 6, 8, 9, 10, 1, 2, 3, 4, 5, 6, 7, 8, 9, 10, 4, 7, 4, 10, 1, 2, 3, 4, 6, 8, 9, 1, 2, 3, 4, 5, 6, 7, 8, 9, 10, 9, 4, 9, 1, 5, 6, 10, 1, 2, 3, 4, 5, 6, 8, 9, 10, 9, 1, 2, 3, 4, 5, 6, 7, 8, 9, 10, 3, 8, 1, 2, 3, 6, 1, 2, 3, 4, 5, 6, 7, 8, 9, 10, 1, 2, 3, 4, 5, 6, 7, 8, 9, 10, 1, 2, 3, 4, 5, 6, 7, 8, 9, 10, 5, 2, 3, 5, 6, 8, 9, 10, 9, 1, 2, 3, 4, 5, 6, 7, 8, 10, 3, 9, 2, 10, 1, 2, 3, 4, 5, 6, 7, 8, 9, 10, 9, 3, 4, 7, 9, 1, 2, 3, 4, 5, 6, 7, 8, 9, 10, 2, 3, 4, 5, 7, 8, 10, 2, 6, 2, 3, 4, 6, 5, 6, 1, 2, 3, 4, 5, 6, 7, 9, 10, 1, 4, 5, 6, 10, 1, 2, 3, 4, 5, 6, 7, 8, 10, 2, 3, 4, 5, 10, 1, 2, 3, 4, 5, 6, 8, 9, 10, 2, 6, 7, 10, 3, 8, 2, 4, 7, 1, 2, 3, 4, 5, 6, 7, 8, 9, 10, 1, 2, 3, 4, 5, 6, 7, 9, 10, 1, 3, 4, 5, 6, 7, 8, 9, 10, 7, 1, 2, 3, 4, 5, 6, 7, 8, 9, 10, 10, 1, 2, 3, 4, 5, 6, 7, 8, 9, 10, 1, 2, 3, 4, 5, 6, 7, 8, 9, 10, 2, 3, 5, 9, 8, 7, 8, 6, 1, 2, 3, 4, 5, 6, 7, 8, 9, 10, 1, 3, 7, 8, 10, 4, 9, 1, 2, 3, 4, 5, 6, 7, 8, 9, 10, 1, 2, 3, 4, 6, 8, 9, 10, 1, 2, 3, 4, 5, 6, 8, 5, 7, 1, 2, 8, 9, 1, 2, 3, 4, 5, 6, 7, 8, 9, 1, 6, 2, 9, 1, 1, 3, 4, 5, 10, 7, 1, 1, 2, 3, 4, 5, 6, 7, 8, 9, 10, 6, 10, 1, 7, 1, 8, 1, 2, 3, 4, 5, 6, 7, 8, 9, 10, 7, 4, 10, 4, 10, 3, 1, 2, 3, 4, 5, 6, 7, 8, 9, 10, 7, 2, 1, 5, 6, 1, 2, 3, 5, 8, 9, 10, 3, 5, 7, 1, 2, 3, 4, 5, 6, 7, 8, 9, 10, 1, 2, 3, 4, 5, 6, 7, 8, 9, 10, 1, 2, 3, 4, 5, 6, 7, 8, 9, 10, 1, 2, 3, 6, 8, 9, 9, 1, 2, 3, 4, 5, 6, 7, 8, 9, 10, 1, 2, 3, 4, 5, 6, 7, 8, 9, 10, 2, 3, 4, 6, 7, 8, 10, 5, 8, 2, 3, 9, 8, 2, 4, 6, 8, 1, 2, 3, 4, 5, 6, 7, 8, 9, 10, 1, 2, 3, 4, 5, 6, 7, 8, 9, 10, 4, 1, 2, 3, 5, 6, 7, 6, 4, 2, 4, 6, 8, 2, 1, 4, 1, 2, 3, 4, 6, 7, 10, 4, 1, 5, 9, 5, 1, 2, 3, 4, 7, 10, 1, 2, 3, 3, 1, 2, 5, 6, 8, 9, 3, 4, 8, 1, 9, 9, 1, 2, 3, 4, 5, 7, 8, 9, 10, 5, 1, 2, 3, 4, 5, 6, 7, 8, 9, 10, 1, 8, 9, 10, 1, 2, 3, 4, 5, 6, 7, 8, 9, 10, 3, 7, 9, 10, 7, 7, 1, 2, 3, 4, 5, 7, 8, 9, 10, 1, 2, 4, 6, 7, 8, 6, 1, 2, 3, 4, 5, 6, 7, 8, 9, 10, 1, 1, 2, 3, 4, 5, 6, 7, 8, 9, 10, 6, 1, 2, 3, 4, 5, 6, 7, 8, 9, 10, 1, 2, 3, 1, 2, 3, 4, 5, 6, 7, 8, 9, 10, 1, 2, 5, 6, 9, 1, 2, 4, 5, 6, 8, 9, 1, 3, 5, 6, 7, 8, 1, 2, 3, 4, 5, 6, 8, 1, 2, 3, 4, 8, 10, 8, 1, 3, 4, 6, 7, 8, 9, 1, 3, 6, 2, 4, 5, 8, 1, 3, 10, 1, 8, 1, 2, 3, 4, 5, 6, 7, 8, 9, 10, 1, 4, 5, 6, 10, 7, 9, 8, 4, 9, 2, 2, 9, 1, 2, 5, 8, 9, 1, 2, 3, 4, 5, 6, 7, 8, 9, 10, 1, 2, 3, 4, 5, 6, 7, 8, 9, 10, 9, 7, 6, 2, 4, 7, 9, 1, 2, 3, 4, 5, 6, 7, 8, 9, 10, 10, 1, 2, 7, 1, 2, 3, 4, 5, 6, 7, 8, 9, 10, 1, 2, 3, 4, 5, 6, 7, 8, 9, 10, 10, 6, 1, 2, 3, 4, 5, 6, 7, 8, 9, 10, 1, 2, 3, 4, 6, 7, 8, 10, 1, 2, 3, 4, 5, 6, 7, 8, 9, 10, 1, 2, 3, 4, 5, 6, 7, 8, 9, 10, 3, 1, 2, 3, 4, 5, 6, 7, 8, 9, 10, 10, 10, 8, 1, 2, 3, 4, 5, 6, 8, 1, 2, 3, 4, 5, 6, 7, 8, 9, 10, 1, 2, 3, 4, 5, 6, 7, 8, 9, 10, 4, 10, 1, 2, 3, 4, 5, 6, 7, 8, 9, 10, 2, 2, 9, 8, 1, 2, 3, 4, 5, 6, 7, 8, 9, 10, 4, 8, 8, 9, 2, 3, 4, 5, 6, 7, 8, 9, 10, 1, 1, 2, 3, 4, 5, 6, 7, 8, 9, 10, 1, 2, 3, 4, 7, 9, 2, 4, 6, 1, 2, 3, 4, 5, 6, 7, 8, 9, 10, 3, 1, 2, 3, 4, 5, 6, 7, 8, 9, 10, 3, 10, 1, 6, 1, 2, 3, 4, 5, 6, 7, 8, 9, 10, 4, 9, 1, 4, 5, 6, 9, 3, 1, 2, 5, 6, 8, 9, 1, 2, 3, 4, 5, 6, 7, 8, 9, 10, 1, 2, 10, 10, 10, 1, 2, 3, 4, 5, 6, 7, 8, 9, 10, 3, 8, 1, 3, 4, 6, 7, 9, 3, 9, 10, 1, 2, 3, 4, 5, 6, 7, 8, 9, 10, 5, 1, 2, 3, 4, 5, 6, 7, 8, 9, 10, 2, 3, 5, 6, 8, 10, 1, 2, 3, 4, 5, 6, 7, 8, 9, 10, 7, 1, 2, 3, 4, 5, 6, 7, 8, 9, 10, 1, 2, 3, 4, 5, 6, 7, 9, 10, 1, 2, 5, 9, 1, 2, 3, 4, 5, 6, 7, 8, 9, 10, 1, 7, 9, 1, 2, 3, 4, 6, 7, 9, 2, 4, 6, 7, 8, 9, 3, 1, 2, 1, 2, 3, 4, 6, 8, 1, 2, 3, 4, 5, 6, 7, 8, 9, 10, 1, 2, 3, 4, 7, 8, 9, 10, 7, 5, 1, 2, 3, 4, 5, 6, 7, 8, 9, 10, 2, 3, 4, 2, 7, 2, 2, 5, 3, 3, 1, 3, 6, 7, 8, 1, 2, 3, 4, 5, 6, 7, 8, 9, 10, 3, 10, 8, 2, 7, 1, 7, 3, 10, 9, 3, 10, 3, 2, 5, 1, 2, 7, 1, 2, 3, 4, 5, 6, 7, 8, 9, 10, 4, 1, 2, 3, 4, 5, 6, 7, 8, 9, 10, 8, 1, 2, 3, 4, 5, 6, 7, 8, 9, 10, 1, 2, 3, 4, 5, 6, 7, 8, 9, 10, 1, 2, 3, 4, 5, 6, 7, 8, 9, 9, 1, 8, 4, 1, 2, 3, 6, 7, 8, 9, 10, 9, 5, 4, 5, 10, 1, 2, 3, 4, 5, 6, 7, 8, 9, 10, 1, 2, 3, 4, 6, 7, 8, 9, 10, 1, 2, 3, 4, 5, 6, 7, 8, 9, 10, 5, 3, 1, 2, 3, 4, 5, 6, 7, 8, 9, 10, 1, 2, 3, 4, 5, 6, 7, 8, 9, 10, 1, 2, 3, 4, 5, 6, 7, 8, 9, 10, 1, 2, 3, 4, 5, 6, 7, 8, 9, 10, 1, 2, 3, 5, 6, 4, 10, 2, 9, 9, 3, 10, 1, 2, 3, 4, 5, 6, 7, 8, 9, 10, 4, 6, 9, 1, 2, 3, 4, 5, 6, 7, 8, 9, 10, 1, 2, 3, 4, 7, 8, 9, 2, 1, 2, 4, 7, 3, 7, 2, 4, 7, 1, 2, 3, 4, 5, 6, 7, 8, 9, 10, 1, 2, 3, 4, 5, 6, 7, 8, 9, 10, 10, 1, 2, 3, 4, 5, 6, 7, 8, 9, 10, 1, 2, 3, 4, 8, 9, 10, 4, 1, 2, 3, 8, 9, 10, 1, 2, 3, 4, 5, 6, 7, 8, 9, 10, 6, 8, 8, 8, 5, 1, 3, 6, 7, 1, 2, 4, 5, 1, 2, 3, 4, 5, 6, 7, 8, 9, 10, 1, 2, 3, 4, 8, 9, 10, 1, 2, 3, 4, 5, 6, 7, 8, 9, 10, 1, 2, 3, 4, 5, 6, 7, 8, 9, 10, 1, 1, 2, 3, 4, 5, 6, 7, 8, 9, 10, 1, 2, 4, 5, 6, 8, 9, 1, 2, 3, 4, 5, 6, 7, 8, 9, 10, 6, 7, 1, 2, 3, 4, 5, 6, 7, 8, 9, 10, 1, 2, 3, 4, 5, 6, 7, 8, 9, 10, 1, 2, 3, 4, 5, 6, 7, 8, 9, 10, 1, 2, 3, 4, 6, 8, 9, 10, 1, 2, 3, 4, 5, 6, 7, 8, 9, 10, 1, 2, 1, 2, 3, 4, 5, 6, 7, 8, 9, 10, 1, 7, 5, 8, 1, 2, 3, 4, 5, 6, 7, 8, 9, 10, 4, 5, 10, 8], \"Freq\": [0.9178389842322534, 0.978203338780756, 0.040561757023017155, 0.01336694265531247, 0.01198415548407325, 0.016132516997790915, 0.004609290570797404, 0.08342815933143301, 0.01244508454115299, 0.009218581141594809, 0.8066258498895457, 0.0018437162283189616, 0.18314933181178225, 0.0557411009861946, 0.07963014426599228, 0.08759315869259152, 0.015926028853198458, 0.03981507213299614, 0.015926028853198458, 0.4857438800225529, 0.015926028853198458, 0.015926028853198458, 0.18525212673534092, 0.06700608839363395, 0.06306455378224372, 0.03547381150251209, 0.011824603834170697, 0.08671376145058511, 0.390211926527633, 0.007883069222780465, 0.13795371139865814, 0.011824603834170697, 0.9689135339935284, 0.9420467340019225, 0.014329860053176923, 0.014329860053176923, 0.2436076209040077, 0.7021631426056693, 0.030941850431365363, 0.007735462607841341, 0.0038677313039206704, 0.0038677313039206704, 0.0038677313039206704, 0.9359909755488023, 0.015470925215682682, 0.9895474404175079, 0.9631735483429669, 0.9017525571973527, 0.0429405979617787, 0.9448242675131994, 0.1125501202685703, 0.04404135140944055, 0.6753007216114217, 0.029360900939627035, 0.004893483489937839, 0.07829573583900543, 0.029360900939627035, 0.004893483489937839, 0.019573933959751356, 0.004893483489937839, 0.03962557084992473, 0.03352932918070554, 0.021336845842267162, 0.012192483338438379, 0.012192483338438379, 0.2834752376186923, 0.5882873210796518, 0.0030481208346095946, 0.006096241669219189, 0.0030481208346095946, 0.9504935377759914, 0.9842020639247939, 0.9730900015925796, 0.018551008637135078, 0.023188760796418847, 0.018551008637135078, 0.027826512955702615, 0.0046377521592837695, 0.20869884716776962, 0.6956628238925654, 0.17636322205159152, 0.25526255823256666, 0.09746388587061636, 0.10210502329302666, 0.027846824534461818, 0.06497592391374424, 0.013923412267230909, 0.21349232143087393, 0.013923412267230909, 0.027846824534461818, 0.6023366836466606, 0.049875012021698015, 0.0863221361914004, 0.11893272097481833, 0.017264427238280082, 0.030692315090275698, 0.04603847263541355, 0.023019236317706776, 0.011509618158853388, 0.011509618158853388, 0.9367486703060277, 0.15689270803939648, 0.014262973458126953, 0.04278892037438086, 0.04278892037438086, 0.014262973458126953, 0.7274116463644746, 0.9788039631291009, 0.9607782700546147, 0.9099096945068504, 0.07582707815381742, 0.010110277087175656, 0.010110277087175656, 0.8897043836714578, 0.010110277087175656, 0.12775154949609788, 0.01762090337877212, 0.04845748429162333, 0.026431355068158184, 0.00881045168938606, 0.02202612922346515, 0.718051812684964, 0.013215677534079092, 0.00440522584469303, 0.00881045168938606, 0.9414111659422616, 0.3822480480149581, 0.20755187512761875, 0.02884890928414778, 0.132224167552344, 0.011219020277168581, 0.10257389967696989, 0.04327336392622167, 0.03205434364905309, 0.013623096050847563, 0.04647879829112698, 0.9658570888467726, 0.8098472361738481, 0.08722556610046354, 0.02631184431956132, 0.15967324703514607, 0.002883489788445076, 0.6689696309192577, 0.0032439260120007106, 0.01117352293022467, 0.018742683624892995, 0.01910311984844863, 0.002883489788445076, 0.003246034625729618, 0.003246034625729618, 0.01623017312864809, 0.11036517727480702, 0.8537071065668895, 0.009738103877188854, 0.4508832924125019, 0.3087570371955176, 0.01470271605692941, 0.019603621409239214, 0.06371176958002744, 0.03593997258360522, 0.021237256526675814, 0.04737541840566143, 0.03103906723129542, 0.006534540469746404, 0.9481568691324553, 0.018749900298995738, 0.04687475074748934, 0.7687459122588253, 0.0046874750747489344, 0.02343737537374467, 0.14062425224246802, 0.0051878266270102055, 0.015563479881030616, 0.9545600993698778, 0.010375653254020411, 0.0051878266270102055, 0.0051878266270102055, 0.9332785356968575, 0.9568784238702374, 0.25981823253746117, 0.18738405861792654, 0.10235263706021197, 0.0976286691958945, 0.022045183366814887, 0.22517580153246633, 0.02676915123113236, 0.02361983932158738, 0.02676915123113236, 0.028343807185904853, 0.02625440092641149, 0.010602738835666179, 0.008078277208126611, 0.009592954184650351, 0.002019569302031653, 0.48469663248759676, 0.0025244616275395663, 0.00454403092957122, 0.44682970807450323, 0.00454403092957122, 0.005938481742579307, 0.02672316784160688, 0.005938481742579307, 0.005938481742579307, 0.047507853940634455, 0.00890772261386896, 0.005938481742579307, 0.029692408712896537, 0.8640490935452891, 0.8825764733276685, 0.9263781401910779, 0.98080554275211, 0.9654597665268457, 0.058127967568016435, 0.015296833570530641, 0.021415566998742898, 0.0030593667141061284, 0.8137915459522301, 0.0030593667141061284, 0.009178100142318384, 0.006118733428212257, 0.07036543442444095, 0.4512047545748683, 0.027883439889458152, 0.2116606573427051, 0.05830173795068523, 0.019011436288266924, 0.002534858171768923, 0.00887200360119123, 0.08111546149660553, 0.12801033767433062, 0.010139432687075692, 0.5635698921864931, 0.18108147355500434, 0.04988979373454201, 0.02032547152148008, 0.012934390968214596, 0.02402101179811282, 0.029564322213061933, 0.04988979373454201, 0.033259862489694675, 0.035107632628011046, 0.06131492243554118, 0.06131492243554118, 0.8584089140975766, 0.04180618025512534, 0.03177269699389526, 0.018394719312255153, 0.22909786779808688, 0.051839663516355425, 0.006688988840820055, 0.605353490094215, 0.008361236051025069, 0.005016741630615042, 0.0016722472102050137, 0.9943278369306475, 0.9680355495263788, 0.017442081973448268, 0.008721040986724134, 0.9738130353992972, 0.9045459320998486, 0.9409846827588758, 0.1282306897415809, 0.02493374522752962, 0.47196017752109637, 0.02671472702949602, 0.04630552685112644, 0.02849570883146242, 0.01424785441573121, 0.02315276342556322, 0.07836319928652166, 0.15672639857304332, 0.8290387028530004, 0.007798687051136848, 0.44062581838923187, 0.007798687051136848, 0.542008750054011, 0.017477128666885486, 0.8913335620111597, 0.03495425733377097, 0.06990851466754194, 0.9545627606418442, 0.10211257440221612, 0.06830503287715808, 0.048296487892940054, 0.006899498270420008, 0.4636462837722245, 0.019318595157176023, 0.0075894480974620085, 0.04484673875773005, 0.12005126990530814, 0.11936132007826614, 0.9628263294020047, 0.9636321194101601, 0.009090869051039247, 0.009090869051039247, 0.4973385902065131, 0.10383033725364046, 0.048861335178183744, 0.054096478232989145, 0.005235143054805402, 0.18759262613052688, 0.04624376365078105, 0.01919552453428647, 0.01745047684935134, 0.02006804837675404, 0.9339883256605012, 0.27016939510829135, 0.021189756479081678, 0.0021189756479081676, 0.0021189756479081676, 0.0010594878239540838, 0.6865481099222464, 0.0010594878239540838, 0.011654366063494922, 0.0031784634718622514, 0.0951575043360572, 0.06343833622403813, 0.03171916811201907, 0.7929792028004766, 0.011685249790706613, 0.32718699413978514, 0.6426887384888637, 0.011685249790706613, 0.9686901188427735, 0.1438634472482843, 0.015984827472031587, 0.015984827472031587, 0.7672717186575162, 0.015984827472031587, 0.015984827472031587, 0.015984827472031587, 0.9046395286194522, 0.8786761610247528, 0.12755070900000878, 0.026573064375001832, 0.03897382775000269, 0.005314612875000366, 0.005314612875000366, 0.019486913875001344, 0.00885768812500061, 0.7529034906250519, 0.005314612875000366, 0.010629225750000732, 0.9706226966782623, 0.008295920484429592, 0.9964283887968073, 0.15752311917566053, 0.8138694490742461, 0.029887661513167702, 0.03985021535089027, 0.009962553837722567, 0.059775323026335404, 0.019925107675445135, 0.73722898399147, 0.009962553837722567, 0.009962553837722567, 0.07970043070178054, 0.009962553837722567, 0.08861825544765844, 0.1772365108953169, 0.04430912772382922, 0.029539418482552815, 0.05907883696510563, 0.5464792419272271, 0.014769709241276407, 0.029539418482552815, 0.06715686408637425, 0.9103486020597398, 0.014923747574749832, 0.07577899937643669, 0.005051933291762446, 0.9093479925172403, 0.8538606543878631, 0.9953867721420775, 0.9688457556381087, 0.09816904064348914, 0.16150390557477246, 0.49401194646400987, 0.006333486493128332, 0.01583371623282083, 0.019000459479384994, 0.1836711083007216, 0.012666972986256663, 0.006333486493128332, 0.13691039627349355, 0.04633890335410551, 0.3580733440999062, 0.029488393043521688, 0.006318941366468933, 0.37492385441049003, 0.010531568944114889, 0.025275765465875732, 0.00842525515529191, 0.004212627577645955, 0.4795861509129514, 0.5128907447263508, 0.12102705570790451, 0.027231087534278515, 0.03328244031967374, 0.042359469497766575, 0.003025676392697613, 0.7685218037451936, 0.003025676392697613, 0.10095712591063209, 0.033652375303544035, 0.013460950121417613, 0.0033652375303544033, 0.0033652375303544033, 0.8413093825886008, 0.0033652375303544033, 0.0033652375303544033, 0.9035812573311015, 0.03590225256965463, 0.9155074405261932, 0.017951126284827316, 0.017951126284827316, 0.013541129738782399, 0.013541129738782399, 0.06770564869391199, 0.8395500438045087, 0.054164518955129595, 0.013541129738782399, 0.8754825427741711, 0.03471868379285561, 0.9374044624071014, 0.03241539356772686, 0.006483078713545373, 0.9011479411828067, 0.03241539356772686, 0.006483078713545373, 0.012966157427090745, 0.012966157427090745, 0.03249792745889087, 0.11374274610611805, 0.8124481864722718, 0.016248963729445436, 0.017102961764482037, 0.017102961764482037, 0.9406628970465121, 0.017102961764482037, 0.9712371036915849, 0.10172398130504809, 0.03390799376834936, 0.03390799376834936, 0.7798838566720354, 0.05361756749086734, 0.005361756749086734, 0.9383074310901784, 0.9440135759102142, 0.19933525491012305, 0.029900288236518455, 0.07973410196404922, 0.009966762745506152, 0.009966762745506152, 0.029900288236518455, 0.5780722392393568, 0.05980057647303691, 0.9005314098793016, 0.9741538321539772, 0.78536372840129, 0.019312222829539916, 0.019312222829539916, 0.006437407609846639, 0.012874815219693279, 0.012874815219693279, 0.1480603750264727, 0.9504617147818614, 0.03635716302824564, 0.9089290757061409, 0.03635716302824564, 0.03635716302824564, 0.030588304983576575, 0.9665904374810198, 0.013347617879992583, 0.0066738089399962916, 0.057839677479967856, 0.008898411919995056, 0.1712944294599048, 0.037818250659978986, 0.10010713409994437, 0.060064280459966625, 0.0066738089399962916, 0.5383539211597008, 0.013091391339116538, 0.013091391339116538, 0.09163973937381577, 0.09163973937381577, 0.7331179149905261, 0.05236556535646615, 0.29320588469451847, 0.005429738605454045, 0.005429738605454045, 0.005429738605454045, 0.02171895442181618, 0.6407091554435773, 0.02714869302727023, 0.008375226051479874, 0.033500904205919495, 0.15075406892663773, 0.008375226051479874, 0.7621455706846685, 0.033500904205919495, 0.9947428700529212, 0.9447415034441885, 0.342558867429717, 0.44493278183400015, 0.007874916492637172, 0.09056153966532747, 0.019687291231592928, 0.059061873694778784, 0.003937458246318586, 0.019687291231592928, 0.007874916492637172, 0.3246082359241476, 0.06354033554259911, 0.08149738689159451, 0.11464886630512448, 0.013813116422304155, 0.28869413322615683, 0.0179570513489954, 0.051108530762525375, 0.031770167771299554, 0.01519442806453457, 0.9325386132454493, 0.9755322568105032, 0.0020292273179373793, 0.006087681953812137, 0.9882337038355037, 0.0020292273179373793, 0.12122769093585196, 0.01426208128657082, 0.021393121929856228, 0.042786243859712456, 0.017827601608213523, 0.7344971862583972, 0.01426208128657082, 0.003565520321642705, 0.021393121929856228, 0.003565520321642705, 0.9444930818351213, 0.20410014465750564, 0.7347605207670204, 0.9828653449893017, 0.47410480001777244, 0.005926310000222155, 0.5215152800195497, 0.3055792360266625, 0.018519953698585605, 0.4259589350674689, 0.2469327159811414, 0.853864546271956, 0.05758262849719109, 0.019194209499063697, 0.038388418998127394, 0.8445452179588027, 0.019194209499063697, 0.9994590259688709, 0.03325367889325253, 0.9311030090110707, 0.04371352494429699, 0.010199822487002632, 0.08232713864509267, 0.017485409977718795, 0.096898313626525, 0.008014146239787781, 0.008014146239787781, 0.010199822487002632, 0.14716886731246653, 0.5762899705156487, 0.044396860234596124, 0.1775874409383845, 0.006342408604942304, 0.7674314411980186, 0.02002797473675241, 0.04005594947350482, 0.16022379789401928, 0.010013987368376205, 0.02002797473675241, 0.7109931031547105, 0.030041962105128613, 0.004217524070575016, 0.9911181565851288, 0.27745260821817064, 0.010880494439928261, 0.04896222497967717, 0.027201236099820652, 0.1632074165989239, 0.04896222497967717, 0.027201236099820652, 0.010880494439928261, 0.39169779983741737, 0.887886728198231, 0.193456067998906, 0.033482780999810655, 0.037203089999789614, 0.06324525299964234, 0.037203089999789614, 0.037203089999789614, 0.06324525299964234, 0.007440617999957923, 0.059524943999663384, 0.46875893399734914, 0.8528632987330597, 0.9447757258535412, 0.8196699957828778, 0.005652896522640536, 0.005652896522640536, 0.16393399915657555, 0.011305793045281072, 0.3666452177789686, 0.021567365751704034, 0.02875648766893871, 0.4708874855788714, 0.03235104862755605, 0.04313473150340807, 0.010783682875852017, 0.014378243834469355, 0.010783682875852017, 0.010783682875852017, 0.8643423475285494, 0.0314548278329095, 0.0314548278329095, 0.062909655665819, 0.0314548278329095, 0.0314548278329095, 0.817825523655647, 0.9830890424395805, 0.1395112947821355, 0.008719455923883469, 0.02712719620763746, 0.01937656871974104, 0.44275459524608285, 0.014532426539805783, 0.18892154501747516, 0.007750627487896417, 0.15113723601398013, 0.0009688284359870522, 0.9550044375801316, 0.9832045288236949, 0.9491435934066419, 0.039824206716362595, 0.002212455928686811, 0.002212455928686811, 0.002212455928686811, 0.002212455928686811, 0.07088117161282433, 0.004991631803720023, 0.011979916328928055, 0.004991631803720023, 0.8016560676774357, 0.006988284525208032, 0.04192970715124819, 0.003993305442976019, 0.027953138100832126, 0.024958159018600115, 0.0655469457331651, 0.005042072748705007, 0.005042072748705007, 0.9126151675156063, 0.005042072748705007, 0.005042072748705007, 0.5690839614087897, 0.03270597479360861, 0.39247169752330324, 0.0032705974793608606, 0.8663949890839383, 0.9253771424281253, 0.03835734095964843, 0.9589335239912107, 0.9249518262663519, 0.00930954972139485, 0.021278970791759656, 0.748753784735043, 0.015959228093819743, 0.010639485395879828, 0.002659871348969957, 0.007979614046909871, 0.1675718949851073, 0.013299356744849784, 0.0013299356744849785, 0.014296059546850275, 0.8148753941704656, 0.02859211909370055, 0.04288817864055083, 0.04288817864055083, 0.014296059546850275, 0.02859211909370055, 0.2195634399940797, 0.04915599402852531, 0.29493596417115187, 0.013108265074273415, 0.039324795222820244, 0.2900203647682993, 0.02621653014854683, 0.0213009307456943, 0.034409195819967715, 0.009831198805705061, 0.9460986606211221, 0.803408479964527, 0.9440107276180127, 0.0107833302022529, 0.07009164631464385, 0.00539166510112645, 0.008087497651689675, 0.002695832550563225, 0.024262492955069024, 0.002695832550563225, 0.008087497651689675, 0.8653622487307951, 0.002695832550563225, 0.028637826194440615, 0.028637826194440615, 0.9164104382220997, 0.028637826194440615, 0.948744086194945, 0.9852470264305532, 0.006430318739902, 0.22506115589657, 0.6366015552502979, 0.006430318739902, 0.019290956219705998, 0.006430318739902, 0.006430318739902, 0.03215159369951, 0.051442549919216, 0.969037272476031, 0.023350295722314, 0.030570792181870754, 0.15285396090935377, 0.030570792181870754, 0.7336990123648981, 0.04585618827280613, 0.04338109513695788, 0.0032535821352718407, 0.05205731416434945, 0.002169054756847894, 0.13122781278929757, 0.015183383297935256, 0.7233797614087726, 0.001084527378423947, 0.023859602325326832, 0.0032535821352718407, 0.8901661090098506, 0.9746637581418217, 0.19898336082291884, 0.4315301800978963, 0.15343295292369646, 0.061133442180535305, 0.01798042417074568, 0.041954323065073254, 0.028768678673193087, 0.02517259383904395, 0.02637128878376033, 0.014384339336596543, 0.5401211330167887, 0.12732893630053574, 0.0842013933600317, 0.06982554571319702, 0.02875169529366936, 0.04107385041952766, 0.02053692520976383, 0.02259061773074021, 0.04312754294050404, 0.02259061773074021, 0.4234712213164615, 0.17547951294278027, 0.03335560989821443, 0.027554634263742356, 0.16097707385660007, 0.060910244161956784, 0.06381073197919282, 0.010151707360326131, 0.03625609771545047, 0.005800975634472075, 0.959092940474354, 0.9439681852573644, 0.10452251660883313, 0.01742041943480552, 0.01742041943480552, 0.8361801328706651, 0.022677540361275454, 0.0032396486230393505, 0.9362584520583722, 0.006479297246078701, 0.029156837607354155, 0.9476678674048149, 0.060444284464811204, 0.020148094821603735, 0.9066642669721681, 0.07348853477044226, 0.881862417245307, 0.9502639477248553, 0.38811695254345274, 0.12431129775841641, 0.21256282975484944, 0.12146447414562825, 0.01613200047246625, 0.05124282503018692, 0.023723530106568018, 0.019927765289517136, 0.017080941676728974, 0.024672471310830738, 0.9195278914207529, 0.9365886119796286, 0.027546723881753783, 0.027546723881753783, 0.04610431539899529, 0.9220863079799058, 0.9844974731441494, 0.9035549194336143, 0.0022932865975472446, 0.004586573195094489, 0.04013251545707678, 0.0412791587558504, 0.0022932865975472446, 0.0011466432987736223, 0.003439929896320867, 0.0011466432987736223, 0.036300297339828945, 0.005185756762832706, 0.016853709479206294, 0.014260831097789943, 0.08750964537280193, 0.04537537167478618, 0.6916503082428123, 0.002592878381416353, 0.0998258176845296, 0.016085180033073507, 0.008042590016536753, 0.008042590016536753, 0.008042590016536753, 0.008042590016536753, 0.949025621951337, 0.013163381929955942, 0.032908454824889855, 0.006581690964977971, 0.026326763859911884, 0.8819465893070482, 0.019745072894933914, 0.006581690964977971, 0.006581690964977971, 0.006581690964977971, 0.8889699942911057, 0.008155688021019318, 0.008155688021019318, 0.008155688021019318, 0.008155688021019318, 0.05708981614713523, 0.008155688021019318, 0.016311376042038635, 0.9862681094995485, 0.03842341226222414, 0.004802926532778018, 0.12007316331945043, 0.00800487755463003, 0.017610730620186064, 0.0016009755109260059, 0.004802926532778018, 0.014408779598334052, 0.31859412667427517, 0.47068680021224574, 0.9021104441508367, 0.12486835040337732, 0.8324556693558488, 0.095244063050205, 0.857196567451845, 0.9955921295528904, 0.006932752281767545, 0.9879172001518752, 0.0017331880704418864, 0.07886531706043688, 0.03154612682417475, 0.015773063412087375, 0.03154612682417475, 0.015773063412087375, 0.015773063412087375, 0.09463838047252425, 0.6782417267197571, 0.047319190236262125, 0.9758630082765176, 0.010999714403962212, 0.6599828642377328, 0.31899171771490414, 0.9253154138731088, 0.07330262537146727, 0.05066504988910238, 0.031261413761361045, 0.012935757418494225, 0.0075458584941216315, 0.7998610003768929, 0.0010779797848745189, 0.0075458584941216315, 0.005389898924372594, 0.009701818063870668, 0.06490477732824881, 0.06490477732824881, 0.7528954170076863, 0.06490477732824881, 0.012980955465649762, 0.012980955465649762, 0.025961910931299525, 0.6250302768680859, 0.1036916588352585, 0.14977684053981782, 0.011521295426139833, 0.011521295426139833, 0.011521295426139833, 0.020162266995744707, 0.02880323856534958, 0.011521295426139833, 0.025922914708814623, 0.023281656308958478, 0.015521104205972318, 0.06208441682388927, 0.007760552102986159, 0.8381396271225052, 0.007760552102986159, 0.015521104205972318, 0.0388027605149308, 0.9940382503251108, 0.8538416387532769, 0.06696438706379912, 0.0077978907788994615, 0.025148197761950764, 0.002241893598933595, 0.07583448782479726, 0.0441555565355182, 0.006043365353647082, 0.7667276108352895, 0.002144419964197352, 0.002924209042087298, 0.14470999124669068, 0.0019294665499558757, 0.0019294665499558757, 0.009647332749779379, 0.0038589330999117513, 0.007717866199823503, 0.03280093134924989, 0.7698571534323945, 0.02701253169938226, 0.18077564181360917, 0.057777312971800575, 0.2942034955005796, 0.03792743857658074, 0.020913260523535177, 0.12725187335507, 0.17935779364252202, 0.022331108694622306, 0.06982902242604118, 0.009570475154838132, 0.9669317745265903, 0.023583701817721715, 0.9936123736857048, 0.9099685897708417, 0.9809467753531099, 0.10403277408850796, 0.0027377045812765253, 0.5393278025114755, 0.008213113743829575, 0.23818029857105769, 0.10677047866978448, 0.014870414400090518, 0.02044681980012446, 0.017260302428676495, 0.004514232942884622, 0.009294009000056573, 0.0029209742571606376, 0.9291353568913701, 0.00026554311428733066, 0.0005310862285746613, 0.000796629342861992, 0.9957440041267686, 0.9526921457027385, 0.046700595377585224, 0.06210216272595232, 0.03105108136297616, 0.8073281154373801, 0.06210216272595232, 0.09098465306712425, 0.027295395920137272, 0.054590791840274544, 0.009098465306712425, 0.01819693061342485, 0.6368925714698697, 0.009098465306712425, 0.13647697960068636, 0.01819693061342485, 0.9678570268542414, 0.388791134936618, 0.10753797349310709, 0.13005660896815943, 0.1047805895573864, 0.03722468313222938, 0.0969680017395111, 0.03952250307866329, 0.025276019410773034, 0.051471166800119636, 0.01884212356075808, 0.8302027730989158, 0.16405204498361808, 0.14205489986553288, 0.7891938881418494, 0.015783877762836986, 0.04735163328851096, 0.19367132576417714, 0.07124149585330766, 0.08390665067167348, 0.11504182293348943, 0.115569537717588, 0.16781330134334696, 0.1197912559903766, 0.09235008721725069, 0.036412320102801696, 0.003694003488690027, 0.11335736009943419, 0.10463756316870848, 0.07266497442271422, 0.11045076112252562, 0.058131979538171376, 0.3342588823444854, 0.08138477135343992, 0.023252791815268552, 0.05231878158435424, 0.04941218260744567, 0.15215097785299145, 0.5724492236053144, 0.05875136768580858, 0.051219141059422865, 0.016570898578048575, 0.02862246118026572, 0.027116015854988577, 0.010545117276940002, 0.01807734390332572, 0.06477714898691715, 0.9515677833294225, 0.02870821874774293, 0.05741643749548586, 0.02870821874774293, 0.02870821874774293, 0.08612465624322879, 0.02870821874774293, 0.7464136874413162, 0.9793337472486069, 0.03575172687852532, 0.15275737848097184, 0.0032501569889568475, 0.44202135049813124, 0.0032501569889568475, 0.2795135010502889, 0.006500313977913695, 0.0682532967680938, 0.006500313977913695, 0.9570045754071314, 0.047850228770356565, 0.9677304222104511, 0.9638569916521518, 0.060246680572088755, 0.004634360044006827, 0.023171800220034136, 0.009268720088013655, 0.004634360044006827, 0.013903080132020481, 0.013903080132020481, 0.01853744017602731, 0.004634360044006827, 0.8388191679652357, 0.9719056728548304, 0.0035598756825960193, 0.06763763796932437, 0.918447926109773, 0.0035598756825960193, 0.02413130080294088, 0.008043766934313626, 0.9321832124987902, 0.0026812556447712087, 0.0017875037631808058, 0.016981285750217654, 0.0017875037631808058, 0.0035750075263616117, 0.00625626317113282, 0.0017875037631808058, 0.05223390948998525, 0.05223390948998525, 0.03482260632665683, 0.017411303163328416, 0.03482260632665683, 0.017411303163328416, 0.7486860360231219, 0.8930360188548115, 0.948035787330927, 0.003976703463390382, 0.005965055195085573, 0.021871869048647102, 0.9663389416038628, 0.9524749613345561, 0.050130261122871375, 0.0011405691433944455, 0.9881130678940547, 0.0007603794289296304, 0.0015207588578592607, 0.0011405691433944455, 0.0003801897144648152, 0.001900948572324076, 0.002281138286788891, 0.0026613280012537065, 0.08997009333442874, 0.7711722285808177, 0.11567583428712265, 0.00428429015878232, 0.01713716063512928, 0.0602509074771162, 0.010845163345880916, 0.862792995072304, 0.007230108897253944, 0.001205018149542324, 0.04217563523398134, 0.003615054448626972, 0.001205018149542324, 0.009640145196338592, 0.9543765611766619, 0.004241943542636774, 0.004241943542636774, 0.9714050712638213, 0.012725830627910321, 0.13196270069414875, 0.38174924129378746, 0.004712953596219599, 0.02356476798109799, 0.02592124477920779, 0.004712953596219599, 0.009425907192439197, 0.41709639326543446, 0.0023564767981097993, 0.029224362851994045, 0.029224362851994045, 0.7598334341518452, 0.1753461771119643, 0.1550294556805211, 0.8526620062428659, 0.8287806459937826, 0.03603394113016446, 0.10810182339049339, 0.08480202399403056, 0.12720303599104585, 0.03180075899776146, 0.01060025299925382, 0.04240101199701528, 0.03180075899776146, 0.1484035419895535, 0.4240101199701528, 0.06360151799552292, 0.02120050599850764, 0.4608606023782497, 0.45342736685601986, 0.007433235522229834, 0.02601632432780442, 0.007433235522229834, 0.014866471044459668, 0.003716617761114917, 0.007433235522229834, 0.018583088805574584, 0.06535093669082433, 0.026734474100791772, 0.011881988489240786, 0.005940994244620393, 0.0029704971223101966, 0.2732857352525381, 0.01782298273386118, 0.5911289273397291, 0.005940994244620393, 0.8013009885937084, 0.7553729605972119, 0.0735752883698583, 0.049050192246572207, 0.029430115347943323, 0.001962007689862888, 0.03433513457260054, 0.027468107658080432, 0.012753049984108773, 0.00981003844931444, 0.0058860230695886645, 0.9441159903564329, 0.16962750492392573, 0.07692410107015236, 0.08481375246196286, 0.01775171563157362, 0.02564136702338412, 0.07495168822219973, 0.21499300042683608, 0.03550343126314724, 0.2544412573858886, 0.045365495502910365, 0.049991661724077284, 0.07498749258611592, 0.09998332344815457, 0.03332777448271819, 0.008331943620679547, 0.024995830862038642, 0.024995830862038642, 0.1416430415515523, 0.016663887241359095, 0.5249124481028115, 0.020820175307353996, 0.9577280641382838, 0.029701353002720032, 0.950443296087041, 0.9064712574774555, 0.8728208863789733, 0.8537649577209544, 0.865376318378473, 0.29033062275740346, 0.07556550455329679, 0.10937112501135063, 0.06761124091610765, 0.00994282954648642, 0.40169031367805136, 0.013919961365080988, 0.00994282954648642, 0.011931395455783703, 0.011931395455783703, 0.9464075734011285, 0.030510214566231292, 0.030510214566231292, 0.7627553641557823, 0.15255107283115646, 0.854526716570962, 0.1335197994642128, 0.02797806392206919, 0.006994515980517297, 0.05595612784413838, 0.03497257990258648, 0.013989031961034595, 0.006994515980517297, 0.006994515980517297, 0.006994515980517297, 0.006994515980517297, 0.8323474016815583, 0.04044760900128508, 0.01617904360051403, 0.19414852320616838, 0.024268565400771047, 0.008089521800257016, 0.048537130801542094, 0.6390722222203042, 0.03235808720102806, 0.017700346683219875, 0.02950057780536646, 0.8555167563556274, 0.017700346683219875, 0.005900115561073292, 0.011800231122146584, 0.047200924488586336, 0.7701373845758162, 0.22651099546347533, 0.03956087934064235, 0.01695466257456101, 0.005651554191520336, 0.9268548874093351, 0.14117425842585798, 0.02139003915543303, 0.008556015662173212, 0.08128214879064552, 0.004278007831086606, 0.02139003915543303, 0.6973152764671168, 0.012834023493259818, 0.012834023493259818, 0.9592852207532949, 0.9368210442620455, 0.07729267517636947, 0.9081889333223412, 0.9834595805602693, 0.036050975369195125, 0.036050975369195125, 0.036050975369195125, 0.036050975369195125, 0.865223408860683, 0.9746155264307214, 0.9818939965032226, 0.2652790674502093, 0.17951215090615666, 0.047869906908308446, 0.06382654254441125, 0.2493224318141065, 0.08177775763502693, 0.025929532908667074, 0.02194037399964137, 0.047869906908308446, 0.015956635636102813, 0.05839017797384283, 0.8758526696076424, 0.9658872168451743, 0.9302353226845603, 0.06309474965385527, 0.8833264951539739, 0.11626143290594615, 0.07930415622061228, 0.013858978757000203, 0.004619659585666735, 0.003079773057111156, 0.006159546114222312, 0.012319092228444625, 0.001539886528555578, 0.004619659585666735, 0.7591640585779, 0.852220981319473, 0.4795861509129514, 0.5128907447263508, 0.4795861509129514, 0.5128907447263508, 0.9422644866599448, 0.28034959341372273, 0.0871117821806047, 0.15299835855070673, 0.04245041162100534, 0.2927309634698493, 0.03316438407891042, 0.01989863044734625, 0.06456000100694562, 0.01193917826840775, 0.01503452078243939, 0.9203414067886466, 0.9886295455523114, 0.08065297191068828, 0.8871826910175711, 0.9213991460696791, 0.0027404079768682255, 0.0027404079768682255, 0.6028897549110096, 0.20004978231138046, 0.0027404079768682255, 0.16990529456582998, 0.019182855838077578, 0.03897555141391477, 0.8964376825200396, 0.03897555141391477, 0.323773323814114, 0.06298326055958449, 0.18796566823250993, 0.12203006733419494, 0.10037957151683777, 0.06199914711334097, 0.06691971434455851, 0.016729928586139628, 0.036412197511009776, 0.021650495817357167, 0.261972156029056, 0.12476211750411845, 0.26989356031503176, 0.07525334071676985, 0.009618848061542012, 0.043567723572866764, 0.09505685143170929, 0.017823159643445493, 0.08260893041089022, 0.019237696123084024, 0.05740924060110204, 0.4418015472345679, 0.03993686302685359, 0.12480269695891749, 0.0024960539391783495, 0.15725139816823602, 0.05740924060110204, 0.099842157567134, 0.01248026969589175, 0.007488161817535049, 0.014893720538997597, 0.0049645735129991994, 0.41702417509193274, 0.014893720538997597, 0.4517761896829271, 0.09432689674698479, 0.9689921214564273, 0.097716696893496, 0.030245644276558285, 0.016286116148916, 0.15588139742533885, 0.635158529807724, 0.016286116148916, 0.018612704170189714, 0.011632940106368572, 0.0046531760425474284, 0.011632940106368572, 0.18795819015648846, 0.10085561423031088, 0.03514665344389621, 0.5424809553297024, 0.027506076608266605, 0.03209042270964437, 0.006112461468503689, 0.02597796124114068, 0.024449845874014758, 0.016809269038385147, 0.0033391455947137873, 0.02337401916299651, 0.010017436784141362, 0.0033391455947137873, 0.8648387090308709, 0.0033391455947137873, 0.08681778546255847, 0.8934563184466249, 0.8098704930497934, 0.8862382836178617, 0.9872756793739474, 0.9689921214564273, 0.8637348955257378, 0.1314479334620781, 0.4025592962276141, 0.29575785028967566, 0.16841766474828754, 0.2492215419431509, 0.30581333312674847, 0.13821456692917103, 0.10012393824790342, 0.02938419926840644, 0.0544151838303823, 0.048973665447344064, 0.03700232500465996, 0.019589466178937625, 0.01850116250232998, 0.26634835364481757, 0.30226049121490534, 0.02693410317756582, 0.20948746915884525, 0.01795606878504388, 0.07332061420559584, 0.020948746915884525, 0.04788285009345035, 0.010474373457942263, 0.023941425046725175, 0.989496025916634, 0.004623413030926519, 0.018493652123706076, 0.009246826061853038, 0.9431762583090098, 0.013870239092779556, 0.004623413030926519, 0.9882547849350393, 0.900754341981791, 0.1314479334620781, 0.4025592962276141, 0.29575785028967566, 0.16841766474828754, 0.8646781468480663, 0.9654867585713246, 0.9757121065918833, 0.05629352624513271, 0.042220144683849534, 0.042220144683849534, 0.042220144683849534, 0.7458892227480084, 0.014073381561283177, 0.05629352624513271, 0.9606838891930736, 0.011426696898421667, 0.9712692363658416, 0.011426696898421667, 0.9501289287547088, 0.014901579515710117, 0.6854726577226654, 0.029803159031420234, 0.23842527225136187, 0.014901579515710117, 0.9323783301271121, 0.03601633584008773, 0.04802178112011698, 0.9004083960021932, 0.9215929551461178, 0.10043859494398248, 0.01115984388266472, 0.01115984388266472, 0.01115984388266472, 0.00557992194133236, 0.8593079789651835, 0.052534158386857856, 0.052534158386857856, 0.7880123758028679, 0.9430922456175365, 0.8738418795154429, 0.950236564731356, 0.00253817402700203, 0.9917008519786503, 0.0014503851582868743, 0.0007251925791434371, 0.00036259628957171857, 0.0007251925791434371, 0.0010877888687151557, 0.0007251925791434371, 0.0007251925791434371, 0.8956187888548073, 0.06241662355676667, 0.010402770592794444, 0.6494301070073103, 0.06687495381082142, 0.06984717398019127, 0.01634721093153413, 0.04161108237117778, 0.06538884372613651, 0.013374990762164286, 0.0029722201693698413, 0.2639599879895782, 0.016497499249348638, 0.6928949684726428, 0.024746248874022957, 0.29107918616689116, 0.08732375585006735, 0.07762111631117098, 0.019405279077792745, 0.03881055815558549, 0.04851319769448186, 0.029107918616689116, 0.3492950234002694, 0.029107918616689116, 0.03881055815558549, 0.9601923637228297, 0.9212125130838192, 0.94748704111355, 0.045118430529216665, 0.9548393844433242, 0.8522370528581685, 0.008895139604490681, 0.0029650465348302272, 0.7294014475682359, 0.0029650465348302272, 0.0029650465348302272, 0.017790279208981363, 0.21348335050777636, 0.0059300930696604545, 0.011860186139320909, 0.0338682523760206, 0.8636404355885252, 0.0169341261880103, 0.0338682523760206, 0.0338682523760206, 0.0169341261880103, 0.8648668776924192, 0.16046087867382283, 0.17261700584608214, 0.087524115640267, 0.06564308673020025, 0.053486959557940944, 0.02431225434451861, 0.009724901737807445, 0.02188102891006675, 0.38899606951229776, 0.014587352606711167, 0.9464505170758468, 0.33523050683142974, 0.24691709374142942, 0.07569721122000027, 0.06668563845571451, 0.01802314552857149, 0.025232403740000086, 0.01802314552857149, 0.07209258211428596, 0.046860178374285875, 0.0991273004071432, 0.8785782075424768, 0.4418890597866179, 0.07244082947321605, 0.1782044405041115, 0.08113372901000197, 0.01593698248410753, 0.03187396496821506, 0.0275275151998221, 0.018834615663036174, 0.06085029675750148, 0.07099201288375173, 0.9133157118873423, 0.026094734625352636, 0.05218946925070527, 0.07780097193904345, 0.6396968803876906, 0.06915641950137195, 0.008644552437671494, 0.008644552437671494, 0.07780097193904345, 0.008644552437671494, 0.03457820975068598, 0.04322276218835747, 0.025933657313014485, 0.3279130460103434, 0.006072463815006359, 0.012144927630012717, 0.006072463815006359, 0.643681164390674, 0.34800794710575234, 0.00892328069501929, 0.01784656139003858, 0.5621666837862154, 0.00892328069501929, 0.03569312278007716, 0.01784656139003858, 0.004310973773250625, 0.015088408206377189, 0.6143137626882141, 0.0021554868866253125, 0.0021554868866253125, 0.3599663100664272, 0.0005863743897747181, 0.0020523103642115133, 0.00014659359744367953, 0.0007329679872183977, 0.9962500882272461, 0.00014659359744367953, 0.00014659359744367953, 0.036798160898619765, 0.07359632179723953, 0.78196091909567, 0.018399080449309883, 0.07359632179723953, 0.018399080449309883, 0.8663947323060984, 0.0018497950436865123, 0.0036995900873730246, 0.7436176075619779, 0.0036995900873730246, 0.025897130611611172, 0.0018497950436865123, 0.22012561019869495, 0.9952549537203297, 0.0667852735622821, 0.918297511481379, 0.018496127640433787, 0.4808993186512785, 0.4993954462917123, 0.006165375880144596, 0.01272863295585246, 0.9847333314027675, 0.0023142969010640836, 0.04135683845651909, 0.90985044604342, 0.2593513890327588, 0.307443037330224, 0.0944657377271638, 0.1889314754543276, 0.017175588677666144, 0.05152676603299843, 0.024045824148732603, 0.015458029809899531, 0.013740470942132916, 0.024045824148732603, 0.11009604345557145, 0.741699661174376, 0.11589057205849626, 0.005794528602924813, 0.01738358580877444, 0.8523000418916935, 0.9277683457335348, 0.8049449721690491, 0.9926141614272436, 0.006015843402589355, 0.9489412302398154, 0.9048671923173723, 0.0532274819010219, 0.8577121443938241, 0.10857115751820559, 0.01085711575182056, 0.01085711575182056, 0.01085711575182056, 0.17935512696499897, 0.02445751731340895, 0.06929629905465869, 0.3790915183578387, 0.010190632213920395, 0.018343137985056712, 0.012228758656704475, 0.014266885099488555, 0.2547658053480099, 0.04076252885568158, 0.270672661718718, 0.18562524068688038, 0.17453209881316242, 0.10501507640452994, 0.03180034003799146, 0.07173565078337608, 0.022925826539017098, 0.045851653078034196, 0.043633024703290606, 0.04733073866119659, 0.9185540549692561, 0.8745261245784733, 0.9357873950594761, 0.6318087058113611, 0.29160401806678204, 0.004860066967779701, 0.0631808705811361, 0.5436172376253727, 0.18383429703922397, 0.08477077504221588, 0.07688512154991672, 0.018728427044210485, 0.03893541411822706, 0.01133562689518003, 0.022178400447091365, 0.01133562689518003, 0.008871360178836546, 0.9362050896258891, 0.9190637203316857, 0.0629495698857319, 0.8522897782333043, 0.001714303634429501, 0.003428607268859002, 0.02057164361315401, 0.003428607268859002, 0.05485771630174403, 0.013714429075436008, 0.4834336249091193, 0.3720038886712017, 0.042857590860737524, 0.005142910903288503, 0.33543115540926577, 0.12028086885887813, 0.2462087268660604, 0.06719917086481923, 0.012988075041099516, 0.07058736435380172, 0.018635064189403652, 0.035576031634316066, 0.036705429463976896, 0.055905192568210964, 0.8905811821551692, 0.9467810659527781, 0.7331958594017849, 0.04640480122796107, 0.09048936239452408, 0.03248336085957275, 0.01392144036838832, 0.016241680429786375, 0.02552264067537859, 0.02088216055258248, 0.004640480122796107, 0.01392144036838832, 0.025128050450016915, 0.2875765773724158, 0.00558401121111487, 0.49976900339478086, 0.08376016816672305, 0.036296072872246656, 0.0558401121111487, 0.00558401121111487, 0.040092781399736, 0.047802931668916, 0.126446464414552, 0.058597142045768, 0.336162551736248, 0.004626090161508, 0.12490443436071601, 0.010794210376852, 0.24672480861376, 0.004626090161508, 0.006949524897577485, 0.0034747624487887424, 0.9659839607632704, 0.0034747624487887424, 0.006949524897577485, 0.0034747624487887424, 0.0034747624487887424, 0.0034747624487887424, 0.0034747624487887424, 0.0034747624487887424, 0.9360389238732849, 0.4157810855853937, 0.21866207350734435, 0.08294078650278579, 0.11202391943233404, 0.0075400715002532535, 0.10017523564622179, 0.014002989929041755, 0.012925836857577006, 0.018311602214900757, 0.01938875528636551, 0.9572449231727607, 0.9425987473817723, 0.9495949039287409, 0.008066938997167894, 0.9545877813315341, 0.0026889796657226313, 0.02151183732578105, 0.005377959331445263, 0.0026889796657226313, 0.005377959331445263, 0.33578758453952934, 0.07887627824754044, 0.0585938066981729, 0.04281855104866481, 0.004507215899859454, 0.43043911843657784, 0.013521647699578362, 0.013521647699578362, 0.009014431799718907, 0.011268039749648635, 0.05635091306044663, 0.028175456530223315, 0.04695909421703886, 0.03756727537363109, 0.03756727537363109, 0.028175456530223315, 0.018783637686815544, 0.694994594412175, 0.03756727537363109, 0.009391818843407772, 0.05486103221823118, 0.8777765154916989, 0.05062329082452433, 0.0063279113530655415, 0.012655822706131083, 0.009491867029598313, 0.0031639556765327708, 0.0031639556765327708, 0.9048913234883725, 0.0031639556765327708, 0.0031639556765327708, 0.0031639556765327708, 0.9921485921293364, 0.05572630282611079, 0.9473471480438834, 0.8538474935449241, 0.02160668440996633, 0.010803342204983165, 0.7382283840071829, 0.003601114068327722, 0.1512467908697643, 0.02160668440996633, 0.007202228136655444, 0.02520779847829405, 0.010803342204983165, 0.007202228136655444, 0.9557292226547772, 0.8413500785270465, 0.9211235838054875, 0.8671727288579175, 0.010312545371833936, 0.030937636115501807, 0.002578136342958484, 0.010312545371833936, 0.8946133110065939, 0.018046954400709386, 0.007734409028875452, 0.002578136342958484, 0.020625090743667873, 0.9830639379614343, 0.1863531526964078, 0.35955196520248095, 0.12277384177645691, 0.1030423314909549, 0.035078240507559116, 0.030693460444114227, 0.05700214082478356, 0.015346730222057113, 0.02411629034894689, 0.0635793109199509, 0.8420921116083657, 0.01754358565850762, 0.0935657901787073, 0.011695723772338412, 0.023391447544676824, 0.005847861886169206, 0.9748425102426778, 0.9212604367249883, 0.9469125559720968, 0.14464773126230646, 0.1827129236997555, 0.0038065192437449066, 0.022839115462469438, 0.43013667454317445, 0.07613038487489814, 0.1180020965560921, 0.0038065192437449066, 0.007613038487489813, 0.011419557731234719, 0.9201201342806657, 0.07042940758833247, 0.038622578354892, 0.8474248074338069, 0.00681574912145153, 0.00681574912145153, 0.00681574912145153, 0.0022719163738171766, 0.004543832747634353, 0.011359581869085882, 0.00681574912145153, 0.592991216549933, 0.40278648671316203, 0.929574304438298, 0.9747863190222511, 0.4417258766590128, 0.10720538130151322, 0.10621273888205476, 0.0873525329123441, 0.019852848389169116, 0.14790372049930992, 0.011911709033501468, 0.029779272583753673, 0.0337498422615875, 0.012904351452959924, 0.9508013980303731, 0.9478934951838476, 0.018068742045074606, 0.03613748409014921, 0.018068742045074606, 0.05420622613522382, 0.8853683602086557, 0.9498360134878706, 0.10034344285458464, 0.011149271428287182, 0.011149271428287182, 0.005574635714143591, 0.005574635714143591, 0.8584938999781131, 0.8757243658617008, 0.0330462024853472, 0.01321848099413888, 0.01321848099413888, 0.00991386074560416, 0.00660924049706944, 0.00660924049706944, 0.02643696198827776, 0.01321848099413888, 0.00991386074560416, 0.9613371981167336, 0.035170873101831715, 0.9852576335089935, 0.9127421780434577, 0.9830490519184121, 0.3201107932111332, 0.0749809065179231, 0.13554240793624558, 0.053351798868522204, 0.008651643059760357, 0.3374140793306539, 0.015861345609560654, 0.02595492917928107, 0.018745226629480773, 0.010093583569720416, 0.20747220250220927, 0.7468999290079533, 0.07305647418324447, 0.014611294836648893, 0.009740863224432596, 0.8912889850355825, 0.004870431612216298, 0.004870431612216298, 0.9067649698783657, 0.020150332663963683, 0.06045099799189105, 0.22204349867242645, 0.31974263808829406, 0.13322609920345588, 0.07993565952207352, 0.023092523861932352, 0.05506678767076176, 0.03375061179820882, 0.07105391957517647, 0.02486887185131176, 0.037303307776967644, 0.998005769630689, 0.3224250571114625, 0.2344909506265182, 0.06395207744359588, 0.10125745595236013, 0.01732035430764055, 0.05462573281640481, 0.0692814172305622, 0.050628727976180066, 0.04663172313595532, 0.041302383348989, 0.03556882158296156, 0.8536517179910774, 0.01778441079148078, 0.03556882158296156, 0.01778441079148078, 0.03556882158296156, 0.02338068583076444, 0.004676137166152889, 0.014028411498458666, 0.03740909732922311, 0.004676137166152889, 0.004676137166152889, 0.8089717297444498, 0.004676137166152889, 0.07949433182459911, 0.014028411498458666, 0.9601124274921763, 0.02784366628557611, 0.7564196007581511, 0.06032794361874824, 0.10673405409470843, 0.013921833142788055, 0.0046406110475960185, 0.013921833142788055, 0.0046406110475960185, 0.009281222095192037, 0.0046406110475960185, 0.0782258511092828, 0.111751215870404, 0.0111751215870404, 0.0335253647611212, 0.0111751215870404, 0.0223502431740808, 0.055875607935202, 0.0223502431740808, 0.6593321736353837, 0.482189313766478, 0.006605333065294219, 0.5086106460276548, 0.006605333065294219, 0.1476078805097617, 0.05157383776847096, 0.07054352522354074, 0.014227265591302333, 0.5364864733386921, 0.018969687455069776, 0.11381812473041866, 0.017191279256156985, 0.027861728449633735, 0.0029640136648546524, 0.9882035209744648, 0.02452434743644263, 0.9646243325000767, 0.20305485426732572, 0.00902466018965892, 0.00451233009482946, 0.00451233009482946, 0.7535591258365198, 0.013536990284488381, 0.00902466018965892, 0.0052837680584846706, 0.0035225120389897804, 0.0035225120389897804, 0.9810196028586539, 0.0035225120389897804, 0.0017612560194948902, 0.9516917669941966, 0.059026780083873465, 0.8854017012581019, 0.015832976980359677, 0.003958244245089919, 0.003958244245089919, 0.3799914475286323, 0.5343629730871391, 0.051457175186168956, 0.04719017752447571, 0.02212039571459799, 0.024332435286057788, 0.005898772190559464, 0.06783588019143383, 0.008848158285839196, 0.002212039571459799, 0.8118185227257462, 0.005161425666739531, 0.004424079142919598, 0.047347943547980165, 0.003945661962331681, 0.7930780544286679, 0.003945661962331681, 0.007891323924663362, 0.11047853494528706, 0.03156529569865345, 0.003945661962331681, 0.848819356203633, 0.9500106993985531, 0.3267474050850393, 0.3820836591720218, 0.10803744845553719, 0.0579713138054102, 0.018445418028994156, 0.021080477747421892, 0.023715537465849628, 0.03162071662113284, 0.00790517915528321, 0.018445418028994156, 0.838956802293923, 0.03355827209175692, 0.10067481627527076, 0.9821530084180591, 0.015548596439336027, 0.8781491978973358, 0.010332873245873068, 0.9816229583579414, 0.9717779759945971, 0.9608343051384414, 0.005021224987573909, 0.7280776231982168, 0.005021224987573909, 0.025106124937869546, 0.2309763494283998, 0.05330243855721472, 0.041457452211167006, 0.035534959038143146, 0.011844986346047717, 0.6929317012437914, 0.023689972692095433, 0.08291490442233401, 0.035534959038143146, 0.011844986346047717, 0.011844986346047717, 0.9829953337469103, 0.008260464989469835, 0.9109839983827308, 0.9385024860453652, 0.8752719234543364, 0.9635187458889453, 0.9166455400389254, 0.010487295995797489, 0.9753185276091664, 0.9689921214564273, 0.9824726116509526, 0.9528005649145291, 0.9873842886420905, 0.8935925504916349, 0.05256426767597852, 0.9574396712453653, 0.02151549823023293, 0.010757749115116465, 0.2744624075149969, 0.07841783071857054, 0.09205571432180021, 0.069894153466552, 0.011933148152825953, 0.38867968269204534, 0.0221615608552482, 0.015342619053633367, 0.0221615608552482, 0.023866296305651905, 0.9578061395649946, 0.2860793472535281, 0.36230738649036165, 0.10671925493156692, 0.05470482815819817, 0.04663362400370991, 0.051117626311758944, 0.012555206462537286, 0.016142408308976508, 0.04125282123405108, 0.021523211078635345, 0.9485269241366646, 0.16722022231555494, 0.1390628652933481, 0.1488317442602362, 0.0362023161714088, 0.16147382292326784, 0.04424727532061076, 0.08102423143124828, 0.022985597569148447, 0.01896311799454747, 0.1798623009785866, 0.007802587406432188, 0.0046815524438593124, 0.061900526757695355, 0.007802587406432188, 0.9004185867022745, 0.0010403449875242916, 0.003641207456335021, 0.0041613799500971665, 0.00624206992514575, 0.002600862468810729, 0.017488170599874536, 0.004372042649968634, 0.004372042649968634, 0.008744085299937268, 0.002186021324984317, 0.20111396189855715, 0.44813437162178493, 0.1049290235992472, 0.20548600454852578, 0.9700811124365737, 0.9836528214566842, 0.8687790758718442, 0.9759337595957491, 0.0017796634691278988, 0.4374412807116375, 0.0003559326938255797, 0.0007118653876511594, 0.5573905985308578, 0.0003559326938255797, 0.0003559326938255797, 0.0017796634691278988, 0.9176884607065786, 0.9564178468607264, 0.926815357645509, 0.04752899269976969, 0.011882248174942423, 0.5197092782470447, 0.15701186653989266, 0.08635652659694096, 0.04710355996196779, 0.03140237330797853, 0.05181391595816458, 0.01884142398478712, 0.028262135977180677, 0.014131067988590339, 0.04553344129656887, 0.32646189476622334, 0.01788832300088895, 0.0044720807502222374, 0.008944161500444475, 0.0044720807502222374, 0.6082029820302243, 0.0044720807502222374, 0.0044720807502222374, 0.013416242250666713, 0.7596160727788378, 0.0735917049161764, 0.015591462905969576, 0.0735917049161764, 0.010602194776059311, 0.02245170658459619, 0.020580731035879842, 0.00997853625982053, 0.005612926646149047, 0.00810756071110418, 0.9344543888950302, 0.9366878206349566, 0.3657497818133467, 0.19363223743059532, 0.09681611871529766, 0.03944360392104719, 0.005378673261960981, 0.16315308894614974, 0.007171564349281308, 0.10578057415189929, 0.005378673261960981, 0.019721801960523595, 0.45363875464851994, 0.11701336101214159, 0.15008235434165987, 0.05341914307076029, 0.01950222683535693, 0.06444214084726638, 0.027981455894207773, 0.028829378800092856, 0.052571220164875206, 0.03306899332951828, 0.8184844022067436, 0.08741095557547747, 0.03973225253430794, 0.011919675760292382, 0.003973225253430794, 0.003973225253430794, 0.003973225253430794, 0.023839351520584764, 0.007946450506861588, 0.843269927310077, 0.2544146894270857, 0.2341002085222614, 0.14026665386664422, 0.18476504061054516, 0.020314480904824336, 0.04062896180964867, 0.019347124671261273, 0.04159631804321173, 0.022249193371950464, 0.0425636742767748, 0.010419895057630644, 0.9638402928308345, 0.002604973764407661, 0.007814921293222983, 0.015629842586445966, 0.9397414475957334, 0.9161440492174598, 0.05572630282611079, 0.9473471480438834, 0.9206510991806582, 0.902587360070533, 0.8531021046854268, 0.06171416081806995, 0.1234283216361399, 0.07542841877764105, 0.06171416081806995, 0.0274285159191422, 0.0274285159191422, 0.00685712897978555, 0.06171416081806995, 0.5348560604232729, 0.02057138693935665, 0.043006758703339164, 0.021503379351669582, 0.924645312121792, 0.6164023517861074, 0.03477141471613939, 0.04741556552200826, 0.0031610377014672174, 0.22443367680417242, 0.015805188507336088, 0.0031610377014672174, 0.028449339313204956, 0.01264415080586887, 0.015805188507336088, 0.8101885799055002, 0.04551621235424159, 0.009103242470848318, 0.08192918223763486, 0.018206484941696636, 0.018206484941696636, 0.009103242470848318, 0.9222891079370052, 0.0677879080706839, 0.045191938713789265, 0.7682629581344175, 0.09038387742757853, 0.9373984586894498, 0.040756454725628256, 0.21111582145683497, 0.023457313495203885, 0.7740913453417282, 0.1357411029793453, 0.44744289500599005, 0.027650965421718486, 0.03770586193870703, 0.012568620646235675, 0.21115282685675935, 0.012568620646235675, 0.0854666203944026, 0.020109793033977082, 0.012568620646235675, 0.42737850340818645, 0.11214270647280926, 0.03267149716136963, 0.03443752403495717, 0.167772552990817, 0.018543282172669248, 0.007064107494350189, 0.021192322483050568, 0.1748366604851672, 0.005298080620762642, 0.8715589541598135, 0.010313996561485688, 0.2406599197679994, 0.5019478326589701, 0.048131983953599876, 0.03781798739211419, 0.034379988538285625, 0.03781798739211419, 0.048131983953599876, 0.024065991976799938, 0.010313996561485688, 0.00637010381800558, 0.00637010381800558, 0.01274020763601116, 0.45864747489640173, 0.01274020763601116, 0.00637010381800558, 0.4904979939864296, 0.9923272126182032, 0.016753477029924746, 0.2177952013890217, 0.13402781623939797, 0.5696182190174414, 0.03350695405984949, 0.016753477029924746, 0.767730354730868, 0.13087846117556098, 0.01888967480884385, 0.004047787459037968, 0.008095574918075936, 0.008095574918075936, 0.004047787459037968, 0.02428672475422781, 0.0256359872405738, 0.006746312431729947, 0.859114783047355, 0.9135624594652635, 0.912117910941328, 0.9744209652579628, 0.932634816424522, 0.154827067316941, 0.004994421526352937, 0.8340683949009403, 0.004994421526352937, 0.9906503503083042, 0.002076835115950323, 0.006230505347850969, 0.9659908739651368, 0.11485592912062005, 0.008835071470816927, 0.06184550029571849, 0.0044175357354084635, 0.017670142941633854, 0.022087678677042318, 0.01325260720622539, 0.030922750147859245, 0.7023881819299457, 0.017670142941633854, 0.004754085331696392, 0.007131127997544587, 0.009508170663392783, 0.002377042665848196, 0.002377042665848196, 0.7701618237348155, 0.20204862659709663, 0.33109957666746487, 0.14789750542783012, 0.24713196068263227, 0.04198380799241629, 0.04389216290116249, 0.13740155342972604, 0.008587597089357878, 0.014312661815596464, 0.02003772654183505, 0.008587597089357878, 0.11842971721177224, 0.503326298150032, 0.07895314480784817, 0.10362600256030072, 0.01480371465147153, 0.03947657240392408, 0.00986914310098102, 0.01973828620196204, 0.06908400170686714, 0.054280287055395615, 0.9779278238663854, 0.12420449466101671, 0.037495696501439, 0.5624354475215851, 0.1734175963191554, 0.01171740515669969, 0.004686962062679875, 0.00937392412535975, 0.037495696501439, 0.030465253407419193, 0.004686962062679875, 0.07448990504212549, 0.8193889554633803, 0.01241498417368758, 0.037244952521062746, 0.00620749208684379, 0.02482996834737516, 0.018622476260531373, 0.28298608940022363, 0.2040478644622665, 0.15191884799380426, 0.21298426728543146, 0.017872805646329912, 0.05212901646846225, 0.023830407528439883, 0.023830407528439883, 0.019362206116857406, 0.011915203764219942, 0.9484178298176572, 0.9027518516525807, 0.046599259153703616, 0.0031066172769135744, 0.49084552975234474, 0.0031066172769135744, 0.22367644393777736, 0.07455881464592579, 0.09009190103049365, 0.052812493707530765, 0.006213234553827149, 0.006213234553827149, 0.4501071363115411, 0.3616607811278466, 0.08905215213700746, 0.044828974545160216, 0.006663766486442735, 0.006057969533129759, 0.029078253759022843, 0.005452172579816783, 0.0030289847665648795, 0.0024231878132519036, 0.47734099313815964, 0.11324466634741534, 0.11110292324864625, 0.03828365789049738, 0.01686622690280654, 0.03105527493215172, 0.15688268198483543, 0.014992201691383591, 0.01793709845219108, 0.02222058464972925, 0.3481648388560093, 0.044636517802052474, 0.008927303560410495, 0.10712764272492593, 0.01785460712082099, 0.008927303560410495, 0.008927303560410495, 0.4552924815809352, 0.3488398456053717, 0.2285502436724849, 0.15437165581387138, 0.0862075480519022, 0.021050680338255186, 0.04611101407427327, 0.023055507037136633, 0.05312790752035833, 0.014033786892170125, 0.024057920386577357, 0.9576894958998239, 0.932041442193134, 0.13871407764626764, 0.050749052797414984, 0.3315604782764446, 0.08458175466235832, 0.0033832701864943324, 0.016916350932471663, 0.020299621118965994, 0.32817720808995027, 0.0033832701864943324, 0.023682891305460328, 0.09647140228452711, 0.868242620560744, 0.9256201509615112, 0.8985603213230631, 0.27502207023656133, 0.41814580066579227, 0.030869824210226274, 0.09541582028615393, 0.01964443358832581, 0.016838085932850695, 0.016838085932850695, 0.05612695310950232, 0.03928886717665162, 0.0364825195211765, 0.9414323942696812, 0.04827858432152211, 0.9958940838375756, 0.9988188109670678], \"Term\": [\"abnormal\", \"actors\", \"admin\", \"admin\", \"admin\", \"admin\", \"admin\", \"admin\", \"admin\", \"admin\", \"admin\", \"admin\", \"administrator\", \"administrator\", \"administrator\", \"administrator\", \"administrator\", \"administrator\", \"administrator\", \"administrator\", \"administrator\", \"administrator\", \"admins\", \"admins\", \"admins\", \"admins\", \"admins\", \"admins\", \"admins\", \"admins\", \"admins\", \"admins\", \"advocated\", \"agency\", \"ah\", \"ah\", \"ah\", \"ah\", \"aids\", \"aids\", \"aids\", \"aids\", \"aids\", \"aids\", \"aids\", \"aidsaids\", \"alf\", \"allen\", \"allen\", \"aloud\", \"american\", \"american\", \"american\", \"american\", \"american\", \"american\", \"american\", \"american\", \"american\", \"american\", \"anal\", \"anal\", \"anal\", \"anal\", \"anal\", \"anal\", \"anal\", \"anal\", \"anal\", \"anal\", \"ancestors\", \"ancestryfuck\", \"angeles\", \"animals\", \"animals\", \"animals\", \"animals\", \"animals\", \"animals\", \"animals\", \"anti\", \"anti\", \"anti\", \"anti\", \"anti\", \"anti\", \"anti\", \"anti\", \"anti\", \"anti\", \"anything\", \"anything\", \"anything\", \"anything\", \"anything\", \"anything\", \"anything\", \"anything\", \"anything\", \"anything\", \"apes\", \"arab\", \"arab\", \"arab\", \"arab\", \"arab\", \"arab\", \"arabian\", \"armchair\", \"arrange\", \"arrest\", \"arrest\", \"arrest\", \"arrest\", \"arrest\", \"arse\", \"arse\", \"arse\", \"arse\", \"arse\", \"arse\", \"arse\", \"arse\", \"arse\", \"arse\", \"arthur\", \"article\", \"article\", \"article\", \"article\", \"article\", \"article\", \"article\", \"article\", \"article\", \"article\", \"aryan\", \"ashole\", \"ass\", \"ass\", \"ass\", \"ass\", \"ass\", \"ass\", \"ass\", \"ass\", \"ass\", \"ass\", \"assad\", \"assad\", \"assad\", \"assad\", \"assad\", \"assad\", \"asshole\", \"asshole\", \"asshole\", \"asshole\", \"asshole\", \"asshole\", \"asshole\", \"asshole\", \"asshole\", \"asshole\", \"asylum\", \"atheist\", \"atheist\", \"atheist\", \"atheist\", \"atheist\", \"atheist\", \"author\", \"author\", \"author\", \"author\", \"author\", \"author\", \"autistic\", \"babe\", \"back\", \"back\", \"back\", \"back\", \"back\", \"back\", \"back\", \"back\", \"back\", \"back\", \"bad\", \"bad\", \"bad\", \"bad\", \"bad\", \"bad\", \"bad\", \"bad\", \"bad\", \"bad\", \"bag\", \"bag\", \"bag\", \"bag\", \"bag\", \"bag\", \"bag\", \"bag\", \"bag\", \"bagel\", \"bail\", \"balance\", \"bald\", \"balls\", \"balls\", \"balls\", \"balls\", \"balls\", \"balls\", \"balls\", \"balls\", \"balls\", \"ban\", \"ban\", \"ban\", \"ban\", \"ban\", \"ban\", \"ban\", \"ban\", \"ban\", \"ban\", \"banned\", \"banned\", \"banned\", \"banned\", \"banned\", \"banned\", \"banned\", \"banned\", \"banned\", \"banned\", \"bark\", \"bark\", \"bark\", \"bastard\", \"bastard\", \"bastard\", \"bastard\", \"bastard\", \"bastard\", \"bastard\", \"bastard\", \"bastard\", \"bastard\", \"bastered\", \"bbb\", \"bbb\", \"bbb\", \"believers\", \"benben\", \"bicth\", \"big\", \"big\", \"big\", \"big\", \"big\", \"big\", \"big\", \"big\", \"big\", \"big\", \"bighead\", \"bill\", \"bill\", \"bill\", \"bill\", \"billj\", \"billj\", \"billj\", \"billj\", \"binksternet\", \"bitch\", \"bitch\", \"bitch\", \"bitch\", \"bitch\", \"bitch\", \"bitch\", \"bitch\", \"bitch\", \"bitch\", \"bitchmother\", \"blank\", \"blank\", \"blank\", \"block\", \"block\", \"block\", \"block\", \"block\", \"block\", \"block\", \"block\", \"block\", \"block\", \"blogs\", \"bloody\", \"bloody\", \"bloody\", \"bloody\", \"bloody\", \"bloody\", \"bloody\", \"bloody\", \"bloody\", \"bollocks\", \"bollocks\", \"bollocks\", \"bollocks\", \"boobs\", \"boobs\", \"boobs\", \"boobs\", \"bootstoots\", \"bot\", \"bot\", \"bot\", \"bot\", \"bot\", \"bot\", \"bot\", \"bred\", \"bullshido\", \"bullshit\", \"bullshit\", \"bullshit\", \"bullshit\", \"bullshit\", \"bullshit\", \"bullshit\", \"bullshit\", \"bullshit\", \"bullshit\", \"bum\", \"bum\", \"bunksteve\", \"buried\", \"buried\", \"bush\", \"bush\", \"bush\", \"bush\", \"bush\", \"bush\", \"bush\", \"bush\", \"bush\", \"bush\", \"butt\", \"butt\", \"butt\", \"butt\", \"butt\", \"butt\", \"butt\", \"butt\", \"buttsecks\", \"buttsecks\", \"buttsecks\", \"california\", \"california\", \"california\", \"callin\", \"caltlas\", \"camps\", \"cant\", \"cant\", \"cant\", \"cant\", \"cant\", \"cant\", \"cant\", \"cant\", \"cant\", \"care\", \"care\", \"care\", \"care\", \"care\", \"care\", \"care\", \"care\", \"care\", \"care\", \"cccccc\", \"cccccc\", \"censor\", \"censor\", \"censor\", \"censor\", \"censor\", \"censor\", \"censor\", \"censorship\", \"censorship\", \"censorship\", \"censorship\", \"censorship\", \"censorship\", \"censorship\", \"censorship\", \"charming\", \"chat\", \"chat\", \"chat\", \"chat\", \"cheese\", \"cheese\", \"cheese\", \"cheese\", \"cheese\", \"cheese\", \"chemical\", \"chester\", \"chester\", \"china\", \"china\", \"china\", \"china\", \"china\", \"china\", \"china\", \"chink\", \"chink\", \"chink\", \"chink\", \"chocobos\", \"chocobos\", \"chocobos\", \"chocobos\", \"chronology\", \"chuck\", \"chuck\", \"chuck\", \"chuck\", \"chula\", \"chula\", \"chula\", \"cites\", \"ck\", \"ck\", \"ck\", \"ck\", \"ck\", \"ck\", \"ck\", \"ck\", \"cked\", \"cker\", \"cking\", \"cking\", \"cking\", \"cking\", \"cking\", \"cking\", \"cking\", \"cleansing\", \"climate\", \"climate\", \"climate\", \"climate\", \"cline\", \"cline\", \"cock\", \"cock\", \"cock\", \"cock\", \"cock\", \"cock\", \"cock\", \"cock\", \"cock\", \"cock\", \"cocks\", \"cocks\", \"cocks\", \"cocks\", \"cocks\", \"cocks\", \"cocksucker\", \"cocksucker\", \"cocksucker\", \"cocksucker\", \"cocksucker\", \"cocksucker\", \"cocksucker\", \"cocksucking\", \"cocksucking\", \"cocksucking\", \"cocksucking\", \"cocksucking\", \"cocksucking\", \"cody\", \"columbus\", \"com\", \"com\", \"com\", \"com\", \"com\", \"com\", \"com\", \"com\", \"com\", \"come\", \"come\", \"come\", \"come\", \"come\", \"come\", \"come\", \"come\", \"come\", \"come\", \"comin\", \"commercial\", \"communism\", \"communism\", \"communism\", \"communism\", \"computer\", \"computer\", \"computer\", \"computer\", \"computer\", \"computer\", \"computer\", \"computer\", \"computer\", \"computer\", \"concerts\", \"constructed\", \"constructed\", \"contras\", \"cougar\", \"cougar\", \"cougar\", \"couriano\", \"couriano\", \"couriano\", \"couriano\", \"creasy\", \"credit\", \"credit\", \"credit\", \"credit\", \"credit\", \"criminalwar\", \"criticisms\", \"criticisms\", \"cunt\", \"cunt\", \"cunt\", \"cunt\", \"cunt\", \"cunt\", \"cunt\", \"cunt\", \"cunt\", \"cunt\", \"cuntbag\", \"cuntbag\", \"cuntbag\", \"cuntbag\", \"cunts\", \"cunts\", \"cunts\", \"cunts\", \"cunts\", \"cunts\", \"cunts\", \"curps\", \"curps\", \"current\", \"current\", \"current\", \"current\", \"current\", \"current\", \"current\", \"current\", \"current\", \"damaged\", \"damn\", \"damn\", \"damn\", \"damn\", \"damn\", \"damn\", \"damn\", \"damn\", \"damn\", \"damn\", \"dayton\", \"degrassi\", \"delanoy\", \"delanoy\", \"delanoy\", \"delanoy\", \"delanoy\", \"deletion\", \"deletion\", \"deletion\", \"deletion\", \"deletion\", \"deletion\", \"deletion\", \"deletion\", \"deletion\", \"deletion\", \"deletionists\", \"democratic\", \"democratic\", \"democratic\", \"democratic\", \"democratic\", \"democratic\", \"demons\", \"dick\", \"dick\", \"dick\", \"dick\", \"dick\", \"dick\", \"dick\", \"dick\", \"dick\", \"dick\", \"dickbig\", \"dickbutt\", \"dickhead\", \"dickhead\", \"dickhead\", \"dickhead\", \"dickhead\", \"dickhead\", \"die\", \"die\", \"die\", \"die\", \"die\", \"die\", \"die\", \"die\", \"die\", \"die\", \"diego\", \"diego\", \"diego\", \"diego\", \"diego\", \"diego\", \"diff\", \"diff\", \"diff\", \"diff\", \"dihck\", \"dikkkkk\", \"dirtball\", \"dirtball\", \"dodo\", \"dog\", \"dog\", \"dog\", \"dog\", \"dog\", \"dog\", \"dog\", \"dog\", \"dog\", \"dog\", \"donkey\", \"donkey\", \"donkey\", \"donkey\", \"donkey\", \"donkey\", \"donkey\", \"dont\", \"dont\", \"dont\", \"dont\", \"dont\", \"dont\", \"dont\", \"dont\", \"dont\", \"dont\", \"dorms\", \"dosent\", \"dot\", \"douche\", \"douche\", \"douche\", \"douche\", \"douche\", \"douche\", \"douche\", \"douche\", \"douche\", \"douche\", \"drummer\", \"drummer\", \"drummer\", \"drummer\", \"ducks\", \"dudes\", \"dumbass\", \"dumbass\", \"dumbass\", \"dumbass\", \"dumbass\", \"dumbass\", \"dumbass\", \"dumbass\", \"dumbass\", \"dust\", \"dust\", \"easier\", \"easier\", \"easier\", \"easier\", \"easier\", \"eat\", \"eat\", \"eat\", \"eat\", \"eat\", \"eat\", \"eat\", \"eat\", \"eat\", \"eat\", \"edgar\", \"edge\", \"edit\", \"edit\", \"edit\", \"edit\", \"edit\", \"edit\", \"edit\", \"edit\", \"edit\", \"edit\", \"editing\", \"editing\", \"editing\", \"editing\", \"editing\", \"editing\", \"editing\", \"editing\", \"editing\", \"editing\", \"edits\", \"edits\", \"edits\", \"edits\", \"edits\", \"edits\", \"edits\", \"edits\", \"edits\", \"edits\", \"elitism\", \"emailed\", \"enigmaman\", \"enigmaman\", \"enigmaman\", \"enigmaman\", \"enjoys\", \"enjoys\", \"enjoys\", \"enjoys\", \"enjoys\", \"equipment\", \"ers\", \"ers\", \"ers\", \"ersi\", \"ersi\", \"essay\", \"even\", \"even\", \"even\", \"even\", \"even\", \"even\", \"even\", \"even\", \"even\", \"even\", \"evn\", \"evolution\", \"evolution\", \"evolution\", \"existance\", \"existance\", \"fack\", \"fag\", \"fag\", \"fag\", \"fag\", \"fag\", \"fag\", \"fag\", \"fag\", \"fag\", \"faggot\", \"faggot\", \"faggot\", \"faggot\", \"faggot\", \"faggot\", \"faggot\", \"faggot\", \"faggot\", \"faggots\", \"faggots\", \"faggots\", \"faggots\", \"faggots\", \"faggots\", \"fan\", \"fan\", \"fan\", \"fan\", \"fan\", \"fan\", \"fan\", \"fan\", \"fan\", \"fart\", \"fart\", \"fart\", \"fart\", \"fart\", \"fart\", \"fart\", \"fart\", \"farted\", \"fat\", \"fat\", \"fat\", \"fat\", \"fat\", \"fat\", \"fat\", \"fat\", \"fat\", \"fat\", \"fc\", \"fcuk\", \"fcuk\", \"fellowship\", \"fellowship\", \"fffff\", \"fggt\", \"fggt\", \"fggt\", \"fire\", \"fire\", \"fire\", \"fire\", \"fire\", \"fire\", \"fire\", \"fire\", \"fire\", \"firefox\", \"floor\", \"floor\", \"floor\", \"fock\", \"fool\", \"fool\", \"fool\", \"fool\", \"fool\", \"fool\", \"fool\", \"fool\", \"fool\", \"fool\", \"freak\", \"freak\", \"freak\", \"freak\", \"freak\", \"freak\", \"freak\", \"free\", \"free\", \"free\", \"free\", \"free\", \"free\", \"free\", \"free\", \"free\", \"free\", \"freedom\", \"freedom\", \"freedom\", \"freedom\", \"freedom\", \"freedom\", \"freedom\", \"freedom\", \"friggen\", \"fucc\", \"fuck\", \"fuck\", \"fuck\", \"fuck\", \"fuck\", \"fuck\", \"fuck\", \"fuck\", \"fuck\", \"fuck\", \"fucker\", \"fucker\", \"fucker\", \"fucker\", \"fucker\", \"fucker\", \"fucker\", \"fucker\", \"fucker\", \"fucking\", \"fucking\", \"fucking\", \"fucking\", \"fucking\", \"fucking\", \"fucking\", \"fucking\", \"fucking\", \"fucking\", \"fuckingabf\", \"fuckingabf\", \"fucksex\", \"fusion\", \"fyrom\", \"gamaliel\", \"gamaliel\", \"gamaliel\", \"gamaliel\", \"gamaliel\", \"gamaliel\", \"gay\", \"gay\", \"gay\", \"gay\", \"gay\", \"gay\", \"gay\", \"gay\", \"gay\", \"gay\", \"gayfag\", \"gayfrozen\", \"gayfrozen\", \"genre\", \"genre\", \"genre\", \"genre\", \"george\", \"george\", \"george\", \"george\", \"george\", \"george\", \"george\", \"george\", \"george\", \"ger\", \"get\", \"get\", \"get\", \"get\", \"get\", \"get\", \"get\", \"get\", \"get\", \"get\", \"gg\", \"gg\", \"ggot\", \"ggot\", \"ggot\", \"ggot\", \"go\", \"go\", \"go\", \"go\", \"go\", \"go\", \"go\", \"go\", \"go\", \"go\", \"god\", \"god\", \"god\", \"god\", \"god\", \"god\", \"god\", \"god\", \"god\", \"god\", \"going\", \"going\", \"going\", \"going\", \"going\", \"going\", \"going\", \"going\", \"going\", \"going\", \"gon\", \"goodbye\", \"goodbye\", \"goodbye\", \"goodbye\", \"goodbye\", \"goodbye\", \"goodbye\", \"goof\", \"google\", \"google\", \"google\", \"google\", \"google\", \"google\", \"google\", \"google\", \"google\", \"grandma\", \"grandma\", \"grenades\", \"gulf\", \"ha\", \"ha\", \"ha\", \"ha\", \"ha\", \"ha\", \"ha\", \"ha\", \"ha\", \"ha\", \"hail\", \"hanibal\", \"hanibal\", \"hanibal\", \"hanibal\", \"hate\", \"hate\", \"hate\", \"hate\", \"hate\", \"hate\", \"hate\", \"hate\", \"hate\", \"hate\", \"hater\", \"hater\", \"hater\", \"hater\", \"hater\", \"hater\", \"hater\", \"hayes\", \"hearts\", \"heil\", \"heil\", \"heil\", \"heil\", \"henchman\", \"henchman\", \"hi\", \"hi\", \"hi\", \"hi\", \"hi\", \"hi\", \"hi\", \"hi\", \"hi\", \"hist\", \"hist\", \"hist\", \"hist\", \"hist\", \"hitler\", \"hitler\", \"hitler\", \"hitler\", \"hitler\", \"hitler\", \"hitler\", \"hitler\", \"hitler\", \"hitting\", \"homeland\", \"homeland\", \"homeland\", \"homeland\", \"homo\", \"homo\", \"homo\", \"homo\", \"homo\", \"homo\", \"homo\", \"homo\", \"homo\", \"hoo\", \"hoo\", \"hoo\", \"hoo\", \"hooded\", \"hooded\", \"horrid\", \"horrid\", \"horrid\", \"house\", \"house\", \"house\", \"house\", \"house\", \"house\", \"house\", \"house\", \"house\", \"house\", \"http\", \"http\", \"http\", \"http\", \"http\", \"http\", \"http\", \"http\", \"http\", \"huge\", \"huge\", \"huge\", \"huge\", \"huge\", \"huge\", \"huge\", \"huge\", \"huge\", \"hussein\", \"idiot\", \"idiot\", \"idiot\", \"idiot\", \"idiot\", \"idiot\", \"idiot\", \"idiot\", \"idiot\", \"idiot\", \"idk\", \"im\", \"im\", \"im\", \"im\", \"im\", \"im\", \"im\", \"im\", \"im\", \"im\", \"image\", \"image\", \"image\", \"image\", \"image\", \"image\", \"image\", \"image\", \"image\", \"image\", \"imma\", \"imma\", \"impressed\", \"impressed\", \"inconvenient\", \"inept\", \"inevitably\", \"inflammatory\", \"information\", \"information\", \"information\", \"information\", \"information\", \"information\", \"information\", \"information\", \"information\", \"information\", \"informations\", \"iraq\", \"iraq\", \"iraq\", \"iraq\", \"itsuck\", \"itsuck\", \"jew\", \"jew\", \"jew\", \"jew\", \"jew\", \"jew\", \"jew\", \"jew\", \"jew\", \"jew\", \"jewish\", \"jewish\", \"jewish\", \"jewish\", \"jewish\", \"jewish\", \"jewish\", \"jewish\", \"jews\", \"jews\", \"jews\", \"jews\", \"jews\", \"jews\", \"jews\", \"jforget\", \"jforget\", \"jim\", \"jim\", \"jim\", \"jim\", \"john\", \"john\", \"john\", \"john\", \"john\", \"john\", \"john\", \"john\", \"john\", \"jon\", \"journal\", \"jschnur\", \"jschnur\", \"jw\", \"kaff\", \"kaff\", \"kaff\", \"kaff\", \"kaff\", \"kant\", \"karen\", \"keep\", \"keep\", \"keep\", \"keep\", \"keep\", \"keep\", \"keep\", \"keep\", \"keep\", \"keep\", \"keith\", \"keith\", \"ken\", \"kevin\", \"khalsa\", \"khalsa\", \"kill\", \"kill\", \"kill\", \"kill\", \"kill\", \"kill\", \"kill\", \"kill\", \"kill\", \"kill\", \"kinu\", \"kk\", \"kk\", \"kkkkkk\", \"kkkkkk\", \"knight\", \"know\", \"know\", \"know\", \"know\", \"know\", \"know\", \"know\", \"know\", \"know\", \"know\", \"kolkata\", \"latinus\", \"lecture\", \"lecture\", \"libeled\", \"lick\", \"lick\", \"lick\", \"lick\", \"lick\", \"lick\", \"lick\", \"licker\", \"licker\", \"licker\", \"life\", \"life\", \"life\", \"life\", \"life\", \"life\", \"life\", \"life\", \"life\", \"life\", \"like\", \"like\", \"like\", \"like\", \"like\", \"like\", \"like\", \"like\", \"like\", \"like\", \"link\", \"link\", \"link\", \"link\", \"link\", \"link\", \"link\", \"link\", \"link\", \"link\", \"lmao\", \"lmao\", \"lmao\", \"lmao\", \"lmao\", \"lmao\", \"loloool\", \"loser\", \"loser\", \"loser\", \"loser\", \"loser\", \"loser\", \"loser\", \"loser\", \"loser\", \"loser\", \"love\", \"love\", \"love\", \"love\", \"love\", \"love\", \"love\", \"love\", \"love\", \"love\", \"loves\", \"loves\", \"loves\", \"loves\", \"loves\", \"loves\", \"loves\", \"lovin\", \"lt\", \"luna\", \"lunchables\", \"macro\", \"mafia\", \"maher\", \"maher\", \"maher\", \"maher\", \"make\", \"make\", \"make\", \"make\", \"make\", \"make\", \"make\", \"make\", \"make\", \"make\", \"making\", \"making\", \"making\", \"making\", \"making\", \"making\", \"making\", \"making\", \"making\", \"making\", \"mann\", \"march\", \"march\", \"march\", \"march\", \"march\", \"march\", \"marcolfuck\", \"mask\", \"meatspin\", \"meatspin\", \"meatspin\", \"meatspin\", \"megadeth\", \"merciless\", \"messed\", \"metal\", \"metal\", \"metal\", \"metal\", \"metal\", \"metal\", \"metal\", \"meters\", \"mexicans\", \"mexicans\", \"mexicans\", \"mezo\", \"million\", \"million\", \"million\", \"million\", \"million\", \"minister\", \"minorities\", \"minorities\", \"minorities\", \"misguided\", \"mitt\", \"mitt\", \"mitt\", \"mitt\", \"mitt\", \"mitt\", \"mo\", \"mo\", \"mo\", \"mocking\", \"mongoloid\", \"moonshine\", \"moron\", \"moron\", \"moron\", \"moron\", \"moron\", \"moron\", \"moron\", \"moron\", \"moron\", \"moscow\", \"mother\", \"mother\", \"mother\", \"mother\", \"mother\", \"mother\", \"mother\", \"mother\", \"mother\", \"mother\", \"mothjer\", \"mothjer\", \"mothjer\", \"mothjer\", \"mouth\", \"mouth\", \"mouth\", \"mouth\", \"mouth\", \"mouth\", \"mouth\", \"mouth\", \"mouth\", \"mouth\", \"mouths\", \"mrs\", \"msg\", \"msg\", \"mtv\", \"mudda\", \"mum\", \"mum\", \"mum\", \"mum\", \"mum\", \"mum\", \"mum\", \"mum\", \"mum\", \"murder\", \"murder\", \"murder\", \"murder\", \"murder\", \"murder\", \"murders\", \"must\", \"must\", \"must\", \"must\", \"must\", \"must\", \"must\", \"must\", \"must\", \"must\", \"nah\", \"name\", \"name\", \"name\", \"name\", \"name\", \"name\", \"name\", \"name\", \"name\", \"name\", \"ned\", \"need\", \"need\", \"need\", \"need\", \"need\", \"need\", \"need\", \"need\", \"need\", \"need\", \"nerves\", \"nerves\", \"nerves\", \"news\", \"news\", \"news\", \"news\", \"news\", \"news\", \"news\", \"news\", \"news\", \"news\", \"nhrhs\", \"nhrhs\", \"nhrhs\", \"nhrhs\", \"nhrhs\", \"nigga\", \"nigga\", \"nigga\", \"nigga\", \"nigga\", \"nigga\", \"nigga\", \"niggas\", \"niggas\", \"niggas\", \"niggas\", \"niggas\", \"niggas\", \"nigger\", \"nigger\", \"nigger\", \"nigger\", \"nigger\", \"nigger\", \"nigger\", \"niggers\", \"niggers\", \"niggers\", \"niggers\", \"niggers\", \"niggers\", \"nihgga\", \"nipple\", \"nipple\", \"nipple\", \"nipple\", \"nipple\", \"nipple\", \"nipple\", \"njgw\", \"nl\", \"nl\", \"nomination\", \"nomination\", \"nomination\", \"nomination\", \"noobs\", \"noobs\", \"noobs\", \"norris\", \"norris\", \"nothing\", \"nothing\", \"nothing\", \"nothing\", \"nothing\", \"nothing\", \"nothing\", \"nothing\", \"nothing\", \"nothing\", \"notifying\", \"notifying\", \"notifying\", \"notifying\", \"notifying\", \"nuthin\", \"nvidia\", \"nzi\", \"offfuck\", \"offfuck\", \"officer\", \"ohio\", \"ohio\", \"oi\", \"oi\", \"oi\", \"oi\", \"oi\", \"old\", \"old\", \"old\", \"old\", \"old\", \"old\", \"old\", \"old\", \"old\", \"old\", \"one\", \"one\", \"one\", \"one\", \"one\", \"one\", \"one\", \"one\", \"one\", \"one\", \"opengl\", \"orthodox\", \"oscar\", \"oxymoron\", \"oxymoron\", \"oxymoron\", \"oxymoron\", \"page\", \"page\", \"page\", \"page\", \"page\", \"page\", \"page\", \"page\", \"page\", \"page\", \"palace\", \"password\", \"password\", \"pelican\", \"penis\", \"penis\", \"penis\", \"penis\", \"penis\", \"penis\", \"penis\", \"penis\", \"penis\", \"penis\", \"people\", \"people\", \"people\", \"people\", \"people\", \"people\", \"people\", \"people\", \"people\", \"people\", \"perception\", \"perish\", \"person\", \"person\", \"person\", \"person\", \"person\", \"person\", \"person\", \"person\", \"person\", \"person\", \"picture\", \"picture\", \"picture\", \"picture\", \"picture\", \"picture\", \"picture\", \"picture\", \"piece\", \"piece\", \"piece\", \"piece\", \"piece\", \"piece\", \"piece\", \"piece\", \"piece\", \"piece\", \"pig\", \"pig\", \"pig\", \"pig\", \"pig\", \"pig\", \"pig\", \"pig\", \"pig\", \"pig\", \"pirate\", \"please\", \"please\", \"please\", \"please\", \"please\", \"please\", \"please\", \"please\", \"please\", \"please\", \"pls\", \"png\", \"pod\", \"poop\", \"poop\", \"poop\", \"poop\", \"poop\", \"poop\", \"poop\", \"post\", \"post\", \"post\", \"post\", \"post\", \"post\", \"post\", \"post\", \"post\", \"post\", \"prick\", \"prick\", \"prick\", \"prick\", \"prick\", \"prick\", \"prick\", \"prick\", \"prick\", \"prick\", \"princess\", \"princess\", \"pro\", \"pro\", \"pro\", \"pro\", \"pro\", \"pro\", \"pro\", \"pro\", \"pro\", \"pro\", \"pronounce\", \"prost\", \"prost\", \"punch\", \"pussy\", \"pussy\", \"pussy\", \"pussy\", \"pussy\", \"pussy\", \"pussy\", \"pussy\", \"pussy\", \"pussy\", \"px\", \"questioned\", \"ramblings\", \"randi\", \"rape\", \"rape\", \"rape\", \"rape\", \"rape\", \"rape\", \"rape\", \"rape\", \"rape\", \"rationale\", \"real\", \"real\", \"real\", \"real\", \"real\", \"real\", \"real\", \"real\", \"real\", \"real\", \"realized\", \"realized\", \"realized\", \"realized\", \"realized\", \"realized\", \"realy\", \"reel\", \"ref\", \"removing\", \"removing\", \"removing\", \"removing\", \"removing\", \"removing\", \"removing\", \"removing\", \"removing\", \"removing\", \"results\", \"retarded\", \"retarded\", \"retarded\", \"retarded\", \"retarded\", \"retarded\", \"retarded\", \"retarded\", \"retarded\", \"retarded\", \"retardedyour\", \"retardedyour\", \"returned\", \"revers\", \"right\", \"right\", \"right\", \"right\", \"right\", \"right\", \"right\", \"right\", \"right\", \"right\", \"ritual\", \"rm\", \"robert\", \"robert\", \"robert\", \"robert\", \"robert\", \"romanian\", \"romney\", \"romney\", \"romney\", \"romney\", \"romney\", \"romney\", \"rules\", \"rules\", \"rules\", \"rules\", \"rules\", \"rules\", \"rules\", \"rules\", \"rules\", \"rules\", \"rvv\", \"rvv\", \"sadr\", \"sahara\", \"sahrawi\", \"said\", \"said\", \"said\", \"said\", \"said\", \"said\", \"said\", \"said\", \"said\", \"said\", \"saliva\", \"saliva\", \"san\", \"san\", \"san\", \"san\", \"san\", \"san\", \"sannse\", \"sannse\", \"sannse\", \"say\", \"say\", \"say\", \"say\", \"say\", \"say\", \"say\", \"say\", \"say\", \"say\", \"securityfuck\", \"see\", \"see\", \"see\", \"see\", \"see\", \"see\", \"see\", \"see\", \"see\", \"see\", \"semen\", \"semen\", \"semen\", \"semen\", \"semen\", \"semen\", \"sex\", \"sex\", \"sex\", \"sex\", \"sex\", \"sex\", \"sex\", \"sex\", \"sex\", \"sex\", \"sexsex\", \"sexual\", \"sexual\", \"sexual\", \"sexual\", \"sexual\", \"sexual\", \"sexual\", \"sexual\", \"sexual\", \"sexual\", \"shall\", \"shall\", \"shall\", \"shall\", \"shall\", \"shall\", \"shall\", \"shall\", \"shall\", \"shannon\", \"shannon\", \"shannon\", \"shannon\", \"shit\", \"shit\", \"shit\", \"shit\", \"shit\", \"shit\", \"shit\", \"shit\", \"shit\", \"shit\", \"shitbag\", \"shitfuck\", \"shitfuck\", \"shithead\", \"shithead\", \"shithead\", \"shithead\", \"shithead\", \"shithead\", \"shithead\", \"shithole\", \"shithole\", \"shithole\", \"shithole\", \"shithole\", \"shithole\", \"shotgun\", \"shout\", \"shout\", \"showing\", \"showing\", \"showing\", \"showing\", \"showing\", \"showing\", \"shut\", \"shut\", \"shut\", \"shut\", \"shut\", \"shut\", \"shut\", \"shut\", \"shut\", \"shut\", \"sign\", \"sign\", \"sign\", \"sign\", \"sign\", \"sign\", \"sign\", \"sign\", \"simpleton\", \"simpson\", \"site\", \"site\", \"site\", \"site\", \"site\", \"site\", \"site\", \"site\", \"site\", \"site\", \"six\", \"six\", \"six\", \"sk\", \"sk\", \"sky\", \"slap\", \"slap\", \"slayer\", \"slit\", \"sloppy\", \"sloppy\", \"sloppy\", \"sloppy\", \"sloppy\", \"small\", \"small\", \"small\", \"small\", \"small\", \"small\", \"small\", \"small\", \"small\", \"small\", \"smells\", \"smells\", \"snide\", \"snotty\", \"socialism\", \"sofa\", \"spammed\", \"spanish\", \"spanish\", \"spartucused\", \"spics\", \"splatter\", \"sponsored\", \"stance\", \"stance\", \"steal\", \"steal\", \"steal\", \"still\", \"still\", \"still\", \"still\", \"still\", \"still\", \"still\", \"still\", \"still\", \"still\", \"stone\", \"stop\", \"stop\", \"stop\", \"stop\", \"stop\", \"stop\", \"stop\", \"stop\", \"stop\", \"stop\", \"strings\", \"stupid\", \"stupid\", \"stupid\", \"stupid\", \"stupid\", \"stupid\", \"stupid\", \"stupid\", \"stupid\", \"stupid\", \"suck\", \"suck\", \"suck\", \"suck\", \"suck\", \"suck\", \"suck\", \"suck\", \"suck\", \"suck\", \"sucks\", \"sucks\", \"sucks\", \"sucks\", \"sucks\", \"sucks\", \"sucks\", \"sucks\", \"sucks\", \"sucksfrozen\", \"suede\", \"suks\", \"sunni\", \"super\", \"super\", \"super\", \"super\", \"super\", \"super\", \"super\", \"super\", \"survey\", \"swastika\", \"sweep\", \"sweep\", \"sweep\", \"take\", \"take\", \"take\", \"take\", \"take\", \"take\", \"take\", \"take\", \"take\", \"take\", \"takes\", \"takes\", \"takes\", \"takes\", \"takes\", \"takes\", \"takes\", \"takes\", \"takes\", \"talk\", \"talk\", \"talk\", \"talk\", \"talk\", \"talk\", \"talk\", \"talk\", \"talk\", \"talk\", \"tanks\", \"tc\", \"tell\", \"tell\", \"tell\", \"tell\", \"tell\", \"tell\", \"tell\", \"tell\", \"tell\", \"tell\", \"think\", \"think\", \"think\", \"think\", \"think\", \"think\", \"think\", \"think\", \"think\", \"think\", \"threats\", \"threats\", \"threats\", \"threats\", \"threats\", \"threats\", \"threats\", \"threats\", \"threats\", \"tickle\", \"time\", \"time\", \"time\", \"time\", \"time\", \"time\", \"time\", \"time\", \"time\", \"time\", \"tommy\", \"tommy\", \"tommy\", \"tommy\", \"tommy\", \"transparent\", \"trapped\", \"tute\", \"tute\", \"tvoz\", \"tyler\", \"uber\", \"ugly\", \"ugly\", \"ugly\", \"ugly\", \"ugly\", \"ugly\", \"ugly\", \"ugly\", \"ugly\", \"ugly\", \"ullmann\", \"ullmann\", \"ullmann\", \"unblock\", \"unblock\", \"unblock\", \"unblock\", \"unblock\", \"unblock\", \"unblock\", \"unblock\", \"unblock\", \"unblock\", \"uncivil\", \"uncivil\", \"uncivil\", \"uncivil\", \"uncivil\", \"uncivil\", \"uncivil\", \"undeniable\", \"unemployed\", \"unemployed\", \"unemployed\", \"unemployed\", \"unknown\", \"unknown\", \"urantia\", \"urantia\", \"urantia\", \"us\", \"us\", \"us\", \"us\", \"us\", \"us\", \"us\", \"us\", \"us\", \"us\", \"user\", \"user\", \"user\", \"user\", \"user\", \"user\", \"user\", \"user\", \"user\", \"user\", \"ut\", \"utc\", \"utc\", \"utc\", \"utc\", \"utc\", \"utc\", \"utc\", \"utc\", \"utc\", \"utc\", \"uu\", \"uu\", \"uu\", \"uu\", \"uu\", \"uu\", \"uu\", \"uuuuuu\", \"vagina\", \"vagina\", \"vagina\", \"vagina\", \"vagina\", \"vagina\", \"vandalism\", \"vandalism\", \"vandalism\", \"vandalism\", \"vandalism\", \"vandalism\", \"vandalism\", \"vandalism\", \"vandalism\", \"vandalism\", \"vandalizes\", \"vatican\", \"vengeance\", \"verbal\", \"viewed\", \"vista\", \"vista\", \"vista\", \"vista\", \"vomit\", \"vomit\", \"vomit\", \"waht\", \"wales\", \"wales\", \"wales\", \"wales\", \"wales\", \"wales\", \"wales\", \"wales\", \"wales\", \"wales\", \"wanker\", \"wanker\", \"wanker\", \"wanker\", \"wanker\", \"wanker\", \"wanker\", \"want\", \"want\", \"want\", \"want\", \"want\", \"want\", \"want\", \"want\", \"want\", \"want\", \"war\", \"war\", \"war\", \"war\", \"war\", \"war\", \"war\", \"war\", \"war\", \"war\", \"warmer\", \"warning\", \"warning\", \"warning\", \"warning\", \"warning\", \"warning\", \"warning\", \"warning\", \"warning\", \"warning\", \"weak\", \"weak\", \"weak\", \"weak\", \"weak\", \"weak\", \"weak\", \"well\", \"well\", \"well\", \"well\", \"well\", \"well\", \"well\", \"well\", \"well\", \"well\", \"wer\", \"whale\", \"whore\", \"whore\", \"whore\", \"whore\", \"whore\", \"whore\", \"whore\", \"whore\", \"whore\", \"whore\", \"wiki\", \"wiki\", \"wiki\", \"wiki\", \"wiki\", \"wiki\", \"wiki\", \"wiki\", \"wiki\", \"wiki\", \"wikipedia\", \"wikipedia\", \"wikipedia\", \"wikipedia\", \"wikipedia\", \"wikipedia\", \"wikipedia\", \"wikipedia\", \"wikipedia\", \"wikipedia\", \"wikipedians\", \"wikipedians\", \"wikipedians\", \"wikipedians\", \"wikipedians\", \"wikipedians\", \"wikipedians\", \"wikipedians\", \"would\", \"would\", \"would\", \"would\", \"would\", \"would\", \"would\", \"would\", \"would\", \"would\", \"wrath\", \"wright\", \"wrote\", \"wrote\", \"wrote\", \"wrote\", \"wrote\", \"wrote\", \"wrote\", \"wrote\", \"wrote\", \"wrote\", \"yammer\", \"yammer\", \"yehovah\", \"yer\", \"yet\", \"yet\", \"yet\", \"yet\", \"yet\", \"yet\", \"yet\", \"yet\", \"yet\", \"yet\", \"yooo\", \"yooo\", \"youbollocks\", \"yourselfgo\"]}, \"R\": 30, \"lambda.step\": 0.01, \"plot.opts\": {\"xlab\": \"PC1\", \"ylab\": \"PC2\"}, \"topic.order\": [9, 1, 2, 8, 10, 6, 3, 7, 5, 4]};\n",
              "\n",
              "function LDAvis_load_lib(url, callback){\n",
              "  var s = document.createElement('script');\n",
              "  s.src = url;\n",
              "  s.async = true;\n",
              "  s.onreadystatechange = s.onload = callback;\n",
              "  s.onerror = function(){console.warn(\"failed to load library \" + url);};\n",
              "  document.getElementsByTagName(\"head\")[0].appendChild(s);\n",
              "}\n",
              "\n",
              "if(typeof(LDAvis) !== \"undefined\"){\n",
              "   // already loaded: just create the visualization\n",
              "   !function(LDAvis){\n",
              "       new LDAvis(\"#\" + \"ldavis_el731400899375097125894439871\", ldavis_el731400899375097125894439871_data);\n",
              "   }(LDAvis);\n",
              "}else if(typeof define === \"function\" && define.amd){\n",
              "   // require.js is available: use it to load d3/LDAvis\n",
              "   require.config({paths: {d3: \"https://d3js.org/d3.v5\"}});\n",
              "   require([\"d3\"], function(d3){\n",
              "      window.d3 = d3;\n",
              "      LDAvis_load_lib(\"https://cdn.jsdelivr.net/gh/bmabey/pyLDAvis@3.3.1/pyLDAvis/js/ldavis.v3.0.0.js\", function(){\n",
              "        new LDAvis(\"#\" + \"ldavis_el731400899375097125894439871\", ldavis_el731400899375097125894439871_data);\n",
              "      });\n",
              "    });\n",
              "}else{\n",
              "    // require.js not available: dynamically load d3 & LDAvis\n",
              "    LDAvis_load_lib(\"https://d3js.org/d3.v5.js\", function(){\n",
              "         LDAvis_load_lib(\"https://cdn.jsdelivr.net/gh/bmabey/pyLDAvis@3.3.1/pyLDAvis/js/ldavis.v3.0.0.js\", function(){\n",
              "                 new LDAvis(\"#\" + \"ldavis_el731400899375097125894439871\", ldavis_el731400899375097125894439871_data);\n",
              "            })\n",
              "         });\n",
              "}\n",
              "</script>"
            ]
          },
          "metadata": {},
          "execution_count": 44
        }
      ]
    },
    {
      "cell_type": "markdown",
      "source": [
        "Результаты выглядят достаточно очевидными. <br>Интересные вещи можем увидеть в правом кластере"
      ],
      "metadata": {
        "id": "1rcQ3YL3QOCG"
      }
    },
    {
      "cell_type": "markdown",
      "source": [
        "<a name=\"c15\"></a>\n",
        "## Получение признаков"
      ],
      "metadata": {
        "id": "rf21lynx-RT7"
      }
    },
    {
      "cell_type": "markdown",
      "source": [
        "<a name=\"c16\"></a>\n",
        "### TF-IDF"
      ],
      "metadata": {
        "id": "KNKywAdA-TAq"
      }
    },
    {
      "cell_type": "markdown",
      "source": [
        "*TF-IDF (от англ. TF — term frequency, IDF — inverse document frequency) — статистическая мера, используемая для оценки важности слова в контексте документа, являющегося частью коллекции документов или корпуса. <br>Про TF-IDF подробнее [здесь](https://wiki.loginom.ru/articles/tf-idf.html)*"
      ],
      "metadata": {
        "id": "4FDh2HxyRWgJ"
      }
    },
    {
      "cell_type": "markdown",
      "source": [
        "Т.к. подбор гиперпараметров будет осуществляться с помощью `GridSearchCV` с кросс-валидацией, трансформирование выборок на данном этапе приведет к утечке тестовых данных. <br><br>\n",
        "Немного про утечку тестовых данных в кросс-валидации: чтобы не попадала информация о словах из тест. выборки в тренировочную, мы обучаем `TfidfVectorizer` на тренировочной выборке, после чего трансформируем тест. выборку. <br>**НО!** Наша ситуация в кросс-валидации (при 5 фолдах): тренировочная выборка делится на 4-тренировочных фолда и 1-тестовый фолд, при этом `TfidfVectorizer` обучался на 5-фолдах в сумме, поэтому информация из тест фолда попадает в тренировочные фолды <br><br>Будем использовать `Pipeline` из `scikit-learn`, куда дальше будем добавлять модели."
      ],
      "metadata": {
        "id": "D8LrNS6k-Vki"
      }
    },
    {
      "cell_type": "markdown",
      "source": [
        "Выборки:"
      ],
      "metadata": {
        "id": "xoGVCwiP6mXt"
      }
    },
    {
      "cell_type": "code",
      "source": [
        "features_train_tfidf, features_test_tfidf, target_train_tfidf, target_test_tfidf = train_test_split(data_tfidf['lemm_text'], data_tfidf['toxic'], test_size=0.25, random_state=RANDOM_STATE, stratify=data_tfidf['toxic'])"
      ],
      "metadata": {
        "id": "k4CGDkeV6nwh",
        "execution": {
          "iopub.status.busy": "2022-08-05T10:27:56.640393Z",
          "iopub.execute_input": "2022-08-05T10:27:56.640753Z",
          "iopub.status.idle": "2022-08-05T10:27:56.706962Z",
          "shell.execute_reply.started": "2022-08-05T10:27:56.640699Z",
          "shell.execute_reply": "2022-08-05T10:27:56.705924Z"
        },
        "trusted": true
      },
      "execution_count": null,
      "outputs": []
    },
    {
      "cell_type": "markdown",
      "source": [
        "<a name=\"c17\"></a>\n",
        "### BERT"
      ],
      "metadata": {
        "id": "U8-OI4lcdyBA"
      }
    },
    {
      "cell_type": "markdown",
      "source": [
        "*Bidirectional Encoder Representations from Transformers ([BERT](https://en.wikipedia.org/wiki/BERT_(language_model))) - это нейронная сеть от Google, показавшая с большим отрывом state-of-the-art результаты на целом ряде задач*"
      ],
      "metadata": {
        "id": "nAsTS4AzRwjA"
      }
    },
    {
      "cell_type": "markdown",
      "source": [
        "Загрузим предобученную на токс. комментариях модель [unitary/toxic-bert](https://huggingface.co/unitary/toxic-bert) с [huggingface](https://huggingface.co):"
      ],
      "metadata": {
        "id": "1xmghq1bdzwu"
      }
    },
    {
      "cell_type": "code",
      "source": [
        "model = AutoModelForMaskedLM.from_pretrained(BERT_MODEL)"
      ],
      "metadata": {
        "id": "OV7cAKQVdc3t",
        "outputId": "32c8e16d-3229-46d3-aca4-8bab45d8dee3",
        "execution": {
          "iopub.status.busy": "2022-08-05T10:27:56.709177Z",
          "iopub.execute_input": "2022-08-05T10:27:56.709778Z",
          "iopub.status.idle": "2022-08-05T10:28:16.447727Z",
          "shell.execute_reply.started": "2022-08-05T10:27:56.709739Z",
          "shell.execute_reply": "2022-08-05T10:28:16.446637Z"
        },
        "trusted": true,
        "colab": {
          "base_uri": "https://localhost:8080/",
          "height": 188,
          "referenced_widgets": [
            "95e1fcb0104041b79372d0ad81a4d1ce",
            "3bc5e3d4a4e0491aa26859e9599a9f1a",
            "ddc67f2b1d8f4326a606bffe5eb06ab9",
            "77ed42178bee45e3b3f2df258ce1333f",
            "191309e15e964e1a9f44084adfe97d40",
            "dfacf01b19314d3789b487eb158497f1",
            "29e63879822d43229266eaf0ed083f94",
            "0cf972abb6e141c5b566c4b367c346af",
            "2744ec92354244c98673b62c9e9af910",
            "1ed28a47860142708374084132e2c674",
            "8549dc0613544d4ea9021dc090f56262",
            "c7d0eac1689040b8b98215a93b341617",
            "46818ce4a9a1445fbce4b1f260c2ca52",
            "154fe0153d33471d9159dc382550e7a9",
            "e043dd313c62426ba1ced7247809b48a",
            "1cf4aec26b24485ca04cebdf4c05b51e",
            "83c5574da48144efbc43f70a48d7b212",
            "dbbc2357b85d410b8c2e76eaf7075b24",
            "d788dc1b4b9c465cbd5fd90ce84691ae",
            "efd6a66d884e4f6fbe7b43c27154cb6d",
            "8d2f8a0ee4b34c20a62f55f569b6ec60",
            "fe3297d62d7448ffab90d7d4075f2fa8"
          ]
        }
      },
      "execution_count": null,
      "outputs": [
        {
          "output_type": "display_data",
          "data": {
            "text/plain": [
              "Downloading config.json:   0%|          | 0.00/811 [00:00<?, ?B/s]"
            ],
            "application/vnd.jupyter.widget-view+json": {
              "version_major": 2,
              "version_minor": 0,
              "model_id": "95e1fcb0104041b79372d0ad81a4d1ce"
            }
          },
          "metadata": {}
        },
        {
          "output_type": "display_data",
          "data": {
            "text/plain": [
              "Downloading pytorch_model.bin:   0%|          | 0.00/418M [00:00<?, ?B/s]"
            ],
            "application/vnd.jupyter.widget-view+json": {
              "version_major": 2,
              "version_minor": 0,
              "model_id": "c7d0eac1689040b8b98215a93b341617"
            }
          },
          "metadata": {}
        },
        {
          "output_type": "stream",
          "name": "stderr",
          "text": [
            "Some weights of the model checkpoint at unitary/toxic-bert were not used when initializing BertForMaskedLM: ['classifier.bias', 'classifier.weight']\n",
            "- This IS expected if you are initializing BertForMaskedLM from the checkpoint of a model trained on another task or with another architecture (e.g. initializing a BertForSequenceClassification model from a BertForPreTraining model).\n",
            "- This IS NOT expected if you are initializing BertForMaskedLM from the checkpoint of a model that you expect to be exactly identical (initializing a BertForSequenceClassification model from a BertForSequenceClassification model).\n",
            "Some weights of BertForMaskedLM were not initialized from the model checkpoint at unitary/toxic-bert and are newly initialized: ['cls.predictions.transform.dense.weight', 'cls.predictions.transform.dense.bias', 'cls.predictions.bias', 'cls.predictions.transform.LayerNorm.bias', 'cls.predictions.decoder.weight', 'cls.predictions.transform.LayerNorm.weight']\n",
            "You should probably TRAIN this model on a down-stream task to be able to use it for predictions and inference.\n"
          ]
        }
      ]
    },
    {
      "cell_type": "markdown",
      "source": [
        "Класс для датасета:"
      ],
      "metadata": {
        "id": "aprU1sjhfCcu"
      }
    },
    {
      "cell_type": "code",
      "source": [
        "class CommentsDataset(torch.utils.data.Dataset):\n",
        "    def __init__(self, features, max_len):\n",
        "        \"\"\"Загрузка токенизатора и получение padded, attention_maskv, max_len\"\"\"\n",
        "        self.tokenizer = AutoTokenizer.from_pretrained(BERT_TOKEN)\n",
        "        self.padded, self.attention_mask, self.max_len = self.tokenize(features, max_len)\n",
        "        \n",
        "    def __len__(self):\n",
        "        return len(self.padded)\n",
        "    \n",
        "    def __getitem__(self, idx):\n",
        "        \"\"\"При вызове одновременно отправляем padded и attention_mask\"\"\"\n",
        "        return (self.padded[idx], self.attention_mask[idx])\n",
        "\n",
        "    def tokenize(self, features, max_len=0):\n",
        "        \"\"\"Токенизируем текст, сохраняем в self padded, attention_mask, max_len\"\"\"\n",
        "        len_ = 0\n",
        "        tokenized = features.apply(lambda x: self.tokenizer.encode(x, add_special_tokens=True, truncation=True))\n",
        "        max_len = max(max(len(i) for i in tokenized.values), max_len)\n",
        "        padded = np.array([i + [0]*(max_len - len(i)) for i in tokenized.values])\n",
        "        attention_mask = np.where(padded != 0, 1, 0)\n",
        "        return padded, attention_mask, max_len\n",
        "\n",
        "    def get_max_len(self):\n",
        "        return self.max_len"
      ],
      "metadata": {
        "id": "oktY25PffB3E",
        "execution": {
          "iopub.status.busy": "2022-08-05T10:28:16.452407Z",
          "iopub.execute_input": "2022-08-05T10:28:16.452759Z",
          "iopub.status.idle": "2022-08-05T10:28:16.474403Z",
          "shell.execute_reply.started": "2022-08-05T10:28:16.452728Z",
          "shell.execute_reply": "2022-08-05T10:28:16.473109Z"
        },
        "trusted": true
      },
      "execution_count": null,
      "outputs": []
    },
    {
      "cell_type": "markdown",
      "source": [
        "Возьмем выборки:"
      ],
      "metadata": {
        "id": "ozXS_6cbhNmu"
      }
    },
    {
      "cell_type": "code",
      "source": [
        "features_train_bert, features_test_bert, target_train_bert, target_test_bert = train_test_split(data_bert['clear_text'], data_bert['toxic'], test_size=0.25, stratify=data_bert['toxic'], random_state=RANDOM_STATE)"
      ],
      "metadata": {
        "id": "APcd4HGk6Sxa",
        "execution": {
          "iopub.status.busy": "2022-08-05T10:28:16.476098Z",
          "iopub.execute_input": "2022-08-05T10:28:16.476611Z",
          "iopub.status.idle": "2022-08-05T10:28:16.496275Z",
          "shell.execute_reply.started": "2022-08-05T10:28:16.476563Z",
          "shell.execute_reply": "2022-08-05T10:28:16.495119Z"
        },
        "trusted": true
      },
      "execution_count": null,
      "outputs": []
    },
    {
      "cell_type": "code",
      "source": [
        "print(\"Размер тренировочной выборки:\", features_train_bert.shape[0])\n",
        "print(\"Размер тестовой выборки:\", features_test_bert.shape[0])"
      ],
      "metadata": {
        "id": "N5BkCTlfw0_S",
        "outputId": "4c1aee9c-20de-46d2-8269-01be3f0de6da",
        "execution": {
          "iopub.status.busy": "2022-08-05T10:28:16.498363Z",
          "iopub.execute_input": "2022-08-05T10:28:16.499143Z",
          "iopub.status.idle": "2022-08-05T10:28:16.506893Z",
          "shell.execute_reply.started": "2022-08-05T10:28:16.499095Z",
          "shell.execute_reply": "2022-08-05T10:28:16.505646Z"
        },
        "trusted": true,
        "colab": {
          "base_uri": "https://localhost:8080/"
        }
      },
      "execution_count": null,
      "outputs": [
        {
          "output_type": "stream",
          "name": "stdout",
          "text": [
            "Размер тренировочной выборки: 4787\n",
            "Размер тестовой выборки: 1596\n"
          ]
        }
      ]
    },
    {
      "cell_type": "markdown",
      "source": [
        "Загрузим датасет:"
      ],
      "metadata": {
        "id": "XrBN1XvvhPk9"
      }
    },
    {
      "cell_type": "code",
      "source": [
        "train_dataset = CommentsDataset(features_train_bert, 512)\n",
        "test_dataset = CommentsDataset(features_test_bert, train_dataset.get_max_len())\n",
        "\n",
        "train_dataloader = torch.utils.data.DataLoader(train_dataset, batch_size=BATCH_SIZE)\n",
        "test_dataloader = torch.utils.data.DataLoader(test_dataset, batch_size=BATCH_SIZE)"
      ],
      "metadata": {
        "id": "xe4uQhSzgVQB",
        "outputId": "537ddf46-bbbb-4f6e-acc0-e9bde56771ed",
        "execution": {
          "iopub.status.busy": "2022-08-05T10:28:16.509098Z",
          "iopub.execute_input": "2022-08-05T10:28:16.509580Z",
          "iopub.status.idle": "2022-08-05T10:28:21.670707Z",
          "shell.execute_reply.started": "2022-08-05T10:28:16.509526Z",
          "shell.execute_reply": "2022-08-05T10:28:21.669594Z"
        },
        "trusted": true,
        "colab": {
          "base_uri": "https://localhost:8080/",
          "height": 113,
          "referenced_widgets": [
            "3416acbbc4d9403382aab8a05b49f2a7",
            "e9a5aa1062614ee6887cef9c41658156",
            "58f8b9a78103438fbc7e8157903eaf9b",
            "8c8e425b8b9e4ebe8d192a545327287e",
            "df6a2dd1751844378d9a0f004ffbe9f6",
            "8ca16d5b0540494a95ca1286a077ea74",
            "8dd330af220f46f1b45a1a929caebda4",
            "491c64087b1841ee96c135aad3eb3b1b",
            "da634d7831a744749070db9a4ad165f8",
            "c0374292b02842efb4f4d020c6755b7a",
            "3873671fa48840e38b48fd5be2a85192",
            "d5eced5a566b4558bbbd861a2a967371",
            "1c81b5e6d518432abd8840ebc2473ece",
            "367505ebfd3d46aba3e5fc0a921f95bd",
            "09280018710841e2b2342045f4659500",
            "aef92113c7c04a3a8c150a66c91b8a72",
            "3545cf85d1354aafa0e3f8dd03833884",
            "87e2dafbc5334d0dab7a4eda748c3093",
            "55615c7f7eed45ac987bfad2d96018f3",
            "5cd1adb4bf79492a9ca7d9624c34464e",
            "10090dbff3a44c8a941e78c1dcc8bfb3",
            "7acedb5d3edf40aba13e302729c7d53e",
            "959b12e11a1f444ab5ad3d20eb00db6b",
            "85284181656a4b118d2e49333ffffdc6",
            "a56c0cbdf9d340738897856e7ff0bb50",
            "9b8bf83f034142ffa17ca58708cac202",
            "d6216c27571e4a019ea592b84f6aec2b",
            "96fd90274faf423d8bf3e34edd34bef9",
            "83c9572e628f44739a6f0e7e308e6887",
            "bf36c384d5bd445ca7fd67ba1d2ce39d",
            "57c1004c767642e0ba9079cb353305ec",
            "6e85cebc51ff49caab3fd7d8b2020ddc",
            "c5ef5979eb01455d87820a1b4a6b0e66"
          ]
        }
      },
      "execution_count": null,
      "outputs": [
        {
          "output_type": "display_data",
          "data": {
            "text/plain": [
              "Downloading tokenizer_config.json:   0%|          | 0.00/174 [00:00<?, ?B/s]"
            ],
            "application/vnd.jupyter.widget-view+json": {
              "version_major": 2,
              "version_minor": 0,
              "model_id": "3416acbbc4d9403382aab8a05b49f2a7"
            }
          },
          "metadata": {}
        },
        {
          "output_type": "display_data",
          "data": {
            "text/plain": [
              "Downloading vocab.txt:   0%|          | 0.00/226k [00:00<?, ?B/s]"
            ],
            "application/vnd.jupyter.widget-view+json": {
              "version_major": 2,
              "version_minor": 0,
              "model_id": "d5eced5a566b4558bbbd861a2a967371"
            }
          },
          "metadata": {}
        },
        {
          "output_type": "display_data",
          "data": {
            "text/plain": [
              "Downloading special_tokens_map.json:   0%|          | 0.00/112 [00:00<?, ?B/s]"
            ],
            "application/vnd.jupyter.widget-view+json": {
              "version_major": 2,
              "version_minor": 0,
              "model_id": "959b12e11a1f444ab5ad3d20eb00db6b"
            }
          },
          "metadata": {}
        }
      ]
    },
    {
      "cell_type": "markdown",
      "source": [
        "Получим эмбеддинги:"
      ],
      "metadata": {
        "id": "tCGDCV1UhvAB"
      }
    },
    {
      "cell_type": "code",
      "source": [
        "def get_features(model, dataloader):\n",
        "    \"\"\"\"\"\"\"\"\"\n",
        "    Получение эмбеддингов. \n",
        "    Запускать на CPU не рекомендуется из-за длительности работы\n",
        "    \"\"\"\"\"\"\"\"\"\n",
        "    embeddings = [] \n",
        "\n",
        "    with tqdm(total=len(dataloader), file=sys.stdout) as prbar:\n",
        "        for batch in dataloader:\n",
        "\n",
        "            # Сформируем padded_batch и attention_mask_batch. \n",
        "            # Не забываем кидать на девайс (в нашем случае - это GPU).\n",
        "            padded_batch = torch.LongTensor(batch[0]).to(device)\n",
        "            attention_mask_batch = torch.LongTensor(batch[1]).to(device)\n",
        "            \n",
        "            # Отключим градиент, ведь мы не обучаем, а просто берём эмбеддинги.\n",
        "            with torch.no_grad():\n",
        "                model.to(device)\n",
        "                batch_embeddings = model(padded_batch, attention_mask=attention_mask_batch)\n",
        "            \n",
        "            # Добавим соответствующий эмбеддинг. Для numpy кидаем на cpu\n",
        "            embeddings.append(batch_embeddings[0][:,0,:].cpu().numpy())\n",
        "\n",
        "            # Чистим память\n",
        "            del padded_batch\n",
        "            del attention_mask_batch\n",
        "            del batch_embeddings\n",
        "\n",
        "            prbar.update(1)\n",
        "\n",
        "    # Собираем мусор\n",
        "    gc.collect()\n",
        "\n",
        "    # Сформированные признаки\n",
        "    return np.concatenate(embeddings)"
      ],
      "metadata": {
        "id": "nnTDrl-OhoTp",
        "execution": {
          "iopub.status.busy": "2022-08-05T10:28:21.672431Z",
          "iopub.execute_input": "2022-08-05T10:28:21.672841Z",
          "iopub.status.idle": "2022-08-05T10:28:21.682502Z",
          "shell.execute_reply.started": "2022-08-05T10:28:21.672801Z",
          "shell.execute_reply": "2022-08-05T10:28:21.681279Z"
        },
        "trusted": true
      },
      "execution_count": null,
      "outputs": []
    },
    {
      "cell_type": "code",
      "source": [
        "%%time\n",
        "features_train_bert = get_features(model, train_dataloader)"
      ],
      "metadata": {
        "id": "DkoQPQ_Sh9tw",
        "outputId": "c03a92c0-d0e7-4ca9-eb36-7ca71ed5eead",
        "execution": {
          "iopub.status.busy": "2022-08-05T10:28:21.684304Z",
          "iopub.execute_input": "2022-08-05T10:28:21.685222Z",
          "iopub.status.idle": "2022-08-05T10:29:57.840229Z",
          "shell.execute_reply.started": "2022-08-05T10:28:21.684965Z",
          "shell.execute_reply": "2022-08-05T10:29:57.838953Z"
        },
        "trusted": true,
        "colab": {
          "base_uri": "https://localhost:8080/"
        }
      },
      "execution_count": null,
      "outputs": [
        {
          "output_type": "stream",
          "name": "stdout",
          "text": [
            "100%|██████████| 75/75 [03:16<00:00,  2.62s/it]\n",
            "CPU times: user 3min 10s, sys: 1.45 s, total: 3min 11s\n",
            "Wall time: 3min 17s\n"
          ]
        }
      ]
    },
    {
      "cell_type": "code",
      "source": [
        "%%time\n",
        "features_test_bert = get_features(model, test_dataloader)"
      ],
      "metadata": {
        "id": "6xaUY70MiZSp",
        "outputId": "38f8a796-74c3-49cc-c46c-93bfc9919e0d",
        "execution": {
          "iopub.status.busy": "2022-08-05T10:29:57.841820Z",
          "iopub.execute_input": "2022-08-05T10:29:57.843365Z",
          "iopub.status.idle": "2022-08-05T10:30:28.616585Z",
          "shell.execute_reply.started": "2022-08-05T10:29:57.843319Z",
          "shell.execute_reply": "2022-08-05T10:30:28.615403Z"
        },
        "trusted": true,
        "colab": {
          "base_uri": "https://localhost:8080/"
        }
      },
      "execution_count": null,
      "outputs": [
        {
          "output_type": "stream",
          "name": "stdout",
          "text": [
            "100%|██████████| 25/25 [01:08<00:00,  2.73s/it]\n",
            "CPU times: user 1min 8s, sys: 69.7 ms, total: 1min 8s\n",
            "Wall time: 1min 8s\n"
          ]
        }
      ]
    },
    {
      "cell_type": "markdown",
      "source": [
        "Эмбеддинги получены"
      ],
      "metadata": {
        "id": "e_NQGCc6jK_F"
      }
    },
    {
      "cell_type": "markdown",
      "source": [
        "<a name=\"c18\"></a>\n",
        "## Борьба с дисбалансом в таргете"
      ],
      "metadata": {
        "id": "3CifUXGx6b7m"
      }
    },
    {
      "cell_type": "markdown",
      "source": [
        "*Данные называются несбалансированными (Imbalanced Data, дисбалансированы), если в обучающей выборке доли объектов разных классов существенно различаются, также говорят, что «классы не сбалансированы»*"
      ],
      "metadata": {
        "id": "bPgwGim8SI95"
      }
    },
    {
      "cell_type": "markdown",
      "source": [
        "В качестве эксперимента, попробуем:\n",
        "<br><br>\n",
        "Для признаков `TF-IDF` уже в моделях сделать взвешивание классов (для интересующихся можно заменить на порог классификации, главное не на тестовой выборке)\n",
        "<br><br>\n",
        "Для эмбеддингов из `BERT` сделаем `upsampling` (методом [ADASYN](https://ieeexplore.ieee.org/document/4633969)) при построении `Pipeline`. \n",
        "\n",
        "<b>Почему нельзя сразу сделать upsampling на тренировочной выборке?</b> - тогда наша тренировочная выборка будет увеличена для уравновешивания классов, а это значит, что при подборе гиперпараметров с кросс-валидацией тестовый фолд в кросс-валидации будет со сбалансированными классами. Тест. выборка должна сохранять оригинальное распределение в таргете (т.е. дисбаланс)"
      ],
      "metadata": {
        "id": "SlBqRAhVjbUP"
      }
    },
    {
      "cell_type": "markdown",
      "source": [
        "<a name=\"c19\"></a>\n",
        "\n",
        "## Вывод:\n",
        "\n",
        "Перед обучением, мы выполнили:\n",
        "  <ul>\n",
        "    <li>Анализ признаков в датасете. Нашли дисбаланс в таргете, множество неинформативных символов, которые удалили из текста.</li>\n",
        "    <li>Взяли выборку для более быстрого процесса предобработки текста, лемматизации и обучения моделей</li>\n",
        "    <li>Очистили текст для BERT, очистили и лемматизировали текст для TfidfVectorizer, везде попробовали исправить опечатки</li>\n",
        "    <li>Дополнительно посмотрели облако слов</li>\n",
        "    <li>И LDA</li>\n",
        "    <li>Загрузили модель и токенизатор BERT, получили эмбеддинги, из них сделали признаки. Для получения TF-IDF признаков создали Pipeline</li>\n",
        "    <li>Для борьбы с дисбалансом выбрали upsampling эмбеддингов. Для признаков TF-IDF выбрали взвешивание классов уже в моделях и подбор порога классификации</li>\n",
        "  </ul>\n",
        "\n",
        "Приступаем к обучению"
      ],
      "metadata": {
        "id": "GQNI1iMBj2Yb"
      }
    },
    {
      "cell_type": "markdown",
      "source": [
        "<a name=\"c20\"></a>\n",
        "\n",
        "# Обучение моделей"
      ],
      "metadata": {
        "id": "JtY48WQulRWQ"
      }
    },
    {
      "cell_type": "markdown",
      "source": [
        "Для обучения были выбраны:\n",
        "    <ul>\n",
        "      <li>LogisticRegression</li>\n",
        "      <li>Linear model with stochastic gradient descent (SGDClassifier)</li>\n",
        "      <li>LGBMClassifier</li>\n",
        "    </ul>\n",
        "\n",
        "Две лучшие модели выберем отдельно на `TF-IDF` и `BERT` признаках по лучшей `F1-мере` на `кросс-валидации`. <br>Везде за baseline у нас будет `DummyClassifier`.<br>Две лучшие модели финально проверим на тестовой выборке<br><br>\n",
        "\n",
        "---"
      ],
      "metadata": {
        "id": "z-p90mJbn7ef"
      }
    },
    {
      "cell_type": "markdown",
      "source": [
        "Результаты будем хранить в pd.DataFrame `result`"
      ],
      "metadata": {
        "id": "KuaPDYG5wNze"
      }
    },
    {
      "cell_type": "code",
      "source": [
        "# 'Model_Name': [features, f1_score, time_fit, time_predict]\n",
        "\n",
        "col_names = [METRIC, \"Время обучения\", \"Время предсказания\"]\n",
        "\n",
        "result = pd.DataFrame(columns=col_names)\n",
        "display(result)"
      ],
      "metadata": {
        "id": "d_YldTICwNJ9",
        "execution": {
          "iopub.status.busy": "2022-08-05T10:59:13.174269Z",
          "iopub.execute_input": "2022-08-05T10:59:13.174690Z",
          "iopub.status.idle": "2022-08-05T10:59:13.189194Z",
          "shell.execute_reply.started": "2022-08-05T10:59:13.174657Z",
          "shell.execute_reply": "2022-08-05T10:59:13.186117Z"
        },
        "trusted": true,
        "colab": {
          "base_uri": "https://localhost:8080/",
          "height": 49
        },
        "outputId": "26f41b73-5aca-4047-ab12-9fbbb122ecd8"
      },
      "execution_count": null,
      "outputs": [
        {
          "output_type": "display_data",
          "data": {
            "text/plain": [
              "Empty DataFrame\n",
              "Columns: [f1, Время обучения, Время предсказания]\n",
              "Index: []"
            ],
            "text/html": [
              "\n",
              "  <div id=\"df-cf4fb32b-1fb2-4680-b201-9a9901ff4a61\">\n",
              "    <div class=\"colab-df-container\">\n",
              "      <div>\n",
              "<style scoped>\n",
              "    .dataframe tbody tr th:only-of-type {\n",
              "        vertical-align: middle;\n",
              "    }\n",
              "\n",
              "    .dataframe tbody tr th {\n",
              "        vertical-align: top;\n",
              "    }\n",
              "\n",
              "    .dataframe thead th {\n",
              "        text-align: right;\n",
              "    }\n",
              "</style>\n",
              "<table border=\"1\" class=\"dataframe\">\n",
              "  <thead>\n",
              "    <tr style=\"text-align: right;\">\n",
              "      <th></th>\n",
              "      <th>f1</th>\n",
              "      <th>Время обучения</th>\n",
              "      <th>Время предсказания</th>\n",
              "    </tr>\n",
              "  </thead>\n",
              "  <tbody>\n",
              "  </tbody>\n",
              "</table>\n",
              "</div>\n",
              "      <button class=\"colab-df-convert\" onclick=\"convertToInteractive('df-cf4fb32b-1fb2-4680-b201-9a9901ff4a61')\"\n",
              "              title=\"Convert this dataframe to an interactive table.\"\n",
              "              style=\"display:none;\">\n",
              "        \n",
              "  <svg xmlns=\"http://www.w3.org/2000/svg\" height=\"24px\"viewBox=\"0 0 24 24\"\n",
              "       width=\"24px\">\n",
              "    <path d=\"M0 0h24v24H0V0z\" fill=\"none\"/>\n",
              "    <path d=\"M18.56 5.44l.94 2.06.94-2.06 2.06-.94-2.06-.94-.94-2.06-.94 2.06-2.06.94zm-11 1L8.5 8.5l.94-2.06 2.06-.94-2.06-.94L8.5 2.5l-.94 2.06-2.06.94zm10 10l.94 2.06.94-2.06 2.06-.94-2.06-.94-.94-2.06-.94 2.06-2.06.94z\"/><path d=\"M17.41 7.96l-1.37-1.37c-.4-.4-.92-.59-1.43-.59-.52 0-1.04.2-1.43.59L10.3 9.45l-7.72 7.72c-.78.78-.78 2.05 0 2.83L4 21.41c.39.39.9.59 1.41.59.51 0 1.02-.2 1.41-.59l7.78-7.78 2.81-2.81c.8-.78.8-2.07 0-2.86zM5.41 20L4 18.59l7.72-7.72 1.47 1.35L5.41 20z\"/>\n",
              "  </svg>\n",
              "      </button>\n",
              "      \n",
              "  <style>\n",
              "    .colab-df-container {\n",
              "      display:flex;\n",
              "      flex-wrap:wrap;\n",
              "      gap: 12px;\n",
              "    }\n",
              "\n",
              "    .colab-df-convert {\n",
              "      background-color: #E8F0FE;\n",
              "      border: none;\n",
              "      border-radius: 50%;\n",
              "      cursor: pointer;\n",
              "      display: none;\n",
              "      fill: #1967D2;\n",
              "      height: 32px;\n",
              "      padding: 0 0 0 0;\n",
              "      width: 32px;\n",
              "    }\n",
              "\n",
              "    .colab-df-convert:hover {\n",
              "      background-color: #E2EBFA;\n",
              "      box-shadow: 0px 1px 2px rgba(60, 64, 67, 0.3), 0px 1px 3px 1px rgba(60, 64, 67, 0.15);\n",
              "      fill: #174EA6;\n",
              "    }\n",
              "\n",
              "    [theme=dark] .colab-df-convert {\n",
              "      background-color: #3B4455;\n",
              "      fill: #D2E3FC;\n",
              "    }\n",
              "\n",
              "    [theme=dark] .colab-df-convert:hover {\n",
              "      background-color: #434B5C;\n",
              "      box-shadow: 0px 1px 3px 1px rgba(0, 0, 0, 0.15);\n",
              "      filter: drop-shadow(0px 1px 2px rgba(0, 0, 0, 0.3));\n",
              "      fill: #FFFFFF;\n",
              "    }\n",
              "  </style>\n",
              "\n",
              "      <script>\n",
              "        const buttonEl =\n",
              "          document.querySelector('#df-cf4fb32b-1fb2-4680-b201-9a9901ff4a61 button.colab-df-convert');\n",
              "        buttonEl.style.display =\n",
              "          google.colab.kernel.accessAllowed ? 'block' : 'none';\n",
              "\n",
              "        async function convertToInteractive(key) {\n",
              "          const element = document.querySelector('#df-cf4fb32b-1fb2-4680-b201-9a9901ff4a61');\n",
              "          const dataTable =\n",
              "            await google.colab.kernel.invokeFunction('convertToInteractive',\n",
              "                                                     [key], {});\n",
              "          if (!dataTable) return;\n",
              "\n",
              "          const docLinkHtml = 'Like what you see? Visit the ' +\n",
              "            '<a target=\"_blank\" href=https://colab.research.google.com/notebooks/data_table.ipynb>data table notebook</a>'\n",
              "            + ' to learn more about interactive tables.';\n",
              "          element.innerHTML = '';\n",
              "          dataTable['output_type'] = 'display_data';\n",
              "          await google.colab.output.renderOutput(dataTable, element);\n",
              "          const docLink = document.createElement('div');\n",
              "          docLink.innerHTML = docLinkHtml;\n",
              "          element.appendChild(docLink);\n",
              "        }\n",
              "      </script>\n",
              "    </div>\n",
              "  </div>\n",
              "  "
            ]
          },
          "metadata": {}
        }
      ]
    },
    {
      "cell_type": "markdown",
      "source": [
        "Полезные функции:"
      ],
      "metadata": {
        "id": "PMSJ_fN_xXxx"
      }
    },
    {
      "cell_type": "code",
      "source": [
        "col_names = [METRIC, \"Время обучения\", \"Время предсказания\"]\n",
        "\n",
        "\n",
        "def cross_val_model_result(model, features_train, target_train, name_model):\n",
        "    \"\"\"Кросс-валидация c временем предсказания и обучения\"\"\"\n",
        "    global result\n",
        "    result_cv = cross_validate(model, features_train, target_train, scoring=METRIC, cv=CV, n_jobs=N_CPU, verbose=VERBOSE)\n",
        "    score = result_cv['test_score']\n",
        "    print(f\"{METRIC} на кросс-валидации: {score}\")\n",
        "    print(f\"{METRIC} mean: {score.mean()}\")\n",
        "    result_list = [score.mean(), result_cv['fit_time'].mean(), result_cv['score_time'].mean()]\n",
        "    result = pd.concat([result, pd.DataFrame([result_list], \n",
        "                                columns=col_names, index=[name_model]),\n",
        "                        ])\n",
        "\n",
        "\n",
        "def GSCV(model, param_grid, features_train, target_train, name_model):\n",
        "    \"\"\"GridSearchCV short\"\"\"\n",
        "    global result\n",
        "    model = GridSearchCV(model, param_grid=param_grid, scoring=METRIC, cv=CV, n_jobs=N_CPU, verbose=VERBOSE)\n",
        "    model.fit(features_train, target_train)\n",
        "    print(\"Лучшие гиперпараметры:\", model.best_params_)\n",
        "    cv_res = model.cv_results_\n",
        "    print(f\"Лучший {METRIC}: {model.best_score_}\")\n",
        "    result_list = [model.best_score_, cv_res['mean_fit_time'].mean(), cv_res['mean_score_time'].mean()]\n",
        "    result = pd.concat([result, pd.DataFrame([result_list], \n",
        "                                columns=col_names, index=[name_model]),\n",
        "                        ])\n",
        "\n",
        "    \n",
        "model_features_tfidf = Pipeline([('tf_idf', TfidfVectorizer(stop_words=STOPWORDS))])\n",
        "\n",
        "# model_features_up = make_pipeline(ADASYN(random_state=RANDOM_STATE))\n",
        "# Возьмем более очев. способ:\n",
        "model_features_up = make_pipeline(RandomOverSampler(random_state=RANDOM_STATE))"
      ],
      "metadata": {
        "id": "B3L25mJqvj9d",
        "execution": {
          "iopub.status.busy": "2022-08-05T12:13:00.387210Z",
          "iopub.execute_input": "2022-08-05T12:13:00.387620Z",
          "iopub.status.idle": "2022-08-05T12:13:00.400794Z",
          "shell.execute_reply.started": "2022-08-05T12:13:00.387586Z",
          "shell.execute_reply": "2022-08-05T12:13:00.399412Z"
        },
        "trusted": true
      },
      "execution_count": null,
      "outputs": []
    },
    {
      "cell_type": "markdown",
      "source": [
        "<a name=\"c21\"></a>\n",
        "## На признаках TF-IDF"
      ],
      "metadata": {
        "id": "kG-cpzHfpC_K"
      }
    },
    {
      "cell_type": "markdown",
      "source": [
        "### DummyClassifier"
      ],
      "metadata": {
        "id": "jjO04_TzoTTx"
      }
    },
    {
      "cell_type": "code",
      "source": [
        "# Клонируем Pipeline\n",
        "dummy_tfidf = clone(model_features_tfidf)\n",
        "\n",
        "# Добавляем модель\n",
        "dc = DummyClassifier(random_state=RANDOM_STATE)\n",
        "dummy_tfidf.steps.append(['dummy', dc])"
      ],
      "metadata": {
        "id": "B9Yx4kCboWpD",
        "execution": {
          "iopub.status.busy": "2022-08-05T10:59:14.209775Z",
          "iopub.execute_input": "2022-08-05T10:59:14.210565Z",
          "iopub.status.idle": "2022-08-05T10:59:14.216501Z",
          "shell.execute_reply.started": "2022-08-05T10:59:14.210526Z",
          "shell.execute_reply": "2022-08-05T10:59:14.215513Z"
        },
        "trusted": true
      },
      "execution_count": null,
      "outputs": []
    },
    {
      "cell_type": "markdown",
      "source": [
        "Посмотрим метрику и запишем результаты"
      ],
      "metadata": {
        "id": "yC1kNKTsppX-"
      }
    },
    {
      "cell_type": "code",
      "source": [
        "%%time\n",
        "\n",
        "cross_val_model_result(dummy_tfidf, features_train_tfidf, target_train_tfidf, 'Dummy_TF_IDF')"
      ],
      "metadata": {
        "id": "xGfdAZIvpo8R",
        "outputId": "2793087a-03bc-4799-caab-19754830b40e",
        "execution": {
          "iopub.status.busy": "2022-08-05T10:59:14.918170Z",
          "iopub.execute_input": "2022-08-05T10:59:14.918923Z",
          "iopub.status.idle": "2022-08-05T10:59:43.236368Z",
          "shell.execute_reply.started": "2022-08-05T10:59:14.918884Z",
          "shell.execute_reply": "2022-08-05T10:59:43.235145Z"
        },
        "trusted": true,
        "colab": {
          "base_uri": "https://localhost:8080/"
        }
      },
      "execution_count": null,
      "outputs": [
        {
          "output_type": "stream",
          "name": "stdout",
          "text": [
            "[Parallel(n_jobs=-1)]: Using backend LokyBackend with 2 concurrent workers.\n",
            "[Parallel(n_jobs=-1)]: Done   1 tasks      | elapsed:    8.9s\n",
            "[Parallel(n_jobs=-1)]: Done   2 tasks      | elapsed:    9.2s\n",
            "[Parallel(n_jobs=-1)]: Done   3 out of   5 | elapsed:   16.6s remaining:   11.0s\n",
            "[Parallel(n_jobs=-1)]: Done   5 out of   5 | elapsed:   20.9s remaining:    0.0s\n",
            "[Parallel(n_jobs=-1)]: Done   5 out of   5 | elapsed:   20.9s finished\n",
            "f1 на кросс-валидации: [0. 0. 0. 0. 0.]\n",
            "f1 mean: 0.0\n",
            "CPU times: user 817 ms, sys: 318 ms, total: 1.14 s\n",
            "Wall time: 20.9 s\n"
          ]
        }
      ]
    },
    {
      "cell_type": "code",
      "source": [
        "result"
      ],
      "metadata": {
        "id": "F_AkiOPRp5Fj",
        "outputId": "77067604-2ffe-4da5-ada4-6911a91fac0a",
        "execution": {
          "iopub.status.busy": "2022-08-05T10:59:43.242684Z",
          "iopub.execute_input": "2022-08-05T10:59:43.245076Z",
          "iopub.status.idle": "2022-08-05T10:59:43.262460Z",
          "shell.execute_reply.started": "2022-08-05T10:59:43.245014Z",
          "shell.execute_reply": "2022-08-05T10:59:43.261460Z"
        },
        "trusted": true,
        "colab": {
          "base_uri": "https://localhost:8080/",
          "height": 81
        }
      },
      "execution_count": null,
      "outputs": [
        {
          "output_type": "execute_result",
          "data": {
            "text/plain": [
              "               f1  Время обучения  Время предсказания\n",
              "Dummy_TF_IDF  0.0        5.463566            1.249098"
            ],
            "text/html": [
              "\n",
              "  <div id=\"df-7d021abe-6d68-4470-a665-76b599fd20e5\">\n",
              "    <div class=\"colab-df-container\">\n",
              "      <div>\n",
              "<style scoped>\n",
              "    .dataframe tbody tr th:only-of-type {\n",
              "        vertical-align: middle;\n",
              "    }\n",
              "\n",
              "    .dataframe tbody tr th {\n",
              "        vertical-align: top;\n",
              "    }\n",
              "\n",
              "    .dataframe thead th {\n",
              "        text-align: right;\n",
              "    }\n",
              "</style>\n",
              "<table border=\"1\" class=\"dataframe\">\n",
              "  <thead>\n",
              "    <tr style=\"text-align: right;\">\n",
              "      <th></th>\n",
              "      <th>f1</th>\n",
              "      <th>Время обучения</th>\n",
              "      <th>Время предсказания</th>\n",
              "    </tr>\n",
              "  </thead>\n",
              "  <tbody>\n",
              "    <tr>\n",
              "      <th>Dummy_TF_IDF</th>\n",
              "      <td>0.0</td>\n",
              "      <td>5.463566</td>\n",
              "      <td>1.249098</td>\n",
              "    </tr>\n",
              "  </tbody>\n",
              "</table>\n",
              "</div>\n",
              "      <button class=\"colab-df-convert\" onclick=\"convertToInteractive('df-7d021abe-6d68-4470-a665-76b599fd20e5')\"\n",
              "              title=\"Convert this dataframe to an interactive table.\"\n",
              "              style=\"display:none;\">\n",
              "        \n",
              "  <svg xmlns=\"http://www.w3.org/2000/svg\" height=\"24px\"viewBox=\"0 0 24 24\"\n",
              "       width=\"24px\">\n",
              "    <path d=\"M0 0h24v24H0V0z\" fill=\"none\"/>\n",
              "    <path d=\"M18.56 5.44l.94 2.06.94-2.06 2.06-.94-2.06-.94-.94-2.06-.94 2.06-2.06.94zm-11 1L8.5 8.5l.94-2.06 2.06-.94-2.06-.94L8.5 2.5l-.94 2.06-2.06.94zm10 10l.94 2.06.94-2.06 2.06-.94-2.06-.94-.94-2.06-.94 2.06-2.06.94z\"/><path d=\"M17.41 7.96l-1.37-1.37c-.4-.4-.92-.59-1.43-.59-.52 0-1.04.2-1.43.59L10.3 9.45l-7.72 7.72c-.78.78-.78 2.05 0 2.83L4 21.41c.39.39.9.59 1.41.59.51 0 1.02-.2 1.41-.59l7.78-7.78 2.81-2.81c.8-.78.8-2.07 0-2.86zM5.41 20L4 18.59l7.72-7.72 1.47 1.35L5.41 20z\"/>\n",
              "  </svg>\n",
              "      </button>\n",
              "      \n",
              "  <style>\n",
              "    .colab-df-container {\n",
              "      display:flex;\n",
              "      flex-wrap:wrap;\n",
              "      gap: 12px;\n",
              "    }\n",
              "\n",
              "    .colab-df-convert {\n",
              "      background-color: #E8F0FE;\n",
              "      border: none;\n",
              "      border-radius: 50%;\n",
              "      cursor: pointer;\n",
              "      display: none;\n",
              "      fill: #1967D2;\n",
              "      height: 32px;\n",
              "      padding: 0 0 0 0;\n",
              "      width: 32px;\n",
              "    }\n",
              "\n",
              "    .colab-df-convert:hover {\n",
              "      background-color: #E2EBFA;\n",
              "      box-shadow: 0px 1px 2px rgba(60, 64, 67, 0.3), 0px 1px 3px 1px rgba(60, 64, 67, 0.15);\n",
              "      fill: #174EA6;\n",
              "    }\n",
              "\n",
              "    [theme=dark] .colab-df-convert {\n",
              "      background-color: #3B4455;\n",
              "      fill: #D2E3FC;\n",
              "    }\n",
              "\n",
              "    [theme=dark] .colab-df-convert:hover {\n",
              "      background-color: #434B5C;\n",
              "      box-shadow: 0px 1px 3px 1px rgba(0, 0, 0, 0.15);\n",
              "      filter: drop-shadow(0px 1px 2px rgba(0, 0, 0, 0.3));\n",
              "      fill: #FFFFFF;\n",
              "    }\n",
              "  </style>\n",
              "\n",
              "      <script>\n",
              "        const buttonEl =\n",
              "          document.querySelector('#df-7d021abe-6d68-4470-a665-76b599fd20e5 button.colab-df-convert');\n",
              "        buttonEl.style.display =\n",
              "          google.colab.kernel.accessAllowed ? 'block' : 'none';\n",
              "\n",
              "        async function convertToInteractive(key) {\n",
              "          const element = document.querySelector('#df-7d021abe-6d68-4470-a665-76b599fd20e5');\n",
              "          const dataTable =\n",
              "            await google.colab.kernel.invokeFunction('convertToInteractive',\n",
              "                                                     [key], {});\n",
              "          if (!dataTable) return;\n",
              "\n",
              "          const docLinkHtml = 'Like what you see? Visit the ' +\n",
              "            '<a target=\"_blank\" href=https://colab.research.google.com/notebooks/data_table.ipynb>data table notebook</a>'\n",
              "            + ' to learn more about interactive tables.';\n",
              "          element.innerHTML = '';\n",
              "          dataTable['output_type'] = 'display_data';\n",
              "          await google.colab.output.renderOutput(dataTable, element);\n",
              "          const docLink = document.createElement('div');\n",
              "          docLink.innerHTML = docLinkHtml;\n",
              "          element.appendChild(docLink);\n",
              "        }\n",
              "      </script>\n",
              "    </div>\n",
              "  </div>\n",
              "  "
            ]
          },
          "metadata": {},
          "execution_count": 38
        }
      ]
    },
    {
      "cell_type": "markdown",
      "source": [
        "Отлично!) <br>Отталкиваемся от этой метрики для всех моделей, обученных на TF-IDF признаках"
      ],
      "metadata": {
        "id": "33OFQQcYqYlF"
      }
    },
    {
      "cell_type": "markdown",
      "source": [
        "### LogisticRegression"
      ],
      "metadata": {
        "id": "KD5E5Ujr8yjv"
      }
    },
    {
      "cell_type": "markdown",
      "source": [
        "Начнём обучение с классической модели машинного обучения -<b> лог. регрессии</b>. <br>Установим `solver=\"sag\"` (Stochastic Average Gradient).<br>\n",
        "Подберём регуляризацию для модели и запишем результаты в `result`.<br> Также добавим в параметры взвешивание классов."
      ],
      "metadata": {
        "id": "Wo5SlhIK9Iah"
      }
    },
    {
      "cell_type": "code",
      "source": [
        "# Клонируем Pipeline\n",
        "log_tfidf = clone(model_features_tfidf)\n",
        "\n",
        "# Добавляем модель\n",
        "log_reg =  LogisticRegression(random_state=RANDOM_STATE, solver='sag')\n",
        "log_tfidf.steps.append(['logistic', log_reg])"
      ],
      "metadata": {
        "id": "SMZq7DVG_BfX",
        "execution": {
          "iopub.status.busy": "2022-08-05T10:59:43.263839Z",
          "iopub.execute_input": "2022-08-05T10:59:43.264337Z",
          "iopub.status.idle": "2022-08-05T10:59:43.272205Z",
          "shell.execute_reply.started": "2022-08-05T10:59:43.264294Z",
          "shell.execute_reply": "2022-08-05T10:59:43.271143Z"
        },
        "trusted": true
      },
      "execution_count": null,
      "outputs": []
    },
    {
      "cell_type": "code",
      "source": [
        "%%time\n",
        "\n",
        "# Параметры\n",
        "param_grid = {'logistic__C': [1, 3], 'logistic__class_weight': ['balanced']}\n",
        "\n",
        "# Подбор гиперпараметров\n",
        "GSCV(log_tfidf, param_grid, features_train_tfidf, target_train_tfidf, 'Log_TF_IDF')"
      ],
      "metadata": {
        "id": "3k34nHH-lCUQ",
        "outputId": "205779f7-b92f-445b-da9a-e63d88c05af5",
        "execution": {
          "iopub.status.busy": "2022-08-05T10:59:43.275182Z",
          "iopub.execute_input": "2022-08-05T10:59:43.276460Z",
          "iopub.status.idle": "2022-08-05T11:01:34.863028Z",
          "shell.execute_reply.started": "2022-08-05T10:59:43.276417Z",
          "shell.execute_reply": "2022-08-05T11:01:34.861709Z"
        },
        "trusted": true,
        "colab": {
          "base_uri": "https://localhost:8080/"
        }
      },
      "execution_count": null,
      "outputs": [
        {
          "output_type": "stream",
          "name": "stdout",
          "text": [
            "Fitting 5 folds for each of 2 candidates, totalling 10 fits\n",
            "Лучшие гиперпараметры: {'logistic__C': 3, 'logistic__class_weight': 'balanced'}\n",
            "Лучший f1: 0.7413700975418517\n",
            "CPU times: user 14.2 s, sys: 405 ms, total: 14.6 s\n",
            "Wall time: 1min 28s\n"
          ]
        },
        {
          "output_type": "stream",
          "name": "stderr",
          "text": [
            "/usr/local/lib/python3.7/dist-packages/sklearn/linear_model/_sag.py:354: ConvergenceWarning: The max_iter was reached which means the coef_ did not converge\n",
            "  ConvergenceWarning,\n"
          ]
        }
      ]
    },
    {
      "cell_type": "code",
      "source": [
        "result"
      ],
      "metadata": {
        "id": "BSFv85GK9lL2",
        "outputId": "b103ab56-faa0-4f29-dbcd-1fa57da9356c",
        "execution": {
          "iopub.status.busy": "2022-08-05T11:01:34.865503Z",
          "iopub.execute_input": "2022-08-05T11:01:34.866327Z",
          "iopub.status.idle": "2022-08-05T11:01:34.881679Z",
          "shell.execute_reply.started": "2022-08-05T11:01:34.866281Z",
          "shell.execute_reply": "2022-08-05T11:01:34.880093Z"
        },
        "trusted": true,
        "colab": {
          "base_uri": "https://localhost:8080/",
          "height": 112
        }
      },
      "execution_count": null,
      "outputs": [
        {
          "output_type": "execute_result",
          "data": {
            "text/plain": [
              "                   f1  Время обучения  Время предсказания\n",
              "Dummy_TF_IDF  0.00000        5.463566            1.249098\n",
              "Log_TF_IDF    0.74137       12.930991            1.307346"
            ],
            "text/html": [
              "\n",
              "  <div id=\"df-7ce38f92-a57f-4b26-9e9e-006d7b2dfbdc\">\n",
              "    <div class=\"colab-df-container\">\n",
              "      <div>\n",
              "<style scoped>\n",
              "    .dataframe tbody tr th:only-of-type {\n",
              "        vertical-align: middle;\n",
              "    }\n",
              "\n",
              "    .dataframe tbody tr th {\n",
              "        vertical-align: top;\n",
              "    }\n",
              "\n",
              "    .dataframe thead th {\n",
              "        text-align: right;\n",
              "    }\n",
              "</style>\n",
              "<table border=\"1\" class=\"dataframe\">\n",
              "  <thead>\n",
              "    <tr style=\"text-align: right;\">\n",
              "      <th></th>\n",
              "      <th>f1</th>\n",
              "      <th>Время обучения</th>\n",
              "      <th>Время предсказания</th>\n",
              "    </tr>\n",
              "  </thead>\n",
              "  <tbody>\n",
              "    <tr>\n",
              "      <th>Dummy_TF_IDF</th>\n",
              "      <td>0.00000</td>\n",
              "      <td>5.463566</td>\n",
              "      <td>1.249098</td>\n",
              "    </tr>\n",
              "    <tr>\n",
              "      <th>Log_TF_IDF</th>\n",
              "      <td>0.74137</td>\n",
              "      <td>12.930991</td>\n",
              "      <td>1.307346</td>\n",
              "    </tr>\n",
              "  </tbody>\n",
              "</table>\n",
              "</div>\n",
              "      <button class=\"colab-df-convert\" onclick=\"convertToInteractive('df-7ce38f92-a57f-4b26-9e9e-006d7b2dfbdc')\"\n",
              "              title=\"Convert this dataframe to an interactive table.\"\n",
              "              style=\"display:none;\">\n",
              "        \n",
              "  <svg xmlns=\"http://www.w3.org/2000/svg\" height=\"24px\"viewBox=\"0 0 24 24\"\n",
              "       width=\"24px\">\n",
              "    <path d=\"M0 0h24v24H0V0z\" fill=\"none\"/>\n",
              "    <path d=\"M18.56 5.44l.94 2.06.94-2.06 2.06-.94-2.06-.94-.94-2.06-.94 2.06-2.06.94zm-11 1L8.5 8.5l.94-2.06 2.06-.94-2.06-.94L8.5 2.5l-.94 2.06-2.06.94zm10 10l.94 2.06.94-2.06 2.06-.94-2.06-.94-.94-2.06-.94 2.06-2.06.94z\"/><path d=\"M17.41 7.96l-1.37-1.37c-.4-.4-.92-.59-1.43-.59-.52 0-1.04.2-1.43.59L10.3 9.45l-7.72 7.72c-.78.78-.78 2.05 0 2.83L4 21.41c.39.39.9.59 1.41.59.51 0 1.02-.2 1.41-.59l7.78-7.78 2.81-2.81c.8-.78.8-2.07 0-2.86zM5.41 20L4 18.59l7.72-7.72 1.47 1.35L5.41 20z\"/>\n",
              "  </svg>\n",
              "      </button>\n",
              "      \n",
              "  <style>\n",
              "    .colab-df-container {\n",
              "      display:flex;\n",
              "      flex-wrap:wrap;\n",
              "      gap: 12px;\n",
              "    }\n",
              "\n",
              "    .colab-df-convert {\n",
              "      background-color: #E8F0FE;\n",
              "      border: none;\n",
              "      border-radius: 50%;\n",
              "      cursor: pointer;\n",
              "      display: none;\n",
              "      fill: #1967D2;\n",
              "      height: 32px;\n",
              "      padding: 0 0 0 0;\n",
              "      width: 32px;\n",
              "    }\n",
              "\n",
              "    .colab-df-convert:hover {\n",
              "      background-color: #E2EBFA;\n",
              "      box-shadow: 0px 1px 2px rgba(60, 64, 67, 0.3), 0px 1px 3px 1px rgba(60, 64, 67, 0.15);\n",
              "      fill: #174EA6;\n",
              "    }\n",
              "\n",
              "    [theme=dark] .colab-df-convert {\n",
              "      background-color: #3B4455;\n",
              "      fill: #D2E3FC;\n",
              "    }\n",
              "\n",
              "    [theme=dark] .colab-df-convert:hover {\n",
              "      background-color: #434B5C;\n",
              "      box-shadow: 0px 1px 3px 1px rgba(0, 0, 0, 0.15);\n",
              "      filter: drop-shadow(0px 1px 2px rgba(0, 0, 0, 0.3));\n",
              "      fill: #FFFFFF;\n",
              "    }\n",
              "  </style>\n",
              "\n",
              "      <script>\n",
              "        const buttonEl =\n",
              "          document.querySelector('#df-7ce38f92-a57f-4b26-9e9e-006d7b2dfbdc button.colab-df-convert');\n",
              "        buttonEl.style.display =\n",
              "          google.colab.kernel.accessAllowed ? 'block' : 'none';\n",
              "\n",
              "        async function convertToInteractive(key) {\n",
              "          const element = document.querySelector('#df-7ce38f92-a57f-4b26-9e9e-006d7b2dfbdc');\n",
              "          const dataTable =\n",
              "            await google.colab.kernel.invokeFunction('convertToInteractive',\n",
              "                                                     [key], {});\n",
              "          if (!dataTable) return;\n",
              "\n",
              "          const docLinkHtml = 'Like what you see? Visit the ' +\n",
              "            '<a target=\"_blank\" href=https://colab.research.google.com/notebooks/data_table.ipynb>data table notebook</a>'\n",
              "            + ' to learn more about interactive tables.';\n",
              "          element.innerHTML = '';\n",
              "          dataTable['output_type'] = 'display_data';\n",
              "          await google.colab.output.renderOutput(dataTable, element);\n",
              "          const docLink = document.createElement('div');\n",
              "          docLink.innerHTML = docLinkHtml;\n",
              "          element.appendChild(docLink);\n",
              "        }\n",
              "      </script>\n",
              "    </div>\n",
              "  </div>\n",
              "  "
            ]
          },
          "metadata": {},
          "execution_count": 41
        }
      ]
    },
    {
      "cell_type": "markdown",
      "source": [
        "Порог пройден! <br>Насколько этот результат применим в реальной работе должен будет выяснить бизнес"
      ],
      "metadata": {
        "id": "tlSwmOIAvvCq"
      }
    },
    {
      "cell_type": "markdown",
      "source": [
        "### Linear model with stochastic gradient descent (SGDClassifier)"
      ],
      "metadata": {
        "id": "sk7TEycUv0_k"
      }
    },
    {
      "cell_type": "markdown",
      "source": [
        "Попробуем SGDClassifier с взвешиванием классов, подбором `alpha`"
      ],
      "metadata": {
        "id": "h5yausYj0b3e"
      }
    },
    {
      "cell_type": "code",
      "source": [
        "# Клонируем Pipeline\n",
        "sgd_tfidf = clone(model_features_tfidf)\n",
        "\n",
        "# Добавляем модель\n",
        "sgd =  SGDClassifier(class_weight='balanced', random_state=RANDOM_STATE)\n",
        "sgd_tfidf.steps.append(['sgd', sgd])"
      ],
      "metadata": {
        "id": "YqwsCMDPwB8m",
        "execution": {
          "iopub.status.busy": "2022-08-05T11:01:34.884295Z",
          "iopub.execute_input": "2022-08-05T11:01:34.885168Z",
          "iopub.status.idle": "2022-08-05T11:01:34.892906Z",
          "shell.execute_reply.started": "2022-08-05T11:01:34.885120Z",
          "shell.execute_reply": "2022-08-05T11:01:34.891692Z"
        },
        "trusted": true
      },
      "execution_count": null,
      "outputs": []
    },
    {
      "cell_type": "code",
      "source": [
        "%%time\n",
        "\n",
        "# Параметры\n",
        "param_grid = {'sgd__alpha': np.arange(0.001, 0.1, 0.05)}\n",
        "\n",
        "# Подбор гиперпараметров\n",
        "GSCV(sgd_tfidf, param_grid, features_train_tfidf, target_train_tfidf, 'SGD_TF_IDF')"
      ],
      "metadata": {
        "id": "8Ln34Mqw1Sto",
        "execution": {
          "iopub.status.busy": "2022-08-05T11:01:34.895664Z",
          "iopub.execute_input": "2022-08-05T11:01:34.896529Z",
          "iopub.status.idle": "2022-08-05T11:02:33.771808Z",
          "shell.execute_reply.started": "2022-08-05T11:01:34.896486Z",
          "shell.execute_reply": "2022-08-05T11:02:33.770746Z"
        },
        "trusted": true,
        "colab": {
          "base_uri": "https://localhost:8080/"
        },
        "outputId": "22795456-112f-4f6c-9d97-1263defb762e"
      },
      "execution_count": null,
      "outputs": [
        {
          "output_type": "stream",
          "name": "stdout",
          "text": [
            "Fitting 5 folds for each of 2 candidates, totalling 10 fits\n",
            "Лучшие гиперпараметры: {'sgd__alpha': 0.001}\n",
            "Лучший f1: 0.7055284958689036\n",
            "CPU times: user 6.32 s, sys: 267 ms, total: 6.59 s\n",
            "Wall time: 44.8 s\n"
          ]
        }
      ]
    },
    {
      "cell_type": "code",
      "source": [
        "result"
      ],
      "metadata": {
        "id": "hosVZNx51mQs",
        "execution": {
          "iopub.status.busy": "2022-08-05T11:02:33.773463Z",
          "iopub.execute_input": "2022-08-05T11:02:33.774028Z",
          "iopub.status.idle": "2022-08-05T11:02:33.788347Z",
          "shell.execute_reply.started": "2022-08-05T11:02:33.773982Z",
          "shell.execute_reply": "2022-08-05T11:02:33.787108Z"
        },
        "trusted": true,
        "colab": {
          "base_uri": "https://localhost:8080/",
          "height": 143
        },
        "outputId": "4e4d8636-b237-44bc-bfbb-b222a79d458a"
      },
      "execution_count": null,
      "outputs": [
        {
          "output_type": "execute_result",
          "data": {
            "text/plain": [
              "                    f1  Время обучения  Время предсказания\n",
              "Dummy_TF_IDF  0.000000        5.463566            1.249098\n",
              "Log_TF_IDF    0.741370       12.930991            1.307346\n",
              "SGD_TF_IDF    0.705528        6.329179            1.403886"
            ],
            "text/html": [
              "\n",
              "  <div id=\"df-c419889a-a149-4089-b125-d4f1b9485d5e\">\n",
              "    <div class=\"colab-df-container\">\n",
              "      <div>\n",
              "<style scoped>\n",
              "    .dataframe tbody tr th:only-of-type {\n",
              "        vertical-align: middle;\n",
              "    }\n",
              "\n",
              "    .dataframe tbody tr th {\n",
              "        vertical-align: top;\n",
              "    }\n",
              "\n",
              "    .dataframe thead th {\n",
              "        text-align: right;\n",
              "    }\n",
              "</style>\n",
              "<table border=\"1\" class=\"dataframe\">\n",
              "  <thead>\n",
              "    <tr style=\"text-align: right;\">\n",
              "      <th></th>\n",
              "      <th>f1</th>\n",
              "      <th>Время обучения</th>\n",
              "      <th>Время предсказания</th>\n",
              "    </tr>\n",
              "  </thead>\n",
              "  <tbody>\n",
              "    <tr>\n",
              "      <th>Dummy_TF_IDF</th>\n",
              "      <td>0.000000</td>\n",
              "      <td>5.463566</td>\n",
              "      <td>1.249098</td>\n",
              "    </tr>\n",
              "    <tr>\n",
              "      <th>Log_TF_IDF</th>\n",
              "      <td>0.741370</td>\n",
              "      <td>12.930991</td>\n",
              "      <td>1.307346</td>\n",
              "    </tr>\n",
              "    <tr>\n",
              "      <th>SGD_TF_IDF</th>\n",
              "      <td>0.705528</td>\n",
              "      <td>6.329179</td>\n",
              "      <td>1.403886</td>\n",
              "    </tr>\n",
              "  </tbody>\n",
              "</table>\n",
              "</div>\n",
              "      <button class=\"colab-df-convert\" onclick=\"convertToInteractive('df-c419889a-a149-4089-b125-d4f1b9485d5e')\"\n",
              "              title=\"Convert this dataframe to an interactive table.\"\n",
              "              style=\"display:none;\">\n",
              "        \n",
              "  <svg xmlns=\"http://www.w3.org/2000/svg\" height=\"24px\"viewBox=\"0 0 24 24\"\n",
              "       width=\"24px\">\n",
              "    <path d=\"M0 0h24v24H0V0z\" fill=\"none\"/>\n",
              "    <path d=\"M18.56 5.44l.94 2.06.94-2.06 2.06-.94-2.06-.94-.94-2.06-.94 2.06-2.06.94zm-11 1L8.5 8.5l.94-2.06 2.06-.94-2.06-.94L8.5 2.5l-.94 2.06-2.06.94zm10 10l.94 2.06.94-2.06 2.06-.94-2.06-.94-.94-2.06-.94 2.06-2.06.94z\"/><path d=\"M17.41 7.96l-1.37-1.37c-.4-.4-.92-.59-1.43-.59-.52 0-1.04.2-1.43.59L10.3 9.45l-7.72 7.72c-.78.78-.78 2.05 0 2.83L4 21.41c.39.39.9.59 1.41.59.51 0 1.02-.2 1.41-.59l7.78-7.78 2.81-2.81c.8-.78.8-2.07 0-2.86zM5.41 20L4 18.59l7.72-7.72 1.47 1.35L5.41 20z\"/>\n",
              "  </svg>\n",
              "      </button>\n",
              "      \n",
              "  <style>\n",
              "    .colab-df-container {\n",
              "      display:flex;\n",
              "      flex-wrap:wrap;\n",
              "      gap: 12px;\n",
              "    }\n",
              "\n",
              "    .colab-df-convert {\n",
              "      background-color: #E8F0FE;\n",
              "      border: none;\n",
              "      border-radius: 50%;\n",
              "      cursor: pointer;\n",
              "      display: none;\n",
              "      fill: #1967D2;\n",
              "      height: 32px;\n",
              "      padding: 0 0 0 0;\n",
              "      width: 32px;\n",
              "    }\n",
              "\n",
              "    .colab-df-convert:hover {\n",
              "      background-color: #E2EBFA;\n",
              "      box-shadow: 0px 1px 2px rgba(60, 64, 67, 0.3), 0px 1px 3px 1px rgba(60, 64, 67, 0.15);\n",
              "      fill: #174EA6;\n",
              "    }\n",
              "\n",
              "    [theme=dark] .colab-df-convert {\n",
              "      background-color: #3B4455;\n",
              "      fill: #D2E3FC;\n",
              "    }\n",
              "\n",
              "    [theme=dark] .colab-df-convert:hover {\n",
              "      background-color: #434B5C;\n",
              "      box-shadow: 0px 1px 3px 1px rgba(0, 0, 0, 0.15);\n",
              "      filter: drop-shadow(0px 1px 2px rgba(0, 0, 0, 0.3));\n",
              "      fill: #FFFFFF;\n",
              "    }\n",
              "  </style>\n",
              "\n",
              "      <script>\n",
              "        const buttonEl =\n",
              "          document.querySelector('#df-c419889a-a149-4089-b125-d4f1b9485d5e button.colab-df-convert');\n",
              "        buttonEl.style.display =\n",
              "          google.colab.kernel.accessAllowed ? 'block' : 'none';\n",
              "\n",
              "        async function convertToInteractive(key) {\n",
              "          const element = document.querySelector('#df-c419889a-a149-4089-b125-d4f1b9485d5e');\n",
              "          const dataTable =\n",
              "            await google.colab.kernel.invokeFunction('convertToInteractive',\n",
              "                                                     [key], {});\n",
              "          if (!dataTable) return;\n",
              "\n",
              "          const docLinkHtml = 'Like what you see? Visit the ' +\n",
              "            '<a target=\"_blank\" href=https://colab.research.google.com/notebooks/data_table.ipynb>data table notebook</a>'\n",
              "            + ' to learn more about interactive tables.';\n",
              "          element.innerHTML = '';\n",
              "          dataTable['output_type'] = 'display_data';\n",
              "          await google.colab.output.renderOutput(dataTable, element);\n",
              "          const docLink = document.createElement('div');\n",
              "          docLink.innerHTML = docLinkHtml;\n",
              "          element.appendChild(docLink);\n",
              "        }\n",
              "      </script>\n",
              "    </div>\n",
              "  </div>\n",
              "  "
            ]
          },
          "metadata": {},
          "execution_count": 44
        }
      ]
    },
    {
      "cell_type": "markdown",
      "source": [
        "### LightGBM"
      ],
      "metadata": {
        "id": "HkYtRcNgBf4w"
      }
    },
    {
      "cell_type": "markdown",
      "source": [
        "Поработаем с ` Light Gradient Boosting Machine` на `GPU` с подбором гиперпараметров с помощью [optuna](https://optuna.readthedocs.io/en/stable/). <br>Внутри `optuna` уже есть `LGBM`, но мы рассмотрим общий случай работы:"
      ],
      "metadata": {
        "id": "7Hs0MulaBw68"
      }
    },
    {
      "cell_type": "markdown",
      "source": [
        "Зададим функцию с параметрами и приведением к нужным типам:"
      ],
      "metadata": {
        "id": "vbJEZt7aFJ9A"
      }
    },
    {
      "cell_type": "code",
      "source": [
        "def search_lgbm_cv(trial):\n",
        "    param = {\n",
        "        \"n_estimators\": trial.suggest_int(\"n_estimators\", 100, 500, 200),\n",
        "        \"boosting_type\": trial.suggest_categorical(\"boosting_type\", [\"gbdt\"]),\n",
        "        \"max_depth\" : trial.suggest_int(\"max_depth\", 5, 20, 5),\n",
        "        'device': 'gpu',\n",
        "        'class_weight': 'balanced'\n",
        "    }\n",
        "\n",
        "    lgb_tfidf = clone(model_features_tfidf)\n",
        "    model = lgb.LGBMClassifier(**param, random_state=RANDOM_STATE)\n",
        "    lgb_tfidf.steps.append(['lgb', model])\n",
        "    score = cross_validate(\n",
        "                          lgb_tfidf, \n",
        "                          features_train_tfidf,\n",
        "                          target_train_tfidf,\n",
        "                          scoring=METRIC,\n",
        "                          cv=3,\n",
        "                          n_jobs=N_CPU,\n",
        "                          verbose=VERBOSE\n",
        "                          )['test_score'].mean()\n",
        "    return score"
      ],
      "metadata": {
        "id": "mu-5cPxZFPC7",
        "execution": {
          "iopub.status.busy": "2022-08-04T18:28:12.234103Z",
          "iopub.execute_input": "2022-08-04T18:28:12.234555Z",
          "iopub.status.idle": "2022-08-04T18:28:12.250375Z",
          "shell.execute_reply.started": "2022-08-04T18:28:12.234511Z",
          "shell.execute_reply": "2022-08-04T18:28:12.248717Z"
        },
        "trusted": true
      },
      "execution_count": null,
      "outputs": []
    },
    {
      "cell_type": "markdown",
      "source": [
        "Не будем тратить много времени на подбор, поэтому ограничим его. <br>Пусть будет 10 минут. Запуск подбора:"
      ],
      "metadata": {
        "id": "YDz9ElQ8JXQ3"
      }
    },
    {
      "cell_type": "code",
      "source": [
        "%%time\n",
        "\n",
        "study = optuna.create_study(direction=\"maximize\")\n",
        "study.optimize(search_lgbm_cv, timeout=(10*60), n_trials=100)"
      ],
      "metadata": {
        "id": "XEAi0euUB2FS",
        "execution": {
          "iopub.status.busy": "2022-08-05T11:02:33.791437Z",
          "iopub.execute_input": "2022-08-05T11:02:33.792223Z",
          "iopub.status.idle": "2022-08-05T11:02:33.796984Z",
          "shell.execute_reply.started": "2022-08-05T11:02:33.792183Z",
          "shell.execute_reply": "2022-08-05T11:02:33.795881Z"
        },
        "trusted": true,
        "colab": {
          "base_uri": "https://localhost:8080/"
        },
        "outputId": "a57b4edc-fa5e-4512-c8c7-c6569b90e30d"
      },
      "execution_count": null,
      "outputs": [
        {
          "output_type": "stream",
          "name": "stderr",
          "text": [
            "\u001b[32m[I 2022-08-05 13:44:10,056]\u001b[0m A new study created in memory with name: no-name-f508e193-2a7e-4a93-b10a-235ca7973526\u001b[0m\n"
          ]
        },
        {
          "output_type": "stream",
          "name": "stdout",
          "text": [
            "[Parallel(n_jobs=-1)]: Using backend LokyBackend with 2 concurrent workers.\n",
            "[Parallel(n_jobs=-1)]: Done   1 tasks      | elapsed:  1.2min\n"
          ]
        },
        {
          "output_type": "stream",
          "name": "stderr",
          "text": [
            "\u001b[32m[I 2022-08-05 13:46:12,522]\u001b[0m Trial 0 finished with value: 0.6829175051345674 and parameters: {'n_estimators': 100, 'boosting_type': 'dart', 'max_depth': 15}. Best is trial 0 with value: 0.6829175051345674.\u001b[0m\n"
          ]
        },
        {
          "output_type": "stream",
          "name": "stdout",
          "text": [
            "[Parallel(n_jobs=-1)]: Done   3 out of   3 | elapsed:  2.0min remaining:    0.0s\n",
            "[Parallel(n_jobs=-1)]: Done   3 out of   3 | elapsed:  2.0min finished\n",
            "[Parallel(n_jobs=-1)]: Using backend LokyBackend with 2 concurrent workers.\n",
            "[Parallel(n_jobs=-1)]: Done   1 tasks      | elapsed:  1.5min\n"
          ]
        },
        {
          "output_type": "stream",
          "name": "stderr",
          "text": [
            "\u001b[32m[I 2022-08-05 13:48:36,810]\u001b[0m Trial 1 finished with value: 0.6814552632765434 and parameters: {'n_estimators': 300, 'boosting_type': 'dart', 'max_depth': 5}. Best is trial 0 with value: 0.6829175051345674.\u001b[0m\n"
          ]
        },
        {
          "output_type": "stream",
          "name": "stdout",
          "text": [
            "[Parallel(n_jobs=-1)]: Done   3 out of   3 | elapsed:  2.4min remaining:    0.0s\n",
            "[Parallel(n_jobs=-1)]: Done   3 out of   3 | elapsed:  2.4min finished\n",
            "[Parallel(n_jobs=-1)]: Using backend LokyBackend with 2 concurrent workers.\n",
            "[Parallel(n_jobs=-1)]: Done   1 tasks      | elapsed:  2.5min\n"
          ]
        },
        {
          "output_type": "stream",
          "name": "stderr",
          "text": [
            "\u001b[32m[I 2022-08-05 13:52:36,972]\u001b[0m Trial 2 finished with value: 0.7315652955764831 and parameters: {'n_estimators': 300, 'boosting_type': 'gbdt', 'max_depth': 15}. Best is trial 2 with value: 0.7315652955764831.\u001b[0m\n"
          ]
        },
        {
          "output_type": "stream",
          "name": "stdout",
          "text": [
            "[Parallel(n_jobs=-1)]: Done   3 out of   3 | elapsed:  4.0min remaining:    0.0s\n",
            "[Parallel(n_jobs=-1)]: Done   3 out of   3 | elapsed:  4.0min finished\n",
            "[Parallel(n_jobs=-1)]: Using backend LokyBackend with 2 concurrent workers.\n",
            "[Parallel(n_jobs=-1)]: Done   1 tasks      | elapsed:   57.3s\n"
          ]
        },
        {
          "output_type": "stream",
          "name": "stderr",
          "text": [
            "\u001b[32m[I 2022-08-05 13:54:11,278]\u001b[0m Trial 3 finished with value: 0.6747683019605836 and parameters: {'n_estimators': 100, 'boosting_type': 'dart', 'max_depth': 10}. Best is trial 2 with value: 0.7315652955764831.\u001b[0m\n"
          ]
        },
        {
          "output_type": "stream",
          "name": "stdout",
          "text": [
            "[Parallel(n_jobs=-1)]: Done   3 out of   3 | elapsed:  1.6min remaining:    0.0s\n",
            "[Parallel(n_jobs=-1)]: Done   3 out of   3 | elapsed:  1.6min finished\n",
            "CPU times: user 4.85 s, sys: 719 ms, total: 5.57 s\n",
            "Wall time: 10min 1s\n"
          ]
        }
      ]
    },
    {
      "cell_type": "code",
      "source": [
        "study.best_params"
      ],
      "metadata": {
        "execution": {
          "iopub.status.busy": "2022-08-05T11:23:36.545993Z",
          "iopub.execute_input": "2022-08-05T11:23:36.546643Z",
          "iopub.status.idle": "2022-08-05T11:23:36.555095Z",
          "shell.execute_reply.started": "2022-08-05T11:23:36.546606Z",
          "shell.execute_reply": "2022-08-05T11:23:36.554068Z"
        },
        "trusted": true,
        "colab": {
          "base_uri": "https://localhost:8080/"
        },
        "id": "yO9wBUPtJXQ4",
        "outputId": "f38e9d97-ec8e-4862-807b-f1ab513bf621"
      },
      "execution_count": null,
      "outputs": [
        {
          "output_type": "execute_result",
          "data": {
            "text/plain": [
              "{'boosting_type': 'gbdt', 'max_depth': 15, 'n_estimators': 300}"
            ]
          },
          "metadata": {},
          "execution_count": 59
        }
      ]
    },
    {
      "cell_type": "code",
      "source": [
        "study.best_value"
      ],
      "metadata": {
        "execution": {
          "iopub.status.busy": "2022-08-05T11:32:00.750304Z",
          "iopub.execute_input": "2022-08-05T11:32:00.750722Z",
          "iopub.status.idle": "2022-08-05T11:32:00.759861Z",
          "shell.execute_reply.started": "2022-08-05T11:32:00.750685Z",
          "shell.execute_reply": "2022-08-05T11:32:00.758652Z"
        },
        "trusted": true,
        "colab": {
          "base_uri": "https://localhost:8080/"
        },
        "id": "DkhbhuQmJXQ4",
        "outputId": "e28c931c-df2c-441f-adb3-d2a983451abe"
      },
      "execution_count": null,
      "outputs": [
        {
          "output_type": "execute_result",
          "data": {
            "text/plain": [
              "0.7315652955764831"
            ]
          },
          "metadata": {},
          "execution_count": 60
        }
      ]
    },
    {
      "cell_type": "markdown",
      "source": [
        "Посмотрим результаты на кросс-валидации:"
      ],
      "metadata": {
        "id": "Kj54BZF8JXQ4"
      }
    },
    {
      "cell_type": "code",
      "source": [
        "# Клонируем Pipeline\n",
        "lgbm_tfidf = clone(model_features_tfidf)\n",
        "\n",
        "# Добавляем модель\n",
        "lgbm =  lgb.LGBMClassifier(**study.best_params)\n",
        "lgbm_tfidf.steps.append(['lgbm', lgbm])"
      ],
      "metadata": {
        "execution": {
          "iopub.status.busy": "2022-08-05T11:26:27.114873Z",
          "iopub.execute_input": "2022-08-05T11:26:27.115305Z",
          "iopub.status.idle": "2022-08-05T11:26:27.121631Z",
          "shell.execute_reply.started": "2022-08-05T11:26:27.115268Z",
          "shell.execute_reply": "2022-08-05T11:26:27.120595Z"
        },
        "trusted": true,
        "id": "wWo-QMDHJXQ4"
      },
      "execution_count": null,
      "outputs": []
    },
    {
      "cell_type": "code",
      "source": [
        "%%time\n",
        "\n",
        "cross_val_model_result(lgbm_tfidf, features_train_tfidf, target_train_tfidf, 'LGBM_TF_IDF')"
      ],
      "metadata": {
        "execution": {
          "iopub.status.busy": "2022-08-05T11:26:31.504138Z",
          "iopub.execute_input": "2022-08-05T11:26:31.504969Z",
          "iopub.status.idle": "2022-08-05T11:31:11.891123Z",
          "shell.execute_reply.started": "2022-08-05T11:26:31.504928Z",
          "shell.execute_reply": "2022-08-05T11:31:11.889760Z"
        },
        "trusted": true,
        "colab": {
          "base_uri": "https://localhost:8080/"
        },
        "id": "kPgpbzqyJXQ4",
        "outputId": "92264d0b-b9dc-4f9b-f804-28eaf7b93e37"
      },
      "execution_count": null,
      "outputs": [
        {
          "output_type": "stream",
          "name": "stdout",
          "text": [
            "[Parallel(n_jobs=-1)]: Using backend LokyBackend with 2 concurrent workers.\n",
            "[Parallel(n_jobs=-1)]: Done   1 tasks      | elapsed:  2.8min\n",
            "[Parallel(n_jobs=-1)]: Done   2 tasks      | elapsed:  2.9min\n",
            "[Parallel(n_jobs=-1)]: Done   3 out of   5 | elapsed:  5.7min remaining:  3.8min\n",
            "[Parallel(n_jobs=-1)]: Done   5 out of   5 | elapsed:  7.5min remaining:    0.0s\n",
            "[Parallel(n_jobs=-1)]: Done   5 out of   5 | elapsed:  7.5min finished\n",
            "f1 на кросс-валидации: [0.73237944 0.74547837 0.73453199 0.74469756 0.73953121]\n",
            "f1 mean: 0.7393237160817497\n",
            "CPU times: user 3.01 s, sys: 369 ms, total: 3.38 s\n",
            "Wall time: 7min 30s\n"
          ]
        }
      ]
    },
    {
      "cell_type": "code",
      "source": [
        "# Удаляем лишнее\n",
        "\n",
        "del lgbm_tfidf\n",
        "del sgd_tfidf\n",
        "del log_tfidf\n",
        "del dummy_tfidf\n",
        "gc.collect()"
      ],
      "metadata": {
        "execution": {
          "iopub.status.busy": "2022-08-05T11:32:18.374892Z",
          "iopub.execute_input": "2022-08-05T11:32:18.375566Z",
          "iopub.status.idle": "2022-08-05T11:32:18.766491Z",
          "shell.execute_reply.started": "2022-08-05T11:32:18.375527Z",
          "shell.execute_reply": "2022-08-05T11:32:18.764168Z"
        },
        "trusted": true,
        "colab": {
          "base_uri": "https://localhost:8080/"
        },
        "id": "w_ZsT6dSJXQ5",
        "outputId": "014212e9-8f82-45b8-f026-dc89822528a6"
      },
      "execution_count": null,
      "outputs": [
        {
          "output_type": "execute_result",
          "data": {
            "text/plain": [
              "865"
            ]
          },
          "metadata": {},
          "execution_count": 63
        }
      ]
    },
    {
      "cell_type": "markdown",
      "source": [
        "<a name=\"c23\"></a>\n",
        "### Результат:"
      ],
      "metadata": {
        "id": "RUMeMP0qJXQ5"
      }
    },
    {
      "cell_type": "code",
      "source": [
        "result.sort_values(by=METRIC, ascending=False)"
      ],
      "metadata": {
        "execution": {
          "iopub.status.busy": "2022-08-05T11:32:49.859257Z",
          "iopub.execute_input": "2022-08-05T11:32:49.859840Z",
          "iopub.status.idle": "2022-08-05T11:32:49.880117Z",
          "shell.execute_reply.started": "2022-08-05T11:32:49.859794Z",
          "shell.execute_reply": "2022-08-05T11:32:49.878955Z"
        },
        "trusted": true,
        "colab": {
          "base_uri": "https://localhost:8080/",
          "height": 175
        },
        "id": "OLOSejryJXQ5",
        "outputId": "1ad9f812-4e7a-4bea-9802-92b707230b23"
      },
      "execution_count": null,
      "outputs": [
        {
          "output_type": "execute_result",
          "data": {
            "text/plain": [
              "                    f1  Время обучения  Время предсказания\n",
              "Log_TF_IDF    0.741370       12.930991            1.307346\n",
              "LGBM_TF_IDF   0.739324      154.058838            4.519685\n",
              "SGD_TF_IDF    0.705528        6.329179            1.403886\n",
              "Dummy_TF_IDF  0.000000        5.463566            1.249098"
            ],
            "text/html": [
              "\n",
              "  <div id=\"df-a551b044-5fa9-4405-a5d6-7b7ad4d0a6dc\">\n",
              "    <div class=\"colab-df-container\">\n",
              "      <div>\n",
              "<style scoped>\n",
              "    .dataframe tbody tr th:only-of-type {\n",
              "        vertical-align: middle;\n",
              "    }\n",
              "\n",
              "    .dataframe tbody tr th {\n",
              "        vertical-align: top;\n",
              "    }\n",
              "\n",
              "    .dataframe thead th {\n",
              "        text-align: right;\n",
              "    }\n",
              "</style>\n",
              "<table border=\"1\" class=\"dataframe\">\n",
              "  <thead>\n",
              "    <tr style=\"text-align: right;\">\n",
              "      <th></th>\n",
              "      <th>f1</th>\n",
              "      <th>Время обучения</th>\n",
              "      <th>Время предсказания</th>\n",
              "    </tr>\n",
              "  </thead>\n",
              "  <tbody>\n",
              "    <tr>\n",
              "      <th>Log_TF_IDF</th>\n",
              "      <td>0.741370</td>\n",
              "      <td>12.930991</td>\n",
              "      <td>1.307346</td>\n",
              "    </tr>\n",
              "    <tr>\n",
              "      <th>LGBM_TF_IDF</th>\n",
              "      <td>0.739324</td>\n",
              "      <td>154.058838</td>\n",
              "      <td>4.519685</td>\n",
              "    </tr>\n",
              "    <tr>\n",
              "      <th>SGD_TF_IDF</th>\n",
              "      <td>0.705528</td>\n",
              "      <td>6.329179</td>\n",
              "      <td>1.403886</td>\n",
              "    </tr>\n",
              "    <tr>\n",
              "      <th>Dummy_TF_IDF</th>\n",
              "      <td>0.000000</td>\n",
              "      <td>5.463566</td>\n",
              "      <td>1.249098</td>\n",
              "    </tr>\n",
              "  </tbody>\n",
              "</table>\n",
              "</div>\n",
              "      <button class=\"colab-df-convert\" onclick=\"convertToInteractive('df-a551b044-5fa9-4405-a5d6-7b7ad4d0a6dc')\"\n",
              "              title=\"Convert this dataframe to an interactive table.\"\n",
              "              style=\"display:none;\">\n",
              "        \n",
              "  <svg xmlns=\"http://www.w3.org/2000/svg\" height=\"24px\"viewBox=\"0 0 24 24\"\n",
              "       width=\"24px\">\n",
              "    <path d=\"M0 0h24v24H0V0z\" fill=\"none\"/>\n",
              "    <path d=\"M18.56 5.44l.94 2.06.94-2.06 2.06-.94-2.06-.94-.94-2.06-.94 2.06-2.06.94zm-11 1L8.5 8.5l.94-2.06 2.06-.94-2.06-.94L8.5 2.5l-.94 2.06-2.06.94zm10 10l.94 2.06.94-2.06 2.06-.94-2.06-.94-.94-2.06-.94 2.06-2.06.94z\"/><path d=\"M17.41 7.96l-1.37-1.37c-.4-.4-.92-.59-1.43-.59-.52 0-1.04.2-1.43.59L10.3 9.45l-7.72 7.72c-.78.78-.78 2.05 0 2.83L4 21.41c.39.39.9.59 1.41.59.51 0 1.02-.2 1.41-.59l7.78-7.78 2.81-2.81c.8-.78.8-2.07 0-2.86zM5.41 20L4 18.59l7.72-7.72 1.47 1.35L5.41 20z\"/>\n",
              "  </svg>\n",
              "      </button>\n",
              "      \n",
              "  <style>\n",
              "    .colab-df-container {\n",
              "      display:flex;\n",
              "      flex-wrap:wrap;\n",
              "      gap: 12px;\n",
              "    }\n",
              "\n",
              "    .colab-df-convert {\n",
              "      background-color: #E8F0FE;\n",
              "      border: none;\n",
              "      border-radius: 50%;\n",
              "      cursor: pointer;\n",
              "      display: none;\n",
              "      fill: #1967D2;\n",
              "      height: 32px;\n",
              "      padding: 0 0 0 0;\n",
              "      width: 32px;\n",
              "    }\n",
              "\n",
              "    .colab-df-convert:hover {\n",
              "      background-color: #E2EBFA;\n",
              "      box-shadow: 0px 1px 2px rgba(60, 64, 67, 0.3), 0px 1px 3px 1px rgba(60, 64, 67, 0.15);\n",
              "      fill: #174EA6;\n",
              "    }\n",
              "\n",
              "    [theme=dark] .colab-df-convert {\n",
              "      background-color: #3B4455;\n",
              "      fill: #D2E3FC;\n",
              "    }\n",
              "\n",
              "    [theme=dark] .colab-df-convert:hover {\n",
              "      background-color: #434B5C;\n",
              "      box-shadow: 0px 1px 3px 1px rgba(0, 0, 0, 0.15);\n",
              "      filter: drop-shadow(0px 1px 2px rgba(0, 0, 0, 0.3));\n",
              "      fill: #FFFFFF;\n",
              "    }\n",
              "  </style>\n",
              "\n",
              "      <script>\n",
              "        const buttonEl =\n",
              "          document.querySelector('#df-a551b044-5fa9-4405-a5d6-7b7ad4d0a6dc button.colab-df-convert');\n",
              "        buttonEl.style.display =\n",
              "          google.colab.kernel.accessAllowed ? 'block' : 'none';\n",
              "\n",
              "        async function convertToInteractive(key) {\n",
              "          const element = document.querySelector('#df-a551b044-5fa9-4405-a5d6-7b7ad4d0a6dc');\n",
              "          const dataTable =\n",
              "            await google.colab.kernel.invokeFunction('convertToInteractive',\n",
              "                                                     [key], {});\n",
              "          if (!dataTable) return;\n",
              "\n",
              "          const docLinkHtml = 'Like what you see? Visit the ' +\n",
              "            '<a target=\"_blank\" href=https://colab.research.google.com/notebooks/data_table.ipynb>data table notebook</a>'\n",
              "            + ' to learn more about interactive tables.';\n",
              "          element.innerHTML = '';\n",
              "          dataTable['output_type'] = 'display_data';\n",
              "          await google.colab.output.renderOutput(dataTable, element);\n",
              "          const docLink = document.createElement('div');\n",
              "          docLink.innerHTML = docLinkHtml;\n",
              "          element.appendChild(docLink);\n",
              "        }\n",
              "      </script>\n",
              "    </div>\n",
              "  </div>\n",
              "  "
            ]
          },
          "metadata": {},
          "execution_count": 64
        }
      ]
    },
    {
      "cell_type": "markdown",
      "source": [
        "Лучший результат по всем показателям выдала модель `LogisticRegression`, которая сочетает в себе не только высокие показатели по метрике, но и по скорости обучения и предсказания.\n",
        "<br><br>\n",
        "Spoiler: `LightGBM` при правильном подборе покажет метрику выше >0.77, но на это уйдет $n$-ое (${n \\to +\\infty}$) количество времени и нервов<br>"
      ],
      "metadata": {
        "id": "1qJR-go2JXQ5"
      }
    },
    {
      "cell_type": "markdown",
      "source": [
        "<a name=\"c24\"></a>\n",
        "## На эмбеддингах BERT"
      ],
      "metadata": {
        "id": "BzVq5LtHpE9C"
      }
    },
    {
      "cell_type": "markdown",
      "source": [
        "Время поработать с `BERT`"
      ],
      "metadata": {
        "id": "XsdchXC9JXQ5"
      }
    },
    {
      "cell_type": "markdown",
      "source": [
        "### DummyClassifier"
      ],
      "metadata": {
        "id": "61NEdVDNJXQ6"
      }
    },
    {
      "cell_type": "markdown",
      "source": [
        "Процедуры те же:"
      ],
      "metadata": {
        "id": "FGfv_By-JXQ6"
      }
    },
    {
      "cell_type": "code",
      "source": [
        "# Клонируем Pipeline\n",
        "dummy_bert = clone(model_features_up)\n",
        "\n",
        "# Добавляем модель\n",
        "dc = DummyClassifier(random_state=RANDOM_STATE)\n",
        "dummy_bert.steps.append(['dummy', dc])"
      ],
      "metadata": {
        "execution": {
          "iopub.status.busy": "2022-08-05T12:14:45.316942Z",
          "iopub.execute_input": "2022-08-05T12:14:45.317345Z",
          "iopub.status.idle": "2022-08-05T12:14:45.323442Z",
          "shell.execute_reply.started": "2022-08-05T12:14:45.317313Z",
          "shell.execute_reply": "2022-08-05T12:14:45.322308Z"
        },
        "trusted": true,
        "id": "E_UKwDjLJXQ6"
      },
      "execution_count": null,
      "outputs": []
    },
    {
      "cell_type": "code",
      "source": [
        "%%time\n",
        "\n",
        "cross_val_model_result(dummy_bert, features_train_bert, target_train_bert, 'Dummy_BERT')"
      ],
      "metadata": {
        "execution": {
          "iopub.status.busy": "2022-08-05T12:14:45.518505Z",
          "iopub.execute_input": "2022-08-05T12:14:45.519730Z",
          "iopub.status.idle": "2022-08-05T12:14:49.955943Z",
          "shell.execute_reply.started": "2022-08-05T12:14:45.519686Z",
          "shell.execute_reply": "2022-08-05T12:14:49.954630Z"
        },
        "trusted": true,
        "colab": {
          "base_uri": "https://localhost:8080/"
        },
        "id": "Uz9xMNe_JXQ6",
        "outputId": "d55d9243-3138-4347-dc6f-f70c50790631"
      },
      "execution_count": null,
      "outputs": [
        {
          "output_type": "stream",
          "name": "stdout",
          "text": [
            "[Parallel(n_jobs=-1)]: Using backend LokyBackend with 2 concurrent workers.\n",
            "[Parallel(n_jobs=-1)]: Done   1 tasks      | elapsed:    3.1s\n"
          ]
        },
        {
          "output_type": "stream",
          "name": "stderr",
          "text": [
            "/usr/local/lib/python3.7/dist-packages/joblib/externals/loky/process_executor.py:705: UserWarning: A worker stopped while some jobs were given to the executor. This can be caused by a too short worker timeout or by a memory leak.\n",
            "  \"timeout or by a memory leak.\", UserWarning\n"
          ]
        },
        {
          "output_type": "stream",
          "name": "stdout",
          "text": [
            "[Parallel(n_jobs=-1)]: Done   2 tasks      | elapsed:    3.5s\n",
            "[Parallel(n_jobs=-1)]: Done   3 out of   5 | elapsed:    7.2s remaining:    4.8s\n",
            "[Parallel(n_jobs=-1)]: Done   5 out of   5 | elapsed:    7.7s remaining:    0.0s\n",
            "[Parallel(n_jobs=-1)]: Done   5 out of   5 | elapsed:    7.7s finished\n",
            "f1 на кросс-валидации: [0. 0. 0. 0. 0.]\n",
            "f1 mean: 0.0\n",
            "CPU times: user 208 ms, sys: 299 ms, total: 507 ms\n",
            "Wall time: 7.82 s\n"
          ]
        }
      ]
    },
    {
      "cell_type": "code",
      "source": [
        "result"
      ],
      "metadata": {
        "execution": {
          "iopub.status.busy": "2022-08-05T12:14:49.958742Z",
          "iopub.execute_input": "2022-08-05T12:14:49.959660Z",
          "iopub.status.idle": "2022-08-05T12:14:49.973521Z",
          "shell.execute_reply.started": "2022-08-05T12:14:49.959614Z",
          "shell.execute_reply": "2022-08-05T12:14:49.972087Z"
        },
        "trusted": true,
        "colab": {
          "base_uri": "https://localhost:8080/",
          "height": 206
        },
        "id": "4q-apzd0JXQ6",
        "outputId": "e2592d6e-050c-4e0d-ceca-5aeb7a2f9267"
      },
      "execution_count": null,
      "outputs": [
        {
          "output_type": "execute_result",
          "data": {
            "text/plain": [
              "                    f1  Время обучения  Время предсказания\n",
              "Dummy_TF_IDF  0.000000        5.463566            1.249098\n",
              "Log_TF_IDF    0.741370       12.930991            1.307346\n",
              "SGD_TF_IDF    0.705528        6.329179            1.403886\n",
              "LGBM_TF_IDF   0.739324      154.058838            4.519685\n",
              "Dummy_BERT    0.000000        2.032240            0.002139"
            ],
            "text/html": [
              "\n",
              "  <div id=\"df-287a1187-2718-4d0e-a7dc-5357c686fb63\">\n",
              "    <div class=\"colab-df-container\">\n",
              "      <div>\n",
              "<style scoped>\n",
              "    .dataframe tbody tr th:only-of-type {\n",
              "        vertical-align: middle;\n",
              "    }\n",
              "\n",
              "    .dataframe tbody tr th {\n",
              "        vertical-align: top;\n",
              "    }\n",
              "\n",
              "    .dataframe thead th {\n",
              "        text-align: right;\n",
              "    }\n",
              "</style>\n",
              "<table border=\"1\" class=\"dataframe\">\n",
              "  <thead>\n",
              "    <tr style=\"text-align: right;\">\n",
              "      <th></th>\n",
              "      <th>f1</th>\n",
              "      <th>Время обучения</th>\n",
              "      <th>Время предсказания</th>\n",
              "    </tr>\n",
              "  </thead>\n",
              "  <tbody>\n",
              "    <tr>\n",
              "      <th>Dummy_TF_IDF</th>\n",
              "      <td>0.000000</td>\n",
              "      <td>5.463566</td>\n",
              "      <td>1.249098</td>\n",
              "    </tr>\n",
              "    <tr>\n",
              "      <th>Log_TF_IDF</th>\n",
              "      <td>0.741370</td>\n",
              "      <td>12.930991</td>\n",
              "      <td>1.307346</td>\n",
              "    </tr>\n",
              "    <tr>\n",
              "      <th>SGD_TF_IDF</th>\n",
              "      <td>0.705528</td>\n",
              "      <td>6.329179</td>\n",
              "      <td>1.403886</td>\n",
              "    </tr>\n",
              "    <tr>\n",
              "      <th>LGBM_TF_IDF</th>\n",
              "      <td>0.739324</td>\n",
              "      <td>154.058838</td>\n",
              "      <td>4.519685</td>\n",
              "    </tr>\n",
              "    <tr>\n",
              "      <th>Dummy_BERT</th>\n",
              "      <td>0.000000</td>\n",
              "      <td>2.032240</td>\n",
              "      <td>0.002139</td>\n",
              "    </tr>\n",
              "  </tbody>\n",
              "</table>\n",
              "</div>\n",
              "      <button class=\"colab-df-convert\" onclick=\"convertToInteractive('df-287a1187-2718-4d0e-a7dc-5357c686fb63')\"\n",
              "              title=\"Convert this dataframe to an interactive table.\"\n",
              "              style=\"display:none;\">\n",
              "        \n",
              "  <svg xmlns=\"http://www.w3.org/2000/svg\" height=\"24px\"viewBox=\"0 0 24 24\"\n",
              "       width=\"24px\">\n",
              "    <path d=\"M0 0h24v24H0V0z\" fill=\"none\"/>\n",
              "    <path d=\"M18.56 5.44l.94 2.06.94-2.06 2.06-.94-2.06-.94-.94-2.06-.94 2.06-2.06.94zm-11 1L8.5 8.5l.94-2.06 2.06-.94-2.06-.94L8.5 2.5l-.94 2.06-2.06.94zm10 10l.94 2.06.94-2.06 2.06-.94-2.06-.94-.94-2.06-.94 2.06-2.06.94z\"/><path d=\"M17.41 7.96l-1.37-1.37c-.4-.4-.92-.59-1.43-.59-.52 0-1.04.2-1.43.59L10.3 9.45l-7.72 7.72c-.78.78-.78 2.05 0 2.83L4 21.41c.39.39.9.59 1.41.59.51 0 1.02-.2 1.41-.59l7.78-7.78 2.81-2.81c.8-.78.8-2.07 0-2.86zM5.41 20L4 18.59l7.72-7.72 1.47 1.35L5.41 20z\"/>\n",
              "  </svg>\n",
              "      </button>\n",
              "      \n",
              "  <style>\n",
              "    .colab-df-container {\n",
              "      display:flex;\n",
              "      flex-wrap:wrap;\n",
              "      gap: 12px;\n",
              "    }\n",
              "\n",
              "    .colab-df-convert {\n",
              "      background-color: #E8F0FE;\n",
              "      border: none;\n",
              "      border-radius: 50%;\n",
              "      cursor: pointer;\n",
              "      display: none;\n",
              "      fill: #1967D2;\n",
              "      height: 32px;\n",
              "      padding: 0 0 0 0;\n",
              "      width: 32px;\n",
              "    }\n",
              "\n",
              "    .colab-df-convert:hover {\n",
              "      background-color: #E2EBFA;\n",
              "      box-shadow: 0px 1px 2px rgba(60, 64, 67, 0.3), 0px 1px 3px 1px rgba(60, 64, 67, 0.15);\n",
              "      fill: #174EA6;\n",
              "    }\n",
              "\n",
              "    [theme=dark] .colab-df-convert {\n",
              "      background-color: #3B4455;\n",
              "      fill: #D2E3FC;\n",
              "    }\n",
              "\n",
              "    [theme=dark] .colab-df-convert:hover {\n",
              "      background-color: #434B5C;\n",
              "      box-shadow: 0px 1px 3px 1px rgba(0, 0, 0, 0.15);\n",
              "      filter: drop-shadow(0px 1px 2px rgba(0, 0, 0, 0.3));\n",
              "      fill: #FFFFFF;\n",
              "    }\n",
              "  </style>\n",
              "\n",
              "      <script>\n",
              "        const buttonEl =\n",
              "          document.querySelector('#df-287a1187-2718-4d0e-a7dc-5357c686fb63 button.colab-df-convert');\n",
              "        buttonEl.style.display =\n",
              "          google.colab.kernel.accessAllowed ? 'block' : 'none';\n",
              "\n",
              "        async function convertToInteractive(key) {\n",
              "          const element = document.querySelector('#df-287a1187-2718-4d0e-a7dc-5357c686fb63');\n",
              "          const dataTable =\n",
              "            await google.colab.kernel.invokeFunction('convertToInteractive',\n",
              "                                                     [key], {});\n",
              "          if (!dataTable) return;\n",
              "\n",
              "          const docLinkHtml = 'Like what you see? Visit the ' +\n",
              "            '<a target=\"_blank\" href=https://colab.research.google.com/notebooks/data_table.ipynb>data table notebook</a>'\n",
              "            + ' to learn more about interactive tables.';\n",
              "          element.innerHTML = '';\n",
              "          dataTable['output_type'] = 'display_data';\n",
              "          await google.colab.output.renderOutput(dataTable, element);\n",
              "          const docLink = document.createElement('div');\n",
              "          docLink.innerHTML = docLinkHtml;\n",
              "          element.appendChild(docLink);\n",
              "        }\n",
              "      </script>\n",
              "    </div>\n",
              "  </div>\n",
              "  "
            ]
          },
          "metadata": {},
          "execution_count": 67
        }
      ]
    },
    {
      "cell_type": "markdown",
      "source": [
        "Результат по метрике равен `Dummy_TF_IDF`"
      ],
      "metadata": {
        "id": "8izJ7O8yJXQ6"
      }
    },
    {
      "cell_type": "markdown",
      "source": [
        "### LogisticRegression"
      ],
      "metadata": {
        "id": "tUtRcl2AJXQ7"
      }
    },
    {
      "cell_type": "code",
      "source": [
        "# Клонируем Pipeline\n",
        "log_bert = clone(model_features_up)\n",
        "\n",
        "# Добавляем модель\n",
        "log_reg =  LogisticRegression(random_state=RANDOM_STATE)\n",
        "log_bert.steps.append(['logistic', log_reg])"
      ],
      "metadata": {
        "id": "puoTh3cwpIwf",
        "execution": {
          "iopub.status.busy": "2022-08-05T12:15:08.398307Z",
          "iopub.execute_input": "2022-08-05T12:15:08.398775Z",
          "iopub.status.idle": "2022-08-05T12:15:08.404268Z",
          "shell.execute_reply.started": "2022-08-05T12:15:08.398742Z",
          "shell.execute_reply": "2022-08-05T12:15:08.403283Z"
        },
        "trusted": true
      },
      "execution_count": null,
      "outputs": []
    },
    {
      "cell_type": "code",
      "source": [
        "%%time\n",
        "\n",
        "# Параметры\n",
        "param_grid = {'logistic__C': [1, 3]}\n",
        "\n",
        "# Подбор гиперпараметров\n",
        "GSCV(log_bert, param_grid, features_train_bert, target_train_bert, 'Log_BERT')"
      ],
      "metadata": {
        "execution": {
          "iopub.status.busy": "2022-08-05T12:22:42.485621Z",
          "iopub.execute_input": "2022-08-05T12:22:42.485995Z",
          "iopub.status.idle": "2022-08-05T12:28:54.872779Z",
          "shell.execute_reply.started": "2022-08-05T12:22:42.485964Z",
          "shell.execute_reply": "2022-08-05T12:28:54.871011Z"
        },
        "trusted": true,
        "colab": {
          "base_uri": "https://localhost:8080/"
        },
        "id": "-kU_1Y1_JXQ7",
        "outputId": "eacbacee-0fbb-4433-b601-7cad4b8fd9c6"
      },
      "execution_count": null,
      "outputs": [
        {
          "output_type": "stream",
          "name": "stdout",
          "text": [
            "Fitting 5 folds for each of 2 candidates, totalling 10 fits\n",
            "Лучшие гиперпараметры: {'logistic__C': 1}\n",
            "Лучший f1: 0.8897584737122279\n",
            "CPU times: user 1min 16s, sys: 3.14 s, total: 1min 19s\n",
            "Wall time: 5min 54s\n"
          ]
        },
        {
          "output_type": "stream",
          "name": "stderr",
          "text": [
            "/usr/local/lib/python3.7/dist-packages/sklearn/linear_model/_logistic.py:818: ConvergenceWarning: lbfgs failed to converge (status=1):\n",
            "STOP: TOTAL NO. of ITERATIONS REACHED LIMIT.\n",
            "\n",
            "Increase the number of iterations (max_iter) or scale the data as shown in:\n",
            "    https://scikit-learn.org/stable/modules/preprocessing.html\n",
            "Please also refer to the documentation for alternative solver options:\n",
            "    https://scikit-learn.org/stable/modules/linear_model.html#logistic-regression\n",
            "  extra_warning_msg=_LOGISTIC_SOLVER_CONVERGENCE_MSG,\n"
          ]
        }
      ]
    },
    {
      "cell_type": "code",
      "source": [
        "result"
      ],
      "metadata": {
        "execution": {
          "iopub.status.busy": "2022-08-05T12:33:07.993329Z",
          "iopub.execute_input": "2022-08-05T12:33:07.993810Z",
          "iopub.status.idle": "2022-08-05T12:33:08.015341Z",
          "shell.execute_reply.started": "2022-08-05T12:33:07.993766Z",
          "shell.execute_reply": "2022-08-05T12:33:08.014069Z"
        },
        "trusted": true,
        "colab": {
          "base_uri": "https://localhost:8080/",
          "height": 237
        },
        "id": "0maArJWfJXQ7",
        "outputId": "fa253cc2-7f13-475e-a266-f2b54e4d58d6"
      },
      "execution_count": null,
      "outputs": [
        {
          "output_type": "execute_result",
          "data": {
            "text/plain": [
              "                    f1  Время обучения  Время предсказания\n",
              "Dummy_TF_IDF  0.000000        5.463566            1.249098\n",
              "Log_TF_IDF    0.741370       12.930991            1.307346\n",
              "SGD_TF_IDF    0.705528        6.329179            1.403886\n",
              "LGBM_TF_IDF   0.739324      154.058838            4.519685\n",
              "Dummy_BERT    0.000000        2.032240            0.002139\n",
              "Log_BERT      0.889758       61.689363            0.321736"
            ],
            "text/html": [
              "\n",
              "  <div id=\"df-291c320c-ea01-4e34-ab7d-8cfff5dceba3\">\n",
              "    <div class=\"colab-df-container\">\n",
              "      <div>\n",
              "<style scoped>\n",
              "    .dataframe tbody tr th:only-of-type {\n",
              "        vertical-align: middle;\n",
              "    }\n",
              "\n",
              "    .dataframe tbody tr th {\n",
              "        vertical-align: top;\n",
              "    }\n",
              "\n",
              "    .dataframe thead th {\n",
              "        text-align: right;\n",
              "    }\n",
              "</style>\n",
              "<table border=\"1\" class=\"dataframe\">\n",
              "  <thead>\n",
              "    <tr style=\"text-align: right;\">\n",
              "      <th></th>\n",
              "      <th>f1</th>\n",
              "      <th>Время обучения</th>\n",
              "      <th>Время предсказания</th>\n",
              "    </tr>\n",
              "  </thead>\n",
              "  <tbody>\n",
              "    <tr>\n",
              "      <th>Dummy_TF_IDF</th>\n",
              "      <td>0.000000</td>\n",
              "      <td>5.463566</td>\n",
              "      <td>1.249098</td>\n",
              "    </tr>\n",
              "    <tr>\n",
              "      <th>Log_TF_IDF</th>\n",
              "      <td>0.741370</td>\n",
              "      <td>12.930991</td>\n",
              "      <td>1.307346</td>\n",
              "    </tr>\n",
              "    <tr>\n",
              "      <th>SGD_TF_IDF</th>\n",
              "      <td>0.705528</td>\n",
              "      <td>6.329179</td>\n",
              "      <td>1.403886</td>\n",
              "    </tr>\n",
              "    <tr>\n",
              "      <th>LGBM_TF_IDF</th>\n",
              "      <td>0.739324</td>\n",
              "      <td>154.058838</td>\n",
              "      <td>4.519685</td>\n",
              "    </tr>\n",
              "    <tr>\n",
              "      <th>Dummy_BERT</th>\n",
              "      <td>0.000000</td>\n",
              "      <td>2.032240</td>\n",
              "      <td>0.002139</td>\n",
              "    </tr>\n",
              "    <tr>\n",
              "      <th>Log_BERT</th>\n",
              "      <td>0.889758</td>\n",
              "      <td>61.689363</td>\n",
              "      <td>0.321736</td>\n",
              "    </tr>\n",
              "  </tbody>\n",
              "</table>\n",
              "</div>\n",
              "      <button class=\"colab-df-convert\" onclick=\"convertToInteractive('df-291c320c-ea01-4e34-ab7d-8cfff5dceba3')\"\n",
              "              title=\"Convert this dataframe to an interactive table.\"\n",
              "              style=\"display:none;\">\n",
              "        \n",
              "  <svg xmlns=\"http://www.w3.org/2000/svg\" height=\"24px\"viewBox=\"0 0 24 24\"\n",
              "       width=\"24px\">\n",
              "    <path d=\"M0 0h24v24H0V0z\" fill=\"none\"/>\n",
              "    <path d=\"M18.56 5.44l.94 2.06.94-2.06 2.06-.94-2.06-.94-.94-2.06-.94 2.06-2.06.94zm-11 1L8.5 8.5l.94-2.06 2.06-.94-2.06-.94L8.5 2.5l-.94 2.06-2.06.94zm10 10l.94 2.06.94-2.06 2.06-.94-2.06-.94-.94-2.06-.94 2.06-2.06.94z\"/><path d=\"M17.41 7.96l-1.37-1.37c-.4-.4-.92-.59-1.43-.59-.52 0-1.04.2-1.43.59L10.3 9.45l-7.72 7.72c-.78.78-.78 2.05 0 2.83L4 21.41c.39.39.9.59 1.41.59.51 0 1.02-.2 1.41-.59l7.78-7.78 2.81-2.81c.8-.78.8-2.07 0-2.86zM5.41 20L4 18.59l7.72-7.72 1.47 1.35L5.41 20z\"/>\n",
              "  </svg>\n",
              "      </button>\n",
              "      \n",
              "  <style>\n",
              "    .colab-df-container {\n",
              "      display:flex;\n",
              "      flex-wrap:wrap;\n",
              "      gap: 12px;\n",
              "    }\n",
              "\n",
              "    .colab-df-convert {\n",
              "      background-color: #E8F0FE;\n",
              "      border: none;\n",
              "      border-radius: 50%;\n",
              "      cursor: pointer;\n",
              "      display: none;\n",
              "      fill: #1967D2;\n",
              "      height: 32px;\n",
              "      padding: 0 0 0 0;\n",
              "      width: 32px;\n",
              "    }\n",
              "\n",
              "    .colab-df-convert:hover {\n",
              "      background-color: #E2EBFA;\n",
              "      box-shadow: 0px 1px 2px rgba(60, 64, 67, 0.3), 0px 1px 3px 1px rgba(60, 64, 67, 0.15);\n",
              "      fill: #174EA6;\n",
              "    }\n",
              "\n",
              "    [theme=dark] .colab-df-convert {\n",
              "      background-color: #3B4455;\n",
              "      fill: #D2E3FC;\n",
              "    }\n",
              "\n",
              "    [theme=dark] .colab-df-convert:hover {\n",
              "      background-color: #434B5C;\n",
              "      box-shadow: 0px 1px 3px 1px rgba(0, 0, 0, 0.15);\n",
              "      filter: drop-shadow(0px 1px 2px rgba(0, 0, 0, 0.3));\n",
              "      fill: #FFFFFF;\n",
              "    }\n",
              "  </style>\n",
              "\n",
              "      <script>\n",
              "        const buttonEl =\n",
              "          document.querySelector('#df-291c320c-ea01-4e34-ab7d-8cfff5dceba3 button.colab-df-convert');\n",
              "        buttonEl.style.display =\n",
              "          google.colab.kernel.accessAllowed ? 'block' : 'none';\n",
              "\n",
              "        async function convertToInteractive(key) {\n",
              "          const element = document.querySelector('#df-291c320c-ea01-4e34-ab7d-8cfff5dceba3');\n",
              "          const dataTable =\n",
              "            await google.colab.kernel.invokeFunction('convertToInteractive',\n",
              "                                                     [key], {});\n",
              "          if (!dataTable) return;\n",
              "\n",
              "          const docLinkHtml = 'Like what you see? Visit the ' +\n",
              "            '<a target=\"_blank\" href=https://colab.research.google.com/notebooks/data_table.ipynb>data table notebook</a>'\n",
              "            + ' to learn more about interactive tables.';\n",
              "          element.innerHTML = '';\n",
              "          dataTable['output_type'] = 'display_data';\n",
              "          await google.colab.output.renderOutput(dataTable, element);\n",
              "          const docLink = document.createElement('div');\n",
              "          docLink.innerHTML = docLinkHtml;\n",
              "          element.appendChild(docLink);\n",
              "        }\n",
              "      </script>\n",
              "    </div>\n",
              "  </div>\n",
              "  "
            ]
          },
          "metadata": {},
          "execution_count": 71
        }
      ]
    },
    {
      "cell_type": "markdown",
      "source": [
        "Хороший результат"
      ],
      "metadata": {
        "id": "CkOEjlJrJXQ7"
      }
    },
    {
      "cell_type": "markdown",
      "source": [
        "### Linear model with stochastic gradient descent (SGDClassifier)"
      ],
      "metadata": {
        "id": "tS_YvegGJXQ7"
      }
    },
    {
      "cell_type": "code",
      "source": [
        "# Клонируем Pipeline\n",
        "sgd_bert = clone(model_features_up)\n",
        "\n",
        "# Добавляем модель\n",
        "sgd =  SGDClassifier(random_state=RANDOM_STATE)\n",
        "sgd_bert.steps.append(['sgd', sgd])"
      ],
      "metadata": {
        "execution": {
          "iopub.status.busy": "2022-08-05T12:33:17.603912Z",
          "iopub.execute_input": "2022-08-05T12:33:17.604686Z",
          "iopub.status.idle": "2022-08-05T12:33:17.610843Z",
          "shell.execute_reply.started": "2022-08-05T12:33:17.604648Z",
          "shell.execute_reply": "2022-08-05T12:33:17.609712Z"
        },
        "trusted": true,
        "id": "Ax6Jcrh3JXQ8"
      },
      "execution_count": null,
      "outputs": []
    },
    {
      "cell_type": "code",
      "source": [
        "%%time\n",
        "\n",
        "# Параметры\n",
        "param_grid = {'sgd__alpha': np.arange(0.001, 0.1, 0.05)}\n",
        "\n",
        "# Подбор гиперпараметров\n",
        "GSCV(sgd_bert, param_grid, features_train_bert, target_train_bert, 'SGD_BERT')"
      ],
      "metadata": {
        "execution": {
          "iopub.status.busy": "2022-08-05T12:34:46.545021Z",
          "iopub.execute_input": "2022-08-05T12:34:46.545688Z",
          "iopub.status.idle": "2022-08-05T12:37:09.182046Z",
          "shell.execute_reply.started": "2022-08-05T12:34:46.545653Z",
          "shell.execute_reply": "2022-08-05T12:37:09.180419Z"
        },
        "trusted": true,
        "colab": {
          "base_uri": "https://localhost:8080/"
        },
        "id": "ZAkYNaNhJXQ8",
        "outputId": "7573298b-dd54-47c3-e3d5-8c7fa22321f6"
      },
      "execution_count": null,
      "outputs": [
        {
          "output_type": "stream",
          "name": "stdout",
          "text": [
            "Fitting 5 folds for each of 2 candidates, totalling 10 fits\n"
          ]
        },
        {
          "output_type": "stream",
          "name": "stderr",
          "text": [
            "/usr/local/lib/python3.7/dist-packages/joblib/externals/loky/process_executor.py:705: UserWarning: A worker stopped while some jobs were given to the executor. This can be caused by a too short worker timeout or by a memory leak.\n",
            "  \"timeout or by a memory leak.\", UserWarning\n"
          ]
        },
        {
          "output_type": "stream",
          "name": "stdout",
          "text": [
            "Лучшие гиперпараметры: {'sgd__alpha': 0.001}\n",
            "Лучший f1: 0.8748003508032542\n",
            "CPU times: user 35.6 s, sys: 2.15 s, total: 37.8 s\n",
            "Wall time: 2min 21s\n"
          ]
        }
      ]
    },
    {
      "cell_type": "code",
      "source": [
        "# Удаляем лишнее\n",
        "\n",
        "del sgd_bert\n",
        "del log_bert\n",
        "del dummy_bert\n",
        "gc.collect()"
      ],
      "metadata": {
        "execution": {
          "iopub.status.busy": "2022-08-05T12:42:23.220911Z",
          "iopub.execute_input": "2022-08-05T12:42:23.222047Z",
          "iopub.status.idle": "2022-08-05T12:42:23.557335Z",
          "shell.execute_reply.started": "2022-08-05T12:42:23.221987Z",
          "shell.execute_reply": "2022-08-05T12:42:23.556283Z"
        },
        "trusted": true,
        "colab": {
          "base_uri": "https://localhost:8080/"
        },
        "id": "EOsEGbYfJXQ8",
        "outputId": "6d7c1dd0-f40e-4c77-b961-0ba2b6253129"
      },
      "execution_count": null,
      "outputs": [
        {
          "output_type": "execute_result",
          "data": {
            "text/plain": [
              "497"
            ]
          },
          "metadata": {},
          "execution_count": 74
        }
      ]
    },
    {
      "cell_type": "code",
      "source": [
        "result"
      ],
      "metadata": {
        "execution": {
          "iopub.status.busy": "2022-08-05T12:37:09.184516Z",
          "iopub.execute_input": "2022-08-05T12:37:09.186442Z",
          "iopub.status.idle": "2022-08-05T12:37:09.200889Z",
          "shell.execute_reply.started": "2022-08-05T12:37:09.186348Z",
          "shell.execute_reply": "2022-08-05T12:37:09.199857Z"
        },
        "trusted": true,
        "colab": {
          "base_uri": "https://localhost:8080/",
          "height": 269
        },
        "id": "Htwe0jJpJXQ8",
        "outputId": "6422c835-176e-4cdd-a86c-8f7e097b9220"
      },
      "execution_count": null,
      "outputs": [
        {
          "output_type": "execute_result",
          "data": {
            "text/plain": [
              "                    f1  Время обучения  Время предсказания\n",
              "Dummy_TF_IDF  0.000000        5.463566            1.249098\n",
              "Log_TF_IDF    0.741370       12.930991            1.307346\n",
              "SGD_TF_IDF    0.705528        6.329179            1.403886\n",
              "LGBM_TF_IDF   0.739324      154.058838            4.519685\n",
              "Dummy_BERT    0.000000        2.032240            0.002139\n",
              "Log_BERT      0.889758       61.689363            0.321736\n",
              "SGD_BERT      0.874800       19.992728            0.180608"
            ],
            "text/html": [
              "\n",
              "  <div id=\"df-645bc478-0f59-4e2a-b2ef-a6d754c6a08d\">\n",
              "    <div class=\"colab-df-container\">\n",
              "      <div>\n",
              "<style scoped>\n",
              "    .dataframe tbody tr th:only-of-type {\n",
              "        vertical-align: middle;\n",
              "    }\n",
              "\n",
              "    .dataframe tbody tr th {\n",
              "        vertical-align: top;\n",
              "    }\n",
              "\n",
              "    .dataframe thead th {\n",
              "        text-align: right;\n",
              "    }\n",
              "</style>\n",
              "<table border=\"1\" class=\"dataframe\">\n",
              "  <thead>\n",
              "    <tr style=\"text-align: right;\">\n",
              "      <th></th>\n",
              "      <th>f1</th>\n",
              "      <th>Время обучения</th>\n",
              "      <th>Время предсказания</th>\n",
              "    </tr>\n",
              "  </thead>\n",
              "  <tbody>\n",
              "    <tr>\n",
              "      <th>Dummy_TF_IDF</th>\n",
              "      <td>0.000000</td>\n",
              "      <td>5.463566</td>\n",
              "      <td>1.249098</td>\n",
              "    </tr>\n",
              "    <tr>\n",
              "      <th>Log_TF_IDF</th>\n",
              "      <td>0.741370</td>\n",
              "      <td>12.930991</td>\n",
              "      <td>1.307346</td>\n",
              "    </tr>\n",
              "    <tr>\n",
              "      <th>SGD_TF_IDF</th>\n",
              "      <td>0.705528</td>\n",
              "      <td>6.329179</td>\n",
              "      <td>1.403886</td>\n",
              "    </tr>\n",
              "    <tr>\n",
              "      <th>LGBM_TF_IDF</th>\n",
              "      <td>0.739324</td>\n",
              "      <td>154.058838</td>\n",
              "      <td>4.519685</td>\n",
              "    </tr>\n",
              "    <tr>\n",
              "      <th>Dummy_BERT</th>\n",
              "      <td>0.000000</td>\n",
              "      <td>2.032240</td>\n",
              "      <td>0.002139</td>\n",
              "    </tr>\n",
              "    <tr>\n",
              "      <th>Log_BERT</th>\n",
              "      <td>0.889758</td>\n",
              "      <td>61.689363</td>\n",
              "      <td>0.321736</td>\n",
              "    </tr>\n",
              "    <tr>\n",
              "      <th>SGD_BERT</th>\n",
              "      <td>0.874800</td>\n",
              "      <td>19.992728</td>\n",
              "      <td>0.180608</td>\n",
              "    </tr>\n",
              "  </tbody>\n",
              "</table>\n",
              "</div>\n",
              "      <button class=\"colab-df-convert\" onclick=\"convertToInteractive('df-645bc478-0f59-4e2a-b2ef-a6d754c6a08d')\"\n",
              "              title=\"Convert this dataframe to an interactive table.\"\n",
              "              style=\"display:none;\">\n",
              "        \n",
              "  <svg xmlns=\"http://www.w3.org/2000/svg\" height=\"24px\"viewBox=\"0 0 24 24\"\n",
              "       width=\"24px\">\n",
              "    <path d=\"M0 0h24v24H0V0z\" fill=\"none\"/>\n",
              "    <path d=\"M18.56 5.44l.94 2.06.94-2.06 2.06-.94-2.06-.94-.94-2.06-.94 2.06-2.06.94zm-11 1L8.5 8.5l.94-2.06 2.06-.94-2.06-.94L8.5 2.5l-.94 2.06-2.06.94zm10 10l.94 2.06.94-2.06 2.06-.94-2.06-.94-.94-2.06-.94 2.06-2.06.94z\"/><path d=\"M17.41 7.96l-1.37-1.37c-.4-.4-.92-.59-1.43-.59-.52 0-1.04.2-1.43.59L10.3 9.45l-7.72 7.72c-.78.78-.78 2.05 0 2.83L4 21.41c.39.39.9.59 1.41.59.51 0 1.02-.2 1.41-.59l7.78-7.78 2.81-2.81c.8-.78.8-2.07 0-2.86zM5.41 20L4 18.59l7.72-7.72 1.47 1.35L5.41 20z\"/>\n",
              "  </svg>\n",
              "      </button>\n",
              "      \n",
              "  <style>\n",
              "    .colab-df-container {\n",
              "      display:flex;\n",
              "      flex-wrap:wrap;\n",
              "      gap: 12px;\n",
              "    }\n",
              "\n",
              "    .colab-df-convert {\n",
              "      background-color: #E8F0FE;\n",
              "      border: none;\n",
              "      border-radius: 50%;\n",
              "      cursor: pointer;\n",
              "      display: none;\n",
              "      fill: #1967D2;\n",
              "      height: 32px;\n",
              "      padding: 0 0 0 0;\n",
              "      width: 32px;\n",
              "    }\n",
              "\n",
              "    .colab-df-convert:hover {\n",
              "      background-color: #E2EBFA;\n",
              "      box-shadow: 0px 1px 2px rgba(60, 64, 67, 0.3), 0px 1px 3px 1px rgba(60, 64, 67, 0.15);\n",
              "      fill: #174EA6;\n",
              "    }\n",
              "\n",
              "    [theme=dark] .colab-df-convert {\n",
              "      background-color: #3B4455;\n",
              "      fill: #D2E3FC;\n",
              "    }\n",
              "\n",
              "    [theme=dark] .colab-df-convert:hover {\n",
              "      background-color: #434B5C;\n",
              "      box-shadow: 0px 1px 3px 1px rgba(0, 0, 0, 0.15);\n",
              "      filter: drop-shadow(0px 1px 2px rgba(0, 0, 0, 0.3));\n",
              "      fill: #FFFFFF;\n",
              "    }\n",
              "  </style>\n",
              "\n",
              "      <script>\n",
              "        const buttonEl =\n",
              "          document.querySelector('#df-645bc478-0f59-4e2a-b2ef-a6d754c6a08d button.colab-df-convert');\n",
              "        buttonEl.style.display =\n",
              "          google.colab.kernel.accessAllowed ? 'block' : 'none';\n",
              "\n",
              "        async function convertToInteractive(key) {\n",
              "          const element = document.querySelector('#df-645bc478-0f59-4e2a-b2ef-a6d754c6a08d');\n",
              "          const dataTable =\n",
              "            await google.colab.kernel.invokeFunction('convertToInteractive',\n",
              "                                                     [key], {});\n",
              "          if (!dataTable) return;\n",
              "\n",
              "          const docLinkHtml = 'Like what you see? Visit the ' +\n",
              "            '<a target=\"_blank\" href=https://colab.research.google.com/notebooks/data_table.ipynb>data table notebook</a>'\n",
              "            + ' to learn more about interactive tables.';\n",
              "          element.innerHTML = '';\n",
              "          dataTable['output_type'] = 'display_data';\n",
              "          await google.colab.output.renderOutput(dataTable, element);\n",
              "          const docLink = document.createElement('div');\n",
              "          docLink.innerHTML = docLinkHtml;\n",
              "          element.appendChild(docLink);\n",
              "        }\n",
              "      </script>\n",
              "    </div>\n",
              "  </div>\n",
              "  "
            ]
          },
          "metadata": {},
          "execution_count": 75
        }
      ]
    },
    {
      "cell_type": "markdown",
      "source": [
        "<a name=\"c25\"></a>\n",
        "### Результат:"
      ],
      "metadata": {
        "id": "558Tw1dXJXQ8"
      }
    },
    {
      "cell_type": "code",
      "source": [
        "result.sort_values(by=METRIC, ascending=False)"
      ],
      "metadata": {
        "execution": {
          "iopub.status.busy": "2022-08-05T12:37:19.117268Z",
          "iopub.execute_input": "2022-08-05T12:37:19.117924Z",
          "iopub.status.idle": "2022-08-05T12:37:19.132852Z",
          "shell.execute_reply.started": "2022-08-05T12:37:19.117886Z",
          "shell.execute_reply": "2022-08-05T12:37:19.131599Z"
        },
        "trusted": true,
        "colab": {
          "base_uri": "https://localhost:8080/",
          "height": 269
        },
        "id": "wQaMsSoaJXQ8",
        "outputId": "ae1350ac-f194-4268-cdd2-66e459829d3d"
      },
      "execution_count": null,
      "outputs": [
        {
          "output_type": "execute_result",
          "data": {
            "text/plain": [
              "                    f1  Время обучения  Время предсказания\n",
              "Log_BERT      0.889758       61.689363            0.321736\n",
              "SGD_BERT      0.874800       19.992728            0.180608\n",
              "Log_TF_IDF    0.741370       12.930991            1.307346\n",
              "LGBM_TF_IDF   0.739324      154.058838            4.519685\n",
              "SGD_TF_IDF    0.705528        6.329179            1.403886\n",
              "Dummy_TF_IDF  0.000000        5.463566            1.249098\n",
              "Dummy_BERT    0.000000        2.032240            0.002139"
            ],
            "text/html": [
              "\n",
              "  <div id=\"df-680a3437-5bfc-4f10-8e97-9ca83e2d899c\">\n",
              "    <div class=\"colab-df-container\">\n",
              "      <div>\n",
              "<style scoped>\n",
              "    .dataframe tbody tr th:only-of-type {\n",
              "        vertical-align: middle;\n",
              "    }\n",
              "\n",
              "    .dataframe tbody tr th {\n",
              "        vertical-align: top;\n",
              "    }\n",
              "\n",
              "    .dataframe thead th {\n",
              "        text-align: right;\n",
              "    }\n",
              "</style>\n",
              "<table border=\"1\" class=\"dataframe\">\n",
              "  <thead>\n",
              "    <tr style=\"text-align: right;\">\n",
              "      <th></th>\n",
              "      <th>f1</th>\n",
              "      <th>Время обучения</th>\n",
              "      <th>Время предсказания</th>\n",
              "    </tr>\n",
              "  </thead>\n",
              "  <tbody>\n",
              "    <tr>\n",
              "      <th>Log_BERT</th>\n",
              "      <td>0.889758</td>\n",
              "      <td>61.689363</td>\n",
              "      <td>0.321736</td>\n",
              "    </tr>\n",
              "    <tr>\n",
              "      <th>SGD_BERT</th>\n",
              "      <td>0.874800</td>\n",
              "      <td>19.992728</td>\n",
              "      <td>0.180608</td>\n",
              "    </tr>\n",
              "    <tr>\n",
              "      <th>Log_TF_IDF</th>\n",
              "      <td>0.741370</td>\n",
              "      <td>12.930991</td>\n",
              "      <td>1.307346</td>\n",
              "    </tr>\n",
              "    <tr>\n",
              "      <th>LGBM_TF_IDF</th>\n",
              "      <td>0.739324</td>\n",
              "      <td>154.058838</td>\n",
              "      <td>4.519685</td>\n",
              "    </tr>\n",
              "    <tr>\n",
              "      <th>SGD_TF_IDF</th>\n",
              "      <td>0.705528</td>\n",
              "      <td>6.329179</td>\n",
              "      <td>1.403886</td>\n",
              "    </tr>\n",
              "    <tr>\n",
              "      <th>Dummy_TF_IDF</th>\n",
              "      <td>0.000000</td>\n",
              "      <td>5.463566</td>\n",
              "      <td>1.249098</td>\n",
              "    </tr>\n",
              "    <tr>\n",
              "      <th>Dummy_BERT</th>\n",
              "      <td>0.000000</td>\n",
              "      <td>2.032240</td>\n",
              "      <td>0.002139</td>\n",
              "    </tr>\n",
              "  </tbody>\n",
              "</table>\n",
              "</div>\n",
              "      <button class=\"colab-df-convert\" onclick=\"convertToInteractive('df-680a3437-5bfc-4f10-8e97-9ca83e2d899c')\"\n",
              "              title=\"Convert this dataframe to an interactive table.\"\n",
              "              style=\"display:none;\">\n",
              "        \n",
              "  <svg xmlns=\"http://www.w3.org/2000/svg\" height=\"24px\"viewBox=\"0 0 24 24\"\n",
              "       width=\"24px\">\n",
              "    <path d=\"M0 0h24v24H0V0z\" fill=\"none\"/>\n",
              "    <path d=\"M18.56 5.44l.94 2.06.94-2.06 2.06-.94-2.06-.94-.94-2.06-.94 2.06-2.06.94zm-11 1L8.5 8.5l.94-2.06 2.06-.94-2.06-.94L8.5 2.5l-.94 2.06-2.06.94zm10 10l.94 2.06.94-2.06 2.06-.94-2.06-.94-.94-2.06-.94 2.06-2.06.94z\"/><path d=\"M17.41 7.96l-1.37-1.37c-.4-.4-.92-.59-1.43-.59-.52 0-1.04.2-1.43.59L10.3 9.45l-7.72 7.72c-.78.78-.78 2.05 0 2.83L4 21.41c.39.39.9.59 1.41.59.51 0 1.02-.2 1.41-.59l7.78-7.78 2.81-2.81c.8-.78.8-2.07 0-2.86zM5.41 20L4 18.59l7.72-7.72 1.47 1.35L5.41 20z\"/>\n",
              "  </svg>\n",
              "      </button>\n",
              "      \n",
              "  <style>\n",
              "    .colab-df-container {\n",
              "      display:flex;\n",
              "      flex-wrap:wrap;\n",
              "      gap: 12px;\n",
              "    }\n",
              "\n",
              "    .colab-df-convert {\n",
              "      background-color: #E8F0FE;\n",
              "      border: none;\n",
              "      border-radius: 50%;\n",
              "      cursor: pointer;\n",
              "      display: none;\n",
              "      fill: #1967D2;\n",
              "      height: 32px;\n",
              "      padding: 0 0 0 0;\n",
              "      width: 32px;\n",
              "    }\n",
              "\n",
              "    .colab-df-convert:hover {\n",
              "      background-color: #E2EBFA;\n",
              "      box-shadow: 0px 1px 2px rgba(60, 64, 67, 0.3), 0px 1px 3px 1px rgba(60, 64, 67, 0.15);\n",
              "      fill: #174EA6;\n",
              "    }\n",
              "\n",
              "    [theme=dark] .colab-df-convert {\n",
              "      background-color: #3B4455;\n",
              "      fill: #D2E3FC;\n",
              "    }\n",
              "\n",
              "    [theme=dark] .colab-df-convert:hover {\n",
              "      background-color: #434B5C;\n",
              "      box-shadow: 0px 1px 3px 1px rgba(0, 0, 0, 0.15);\n",
              "      filter: drop-shadow(0px 1px 2px rgba(0, 0, 0, 0.3));\n",
              "      fill: #FFFFFF;\n",
              "    }\n",
              "  </style>\n",
              "\n",
              "      <script>\n",
              "        const buttonEl =\n",
              "          document.querySelector('#df-680a3437-5bfc-4f10-8e97-9ca83e2d899c button.colab-df-convert');\n",
              "        buttonEl.style.display =\n",
              "          google.colab.kernel.accessAllowed ? 'block' : 'none';\n",
              "\n",
              "        async function convertToInteractive(key) {\n",
              "          const element = document.querySelector('#df-680a3437-5bfc-4f10-8e97-9ca83e2d899c');\n",
              "          const dataTable =\n",
              "            await google.colab.kernel.invokeFunction('convertToInteractive',\n",
              "                                                     [key], {});\n",
              "          if (!dataTable) return;\n",
              "\n",
              "          const docLinkHtml = 'Like what you see? Visit the ' +\n",
              "            '<a target=\"_blank\" href=https://colab.research.google.com/notebooks/data_table.ipynb>data table notebook</a>'\n",
              "            + ' to learn more about interactive tables.';\n",
              "          element.innerHTML = '';\n",
              "          dataTable['output_type'] = 'display_data';\n",
              "          await google.colab.output.renderOutput(dataTable, element);\n",
              "          const docLink = document.createElement('div');\n",
              "          docLink.innerHTML = docLinkHtml;\n",
              "          element.appendChild(docLink);\n",
              "        }\n",
              "      </script>\n",
              "    </div>\n",
              "  </div>\n",
              "  "
            ]
          },
          "metadata": {},
          "execution_count": 76
        }
      ]
    },
    {
      "cell_type": "markdown",
      "source": [
        "Лучшая модель по метрике <b>(x2)</b>: `SGD_BERT`<br><br>Spoiler: LightGBM пропущен, но при правильном подборе покажет метрику выше, но на это уйдет  𝑛 -ое ( 𝑛→+∞ ) количество времени и нервов "
      ],
      "metadata": {
        "id": "e3gHLwhRJXQ8"
      }
    },
    {
      "cell_type": "markdown",
      "source": [
        "<a name=\"c26\"></a>\n",
        "## Тестирование:"
      ],
      "metadata": {
        "id": "RRgY1MwEJXQ9"
      }
    },
    {
      "cell_type": "markdown",
      "source": [
        "Обучим `Log_TF_IDF` и посмотрим результаты на тестовой выборке:"
      ],
      "metadata": {
        "id": "X9W2Qa22JXQ9"
      }
    },
    {
      "cell_type": "code",
      "source": [
        "# Клонируем Pipeline\n",
        "log_tfidf = clone(model_features_tfidf)\n",
        "\n",
        "# Добавляем модель\n",
        "log_reg =  LogisticRegression(random_state=RANDOM_STATE, solver='sag', C=1)\n",
        "log_tfidf.steps.append(['logistic', log_reg])\n",
        "\n",
        "log_tfidf.fit(features_train_tfidf, target_train_tfidf)\n",
        "print(f1_score(log_tfidf.predict(features_test_tfidf), target_test_tfidf))"
      ],
      "metadata": {
        "execution": {
          "iopub.status.busy": "2022-08-05T12:48:03.619904Z",
          "iopub.execute_input": "2022-08-05T12:48:03.620741Z",
          "iopub.status.idle": "2022-08-05T12:48:12.614858Z",
          "shell.execute_reply.started": "2022-08-05T12:48:03.620700Z",
          "shell.execute_reply": "2022-08-05T12:48:12.612936Z"
        },
        "trusted": true,
        "colab": {
          "base_uri": "https://localhost:8080/"
        },
        "id": "qCEXu5E9JXQ9",
        "outputId": "202d7d43-7eaa-43c5-dd8d-e6ad7c16395b"
      },
      "execution_count": null,
      "outputs": [
        {
          "output_type": "stream",
          "name": "stdout",
          "text": [
            "0.726943346508564\n"
          ]
        }
      ]
    },
    {
      "cell_type": "markdown",
      "source": [
        "Теперь `SGD_BERT`"
      ],
      "metadata": {
        "id": "Z4VmgIINJXQ9"
      }
    },
    {
      "cell_type": "code",
      "source": [
        "# Клонируем Pipeline\n",
        "sgd_bert = clone(model_features_up)\n",
        "\n",
        "# Добавляем модель\n",
        "sgd =  SGDClassifier(random_state=RANDOM_STATE, alpha=0.001)\n",
        "sgd_bert.steps.append(['sgd', sgd])\n",
        "\n",
        "sgd_bert.fit(features_train_bert, target_train_bert)\n",
        "print(f1_score(sgd_bert.predict(features_test_bert), target_test_bert))"
      ],
      "metadata": {
        "execution": {
          "iopub.status.busy": "2022-08-05T12:49:30.410563Z",
          "iopub.execute_input": "2022-08-05T12:49:30.411447Z",
          "iopub.status.idle": "2022-08-05T12:50:02.391830Z",
          "shell.execute_reply.started": "2022-08-05T12:49:30.411405Z",
          "shell.execute_reply": "2022-08-05T12:50:02.390277Z"
        },
        "trusted": true,
        "colab": {
          "base_uri": "https://localhost:8080/"
        },
        "id": "dQ6H805LJXQ9",
        "outputId": "0b6238f8-ebe6-4049-98d0-f71eeb5fe777"
      },
      "execution_count": null,
      "outputs": [
        {
          "output_type": "stream",
          "name": "stdout",
          "text": [
            "0.8706624605678233\n"
          ]
        }
      ]
    },
    {
      "cell_type": "markdown",
      "source": [
        "Отличный результат и на тестовой выборке."
      ],
      "metadata": {
        "id": "bk2P19ZCJXQ9"
      }
    },
    {
      "cell_type": "markdown",
      "source": [
        "Построим ROC-кривую для `LogisticRegression`:"
      ],
      "metadata": {
        "id": "yozYXpjIJXQ-"
      }
    },
    {
      "cell_type": "code",
      "source": [
        "probs = log_tfidf.predict_proba(features_test_tfidf)\n",
        "preds = probs[:,1]\n",
        "fpr, tpr, threshold = metrics.roc_curve(target_test_tfidf, preds)\n",
        "roc_auc = metrics.auc(fpr, tpr)\n",
        "\n",
        "plt.title('ROC-кривая')\n",
        "plt.plot(fpr, tpr, 'b', label = 'AUC = %0.2f' % roc_auc)\n",
        "plt.legend(loc = 'lower right')\n",
        "plt.plot([0, 1], [0, 1],'r--')\n",
        "plt.xlim([0, 1])\n",
        "plt.ylim([0, 1])\n",
        "plt.ylabel('True Positive Rate')\n",
        "plt.xlabel('False Positive Rate')\n",
        "plt.show()\n"
      ],
      "metadata": {
        "execution": {
          "iopub.status.busy": "2022-08-05T13:00:56.192256Z",
          "iopub.execute_input": "2022-08-05T13:00:56.193266Z",
          "iopub.status.idle": "2022-08-05T13:00:58.329012Z",
          "shell.execute_reply.started": "2022-08-05T13:00:56.193227Z",
          "shell.execute_reply": "2022-08-05T13:00:58.328000Z"
        },
        "trusted": true,
        "colab": {
          "base_uri": "https://localhost:8080/",
          "height": 295
        },
        "id": "KOwN4lBGJXQ-",
        "outputId": "3119ea64-cc96-4383-b232-fc6fed7d5ace"
      },
      "execution_count": null,
      "outputs": [
        {
          "output_type": "display_data",
          "data": {
            "text/plain": [
              "<Figure size 432x288 with 1 Axes>"
            ],
            "image/png": "[encoded data removed]"
          },
          "metadata": {
            "needs_background": "light"
          }
        }
      ]
    },
    {
      "cell_type": "code",
      "source": [
        "print(metrics.classification_report(target_test_tfidf, log_tfidf.predict(features_test_tfidf)))"
      ],
      "metadata": {
        "execution": {
          "iopub.status.busy": "2022-08-05T13:03:47.042369Z",
          "iopub.execute_input": "2022-08-05T13:03:47.043161Z",
          "iopub.status.idle": "2022-08-05T13:03:48.800675Z",
          "shell.execute_reply.started": "2022-08-05T13:03:47.043122Z",
          "shell.execute_reply": "2022-08-05T13:03:48.799483Z"
        },
        "trusted": true,
        "colab": {
          "base_uri": "https://localhost:8080/"
        },
        "id": "LQbo4H7hJXQ-",
        "outputId": "f40dfda6-d9c6-4abb-af2f-9464b93cb6c1"
      },
      "execution_count": null,
      "outputs": [
        {
          "output_type": "stream",
          "name": "stdout",
          "text": [
            "              precision    recall  f1-score   support\n",
            "\n",
            "           0       0.96      0.99      0.98     34627\n",
            "           1       0.92      0.60      0.73      3670\n",
            "\n",
            "    accuracy                           0.96     38297\n",
            "   macro avg       0.94      0.80      0.85     38297\n",
            "weighted avg       0.96      0.96      0.95     38297\n",
            "\n"
          ]
        }
      ]
    },
    {
      "cell_type": "markdown",
      "source": [
        "Очевидные проблемы с полнотой, пусть и получаются весьма точные результаты. "
      ],
      "metadata": {
        "id": "ZY23rk6jJXQ-"
      }
    },
    {
      "cell_type": "markdown",
      "source": [
        "<a name=\"c27\"></a>\n",
        "## Вывод:"
      ],
      "metadata": {
        "id": "oZFYfm2N_PXO"
      }
    },
    {
      "cell_type": "markdown",
      "source": [
        "В ходе обучения мы:\n",
        "  <ul>\n",
        "    <li>Создали отдельные пайплайны для получения признаков `TF-IDF` с помощью `TfidfVectorizer` и `upsampling` для эмбеддингов `BERT`</li>\n",
        "    <li>Написали удобные функции для подбора гиперпараметров, инициализировали табличку для записи результатов</li>\n",
        "    <li>Подобрали для выбранных моделей гиперпараметры, сравнили их по скорости обучения, предсказания, `F1-мере`</li>\n",
        "    <li>Лучшие модели на признаках `TF-IDF` и эмбеддингах `BERT` финально протестировали на тест. выборке</li>\n",
        "    <li>Все две финальные модели показали результаты лучше, чем `DummyClassifier`</li>\n",
        "    \n",
        "    \n",
        "  </ul>\n"
      ],
      "metadata": {
        "id": "SR6Uh39l_RXO"
      }
    },
    {
      "cell_type": "markdown",
      "source": [
        "<a name=\"c28\"></a>\n",
        "# Немного про CatBoost и текстовые признаки"
      ],
      "metadata": {
        "id": "pN6Q52SipYxB"
      }
    },
    {
      "cell_type": "markdown",
      "source": [
        "CatBoost умеет работать с текстом через параметр `text_features`. <br>Попробуем дать очищенный текст:"
      ],
      "metadata": {
        "id": "4Oh6GCJPpgR5"
      }
    },
    {
      "cell_type": "code",
      "source": [
        "data['clear_text'] = data['comment_text'].apply(clear_text)\n",
        "\n",
        "features_train, features_test, target_train, target_test = train_test_split(data['clear_text'], data['toxic'], test_size=0.25, random_state=RANDOM_STATE, stratify=data['toxic'])"
      ],
      "metadata": {
        "id": "397WscOtql2F",
        "execution": {
          "iopub.status.busy": "2022-08-05T13:06:28.321387Z",
          "iopub.execute_input": "2022-08-05T13:06:28.321935Z",
          "iopub.status.idle": "2022-08-05T13:06:33.220384Z",
          "shell.execute_reply.started": "2022-08-05T13:06:28.321890Z",
          "shell.execute_reply": "2022-08-05T13:06:33.219235Z"
        },
        "trusted": true
      },
      "execution_count": null,
      "outputs": []
    },
    {
      "cell_type": "markdown",
      "source": [
        "Сразу же сделаем взвешивание классов:"
      ],
      "metadata": {
        "id": "13AkbHlcrqqr"
      }
    },
    {
      "cell_type": "code",
      "source": [
        "catboost_model = CatBoostClassifier(random_state=RANDOM_STATE, class_weights=[0.9, 0.1]) #task_type='GPU')"
      ],
      "metadata": {
        "id": "TpHeO1K0qHsv",
        "execution": {
          "iopub.status.busy": "2022-08-05T13:06:33.223239Z",
          "iopub.execute_input": "2022-08-05T13:06:33.223772Z",
          "iopub.status.idle": "2022-08-05T13:06:33.230753Z",
          "shell.execute_reply.started": "2022-08-05T13:06:33.223730Z",
          "shell.execute_reply": "2022-08-05T13:06:33.229668Z"
        },
        "trusted": true
      },
      "execution_count": null,
      "outputs": []
    },
    {
      "cell_type": "code",
      "source": [
        "%%time\n",
        "catboost_model.fit(pd.DataFrame(features_train), target_train, text_features=['clear_text'], verbose=100)"
      ],
      "metadata": {
        "id": "EGCxirLtqRnc",
        "execution": {
          "iopub.status.busy": "2022-08-05T13:06:33.232232Z",
          "iopub.execute_input": "2022-08-05T13:06:33.233322Z",
          "iopub.status.idle": "2022-08-05T13:13:59.215299Z",
          "shell.execute_reply.started": "2022-08-05T13:06:33.233281Z",
          "shell.execute_reply": "2022-08-05T13:13:59.214217Z"
        },
        "trusted": true,
        "colab": {
          "base_uri": "https://localhost:8080/"
        },
        "outputId": "80b39e80-2962-4b65-ad8b-2c7505170b4d"
      },
      "execution_count": null,
      "outputs": [
        {
          "output_type": "stream",
          "name": "stdout",
          "text": [
            "Learning rate set to 0.079478\n",
            "0:\tlearn: 0.5345007\ttotal: 369ms\tremaining: 6m 8s\n",
            "100:\tlearn: 0.0299048\ttotal: 33.5s\tremaining: 4m 57s\n",
            "200:\tlearn: 0.0278235\ttotal: 1m 6s\tremaining: 4m 25s\n",
            "300:\tlearn: 0.0268716\ttotal: 1m 38s\tremaining: 3m 49s\n",
            "400:\tlearn: 0.0261827\ttotal: 2m 11s\tremaining: 3m 15s\n",
            "500:\tlearn: 0.0258203\ttotal: 2m 42s\tremaining: 2m 41s\n",
            "600:\tlearn: 0.0253757\ttotal: 3m 13s\tremaining: 2m 8s\n",
            "700:\tlearn: 0.0249769\ttotal: 3m 45s\tremaining: 1m 36s\n",
            "800:\tlearn: 0.0247055\ttotal: 4m 17s\tremaining: 1m 3s\n",
            "900:\tlearn: 0.0244469\ttotal: 4m 48s\tremaining: 31.7s\n",
            "999:\tlearn: 0.0241623\ttotal: 5m 20s\tremaining: 0us\n",
            "CPU times: user 9min 33s, sys: 58.8 s, total: 10min 32s\n",
            "Wall time: 5min 27s\n"
          ]
        },
        {
          "output_type": "execute_result",
          "data": {
            "text/plain": [
              "<catboost.core.CatBoostClassifier at 0x7ef8b3cb8050>"
            ]
          },
          "metadata": {},
          "execution_count": 83
        }
      ]
    },
    {
      "cell_type": "code",
      "source": [
        "target_predict = catboost_model.predict(pd.DataFrame(features_test))\n",
        "\n",
        "f1_score(target_test, target_predict)"
      ],
      "metadata": {
        "id": "kkzCF4K_uVxU",
        "execution": {
          "iopub.status.busy": "2022-08-05T13:13:59.217884Z",
          "iopub.execute_input": "2022-08-05T13:13:59.218575Z",
          "iopub.status.idle": "2022-08-05T13:14:01.393463Z",
          "shell.execute_reply.started": "2022-08-05T13:13:59.218535Z",
          "shell.execute_reply": "2022-08-05T13:14:01.392331Z"
        },
        "trusted": true,
        "colab": {
          "base_uri": "https://localhost:8080/"
        },
        "outputId": "40bcc945-d953-4a37-b772-a3cad713f80b"
      },
      "execution_count": null,
      "outputs": [
        {
          "output_type": "execute_result",
          "data": {
            "text/plain": [
              "0.6538860103626943"
            ]
          },
          "metadata": {},
          "execution_count": 84
        }
      ]
    },
    {
      "cell_type": "markdown",
      "source": [
        "Быстро, минималистично, больше нуля"
      ],
      "metadata": {
        "id": "dyDI_bL0JXQ_"
      }
    },
    {
      "cell_type": "markdown",
      "source": [
        "<a name=\"c29\"></a>\n",
        "# Финальный вывод"
      ],
      "metadata": {
        "id": "QchiAvSiJXQ_"
      }
    },
    {
      "cell_type": "markdown",
      "source": [
        "В ходе работы мы познакомились с:\n",
        "  <ul>\n",
        "    <li>Анализом текста</li>\n",
        "    <li>Способами предобработать текст</li>\n",
        "    <li>Методами получения из текста признаков для дальнейшей работы моделей МО (`TF-IDF` и эмбеддинги `BERT`)</li>\n",
        "    <li>Вариантами работы с сильным дисбалансом в таргете (`upsampling` и `взвешивание классов`)</li>\n",
        "    <li>Подбором гиперпараметров, обучением и сравнением моделей:\n",
        "    <ul><li>`DummyClassifier`</li>\n",
        "        <li>`LogisticRegression`</li>\n",
        "        <li>`SGDClassifier`</li>\n",
        "        <li>`LGBMClassifier`</li></ul>\n",
        "    На признаках `TF-IDF` и `BERT`-эмбеддингах</li>\n",
        "    <li>Отдельно обучили `CatBoost` с использованием внутренних методов работы с текстом</li>\n",
        "  </ul>\n"
      ],
      "metadata": {
        "id": "FXH8U6qAJXQ_"
      }
    },
    {
      "cell_type": "markdown",
      "source": [
        "Что можно ещё посмотреть:\n",
        "    <ul>\n",
        "      <li>Другие предобученные `BERT` модели</li>\n",
        "      <li>Word2Vec (не только в процессе построения моделей МО, но, например, для замены слов на синонимы. В утопийной гипотизе все плохие слова поменяются на `toxic`, а задача классификации станет тривиальной)</li>\n",
        "      <li>Увеличить везде кол-ва гиперпараметров для перебора</li>\n",
        "      <li>Есть не только `train.csv`. Другие файлы бывает полезно изучить)</li>\n",
        "      <li>Погрузиться в анализ текстов: буквенные регистры, повторяющиеся буквы (`FUUUUUUUCCCCC`) и т.д.</li>\n",
        "      <li>Попробовать поискать ключевые слова или использовать суммаризаторы</li>\n",
        "      <li>За baseline взять наивный байесовский классификатор (правило независимости идёт в плюс)</li>\n",
        "    </ul>"
      ],
      "metadata": {
        "id": "obBCKXxEJXRA"
      }
    },
    {
      "cell_type": "markdown",
      "source": [
        "<a name=\"c30\"></a>\n",
        "# Bonus: Tensorflow/Keras (Bidirectional LSTM)"
      ],
      "metadata": {
        "id": "-wZukrFsWzhB"
      }
    },
    {
      "cell_type": "markdown",
      "source": [
        "Бонусный раздел, где пробуется `Bidirectional LSTM` (Bidirectional long-short term memory) для текстовой классификации.\n",
        "<br><br>\n",
        "Spoiler: **0 комментариев к коду**"
      ],
      "metadata": {
        "id": "vdrG6QxMW7FY"
      }
    },
    {
      "cell_type": "markdown",
      "source": [
        "Импорты:"
      ],
      "metadata": {
        "id": "R2Azqh-6XfTN"
      }
    },
    {
      "cell_type": "code",
      "source": [
        "import os\n",
        "import re\n",
        "\n",
        "import keras\n",
        "from keras import layers\n",
        "from keras.models import Model\n",
        "from keras.preprocessing.text import Tokenizer\n",
        "from keras.preprocessing import sequence\n",
        "from keras.callbacks import EarlyStopping\n",
        "from keras import backend as K\n",
        "\n",
        "import tensorflow as tf\n",
        "from tensorflow.python.keras import backend as tfK  \n",
        "from tensorflow.keras.optimizers import Adam\n",
        "\n",
        "from sklearn.metrics import f1_score\n",
        "from sklearn.model_selection import train_test_split\n",
        "\n",
        "import pandas as pd\n",
        "import numpy as np\n"
      ],
      "metadata": {
        "id": "P-uANzIbPPw2"
      },
      "execution_count": null,
      "outputs": []
    },
    {
      "cell_type": "markdown",
      "source": [
        "GPU check:"
      ],
      "metadata": {
        "id": "mNd5DgKAlGEV"
      }
    },
    {
      "cell_type": "code",
      "source": [
        "tfK._get_available_gpus()"
      ],
      "metadata": {
        "colab": {
          "base_uri": "https://localhost:8080/"
        },
        "id": "cBB82ocglHE6",
        "outputId": "50f6d44f-95ba-4b53-ecbe-50fbd3cb0cd3"
      },
      "execution_count": null,
      "outputs": [
        {
          "output_type": "execute_result",
          "data": {
            "text/plain": [
              "['/device:GPU:0']"
            ]
          },
          "metadata": {},
          "execution_count": 3
        }
      ]
    },
    {
      "cell_type": "markdown",
      "source": [
        "Загрузка датасета:"
      ],
      "metadata": {
        "id": "HtDxuAsAYVPU"
      }
    },
    {
      "cell_type": "code",
      "source": [
        "!mkdir datasets\n",
        "!unzip jigsaw-toxic-comment-classification-challenge.zip -d datasets\n",
        "!dir datasets\n",
        "!unzip datasets/train.csv.zip -d datasets"
      ],
      "metadata": {
        "colab": {
          "base_uri": "https://localhost:8080/"
        },
        "id": "tUhRBJLkNmj9",
        "outputId": "68a638fc-291d-43b8-e62b-8540678f8327"
      },
      "execution_count": null,
      "outputs": [
        {
          "output_type": "stream",
          "name": "stdout",
          "text": [
            "Archive:  jigsaw-toxic-comment-classification-challenge.zip\n",
            "  inflating: datasets/sample_submission.csv.zip  \n",
            "  inflating: datasets/test.csv.zip   \n",
            "  inflating: datasets/test_labels.csv.zip  \n",
            "  inflating: datasets/train.csv.zip  \n",
            "sample_submission.csv.zip  test.csv.zip  test_labels.csv.zip  train.csv.zip\n",
            "Archive:  datasets/train.csv.zip\n",
            "  inflating: datasets/train.csv      \n"
          ]
        }
      ]
    },
    {
      "cell_type": "code",
      "source": [
        "path1 = \"../input/traint/train.csv\"\n",
        "path2 = \"/content/datasets/train.csv\"\n",
        "\n",
        "if os.path.exists(path1):\n",
        "    data = pd.read_csv(path1)\n",
        "elif os.path.exists(path2):\n",
        "    data = pd.read_csv(path2)\n",
        "else:\n",
        "    print(\"We have a problem\")"
      ],
      "metadata": {
        "id": "B7xg6WfWYWxI"
      },
      "execution_count": null,
      "outputs": []
    },
    {
      "cell_type": "markdown",
      "source": [
        "Приводим данные к нужному формату:"
      ],
      "metadata": {
        "id": "5mXphWMPX4kM"
      }
    },
    {
      "cell_type": "code",
      "source": [
        "features_train, features_test, target_train, target_test = train_test_split(data['comment_text'], data['toxic'], test_size=0.25)"
      ],
      "metadata": {
        "id": "LZ-Jb1ROYBWg"
      },
      "execution_count": null,
      "outputs": []
    },
    {
      "cell_type": "code",
      "source": [
        "max_words = 750\n",
        "max_len = 1000\n",
        "\n",
        "tokenizer = Tokenizer(num_words=max_words)\n",
        "tokenizer.fit_on_texts(features_train)\n",
        "sequences = tokenizer.texts_to_sequences(features_train)\n",
        "train_matrix = sequence.pad_sequences(sequences, maxlen=max_len)"
      ],
      "metadata": {
        "id": "Fv_5Ol3sZwwy"
      },
      "execution_count": null,
      "outputs": []
    },
    {
      "cell_type": "code",
      "source": [
        "def BiLSTM(emd_out: int) -> keras.Sequential:\n",
        "    \"\"\"Сетка Bidirectional LSTM\"\"\"\n",
        "\n",
        "    model = keras.Sequential(\n",
        "        [\n",
        "            layers.Input(name='input', shape=[max_len]),\n",
        "            layers.Embedding(max_words, emd_out, input_length=max_len),\n",
        "            layers.Bidirectional(layers.LSTM(128), merge_mode='mul'),\n",
        "            layers.Dense(64, name='FC1'),\n",
        "            tf.keras.layers.LeakyReLU(alpha=0.1),\n",
        "            layers.Dropout(0.5),\n",
        "            layers.Dense(16, name='FC2'),\n",
        "            tf.keras.layers.LeakyReLU(alpha=0.1),\n",
        "            layers.Dropout(0.5),\n",
        "            layers.Dense(1, name='out'),\n",
        "            layers.Activation('sigmoid'),\n",
        "        ]\n",
        "    )\n",
        "\n",
        "    return model\n",
        "\n",
        "\n",
        "\n",
        "def f1_m(y_true, y_pred):\n",
        "    \"\"\"Метрика\"\"\"\n",
        "\n",
        "    true_positives = K.sum(K.round(K.clip(y_true * y_pred, 0, 1)))\n",
        "\n",
        "    predicted_positives = K.sum(K.round(K.clip(y_pred, 0, 1)))\n",
        "    possible_positives = K.sum(K.round(K.clip(y_true, 0, 1)))\n",
        "\n",
        "    recall = true_positives / (possible_positives + K.epsilon())\n",
        "    precision = true_positives / (predicted_positives + K.epsilon())\n",
        "\n",
        "    return 2 * ((precision * recall) / (precision+recall + K.epsilon()))\n"
      ],
      "metadata": {
        "id": "7ih8C4cWaHoB"
      },
      "execution_count": null,
      "outputs": []
    },
    {
      "cell_type": "code",
      "source": [
        "model = BiLSTM(256)\n",
        "\n",
        "model.compile(optimizer='adam', loss='binary_crossentropy', metrics=[f1_m])"
      ],
      "metadata": {
        "id": "yVHMPxYWWB1Z"
      },
      "execution_count": null,
      "outputs": []
    },
    {
      "cell_type": "code",
      "source": [
        "reducelr = keras.callbacks.ReduceLROnPlateau(monitor='val_loss', factor=0.2,\n",
        "                              patience=2, min_lr=0.001)"
      ],
      "metadata": {
        "id": "c4Dn-9ZrbBMg"
      },
      "execution_count": null,
      "outputs": []
    },
    {
      "cell_type": "code",
      "source": [
        "model.fit(train_matrix, target_train, batch_size=256, epochs=5,\n",
        "          validation_split=0.2, callbacks=[reducelr])"
      ],
      "metadata": {
        "colab": {
          "base_uri": "https://localhost:8080/"
        },
        "id": "YOgwlfO_ajBB",
        "outputId": "87963830-618a-4aca-886c-e2bab9524cdd"
      },
      "execution_count": null,
      "outputs": [
        {
          "output_type": "stream",
          "name": "stdout",
          "text": [
            "Epoch 1/5\n",
            "374/374 [==============================] - 111s 288ms/step - loss: 0.2394 - f1_m: 0.4371 - val_loss: 0.1558 - val_f1_m: 0.6130 - lr: 0.0010\n",
            "Epoch 2/5\n",
            "374/374 [==============================] - 107s 285ms/step - loss: 0.1730 - f1_m: 0.6153 - val_loss: 0.1555 - val_f1_m: 0.6391 - lr: 0.0010\n",
            "Epoch 3/5\n",
            "374/374 [==============================] - 107s 287ms/step - loss: 0.1732 - f1_m: 0.5741 - val_loss: 0.1562 - val_f1_m: 0.6371 - lr: 0.0010\n",
            "Epoch 4/5\n",
            "374/374 [==============================] - 108s 288ms/step - loss: 0.1593 - f1_m: 0.6322 - val_loss: 0.1545 - val_f1_m: 0.6512 - lr: 0.0010\n",
            "Epoch 5/5\n",
            "374/374 [==============================] - 109s 293ms/step - loss: 0.1531 - f1_m: 0.6479 - val_loss: 0.1539 - val_f1_m: 0.6515 - lr: 0.0010\n"
          ]
        },
        {
          "output_type": "execute_result",
          "data": {
            "text/plain": [
              "<keras.callbacks.History at 0x7fc57d2f8e90>"
            ]
          },
          "metadata": {},
          "execution_count": 79
        }
      ]
    },
    {
      "cell_type": "code",
      "source": [
        "sequences = tokenizer.texts_to_sequences(features_test)\n",
        "test_matrix = sequence.pad_sequences(sequences, maxlen=max_len)"
      ],
      "metadata": {
        "id": "RlyUwqPsf7F-"
      },
      "execution_count": null,
      "outputs": []
    },
    {
      "cell_type": "code",
      "source": [
        "y_pred = np.around(model.predict(test_matrix))"
      ],
      "metadata": {
        "id": "Rl_HbuL-mex0"
      },
      "execution_count": null,
      "outputs": []
    },
    {
      "cell_type": "code",
      "source": [
        "f1_score(y_pred, target_test)"
      ],
      "metadata": {
        "id": "CUKRMYNwgJl5",
        "colab": {
          "base_uri": "https://localhost:8080/"
        },
        "outputId": "3152d477-0ba8-42f8-9fc4-6f367c0d00fb"
      },
      "execution_count": null,
      "outputs": [
        {
          "output_type": "execute_result",
          "data": {
            "text/plain": [
              "0.6279727257608515"
            ]
          },
          "metadata": {},
          "execution_count": 74
        }
      ]
    },
    {
      "cell_type": "markdown",
      "source": [
        "Больше нуля 👼"
      ],
      "metadata": {
        "id": "ZoNUKCUxoGjy"
      }
    }
  ]
}
